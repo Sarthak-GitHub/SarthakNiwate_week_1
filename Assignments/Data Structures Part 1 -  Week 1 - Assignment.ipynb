{
 "cells": [
  {
   "cell_type": "markdown",
   "metadata": {},
   "source": [
    "## Week 1: Data Structures - Part1 - Assignment \n",
    "**by Sarthak Niwate (Intern at Chistats)**"
   ]
  },
  {
   "cell_type": "code",
   "execution_count": 2,
   "metadata": {},
   "outputs": [],
   "source": [
    "import numpy as np\n",
    "import math"
   ]
  },
  {
   "cell_type": "markdown",
   "metadata": {},
   "source": [
    "#### 1. Write short notwe on below \n",
    "\n",
    "    Arithmetic operators\n",
    "    Assignment operators\n",
    "    Comparison operators\n",
    "    Logical operators\n",
    "    Identity operators\n",
    "    Membership operators\n",
    "    Bitwise operators"
   ]
  },
  {
   "cell_type": "markdown",
   "metadata": {},
   "source": [
    "1. Arithmetic Operators\n",
    "\n",
    "| Operator | Meaning | Example | \n",
    "| :--- | :---: | ---: |\n",
    "|+ | Add two operands or unary plus | x + y+ 2 |\n",
    "|-|Subtract right operand from the left or unary minus|x - y- 2|\n",
    "|*|Multiply two operands|x * y|\n",
    "|/|Divide left operand by the right one (always results into float)|x / y|\n",
    "|%|Modulus - remainder of the division of left operand by the right|x % y (remainder of x/y)|\n",
    "|//|Floor division - division that results into whole number adjusted to the left in the number line|x // y|\n",
    "|**|Exponent - left operand raised to the power of right|x**y (x to the power y)|\n",
    "\n",
    "2. Assignment Operators\n",
    "\n",
    "|Operator|\tExample\t|Equivalent to| \n",
    "| :--- | :---: | ---: |\n",
    "|=\t|x = 5|\tx = 5|\n",
    "|+=|\tx += 5\t|x = x + 5|\n",
    "|-=\t|x -= 5|\tx = x - 5|\n",
    "|*=\t|x *= 5\t|x = x * 5|\n",
    "|I=\t|x I= 5|\tx = x I 5|\n",
    "|%=\t|x %= 5\t|x = x % 5|\n",
    "| II=\t|x II= 5|\tx = x II 5|\n",
    "|**=\t|x **= 5\t|x = x ** 5|\n",
    "|&=\t|x &= 5\t|x = x & 5|\n",
    "|I=\t|x I= 5|\tx = x I 5|\n",
    "|^=|\tx ^= 5\t|x = x ^ 5|\n",
    "|>>=\t|x >>= 5\t|x = x >> 5|\n",
    "|<<=\t|x <<= 5\t|x = x << 5|\n",
    "\n",
    "3. Comparison Operators\n",
    "\n",
    "| Operator | Meaning | Example | \n",
    "| :--- | :---: | ---: |\n",
    "|>\t|Greater than - True if left operand is greater than the right|\tx > y|\n",
    "|<\t|Less than - True if left operand is less than the right\t|x < y|\n",
    "|==\t|Equal to - True if both operands are equal\t|x == y|\n",
    "|!=\t|Not equal to - True if operands are not equal\t|x != y|\n",
    "|>=\t|Greater than or equal to - True if left operand is greater than or equal to the right|\tx >= y|\n",
    "|<=\t|Less than or equal to - True if left operand is less than or equal to the right|\tx <= y|\n",
    "\n",
    "4. Logical Operators\n",
    "\n",
    "| Operator | Meaning | Example | \n",
    "| :--- | :---: | ---: |\n",
    "|and\t|True if both the operands are true|\tx and y|\n",
    "|or\t|True if either of the operands is true|\tx or y|\n",
    "|not\t|True if operand is false (complements the operand)|\tnot x|\n",
    "\n",
    "5. Identity Operators\n",
    "\n",
    "| Operator| Meaning                                 | Example       |\n",
    "| :---    | :---:                                   | ---:           |\n",
    "| is      | True if the operands are identical      | x is True     |\n",
    "| is not  | True if the operands are not identical  | x is not True |\n",
    "\n",
    "\n",
    "6. Membership Oerators \n",
    "\n",
    "| Operator| Meaning                                 | Example       |\n",
    "| :---    | :---:                                   | ---:           |\n",
    "| in      | True if the value is found in seuqence  | 5 in list3     |\n",
    "| not in  | True if the value is not found in sequence  | 'a' not in list3 |\n",
    "\n",
    "\n",
    "7. Bitwise Operators\n",
    "\n",
    "| Operator| Meaning                                 | Example       |\n",
    "| :---    | :---:                                   | ---:           |\n",
    "|&\t|Bitwise AND\t|x & y = 0 (0000 0000)|\n",
    "|I\t|Bitwise OR|\tx I y = 14 (0000 1110)|\n",
    "|~\t|Bitwise NOT\t|~x = -11 (1111 0101)|\n",
    "|^\t|Bitwise XOR\t|x ^ y = 14 (0000 1110)|\n",
    "|>>\t|Bitwise right shift|\tx >> 2 = 2 (0000 0010)|\n",
    "|<<\t|Bitwise left shift|x << 2 = 40 (0010 1000)|"
   ]
  },
  {
   "cell_type": "markdown",
   "metadata": {},
   "source": [
    "#### 2. Input : a = 20 b = 4\n",
    "\n",
    "Note down the output of below operations \n",
    "\n",
    "    a+b\n",
    "    a-b\n",
    "    a*b\n",
    "    a/b\n",
    "    a//b\n",
    "    a%b\n",
    "    a**b"
   ]
  },
  {
   "cell_type": "code",
   "execution_count": 3,
   "metadata": {},
   "outputs": [
    {
     "name": "stdout",
     "output_type": "stream",
     "text": [
      "a: 20 b: 4\n",
      "a+b:  24\n",
      "a-b:  16\n",
      "a*b:  80\n",
      "a/b:  5.0\n",
      "a//b:  5\n",
      "a%b:  0\n",
      "a**b:  160000\n"
     ]
    }
   ],
   "source": [
    "a = 20 \n",
    "b = 4\n",
    "print(\"a:\", a, \"b:\", b)\n",
    "print(\"a+b: \", a+b)\n",
    "print(\"a-b: \", a-b)\n",
    "print(\"a*b: \", a*b)\n",
    "print(\"a/b: \", a/b)\n",
    "print(\"a//b: \", a//b)\n",
    "print(\"a%b: \", a%b)\n",
    "print(\"a**b: \", a**b)"
   ]
  },
  {
   "cell_type": "markdown",
   "metadata": {},
   "source": [
    "#### 3. Note down the output of below operations \n",
    "\n",
    "    Input : a = 10 b = 2\n",
    "    a/b\n",
    "    a//b\n",
    "\n",
    "    Input : a = 10.0 b = 2\n",
    "    a/b\n",
    "    a//b\n",
    "\n",
    "    Notedown the reason for having difference in decimal digits"
   ]
  },
  {
   "cell_type": "code",
   "execution_count": 4,
   "metadata": {},
   "outputs": [
    {
     "name": "stdout",
     "output_type": "stream",
     "text": [
      "a: 10 b: 2\n",
      "a/b:  5.0\n",
      "a//b:  5\n",
      "a: 10.0 b: 2\n",
      "a/b:  5.0\n",
      "a//b:  5.0\n"
     ]
    }
   ],
   "source": [
    "a = 10\n",
    "b = 2\n",
    "print(\"a:\", a, \"b:\", b)\n",
    "print(\"a/b: \", a/b)\n",
    "print(\"a//b: \", a//b)\n",
    "\n",
    "a = 10.0 \n",
    "b = 2\n",
    "print(\"a:\", a, \"b:\", b)\n",
    "print(\"a/b: \", a/b)\n",
    "print(\"a//b: \", a//b)"
   ]
  },
  {
   "cell_type": "markdown",
   "metadata": {},
   "source": [
    "#### 4. Write short note on string concatination operator (+) and string multipication operator(*)"
   ]
  },
  {
   "cell_type": "markdown",
   "metadata": {},
   "source": [
    "The string is an object in python, some cases you need a combined string. The one way to do it is Python String Concatenation with a ‘ + ” operator.  In a case where you want a merge a 2 string and store value in another variable then use new_String=  first_string + second_string. Python provides several ways to concatenate strings.\n",
    "\n",
    "Ways to Python String Concatenation\n",
    "\n",
    "    1. Plus – using ‘+’ operator\n",
    "    2. Assign – using ‘+=’ operator\n",
    "    3. Using % operator\n",
    "    4. Multiple copies -Using * operator\n",
    "    5. join() Function – For iterators\n",
    "    \n",
    "1. To add two string, we can simply use the + or add operator. As its name suggests, it can add two string and return a copy of the combined string. Using the + operator, we can combine multiple strings together."
   ]
  },
  {
   "cell_type": "code",
   "execution_count": 5,
   "metadata": {},
   "outputs": [
    {
     "name": "stdout",
     "output_type": "stream",
     "text": [
      "Great Theme\n"
     ]
    }
   ],
   "source": [
    "str1 = 'Great'\n",
    "str2 = ' Theme'\n",
    "print(str1 + str2)"
   ]
  },
  {
   "cell_type": "code",
   "execution_count": 6,
   "metadata": {},
   "outputs": [
    {
     "name": "stdout",
     "output_type": "stream",
     "text": [
      "Superb Superb Superb \n"
     ]
    }
   ],
   "source": [
    "str1 = 'Superb '\n",
    " \n",
    "print(str1*3)"
   ]
  },
  {
   "cell_type": "markdown",
   "metadata": {},
   "source": [
    "#### 5. Input : a = 20 b = 10\n",
    "\n",
    "    Note down the output of below operations \n",
    "    a>b\n",
    "    a>=b\n",
    "    a<b\n",
    "    a<=b"
   ]
  },
  {
   "cell_type": "code",
   "execution_count": 7,
   "metadata": {},
   "outputs": [
    {
     "name": "stdout",
     "output_type": "stream",
     "text": [
      "a: 20 b: 10\n",
      "a>b:  True\n",
      "a>=b:  True\n",
      "a<b:  False\n",
      "a<=b:  False\n"
     ]
    }
   ],
   "source": [
    "a = 20\n",
    "b = 10\n",
    "print(\"a:\", a, \"b:\", b)\n",
    "print(\"a>b: \", a>b)\n",
    "print(\"a>=b: \", a>=b)\n",
    "print(\"a<b: \", a<b)\n",
    "print(\"a<=b: \", a<=b)"
   ]
  },
  {
   "cell_type": "markdown",
   "metadata": {},
   "source": [
    "#### 5.a Input : a = \"abc\" b = \"cde\" c = \"abc\"\n",
    "    Note down the output of below operations \n",
    "    a>b\n",
    "    a>=b\n",
    "    a<b\n",
    "    a<=b\n",
    "\n",
    "    a>c\n",
    "    a>=c\n",
    "    a<c\n",
    "    a<=c"
   ]
  },
  {
   "cell_type": "code",
   "execution_count": 8,
   "metadata": {},
   "outputs": [
    {
     "name": "stdout",
     "output_type": "stream",
     "text": [
      "a: abc b: cde\n",
      "a>b:  False\n",
      "a>=b:  False\n",
      "a<b:  True\n",
      "a<=b:  True\n",
      "\n",
      "a: abc c: abc\n",
      "a>c:  False\n",
      "a>=c  True\n",
      "a<c:  False\n",
      "a<=c:  True\n"
     ]
    }
   ],
   "source": [
    "a = \"abc\" \n",
    "b = \"cde\" \n",
    "c = \"abc\"\n",
    "\n",
    "print(\"a:\", a, \"b:\", b)\n",
    "print(\"a>b: \", a>b)\n",
    "print(\"a>=b: \", a>=b)\n",
    "print(\"a<b: \", a<b)\n",
    "print(\"a<=b: \", a<=b)\n",
    "\n",
    "print(\"\\na:\", a, \"c:\", c)\n",
    "print(\"a>c: \", a>c)\n",
    "print(\"a>=c \", a>=c)\n",
    "print(\"a<c: \", a<c)\n",
    "print(\"a<=c: \", a<=c)"
   ]
  },
  {
   "cell_type": "markdown",
   "metadata": {},
   "source": [
    "#### 6. Note down the output of below operations \n",
    "\n",
    "    Input a = 10 b = 20 c = 10 d = 10\n",
    "    a==b\n",
    "    a!=b\n",
    "    a==c==d\n",
    "\n",
    "    Input a = \"abc\" b = \"cde\" c = \"abc\" d = \"abc\"\n",
    "    a==b\n",
    "    a!=b\n",
    "    a==c\n",
    "    a!=c\n",
    "    a==c==d"
   ]
  },
  {
   "cell_type": "code",
   "execution_count": 9,
   "metadata": {},
   "outputs": [
    {
     "name": "stdout",
     "output_type": "stream",
     "text": [
      "a: 10 b: 20 c: 10 d: 10\n",
      "a==b:  False\n",
      "a!=b:  True\n",
      "a==c==d:  True\n",
      "\n",
      "a: abc b: cde c: abc d: abc\n",
      "a==b:  False\n",
      "a!=b:  True\n",
      "a==c:  True\n",
      "a!=c:  False\n",
      "a==c==d:  True\n"
     ]
    }
   ],
   "source": [
    "a = 10 \n",
    "b = 20 \n",
    "c = 10 \n",
    "d = 10\n",
    "\n",
    "print(\"a:\", a, \"b:\", b, \"c:\", c, \"d:\", d)\n",
    "print(\"a==b: \", a==b)\n",
    "print(\"a!=b: \", a!=b)\n",
    "print(\"a==c==d: \", a==c==d)\n",
    "\n",
    "a = \"abc\" \n",
    "b = \"cde\" \n",
    "c = \"abc\" \n",
    "d = \"abc\"\n",
    "\n",
    "print(\"\\na:\", a, \"b:\", b, \"c:\", c, \"d:\", d)\n",
    "print(\"a==b: \", a==b)\n",
    "print(\"a!=b: \", a!=b)\n",
    "print(\"a==c: \", a==c)  \n",
    "print(\"a!=c: \", a!=c)\n",
    "print(\"a==c==d: \", a==c==d)"
   ]
  },
  {
   "cell_type": "markdown",
   "metadata": {},
   "source": [
    "#### 7. Using logical operators: WAPTP \"Student is passed\" if he scores 40+ marks in both Physics and Maths"
   ]
  },
  {
   "cell_type": "code",
   "execution_count": 11,
   "metadata": {},
   "outputs": [
    {
     "name": "stdout",
     "output_type": "stream",
     "text": [
      "Exam Department Eligibility Page\n",
      "\n",
      "Enter the Physics score: 39\n",
      "Enter the Maths score: 42\n",
      "\n",
      "The expected marks format is correct\n",
      "\n",
      "You're not passed\n"
     ]
    }
   ],
   "source": [
    "print(\"Exam Department Eligibility Page\\n\")\n",
    "while True:\n",
    "    try:\n",
    "        Physics = float(input('Enter the Physics score: '))\n",
    "        Maths = float(input('Enter the Maths score: '))\n",
    "    except ValueError:\n",
    "        print('\\nEnter marks in correct format. Try Again!')\n",
    "        pass\n",
    "    else:\n",
    "        print('\\nThe expected marks format is correct')\n",
    "        if Physics > 40 and Maths > 40:\n",
    "            print(\"\\nYou're Passed\")\n",
    "            break\n",
    "        else:\n",
    "            print(\"\\nYou're not passed\")\n",
    "            break"
   ]
  },
  {
   "cell_type": "markdown",
   "metadata": {},
   "source": [
    "#### 8. Using logical operators: WAPTP \"Student is failed\" if he scores 40- marks in atleast one subject from Physics and Maths"
   ]
  },
  {
   "cell_type": "code",
   "execution_count": 12,
   "metadata": {},
   "outputs": [
    {
     "name": "stdout",
     "output_type": "stream",
     "text": [
      "Exam Department Eligibility Page\n",
      "\n",
      "Enter the Physics score: 52\n",
      "Enter the Maths score: 39\n",
      "\n",
      "The expected marks format is correct\n",
      "\n",
      "You're Passed\n"
     ]
    }
   ],
   "source": [
    "print(\"Exam Department Eligibility Page\\n\")\n",
    "while True:\n",
    "    try:\n",
    "        Physics = float(input('Enter the Physics score: '))\n",
    "        Maths = float(input('Enter the Maths score: '))\n",
    "    except ValueError:\n",
    "        print('\\nEnter marks in correct format. Try Again!')\n",
    "        pass\n",
    "    else:\n",
    "        print('\\nThe expected marks format is correct')\n",
    "        if Physics > 40 or Maths > 40:\n",
    "            print(\"\\nYou're Passed\")\n",
    "            break\n",
    "        else:\n",
    "            print(\"\\nYou're not passed\")\n",
    "            break"
   ]
  },
  {
   "cell_type": "markdown",
   "metadata": {},
   "source": [
    "#### 9. Using logical operators: WAPTP \"Student is failed\" if valus of isPassed is True then print \"Student is passed\" else print \"Student is failed\" "
   ]
  },
  {
   "cell_type": "code",
   "execution_count": 13,
   "metadata": {},
   "outputs": [
    {
     "name": "stdout",
     "output_type": "stream",
     "text": [
      "Student is passed ? True/False: True\n",
      "Sudent is passed\n"
     ]
    }
   ],
   "source": [
    "isPassed = bool(input(\"Student is passed ? True/False: \"))\n",
    " \n",
    "if not(isPassed)== False:\n",
    "    print(\"Sudent is passed\")"
   ]
  },
  {
   "cell_type": "markdown",
   "metadata": {},
   "source": [
    "#### 10. Using bitwise operators:\n",
    "\n",
    "    Input \ta = 10\n",
    "            b = 20 \n",
    "            c = 3\n",
    "    WAPTP output of below \n",
    "    a&b\n",
    "    a|b\n",
    "    a^b\n",
    "    (~a)\n",
    "    a<<b\n",
    "    c>>3\n",
    "\n",
    "    True & False\n",
    "    True | False\n",
    "    True ^ False\n",
    "    ~True\n",
    "    True<<2\n",
    "    True>>2"
   ]
  },
  {
   "cell_type": "code",
   "execution_count": 14,
   "metadata": {},
   "outputs": [
    {
     "name": "stdout",
     "output_type": "stream",
     "text": [
      "a&b:  0\n",
      "a|b:  30\n",
      "a^b:  30\n",
      "(~a):  -11\n",
      "a<<b:  10485760\n",
      "c>>3:  0\n",
      "\n",
      "True & False:  False\n",
      "True | False:  True\n",
      "True ^ False:  True\n",
      "~True:  -2\n",
      "True<<2:  4\n",
      "True>>2:  0\n"
     ]
    }
   ],
   "source": [
    "a = 10\n",
    "b = 20 \n",
    "c = 3\n",
    "\n",
    "print(\"a&b: \", a&b)\n",
    "print(\"a|b: \", a|b)\n",
    "print(\"a^b: \", a^b)\n",
    "print(\"(~a): \", (~a))\n",
    "print(\"a<<b: \", a<<b)\n",
    "print(\"c>>3: \", c>>3)\n",
    "\n",
    "print(\"\\nTrue & False: \", True & False)\n",
    "print(\"True | False: \", True | False)\n",
    "print(\"True ^ False: \", True ^ False)\n",
    "print(\"~True: \", ~True)\n",
    "print(\"True<<2: \", True<<2)\n",
    "print(\"True>>2: \", True>>2)"
   ]
  },
  {
   "cell_type": "markdown",
   "metadata": {},
   "source": [
    "#### 11. Using Ternary operator or Conditional operator: Identify minimum of two numbers"
   ]
  },
  {
   "cell_type": "code",
   "execution_count": 15,
   "metadata": {},
   "outputs": [
    {
     "name": "stdout",
     "output_type": "stream",
     "text": [
      "18\n"
     ]
    }
   ],
   "source": [
    "n1_11 = 18\n",
    "n2_11 = 32\n",
    "if n1_11 < n2_11:\n",
    "    print(n1_11)\n",
    "else:\n",
    "    print(n2_11)"
   ]
  },
  {
   "cell_type": "markdown",
   "metadata": {},
   "source": [
    "#### 12. Using Ternary operator or Conditional operator: Identify minimum of three numbers"
   ]
  },
  {
   "cell_type": "code",
   "execution_count": 16,
   "metadata": {},
   "outputs": [
    {
     "name": "stdout",
     "output_type": "stream",
     "text": [
      "12\n"
     ]
    }
   ],
   "source": [
    "n1_12 = 18\n",
    "n2_12 = 32\n",
    "n3_12 = 12\n",
    "if n1_12<n2_12 and n1_12<n3_12:\n",
    "    print(n1_12)\n",
    "elif n2_12<n1_12 and n2_12<n3_12:\n",
    "    print(n2_12)\n",
    "else:\n",
    "    print(n3_12)"
   ]
  },
  {
   "cell_type": "markdown",
   "metadata": {},
   "source": [
    "#### 13. Using Ternary operator or Conditional operator: Identify maximum of three numbers"
   ]
  },
  {
   "cell_type": "code",
   "execution_count": 17,
   "metadata": {},
   "outputs": [
    {
     "name": "stdout",
     "output_type": "stream",
     "text": [
      "32\n"
     ]
    }
   ],
   "source": [
    "n1_13 = 18\n",
    "n2_13 = 32\n",
    "n3_13 = 12\n",
    "\n",
    "if n1_13>n2_13 and n1_13>n3_13:\n",
    "    print(n1_13)\n",
    "elif n2_13>n1_13 and n2_13>n3_13:\n",
    "    print(n2_13)\n",
    "else:\n",
    "    print(n3_13)"
   ]
  },
  {
   "cell_type": "markdown",
   "metadata": {},
   "source": [
    "#### 14. Special operators \n",
    "    Write note on Identity operator\n",
    "    Write note on membership operator"
   ]
  },
  {
   "cell_type": "markdown",
   "metadata": {},
   "source": [
    "| Operator| Meaning                                 | Example       |\n",
    "| :---    | :---:                                   | ---:           |\n",
    "|1. Identity Oerators |\n",
    "| is      | True if the operands are identical      | x is True     |\n",
    "| is not  | True if the operands are not identical  | x is not True |\n",
    "|2. Membership Oerators |\n",
    "| in      | True if the value is found in seuqence  | 5 in list3     |\n",
    "| not in  | True if the value is not found in sequence  | 'a' not in list3 |"
   ]
  },
  {
   "cell_type": "markdown",
   "metadata": {},
   "source": [
    "#### 15. Using Identity operator: WAPTP whether both variables are pointing to same addres or not\n",
    "    1. a = 10 b = 10\n",
    "    2. a = 20 b = 10\n",
    "    3. a = [\"one\",\"two\",\"three\"] b = [\"one\",\"two\",\"three\"]"
   ]
  },
  {
   "cell_type": "code",
   "execution_count": 18,
   "metadata": {},
   "outputs": [
    {
     "name": "stdout",
     "output_type": "stream",
     "text": [
      "True\n",
      "False\n",
      "False\n"
     ]
    }
   ],
   "source": [
    "# The Python is and is not operators compare the identity of two objects. In CPython, this is their memory address. \n",
    "# Everything in Python is an object, and each object is stored at a specific memory location. \n",
    "# The Python is and is not operators check whether two variables refer to the same object in memory.\n",
    "\n",
    "a = 10 \n",
    "b = 10\n",
    "print(a is b)\n",
    "\n",
    "\n",
    "a = 20 \n",
    "b = 10\n",
    "print(a is b)\n",
    "\n",
    "a = [\"one\",\"two\",\"three\"] \n",
    "b = [\"one\",\"two\",\"three\"]\n",
    "print(a is b)"
   ]
  },
  {
   "cell_type": "markdown",
   "metadata": {},
   "source": [
    "#### 16. Using membership operator: WAP to check whether blow string are present in str1 = \"welcome to chistats pvt ltd\"\n",
    "    'a'\n",
    "    'z'\n",
    "    'x'\n",
    "    'c'\n",
    "    'd'\n",
    "    'ltd'\n",
    "    'chistats'"
   ]
  },
  {
   "cell_type": "code",
   "execution_count": 19,
   "metadata": {},
   "outputs": [
    {
     "name": "stdout",
     "output_type": "stream",
     "text": [
      "a  is present in str1\n",
      "z  is not present in str1\n",
      "x  is not present in str1\n",
      "c  is present in str1\n",
      "d  is present in str1\n",
      "ltd  is present in str1\n",
      "chistats  is present in str1\n"
     ]
    }
   ],
   "source": [
    "str1 = \"welcome to chistats pvt ltd\"\n",
    "\n",
    "elements = ['a', 'z', 'x', 'c', 'd', 'ltd', 'chistats']\n",
    "\n",
    "for i in elements:\n",
    "    if i in str1:\n",
    "        print(i, \" is present in str1\")\n",
    "    else:\n",
    "        print(i, \" is not present in str1\")"
   ]
  },
  {
   "cell_type": "markdown",
   "metadata": {},
   "source": [
    "#### 17. Arrange below operators in the proper precedence\n",
    "    ()\n",
    "    **\n",
    "    ~\n",
    "    and \n",
    "    or\n",
    "    &\n",
    "    ^\n",
    "    |\n",
    "    /\n",
    "    %\n",
    "    //\n",
    "    +\n",
    "    - (Minus)\n",
    "    - (Unary minus)\n",
    "    *\n",
    "    <<\n",
    "    >>\n",
    "    is\n",
    "    is not\n",
    "    !=\n",
    "    not\n",
    "    in\n",
    "    not in\n",
    "    >\n",
    "    >=\n",
    "    <\n",
    "    <=\n",
    "    =="
   ]
  },
  {
   "cell_type": "markdown",
   "metadata": {},
   "source": [
    "Precedence is used in an expression with more than one operator with different precedence to determine which operation to perform first. This all oprators have precedence from above to bottom.\n",
    "\n",
    "| Operators | Meaning                                 |\n",
    "| :---     | ---:                                   | \n",
    "|()\t|Parentheses|\n",
    "|** |\tExponent|\n",
    "|+x, -x, ~x\t| Unary plus, Unary minus, Bitwise NOT |\n",
    "| *, /, //, % |\tMultiplication, Division, Floor division, Modulus  |\n",
    "| +, -\t | Addition, Subtraction |\n",
    "| <<, >>  |\tBitwise shift operators|\n",
    "|&\t|Bitwise AND|\n",
    "|^\t| Bitwise XOR|\n",
    "| I\t|Bitwise OR|\n",
    "| ==, !=, >, >=, <, <=, is, is not, in, not in\t|  Comparisons, Identity, Membership operators|\n",
    "| not | \tLogical NOT |\n",
    "|and\t| Logical AND |\n",
    "|or\t| Logical OR |"
   ]
  },
  {
   "cell_type": "markdown",
   "metadata": {},
   "source": [
    "#### 18. For input a = 30 b = 20 c = 10 d = 5 print the output of below \n",
    "    ((a+b)*c/d)\n",
    "    ((a+b)*(c/d))\n",
    "    (a+(b*c)/d)\n",
    "\n",
    "    Explain the precedence"
   ]
  },
  {
   "cell_type": "code",
   "execution_count": 20,
   "metadata": {},
   "outputs": [
    {
     "name": "stdout",
     "output_type": "stream",
     "text": [
      "((a+b)*c/d):  100.0\n",
      "((a+b)*(c/d)):  100.0\n",
      "(a+(b*c)/d):  100.0\n"
     ]
    }
   ],
   "source": [
    "a = 30 \n",
    "b = 20 \n",
    "c = 10 \n",
    "d = 5\n",
    "\n",
    "print(\"((a+b)*c/d): \", ((a+b)*c/d))\n",
    "print(\"((a+b)*(c/d)): \", ((a+b)*c/d))\n",
    "print(\"(a+(b*c)/d): \", ((a+b)*c/d))"
   ]
  },
  {
   "cell_type": "markdown",
   "metadata": {},
   "source": [
    "Python has well-defined rules for specifying the order in which the operators in an expression are evaluated when the expression has several operators. For example, multiplication and division have a higher precedence than addition and subtraction. Precedence rules can be overridden by explicit parentheses.\n",
    "Precedence is used in an expression with more than one operator with different precedence to determine which operation to perform first."
   ]
  },
  {
   "cell_type": "markdown",
   "metadata": {},
   "source": [
    "#### 19. WAP to create an array of 10 integers and display the array items. Access individual element through indexes."
   ]
  },
  {
   "cell_type": "code",
   "execution_count": 21,
   "metadata": {},
   "outputs": [
    {
     "name": "stdout",
     "output_type": "stream",
     "text": [
      "[0 1 2 3 4 5 6 7 8 9]\n",
      "0 th index has value:  0\n",
      "1 th index has value:  1\n",
      "2 th index has value:  2\n",
      "3 th index has value:  3\n",
      "4 th index has value:  4\n",
      "5 th index has value:  5\n",
      "6 th index has value:  6\n",
      "7 th index has value:  7\n",
      "8 th index has value:  8\n",
      "9 th index has value:  9\n"
     ]
    }
   ],
   "source": [
    "array19 = np.arange(10)\n",
    "print(array19)\n",
    "\n",
    "for i in range(len(array19)):\n",
    "    print(i,\"th index has value: \", array19[i])"
   ]
  },
  {
   "cell_type": "markdown",
   "metadata": {},
   "source": [
    "#### 20. WAP to append new element at the end of an array"
   ]
  },
  {
   "cell_type": "code",
   "execution_count": 22,
   "metadata": {},
   "outputs": [
    {
     "data": {
      "text/plain": [
       "array([ 0,  1,  2,  3,  4,  5,  6,  7,  8,  9, 10, 11])"
      ]
     },
     "execution_count": 22,
     "metadata": {},
     "output_type": "execute_result"
    }
   ],
   "source": [
    "array20 = np.arange(11)\n",
    "np.append(array20, 11)"
   ]
  },
  {
   "cell_type": "markdown",
   "metadata": {},
   "source": [
    "#### 21. WAP to reverse an array"
   ]
  },
  {
   "cell_type": "code",
   "execution_count": 23,
   "metadata": {},
   "outputs": [
    {
     "data": {
      "text/plain": [
       "array([15, 14, 13, 12, 11, 10,  9,  8,  7,  6,  5,  4,  3,  2,  1,  0])"
      ]
     },
     "execution_count": 23,
     "metadata": {},
     "output_type": "execute_result"
    }
   ],
   "source": [
    "array21 = np.arange(16)\n",
    "np.flip(array21)"
   ]
  },
  {
   "cell_type": "markdown",
   "metadata": {},
   "source": [
    "#### 22. WAP to get the current memory address and the length in elements of the buffer used to hold an array's contents and also find the size of the memory buffer in bytes"
   ]
  },
  {
   "cell_type": "code",
   "execution_count": 24,
   "metadata": {},
   "outputs": [
    {
     "name": "stdout",
     "output_type": "stream",
     "text": [
      "Bufferinfo:  (2778283941328, 6)\n",
      "Memory Buffer in Bytes:  24\n"
     ]
    }
   ],
   "source": [
    "from array import *\n",
    "array22 = array('i', [45,67,23,98,12,56])\n",
    "print(\"Bufferinfo: \", array22.buffer_info())\n",
    "print(\"Memory Buffer in Bytes: \", (array22.buffer_info()[1] * array22.itemsize))"
   ]
  },
  {
   "cell_type": "markdown",
   "metadata": {},
   "source": [
    "#### 23. WAP to get the number of occurrences of a specified element in an array"
   ]
  },
  {
   "cell_type": "code",
   "execution_count": 25,
   "metadata": {},
   "outputs": [
    {
     "name": "stdout",
     "output_type": "stream",
     "text": [
      "1 occurs 1 times\n",
      "2 occurs 2 times\n",
      "3 occurs 6 times\n",
      "4 occurs 6 times\n",
      "5 occurs 5 times\n",
      "6 occurs 3 times\n",
      "7 occurs 3 times\n",
      "8 occurs 1 times\n",
      "9 occurs 2 times\n"
     ]
    }
   ],
   "source": [
    "array23 = np.array([3,4,6,1,3,4,5,2,3,5,4,6,7,8,9,7,9,4,2,3,5,7,5,3,4,6,5,4,3])\n",
    "\n",
    "set23 = set(array23)\n",
    "\n",
    "for i in set23:\n",
    "    if i in array23:\n",
    "        print(i, \"occurs\", np.count_nonzero(array23 == i), \"times\")"
   ]
  },
  {
   "cell_type": "markdown",
   "metadata": {},
   "source": [
    "#### 24. WAP to get largest element from array"
   ]
  },
  {
   "cell_type": "code",
   "execution_count": 26,
   "metadata": {},
   "outputs": [
    {
     "name": "stdout",
     "output_type": "stream",
     "text": [
      "98\n",
      "98\n",
      "98\n"
     ]
    }
   ],
   "source": [
    "array24 = np.array([34,78,34,56,98,76,89,65,67,44,67])\n",
    "\n",
    "print(np.max(array24))\n",
    "print(max(array24))\n",
    "print(array24[array24.argmax()])"
   ]
  },
  {
   "cell_type": "markdown",
   "metadata": {},
   "source": [
    "#### 25. WAP to get average of integers present in array"
   ]
  },
  {
   "cell_type": "code",
   "execution_count": 27,
   "metadata": {},
   "outputs": [
    {
     "name": "stdout",
     "output_type": "stream",
     "text": [
      "1d array:  [ 1  2  3  4  5  6  7  8  9 10]\n",
      "Average of array is:  5.5\n",
      "\n",
      "2d array:  [[1 2 3]\n",
      " [4 5 6]\n",
      " [7 8 9]]\n",
      "Average of all elements in 2d array:  5.0\n"
     ]
    }
   ],
   "source": [
    "array25 = np.arange(1,11)\n",
    "print(\"1d array: \", array25)\n",
    "length1d = len(array25)\n",
    "summation = array25.sum()\n",
    "\n",
    "print(\"Average of array is: \", summation/length1d)\n",
    "\n",
    "array25_2d = np.arange(1,10).reshape(3,3)\n",
    "print(\"\\n2d array: \", array25_2d)\n",
    "addition = 0\n",
    "length2d = 0\n",
    "for i in np.nditer(array25_2d):   # element wise iteration\n",
    "    addition += i \n",
    "    length2d += 1\n",
    "    \n",
    "print(\"Average of all elements in 2d array: \", addition/length2d)"
   ]
  },
  {
   "cell_type": "markdown",
   "metadata": {},
   "source": [
    "#### 26. Create an array of size 10 and insert new element at position 3 and 7 and update the position 2"
   ]
  },
  {
   "cell_type": "code",
   "execution_count": 28,
   "metadata": {},
   "outputs": [
    {
     "name": "stdout",
     "output_type": "stream",
     "text": [
      "[  0   1 100  24   3   4   5  56   6   7   8   9]\n"
     ]
    }
   ],
   "source": [
    "array26 = np.arange(10)\n",
    "\n",
    "array26 = np.insert(array26, 3, 24)\n",
    "array26 = np.insert(array26, 7, 56)\n",
    "\n",
    "array26[2] = 100\n",
    "\n",
    "print(array26)"
   ]
  },
  {
   "cell_type": "markdown",
   "metadata": {},
   "source": [
    "#### 27. WAP to remove a elemnt from 5th position using the index from above array"
   ]
  },
  {
   "cell_type": "code",
   "execution_count": 29,
   "metadata": {},
   "outputs": [
    {
     "data": {
      "text/plain": [
       "array([  0,   1, 100,  24,   3,   5,  56,   6,   7,   8,   9])"
      ]
     },
     "execution_count": 29,
     "metadata": {},
     "output_type": "execute_result"
    }
   ],
   "source": [
    "array27 = array26.copy()\n",
    "\n",
    "array27 = np.delete(array27, 5)\n",
    "array27"
   ]
  },
  {
   "cell_type": "markdown",
   "metadata": {},
   "source": [
    "#### 28. WAP to convert an array to an ordinary list with the same item"
   ]
  },
  {
   "cell_type": "code",
   "execution_count": 30,
   "metadata": {},
   "outputs": [
    {
     "name": "stdout",
     "output_type": "stream",
     "text": [
      "[0, 1, 2, 3, 4, 5, 6, 7, 8, 9, 10, 11, 12, 13, 14, 15, 16, 17, 18, 19]\n"
     ]
    }
   ],
   "source": [
    "array28 = np.arange(20)\n",
    "\n",
    "list28 = array28.tolist()\n",
    "\n",
    "print(list28)"
   ]
  },
  {
   "cell_type": "markdown",
   "metadata": {},
   "source": [
    "#### 29. WAP to remove duplicates from an array"
   ]
  },
  {
   "cell_type": "code",
   "execution_count": 31,
   "metadata": {},
   "outputs": [
    {
     "name": "stdout",
     "output_type": "stream",
     "text": [
      "[1 2 3 4 6 7 8 9]\n"
     ]
    }
   ],
   "source": [
    "array29 = np.array([1,1,1,2,4,7,3,6,9,2,3,6,8,4,2,7])\n",
    "\n",
    "print(np.unique(array29))"
   ]
  },
  {
   "cell_type": "markdown",
   "metadata": {},
   "source": [
    "#### 30. WAP to get length of an array"
   ]
  },
  {
   "cell_type": "code",
   "execution_count": 32,
   "metadata": {},
   "outputs": [
    {
     "name": "stdout",
     "output_type": "stream",
     "text": [
      "Length of an array:  25\n"
     ]
    }
   ],
   "source": [
    "array30 = np.arange(25)\n",
    "print(\"Length of an array: \", len(array30))"
   ]
  },
  {
   "cell_type": "markdown",
   "metadata": {},
   "source": [
    "#### 31. WAP to find the missing number in a given array of numbers between 20 to 50"
   ]
  },
  {
   "cell_type": "code",
   "execution_count": 33,
   "metadata": {},
   "outputs": [
    {
     "name": "stdout",
     "output_type": "stream",
     "text": [
      "Missing numbers are:  [27, 31, 34, 40, 44, 48]\n"
     ]
    }
   ],
   "source": [
    "array31 = sorted(np.array([20,21,22,23,24,25,26,28,29,30,33,35,36,37,38,39,41,42,43,45,46,47,49,50]))\n",
    "missing_numbers = []\n",
    "for i in range(1, len(array31)):\n",
    "    missed = array31[i-1] + 1\n",
    "    if array31[i] != missed:\n",
    "        missing_numbers.append(missed)\n",
    "print(\"Missing numbers are: \", missing_numbers)"
   ]
  },
  {
   "cell_type": "markdown",
   "metadata": {},
   "source": [
    "#### 32. WAP to rotate an array. Ex. Input array [1, 2, 3, 4, 5, 6, 7] Output [7, 6, 5, 4, 3, 2, 1]"
   ]
  },
  {
   "cell_type": "code",
   "execution_count": 34,
   "metadata": {},
   "outputs": [
    {
     "name": "stdout",
     "output_type": "stream",
     "text": [
      "[7 6 5 4 3 2 1]\n"
     ]
    }
   ],
   "source": [
    "array32 = np.array([1, 2, 3, 4, 5, 6, 7])\n",
    "\n",
    "print(np.flip(array32))"
   ]
  },
  {
   "cell_type": "markdown",
   "metadata": {},
   "source": [
    "#### 33. WAP to split the array and add the first part to the end"
   ]
  },
  {
   "cell_type": "code",
   "execution_count": 35,
   "metadata": {},
   "outputs": [
    {
     "name": "stdout",
     "output_type": "stream",
     "text": [
      "[23, 98, 45, 43, 25, 34, 12, 76, 34]\n"
     ]
    }
   ],
   "source": [
    "def splitArr(array33, split):\n",
    "    array33 = array33[split:] + array33[:split]\n",
    "    return array33\n",
    "   \n",
    "split = 5\n",
    "array33 = [25,34,12,76,34,23,98,45,43]\n",
    "print(splitArr(array33, split))"
   ]
  },
  {
   "cell_type": "markdown",
   "metadata": {},
   "source": [
    "#### 34. WAP to find reminder of array multiplication divided by n"
   ]
  },
  {
   "cell_type": "code",
   "execution_count": 36,
   "metadata": {},
   "outputs": [
    {
     "name": "stdout",
     "output_type": "stream",
     "text": [
      "0\n"
     ]
    }
   ],
   "source": [
    "array34 = np.arange(23)\n",
    "n = len(array34)\n",
    "mul = 1\n",
    " \n",
    "for i in array34:\n",
    "    mul = mul * (i % n)\n",
    "print(mul % n)"
   ]
  },
  {
   "cell_type": "markdown",
   "metadata": {},
   "source": [
    "#### 35. WAP to check if given array is Monotonic"
   ]
  },
  {
   "cell_type": "code",
   "execution_count": 37,
   "metadata": {},
   "outputs": [
    {
     "name": "stdout",
     "output_type": "stream",
     "text": [
      "This sequence is Monotically increasing\n"
     ]
    }
   ],
   "source": [
    "array35 = np.array([4,8,12,16,20,24])\n",
    "if all(array35[i] >= array35[i+1] for i in range (len(array35)-1)):\n",
    "    print(\"This seuqnce is Monotonically decreasing\")\n",
    "elif all(array35[i] <= array35[i+1] for i in range (len(array35)-1)):\n",
    "    print(\"This sequence is Monotically increasing\")\n",
    "else:\n",
    "    print(\"This sequence is not Monotic in nature\")"
   ]
  },
  {
   "cell_type": "markdown",
   "metadata": {},
   "source": [
    "#### 36. Have the function ArrayMatching(strArr) read the array of strings stored in strArr which will contain only two elements, both of which will represent an array of positive integers. For example: if strArr is [\"[1, 2, 5, 6]\", \"[5, 2, 8, 11]\"], then both elements in the input represent two integer arrays, and your goal for this challenge is to add the elements in corresponding locations from both arrays. For the example input, your program should do the following additions: [(1 + 5), (2 + 2), (5 + 8), (6 + 11)] which then equals [6, 4, 13, 17]. Your program should finally return this resulting array in a string format with each element separated by a hyphen: 6-4-13-17.\n",
    "\n",
    "If the two arrays do not have the same amount of elements, then simply append the remaining elements onto the new array (example shown below). Both arrays will be in the format: [e1, e2, e3, ...] where at least one element will exist in each array.\n",
    "\n",
    "Examples\n",
    "\n",
    "Input: [\"[5, 2, 3]\", \"[2, 2, 3, 10, 6]\"]\n",
    "\n",
    "Output: 7-4-6-10-6\n",
    "\n",
    "Input: [\"[1, 2, 1]\", \"[2, 1, 5, 2]\"]\n",
    "\n",
    "Output: 3-3-6-2"
   ]
  },
  {
   "cell_type": "code",
   "execution_count": 38,
   "metadata": {},
   "outputs": [
    {
     "name": "stdout",
     "output_type": "stream",
     "text": [
      "7-4-6-10-6\n",
      "6-4-13-17\n",
      "3-3-6-2\n"
     ]
    }
   ],
   "source": [
    "def ArrayMatching(strArr):\n",
    "    strArr_0 = []\n",
    "    strArr_1 = []\n",
    "    k = ''\n",
    "    \n",
    "    for i in (k.join(strArr[0].split(' '))).replace(\",\",' ').replace(\"[\",'').replace(']','').split(' '):\n",
    "        if i.isdigit():\n",
    "            strArr_0.append(int(i))\n",
    "    for i in (k.join(strArr[1].split(' '))).replace(\",\",' ').replace(\"[\",'').replace(']','').split(' '):\n",
    "        if i.isdigit():\n",
    "            strArr_1.append(int(i))\n",
    "\n",
    "    array1 = np.array(strArr_0)\n",
    "    array2 = np.array(strArr_1)\n",
    "    m = '' \n",
    "    \n",
    "    if len(array1) < len(array2):\n",
    "        new = array2.copy()\n",
    "        new[:len(array1)] += array1\n",
    "        m = ''\n",
    "        for i in new:\n",
    "            m += str(i) + '-'\n",
    "        return m[:-1]\n",
    "    elif len(array1) > len(array2):\n",
    "        new = array1.copy()\n",
    "        new[:len(array2)] += array2\n",
    "        for i in new:\n",
    "            m += str(i) + '-'\n",
    "        return m[:-1]\n",
    "    else:\n",
    "        new = np.array(strArr_0) + np.array(strArr_1)\n",
    "        for i in new:\n",
    "            m += str(i) + '-'\n",
    "        return m[:-1]\n",
    "    \n",
    "strArr = [\"[5, 2, 3]\", \"[2, 2, 3, 10, 6]\"]\n",
    "print(ArrayMatching(strArr))\n",
    "strArr = [\"[1, 2, 5, 6]\", \"[5, 2, 8, 11]\"]        \n",
    "print(ArrayMatching(strArr)) \n",
    "strArr =  [\"[1, 2, 1]\", \"[2, 1, 5, 2]\"]\n",
    "print(ArrayMatching(strArr))"
   ]
  },
  {
   "cell_type": "markdown",
   "metadata": {},
   "source": [
    "#### 37. WAP to print output of below slicing options \n",
    "\n",
    "Input array = [1, 2, 3, 4, 5, 6, 7, 8, 9, 10]\n",
    "Operations \n",
    "\t1. a[3:8]\n",
    "\t2. a[5:]\n",
    "\t3. a[:]"
   ]
  },
  {
   "cell_type": "code",
   "execution_count": 39,
   "metadata": {},
   "outputs": [
    {
     "name": "stdout",
     "output_type": "stream",
     "text": [
      "[4 5 6 7 8]\n",
      "[ 6  7  8  9 10]\n",
      "[ 1  2  3  4  5  6  7  8  9 10]\n"
     ]
    }
   ],
   "source": [
    "array37 = np.array([1, 2, 3, 4, 5, 6, 7, 8, 9, 10])\n",
    "\n",
    "print(array37[3:8])\n",
    "print(array37[5:])\n",
    "print(array37[:])"
   ]
  },
  {
   "cell_type": "markdown",
   "metadata": {},
   "source": [
    "#### 38. WAP to search en element 7 in the array [1, 2, 3, 4, 5, 6, 7, 8, 9, 10]"
   ]
  },
  {
   "cell_type": "code",
   "execution_count": 40,
   "metadata": {},
   "outputs": [
    {
     "name": "stdout",
     "output_type": "stream",
     "text": [
      "(array([6], dtype=int64),)\n"
     ]
    }
   ],
   "source": [
    "array38 = np.array([1, 2, 3, 4, 5, 6, 7, 8, 9, 10])\n",
    "print(np.where(array38 == 7))"
   ]
  },
  {
   "cell_type": "markdown",
   "metadata": {},
   "source": [
    "#### 39. WAP to add and multiply two 3x3 matrices."
   ]
  },
  {
   "cell_type": "code",
   "execution_count": 41,
   "metadata": {},
   "outputs": [
    {
     "name": "stdout",
     "output_type": "stream",
     "text": [
      "Enter the number of rows for first matrix: 3\n",
      "Enter the number of columns for second: 3\n",
      "1\n",
      "2\n",
      "3\n",
      "4\n",
      "5\n",
      "6\n",
      "7\n",
      "8\n",
      "9\n",
      "[['1' '2' '3']\n",
      " ['4' '5' '6']\n",
      " ['7' '8' '9']]\n",
      "Enter the number of rows for first matrix: 3\n",
      "Enter the number of columns for second: 3\n",
      "1\n",
      "2\n",
      "3\n",
      "4\n",
      "5\n",
      "6\n",
      "7\n",
      "8\n",
      "9\n",
      "[['1' '2' '3']\n",
      " ['4' '5' '6']\n",
      " ['7' '8' '9']]\n",
      "[[ 2  4  6]\n",
      " [ 8 10 12]\n",
      " [14 16 18]]\n",
      "[[ 30  36  42]\n",
      " [ 66  81  96]\n",
      " [102 126 150]]\n"
     ]
    }
   ],
   "source": [
    "import numpy as np\n",
    "rows1 = int(input(\"Enter the number of rows for first matrix: \")) \n",
    "columns1 = int(input(\"Enter the number of columns for second: \")) \n",
    "matrix1= np.array([[input() for j in range(columns1)] for i in range(rows1)])\n",
    "print(matrix1)\n",
    "\n",
    "rows2 = int(input(\"Enter the number of rows for first matrix: \")) \n",
    "columns2 = int(input(\"Enter the number of columns for second: \")) \n",
    "matrix2 = np.array([[input() for j in range(columns2)] for i in range(rows2)])\n",
    "print(matrix2)\n",
    "\n",
    "sum_matrix = np.array([[0 for j in range(columns2)] for i in range(rows2)])\n",
    "\n",
    "for i in range(len(matrix1)):\n",
    "    for j in range(len(matrix1[0])):\n",
    "        sum_matrix[i][j] += int(matrix1[i][j])+int(matrix2[i][j])\n",
    "print(sum_matrix)      \n",
    "multi_matrix = np.array([[0 for j in range(columns2)] for i in range(rows2)])\n",
    "for i in range(len(matrix1)): \n",
    "    for j in range(len(matrix2[0])): \n",
    "        for k in range(len(matrix2)): \n",
    "            multi_matrix[i][j] += int(matrix1[i][k]) * int(matrix2[k][j])         \n",
    "print(multi_matrix)"
   ]
  },
  {
   "cell_type": "markdown",
   "metadata": {},
   "source": [
    "#### 40. WAP find a pair with a given sum in the array."
   ]
  },
  {
   "cell_type": "code",
   "execution_count": 42,
   "metadata": {},
   "outputs": [
    {
     "name": "stdout",
     "output_type": "stream",
     "text": [
      "3  +  3  =  6\n",
      "5  +  1  =  6\n",
      "1  +  5  =  6\n"
     ]
    }
   ],
   "source": [
    "array40 = [3,4,5,7,1,3,5,8,6]\n",
    "length = len(array40)\n",
    "summation = 6\n",
    "for x in range(0, length): \n",
    "    for y in range(x+1, length):\n",
    "        if((array40[x]+array40[y])==summation):\n",
    "            print(array40[x],\" + \",array40[y],\" = \",summation) "
   ]
  },
  {
   "cell_type": "markdown",
   "metadata": {},
   "source": [
    "#### 41. WAP to move all zeros to the end of an Array."
   ]
  },
  {
   "cell_type": "code",
   "execution_count": 43,
   "metadata": {},
   "outputs": [
    {
     "name": "stdout",
     "output_type": "stream",
     "text": [
      "[7, 5, 5, 3, 2, 2, 2, 0, 0, 0, 0]\n",
      "[5 2 5 2 7 2 3 0 0 0 0]\n"
     ]
    }
   ],
   "source": [
    "array41 = np.array([0, 5, 2,0,0,5,2,7,0,2,3])\n",
    "print(sorted(array41,reverse=True))\n",
    "\n",
    "index = 0\n",
    "for i in range(0,len(array41)):\n",
    "    if array41[i] != 0:\n",
    "        array41[index] = array41[i]\n",
    "        index += 1\n",
    "\n",
    "for i in range(index, len(array41)):\n",
    "        array41[index] = 0\n",
    "        index += 1\n",
    "print(array41)"
   ]
  },
  {
   "cell_type": "markdown",
   "metadata": {},
   "source": [
    "#### 42. WAP to Move all zeros to the Start of an Array"
   ]
  },
  {
   "cell_type": "code",
   "execution_count": 44,
   "metadata": {},
   "outputs": [
    {
     "name": "stdout",
     "output_type": "stream",
     "text": [
      "[0, 0, 0, 0, 2, 2, 2, 3, 5, 5, 7]\n",
      "[0 0 0 0 5 2 5 2 7 2 3]\n"
     ]
    }
   ],
   "source": [
    "array42 = np.array([0, 5, 2,0,0,5,2,7,0,2,3])\n",
    "print(sorted(array42))\n",
    "\n",
    "index = len(array42)-1\n",
    "for i in range(len(array42)-1,-1,-1):\n",
    "    if array42[i]!=0:\n",
    "        array42[index]=array42[i]\n",
    "        index -= 1\n",
    "\n",
    "for i in range(index,-1,-1):\n",
    "        array42[index]=0\n",
    "        index -= 1\n",
    "print(array42)"
   ]
  },
  {
   "cell_type": "markdown",
   "metadata": {},
   "source": [
    "#### 43. WAP to Find the mean and median of an unsorted array."
   ]
  },
  {
   "cell_type": "code",
   "execution_count": 45,
   "metadata": {},
   "outputs": [
    {
     "name": "stdout",
     "output_type": "stream",
     "text": [
      "Mean of array:  43900.6\n",
      "Median of array:  44627.5\n"
     ]
    }
   ],
   "source": [
    "array43 = np.array([64630, 11735, 14216, 99233, 14470, 4978, 73429, 38120, 51135, 67060])\n",
    "\n",
    "nelements = len(array43)\n",
    "\n",
    "sum_array = sum(array43)\n",
    "\n",
    "mean_array = sum_array / nelements\n",
    "print(\"Mean of array: \", mean_array)\n",
    "\n",
    "array43.sort()\n",
    "\n",
    "if nelements%2 == 0:\n",
    "    median_arr_1 = array43[nelements//2]\n",
    "    median_arr_2 = array43[nelements//2 - 1]\n",
    "    median_array = (median_arr_1 + median_arr_2) / 2\n",
    "else:\n",
    "    median_array = array43[nelements//2]\n",
    "\n",
    "print(\"Median of array: \", median_array)\n"
   ]
  },
  {
   "cell_type": "markdown",
   "metadata": {},
   "source": [
    "#### 44. WAP to Segregate 0s and 1s in an array."
   ]
  },
  {
   "cell_type": "code",
   "execution_count": 46,
   "metadata": {},
   "outputs": [
    {
     "name": "stdout",
     "output_type": "stream",
     "text": [
      "[0 0 0 0 0 0 0 0 0 1 1 1 1 1 1 1]\n"
     ]
    }
   ],
   "source": [
    "array44 = np.array([0,0,0,0,0,1,1,0,1,1,1,1,0,0,0,1])\n",
    "index = 0\n",
    "for x in range(0,len(array44)):\n",
    "    if array44[x] == 0:\n",
    "        index += 1\n",
    "for y in range(0, index):\n",
    "        array44[y] = 0\n",
    "for z in range(index, len(array44)):\n",
    "        array44[z] = 1\n",
    "print(array44)"
   ]
  },
  {
   "cell_type": "markdown",
   "metadata": {},
   "source": [
    "#### 41. WAP to find the median of two sorted arrays of different sizes."
   ]
  },
  {
   "cell_type": "code",
   "execution_count": 49,
   "metadata": {},
   "outputs": [
    {
     "name": "stdout",
     "output_type": "stream",
     "text": [
      "[2, 8, 8, 5, 5, 2, 6, 9, 1, 5, 9, 6, 6, 3, 3, 1, 8, 0, 6, 2, 9]\n",
      "\n",
      "Median=  5\n"
     ]
    }
   ],
   "source": [
    "array_41a = [2,8,5,6,1,9,6,3,8]\n",
    "array_41b = [8,5,2,9,5,6,3,1,0,6,2,9]\n",
    "\n",
    "total_length = len(array_41a) + len(array_41b)\n",
    "final_array = [0]*total_length\n",
    "first_iterator = 0\n",
    "second_iterator = 0\n",
    "iterator = 0\n",
    "while iterator < total_length:\n",
    "    if first_iterator < len(array_41a):\n",
    "        final_array[iterator] = array_41a[first_iterator]\n",
    "        first_iterator+=1\n",
    "        iterator+=1\n",
    "    if second_iterator < len(array_41b):\n",
    "        final_array[iterator] = array_41b[second_iterator]\n",
    "        second_iterator += 1\n",
    "        iterator += 1\n",
    "\n",
    "print(final_array)\n",
    "if len(array_41a) % 2 == 1:\n",
    "    median = final_array[len(array_41a) // 2]\n",
    "    print(\"\\nMedian= \", median)\n",
    "else:\n",
    "    median = (final_array[total_length // 2] + (final_array[(total_length // 2) - 1])) / 2.0\n",
    "    print(\"\\nMedian= \", median)"
   ]
  },
  {
   "cell_type": "markdown",
   "metadata": {},
   "source": [
    "#### 42. WAP to find the median of two unsorted arrays."
   ]
  },
  {
   "cell_type": "code",
   "execution_count": 53,
   "metadata": {},
   "outputs": [
    {
     "name": "stdout",
     "output_type": "stream",
     "text": [
      "\n",
      "Median=  8\n"
     ]
    }
   ],
   "source": [
    "array_42a = np.array([2,8,5,6,1])\n",
    "array_42b = np.array([8,5,9,5])\n",
    "\n",
    "total_length = len(array_42a) + len(array_42b)\n",
    "final_array = [0]*total_length\n",
    "first_iterator = 0\n",
    "second_iterator = 0\n",
    "iterator = 0\n",
    "while iterator < total_length:\n",
    "    if first_iterator < len(array_42a):\n",
    "        final_array[iterator] = array_42a[first_iterator]\n",
    "        first_iterator+=1\n",
    "        iterator+=1\n",
    "    if second_iterator < len(array_42b):\n",
    "        final_array[iterator] = array_42b[second_iterator]\n",
    "        second_iterator += 1\n",
    "        iterator += 1\n",
    "\n",
    "\n",
    "if len(array_42a) % 2 == 1:\n",
    "    median = final_array[len(array_42a) // 2]\n",
    "    print(\"\\nMedian= \", median)\n",
    "else:\n",
    "    median = (final_array[total_length // 2] + (final_array[(total_length // 2) - 1])) / 2.0\n",
    "    print(\"\\nMedian= \", median)\n",
    "    "
   ]
  },
  {
   "cell_type": "markdown",
   "metadata": {},
   "source": [
    "#### 43. WAP to find the Max sum contiguous subarray."
   ]
  },
  {
   "cell_type": "code",
   "execution_count": 54,
   "metadata": {},
   "outputs": [
    {
     "name": "stdout",
     "output_type": "stream",
     "text": [
      "1167\n"
     ]
    }
   ],
   "source": [
    "array43 = np.array([3,4,1,9,3,6,2,8,0,1,6,5])\n",
    "\n",
    "max_sum = 0\n",
    "for x in range(0, len(array43)):\n",
    "    for y in range(x, len(array43)):\n",
    "        sum=0\n",
    "        for z in range(x, y):\n",
    "            summation += array43[z]\n",
    "        if summation >= max_sum:\n",
    "             max_sum = summation\n",
    "print(max_sum)"
   ]
  },
  {
   "cell_type": "markdown",
   "metadata": {},
   "source": [
    "#### 44. WAP to find a pair with maximum product in an array."
   ]
  },
  {
   "cell_type": "code",
   "execution_count": 56,
   "metadata": {},
   "outputs": [
    {
     "name": "stdout",
     "output_type": "stream",
     "text": [
      "45 is the maximum product of 3 x 15\n"
     ]
    }
   ],
   "source": [
    "array44 = [ 15, 3, 5, 30, 45] \n",
    "\n",
    "largest_prod = -9999999999\n",
    "\n",
    "for i in range(len(array44)): \n",
    "    for j in range(len(array44) - 1): \n",
    "        for k in range(j + 1, len(array44)): \n",
    "            if (array44[j] * array44[k]==array44[i]): \n",
    "                largest_prod = max(largest_prod, array44[i]) \n",
    "                element1 = array44[k]\n",
    "                element2 = array44[j]\n",
    "                \n",
    "print(largest_prod, \"is the maximum product of\", element1 , \"x\", element2)"
   ]
  },
  {
   "cell_type": "markdown",
   "metadata": {},
   "source": [
    "#### 45. WAP to sort an array [9, 1, 5, 6, 8, 3, 2, 4, 7, 10]"
   ]
  },
  {
   "cell_type": "code",
   "execution_count": 57,
   "metadata": {},
   "outputs": [
    {
     "name": "stdout",
     "output_type": "stream",
     "text": [
      "[1, 2, 3, 4, 5, 6, 7, 8, 9, 10]\n",
      "{'A': 'Ascending Order', 'D': 'Descending Order'}\n",
      "Give your response as A/D: D\n",
      "We are printing the array in  Descending Order\n",
      "10 9 8 7 6 5 4 3 2 1 "
     ]
    }
   ],
   "source": [
    "array45 = np.array([9, 1, 5, 6, 8, 3, 2, 4, 7, 10])\n",
    "array45 = sorted(array45)\n",
    "print(array45)\n",
    "sorted_array = [0 for i in range(len(array45))]\n",
    "order = {\"A\": \"Ascending Order\", \"D\": \"Descending Order\"}\n",
    "print(order)\n",
    "want = input(\"Give your response as A/D: \")\n",
    "if(want == \"A\"):\n",
    "    print(\"We are printing the array in \", order['A'])\n",
    "    for i in range(len(array45)):\n",
    "        print(array45[i], end=\" \")\n",
    "elif(want == \"D\"):\n",
    "    print(\"We are printing the array in \", order['D'])\n",
    "    for i in range(len(array45)):\n",
    "        sorted_array[len(array45)-1-i] = array45[i]\n",
    "    for i in range(len(sorted_array)):\n",
    "        print(sorted_array[i], end = \" \")\n",
    "else:\n",
    "    pass"
   ]
  },
  {
   "cell_type": "markdown",
   "metadata": {},
   "source": [
    "#### 46. WAP to read and print a two dimensional array."
   ]
  },
  {
   "cell_type": "code",
   "execution_count": 58,
   "metadata": {},
   "outputs": [
    {
     "name": "stdout",
     "output_type": "stream",
     "text": [
      "[[ 1  2  3  4  5  6]\n",
      " [ 7  8  9 10 11 12]\n",
      " [13 14 15 16 17 18]\n",
      " [19 20 21 22 23 24]\n",
      " [25 26 27 28 29 30]\n",
      " [31 32 33 34 35 36]]\n",
      "\n",
      "Elements in the array are: \n",
      "1 2 3 4 5 6 7 8 9 10 11 12 13 14 15 16 17 18 19 20 21 22 23 24 25 26 27 28 29 30 31 32 33 34 35 36 "
     ]
    }
   ],
   "source": [
    "array46 = np.arange(1,37).reshape(6,6)\n",
    "print(array46)\n",
    "\n",
    "print(\"\\nElements in the array are: \")\n",
    "for x in array46:\n",
    "    for y in x:\n",
    "        print(y,end=' ')"
   ]
  },
  {
   "cell_type": "markdown",
   "metadata": {},
   "source": [
    "#### 47. WAP to compare two arrays, print \"Equal\" if elements in array_1 are matching with elements in array_2"
   ]
  },
  {
   "cell_type": "code",
   "execution_count": 59,
   "metadata": {},
   "outputs": [
    {
     "name": "stdout",
     "output_type": "stream",
     "text": [
      "The array a and array b are equal\n",
      "The array c and d are not equal\n"
     ]
    }
   ],
   "source": [
    "array_47a = np.arange(15).reshape(5,3)\n",
    "array_47b = np.arange(15).reshape(5,3)\n",
    "\n",
    "if np.array_equal(array_47a, array_47b):\n",
    "    print(\"The array a and array b are equal\")\n",
    "else:\n",
    "    print(\"The array a and b are not equal\")\n",
    "\n",
    "array_47c = np.arange(6).reshape(2,3)\n",
    "array_47d = np.arange(6).reshape(3,2)\n",
    "\n",
    "if np.array_equal(array_47c, array_47d):\n",
    "    print(\"The array c and array d are equal\")\n",
    "else:\n",
    "    print(\"The array c and d are not equal\")"
   ]
  },
  {
   "cell_type": "markdown",
   "metadata": {},
   "source": [
    "#### 48. WAP to find the common elements between two arrays "
   ]
  },
  {
   "cell_type": "code",
   "execution_count": 60,
   "metadata": {},
   "outputs": [
    {
     "name": "stdout",
     "output_type": "stream",
     "text": [
      "[5 6 7]\n"
     ]
    }
   ],
   "source": [
    "array_48_a1d = np.array([1,2,3,4,5,6,7])\n",
    "array_48_b1d = np.array([5,6,7,8,9,10])\n",
    "\n",
    "print(np.intersect1d(array_48_a1d, array_48_b1d))"
   ]
  },
  {
   "cell_type": "markdown",
   "metadata": {},
   "source": [
    "#### 49. WAP to add two matrices of the same size"
   ]
  },
  {
   "cell_type": "code",
   "execution_count": 61,
   "metadata": {},
   "outputs": [
    {
     "name": "stdout",
     "output_type": "stream",
     "text": [
      "Enter the number of rows for first matrix: 2\n",
      "Enter the number of columns for second: 2\n",
      "1\n",
      "2\n",
      "3\n",
      "4\n",
      "[['1' '2']\n",
      " ['3' '4']]\n",
      "Enter the number of rows for first matrix: 2\n",
      "Enter the number of columns for second: 2\n",
      "12\n",
      "23\n",
      "45\n",
      "12\n",
      "[['12' '23']\n",
      " ['45' '12']]\n",
      "[[13 25]\n",
      " [48 16]]\n"
     ]
    }
   ],
   "source": [
    "import numpy as np\n",
    "rows1 = int(input(\"Enter the number of rows for first matrix: \")) \n",
    "columns1 = int(input(\"Enter the number of columns for second: \")) \n",
    "matrix1= np.array([[input() for j in range(columns1)] for i in range(rows1)])\n",
    "print(matrix1)\n",
    "\n",
    "rows2 = int(input(\"Enter the number of rows for first matrix: \")) \n",
    "columns2 = int(input(\"Enter the number of columns for second: \")) \n",
    "matrix2 = np.array([[input() for j in range(columns2)] for i in range(rows2)])\n",
    "print(matrix2)\n",
    "\n",
    "sum_matrix = np.array([[0 for j in range(columns2)] for i in range(rows2)])\n",
    "\n",
    "for i in range(len(matrix1)):\n",
    "    for j in range(len(matrix1[0])):\n",
    "        sum_matrix[i][j] += int(matrix1[i][j])+int(matrix2[i][j])\n",
    "print(sum_matrix)  "
   ]
  },
  {
   "cell_type": "markdown",
   "metadata": {},
   "source": [
    "#### 50. WAP to check whether a given matrix is Lower Triangular Matrix or not."
   ]
  },
  {
   "cell_type": "code",
   "execution_count": 62,
   "metadata": {},
   "outputs": [
    {
     "name": "stdout",
     "output_type": "stream",
     "text": [
      "This is a lower triangular matrix\n"
     ]
    }
   ],
   "source": [
    "# as to check this, the matrix will be mxm (equal rows and columns)\n",
    "# checking the position\n",
    "low_tri_matrix = [[5,0,0,0],\n",
    "                  [7,2,0,0],\n",
    "                  [3,9,4,0],\n",
    "                  [5,7,3,1]]\n",
    "\n",
    "for x in range(0, len(low_tri_matrix)): \n",
    "    for y in range(x + 1, len(low_tri_matrix)): \n",
    "        if(low_tri_matrix[x][y] != 0):  \n",
    "            print(\"This is not a lower triangular matrix\")\n",
    "print(\"This is a lower triangular matrix\")"
   ]
  },
  {
   "cell_type": "markdown",
   "metadata": {},
   "source": [
    "#### 51. WAP to print boundary elements of the matrix."
   ]
  },
  {
   "cell_type": "code",
   "execution_count": 63,
   "metadata": {},
   "outputs": [
    {
     "name": "stdout",
     "output_type": "stream",
     "text": [
      "The boundary elements of this matrix are:  [5, 8, 5, 1, 7, 4, 3, 0, 5, 1]\n"
     ]
    }
   ],
   "source": [
    "boundary_matrix = [[5,8,5,1],\n",
    "                  [7,2,7,4],\n",
    "                  [3,9,4,0],\n",
    "                  [5,7,3,1]]\n",
    "\n",
    "boundary_elements = []\n",
    "for x in range(0, len(boundary_matrix)):\n",
    "    for y in range(0, len(boundary_matrix)):\n",
    "        if (x == 0):\n",
    "            boundary_elements.append(boundary_matrix[x][y])\n",
    "        elif (y == len(boundary_matrix) - 1):\n",
    "            boundary_elements.append(boundary_matrix[x][y])\n",
    "        elif (y == 0):\n",
    "            boundary_elements.append(boundary_matrix[x][y])\n",
    "        elif (y == len(boundary_matrix) - 1):\n",
    "            boundary_elements.append(boundary_matrix[x][y])\n",
    "        else:\n",
    "            pass\n",
    "print(\"The boundary elements of this matrix are: \", boundary_elements)"
   ]
  },
  {
   "cell_type": "markdown",
   "metadata": {},
   "source": [
    "#### 52. WAP to create a matrix and fill it with prime numbers."
   ]
  },
  {
   "cell_type": "code",
   "execution_count": 65,
   "metadata": {},
   "outputs": [
    {
     "name": "stdout",
     "output_type": "stream",
     "text": [
      "How many elements are there in your matrix: 15\n",
      "Try Again! Give a perfect square How many elements are there in your matrix: 35\n",
      "Try Again! Give a perfect square How many elements are there in your matrix: 24\n",
      "Try Again! Give a perfect square How many elements are there in your matrix: 25\n",
      "Acceptable range\n",
      "[[ 2  3  5  7 11]\n",
      " [13 17 19 23 29]\n",
      " [31 37 41 43 47]\n",
      " [53 59 61 67 71]\n",
      " [73 79 83 89 97]]\n"
     ]
    }
   ],
   "source": [
    "import math \n",
    "import numpy as np\n",
    "\n",
    "def Prime(n):  \n",
    "    for i in range(2,n//2+1):  \n",
    "        if(n%i==0):  \n",
    "            return(0)  \n",
    "    return(1)\n",
    "\n",
    "N = int(input(\"How many elements are there in your matrix: \"))\n",
    "\n",
    "while True:\n",
    "    if math.sqrt(N) == int(math.sqrt(N)):\n",
    "        print(\"Acceptable range\")\n",
    "        x = 2 \n",
    "        list2 = [] \n",
    "        while(1):  \n",
    "            if(Prime(x)):  \n",
    "                list2.append(x) \n",
    "                if(len(list2) == N): \n",
    "                    break \n",
    "            x += 1 \n",
    "\n",
    "        matrix_new = np.array(list2).reshape(int(math.sqrt(N)),int(math.sqrt(N)))\n",
    "        print(matrix_new)\n",
    "        break\n",
    "    else:\n",
    "        N = int(input(\"Try Again! Give a perfect square How many elements are there in your matrix: \"))"
   ]
  },
  {
   "cell_type": "markdown",
   "metadata": {},
   "source": [
    "#### 53. WAP to merge and sort two one dimensional arrays."
   ]
  },
  {
   "cell_type": "code",
   "execution_count": 66,
   "metadata": {},
   "outputs": [
    {
     "name": "stdout",
     "output_type": "stream",
     "text": [
      "The new merged and sorted array:  [0, 1, 2, 2, 3, 5, 6, 8]\n"
     ]
    }
   ],
   "source": [
    "array1 = [5,6,2,8]\n",
    "array2 = [0,2,3,1]\n",
    "\n",
    "new = [np.nan for i in range(len(array1)+len(array2))]\n",
    "array1_iterator, array2_iterator, new_iterator = 0, 0, 0\n",
    "while (array1_iterator < len(array1)):\n",
    "    new[new_iterator] = array1[array1_iterator]\n",
    "    array1_iterator += 1\n",
    "    new_iterator += 1\n",
    "while (array2_iterator < len(array2)):\n",
    "    new[new_iterator] = array2[array2_iterator]\n",
    "    array2_iterator += 1\n",
    "    new_iterator += 1\n",
    "    \n",
    "print(\"The new merged and sorted array: \", sorted(new))"
   ]
  },
  {
   "cell_type": "markdown",
   "metadata": {},
   "source": [
    "#### 54. WAP find union and intersection of 2 arrays"
   ]
  },
  {
   "cell_type": "code",
   "execution_count": 67,
   "metadata": {},
   "outputs": [
    {
     "name": "stdout",
     "output_type": "stream",
     "text": [
      "Intersection of two arrays:  [1, 2, 4, 5, 6, 7, 8, 9]\n",
      "Union of two arrays:  [1, 4, 5, 6, 9]\n"
     ]
    }
   ],
   "source": [
    "array1 = [4,5,6,1,9,6,2]\n",
    "array2 = [9,1,4,7,5,6,8]\n",
    "\n",
    "print(\"Intersection of two arrays: \", list(set(array1) | set(array2)))\n",
    "print(\"Union of two arrays: \", list(set(array1) & set(array2)))"
   ]
  },
  {
   "cell_type": "markdown",
   "metadata": {},
   "source": [
    "#### 55. WAP to find whether given number x appears more than n/2 times in a sorted array of size n"
   ]
  },
  {
   "cell_type": "code",
   "execution_count": 68,
   "metadata": {},
   "outputs": [
    {
     "name": "stdout",
     "output_type": "stream",
     "text": [
      "3 appears more than 1.5 times. Occurs  5 times\n",
      "4 appears more than 2.0 times. Occurs  4 times\n"
     ]
    }
   ],
   "source": [
    "array3 = sorted(np.array([3,3,3,4,4,4,4,2,6,6,8,8,9,9,3,3]))\n",
    "set3 = set(array3)\n",
    "for i in set3:\n",
    "    if array3.count(i) > i/2:\n",
    "        print(i, \"appears more than\", round(float(i/2),2), \"times.\", \"Occurs \", array3.count(i), \"times\")\n",
    "    else:\n",
    "        #print(i, \"does not appears more than\", round(float(i/2),2), \"times.\", \"Occurs: \", array3.count(i), \"times\")\n",
    "        pass"
   ]
  },
  {
   "cell_type": "markdown",
   "metadata": {},
   "source": [
    "#### 56. WAP to accept a matrix of order n*m and interchange the diagonals"
   ]
  },
  {
   "cell_type": "code",
   "execution_count": 69,
   "metadata": {},
   "outputs": [
    {
     "name": "stdout",
     "output_type": "stream",
     "text": [
      "Enter the number of rows:3\n",
      "Enter the number of columns:3\n",
      "1\n",
      "2\n",
      "3\n",
      "4\n",
      "5\n",
      "6\n",
      "7\n",
      "8\n",
      "9\n",
      "[['1' '2' '3']\n",
      " ['4' '5' '6']\n",
      " ['7' '8' '9']]\n",
      "[['3' '2' '1']\n",
      " ['4' '5' '6']\n",
      " ['9' '8' '7']]\n"
     ]
    }
   ],
   "source": [
    "rows = int(input(\"Enter the number of rows:\")) \n",
    "columns = int(input(\"Enter the number of columns:\")) \n",
    "matrix= np.array([[input() for j in range(columns)] for i in range(rows)])\n",
    "print(matrix)\n",
    "\n",
    "n = columns - 1\n",
    "for i in range(len(matrix)):\n",
    "    for j in range(len(matrix)):\n",
    "        if i == j:\n",
    "            temp = matrix[i][j]\n",
    "            matrix[i][j] = matrix[i][n]\n",
    "            matrix[i][n] = temp\n",
    "            n -= 1\n",
    "print(matrix)"
   ]
  },
  {
   "cell_type": "markdown",
   "metadata": {},
   "source": [
    "#### 57. WAP to perform matrix multiplication"
   ]
  },
  {
   "cell_type": "code",
   "execution_count": 70,
   "metadata": {
    "scrolled": false
   },
   "outputs": [
    {
     "name": "stdout",
     "output_type": "stream",
     "text": [
      "Enter the number of rows for first matrix: 3\n",
      "Enter the number of columns for second: 3\n",
      "1\n",
      "2\n",
      "3\n",
      "4\n",
      "5\n",
      "6\n",
      "7\n",
      "8\n",
      "9\n",
      "[['1' '2' '3']\n",
      " ['4' '5' '6']\n",
      " ['7' '8' '9']]\n",
      "Enter the number of rows for first matrix: 3\n",
      "Enter the number of columns for second: 3\n",
      "1\n",
      "2\n",
      "3\n",
      "4\n",
      "5\n",
      "6\n",
      "7\n",
      "8\n",
      "9\n",
      "[['1' '2' '3']\n",
      " ['4' '5' '6']\n",
      " ['7' '8' '9']]\n",
      "[[ 30  36  42]\n",
      " [ 66  81  96]\n",
      " [102 126 150]]\n"
     ]
    }
   ],
   "source": [
    "import numpy as np\n",
    "rows1 = int(input(\"Enter the number of rows for first matrix: \")) \n",
    "columns1 = int(input(\"Enter the number of columns for second: \")) \n",
    "matrix1= np.array([[input() for j in range(columns1)] for i in range(rows1)])\n",
    "print(matrix1)\n",
    "\n",
    "rows2 = int(input(\"Enter the number of rows for first matrix: \")) \n",
    "columns2 = int(input(\"Enter the number of columns for second: \")) \n",
    "matrix2 = np.array([[input() for j in range(columns2)] for i in range(rows2)])\n",
    "print(matrix2)\n",
    "\n",
    "multi_matrix = np.array([[0 for j in range(columns2)] for i in range(rows2)])\n",
    "\n",
    "for i in range(len(matrix1)):\n",
    "    for j in range(len(matrix2[0])):\n",
    "        for k in range(len(matrix2)):\n",
    "            multi_matrix[i][j] += int(matrix1[i][k])*int(matrix2[k][j])\n",
    "        \n",
    "\n",
    "print(multi_matrix)\n",
    "#for i in range(len(matrix1)):\n",
    "    #for j in range(len(matrix1)):\n",
    "        #for k in range(len(matrix1)):\n",
    "            #multi_matrix[i][j] = multi_matrix[i][j] + int(matrix1[i][k])*int(matrix2[k][j])\n",
    "#print(multi_matrix)"
   ]
  },
  {
   "cell_type": "markdown",
   "metadata": {},
   "source": [
    "###### 58. WAP to perform a binary search in a given array"
   ]
  },
  {
   "cell_type": "code",
   "execution_count": 71,
   "metadata": {},
   "outputs": [
    {
     "name": "stdout",
     "output_type": "stream",
     "text": [
      "At index 3 the element 2 is present\n",
      "Element 51 is not present\n"
     ]
    }
   ],
   "source": [
    "def bin_search(array , to_find):   \n",
    "    mini = 0\n",
    "    maxi = len(array) - 1\n",
    "    got_the_find = False\n",
    "    while(mini <= maxi and not got_the_find):\n",
    "        centre = (mini + maxi)//2\n",
    "        if array[centre] == to_find:\n",
    "            got_the_find = True\n",
    "         \n",
    "        else:\n",
    "            if to_find < array[centre]:\n",
    "                maxi = centre - 1\n",
    "            else:\n",
    "                mini = centre + 1\n",
    "\n",
    "    if got_the_find == True:\n",
    "        return(\"At index {} the element {} is present\".format(to_find, centre))\n",
    "    else:\n",
    "        return(\"Element {} is not present\".format(to_find))\n",
    "     \n",
    "array = [1,2,3,4,5,6,7,8,9]\n",
    "to_find=3\n",
    "print(bin_search(array,to_find))\n",
    "to_find=51\n",
    "print(bin_search(array,to_find))"
   ]
  },
  {
   "cell_type": "markdown",
   "metadata": {},
   "source": [
    "#### 59. WAP to get median of two sorts arrays"
   ]
  },
  {
   "cell_type": "code",
   "execution_count": 72,
   "metadata": {},
   "outputs": [
    {
     "name": "stdout",
     "output_type": "stream",
     "text": [
      "\n",
      "Median=  5\n",
      "[1, 2, 5, 5, 5, 6, 8, 8, 9]\n"
     ]
    }
   ],
   "source": [
    "array_42a = np.array([2,8,5,6,1])\n",
    "array_42b = np.array([8,5,9,5])\n",
    "\n",
    "total_length = len(array_42a) + len(array_42b)\n",
    "final_array = [0]*total_length\n",
    "first_iterator = 0\n",
    "second_iterator = 0\n",
    "iterator = 0\n",
    "while iterator < total_length:\n",
    "    if first_iterator < len(array_42a):\n",
    "        final_array[iterator] = array_42a[first_iterator]\n",
    "        first_iterator+=1\n",
    "        iterator+=1\n",
    "    if second_iterator < len(array_42b):\n",
    "        final_array[iterator] = array_42b[second_iterator]\n",
    "        second_iterator += 1\n",
    "        iterator += 1\n",
    "\n",
    "final_array = sorted(final_array)\n",
    "\n",
    "if len(array_42a) % 2 == 1:\n",
    "    median = final_array[len(array_42a) // 2]\n",
    "    print(\"\\nMedian= \", median)\n",
    "else:\n",
    "    median = (final_array[total_length // 2] + (final_array[(total_length // 2) - 1])) / 2.0\n",
    "    print(\"\\nMedian= \", median)\n",
    "    \n",
    "print(final_array)"
   ]
  },
  {
   "cell_type": "markdown",
   "metadata": {},
   "source": [
    "#### 60. WAP to add list of elements to a given set\n",
    "\n",
    "Input\n",
    "set_1 = {\"a\", \"b\", \"c\"}\n",
    "list_1 = [\"b\", \"d\", \"e\"]"
   ]
  },
  {
   "cell_type": "code",
   "execution_count": 73,
   "metadata": {},
   "outputs": [
    {
     "name": "stdout",
     "output_type": "stream",
     "text": [
      "The updated set is:  {'d', 'c', 'b', 'e', 'a'}\n"
     ]
    }
   ],
   "source": [
    "set_1 = {\"a\", \"b\", \"c\"}\n",
    "list_1 = [\"b\", \"d\", \"e\"]\n",
    "set_2 = set_1.union(set(list_1))\n",
    "print(\"The updated set is: \", set_2)"
   ]
  },
  {
   "cell_type": "markdown",
   "metadata": {},
   "source": [
    "#### 61. Create the set and print its element values, type and id"
   ]
  },
  {
   "cell_type": "code",
   "execution_count": 74,
   "metadata": {},
   "outputs": [
    {
     "name": "stdout",
     "output_type": "stream",
     "text": [
      "The element:  True \n",
      "Type of element:  <class 'bool'> \n",
      "Memory Location Id:  140708057900880 \n",
      "\n",
      "The element:  3 \n",
      "Type of element:  <class 'int'> \n",
      "Memory Location Id:  140708058183520 \n",
      "\n",
      "The element:  5.8 \n",
      "Type of element:  <class 'float'> \n",
      "Memory Location Id:  2778301235760 \n",
      "\n",
      "The element:  a \n",
      "Type of element:  <class 'str'> \n",
      "Memory Location Id:  2777977077296 \n",
      "\n",
      "The element:  b \n",
      "Type of element:  <class 'str'> \n",
      "Memory Location Id:  2777977065648 \n",
      "\n",
      "The element:  e \n",
      "Type of element:  <class 'str'> \n",
      "Memory Location Id:  2777975662064 \n",
      "\n"
     ]
    }
   ],
   "source": [
    "set_2 = {'b', 3, 'e', 5.8, 'a', True}\n",
    "\n",
    "for i in set_2:\n",
    "    print(\"The element: \", i, \"\\nType of element: \", type(i), \"\\nMemory Location Id: \", id(i), \"\\n\")"
   ]
  },
  {
   "cell_type": "markdown",
   "metadata": {},
   "source": [
    "#### 62. Create set using set function"
   ]
  },
  {
   "cell_type": "code",
   "execution_count": 75,
   "metadata": {},
   "outputs": [
    {
     "name": "stdout",
     "output_type": "stream",
     "text": [
      "The set is:  {'Runner Up', 1997, 'England', 14.5}\n"
     ]
    }
   ],
   "source": [
    "list_2 = ['England', 1997, 'Runner Up', 14.5]\n",
    "set_3 = set(list_2)\n",
    "print(\"The set is: \", set_3)"
   ]
  },
  {
   "cell_type": "markdown",
   "metadata": {},
   "source": [
    "#### 63. Find ways to create an empty set"
   ]
  },
  {
   "cell_type": "code",
   "execution_count": 76,
   "metadata": {},
   "outputs": [
    {
     "name": "stdout",
     "output_type": "stream",
     "text": [
      "This is an empty set:  set()\n"
     ]
    }
   ],
   "source": [
    "set_empty = set()\n",
    "print(\"This is an empty set: \", set_empty)"
   ]
  },
  {
   "cell_type": "markdown",
   "metadata": {},
   "source": [
    "#### 64. Create set and add new element into it and update existing elements. Notedown the difference between add and update functions"
   ]
  },
  {
   "cell_type": "code",
   "execution_count": 77,
   "metadata": {},
   "outputs": [
    {
     "name": "stdout",
     "output_type": "stream",
     "text": [
      "{'Green', 'White', 'Red', 'Blue', 'Violet', 'Yellow', 'Orange'}\n",
      "{'105', 101, 102, 103, 104}\n"
     ]
    }
   ],
   "source": [
    "# update: it can update the existing set with sequence added as argument\n",
    "rainbow_colors = {'Orange','Green','Blue'}\n",
    "rainbow_colors.update(['Red','Yellow','Violet','White'])\n",
    "print(rainbow_colors)\n",
    "\n",
    "# add : we can pass only one element as argument\n",
    "roll_no = {101, 102, 103, 104}\n",
    "roll_no.add('105')\n",
    "print(roll_no)\n",
    "\n",
    "# update: we can pass list, string, tuple, dictionary, set as argument.\n",
    "# if the update function is void, it will not return anything.\n",
    "# if the argument is dictionary, it will update keys as elements of set.\n",
    "\n",
    "# add: we can pass a element as argument.\n",
    "# if the element is already present, it will not add it again. (behaviour of set)\n",
    "\n",
    "# Note: while using these functions order of the elements can be different."
   ]
  },
  {
   "cell_type": "markdown",
   "metadata": {},
   "source": [
    "#### 65. Create a set and perform below operations on it \n",
    "\n",
    "\tcopy\n",
    "\tpop\n",
    "\tremove \n",
    "\tdiscard\n",
    "\tclear"
   ]
  },
  {
   "cell_type": "code",
   "execution_count": 78,
   "metadata": {},
   "outputs": [
    {
     "name": "stdout",
     "output_type": "stream",
     "text": [
      "Created a copy of set_4 as set_5:  {50, 51, 52, 53, 54, 55} \n",
      "Memory Location set_4:  2778284122176 \n",
      "and for set_5 2778284125088\n",
      "\n",
      "Removes an arbitary element and give it as result:  50\n",
      "\n",
      "remove() Removes a specific element given as argument:  {50, 51, 53, 54, 55}\n",
      "\n",
      "discard() Removes a specific element (only if it is present):  {51, 53, 54, 55}\n",
      "Discard returns None if element is not present:  None\n",
      "\n",
      "clear() Removes all the elements from the set:  None\n"
     ]
    }
   ],
   "source": [
    "set_4 = {50, 51, 52, 53, 54, 55}\n",
    "\n",
    "set_5 = set_4.copy()\n",
    "print(\"Created a copy of set_4 as set_5: \", set_5, \"\\nMemory Location set_4: \", id(set_4), \"\\nand for set_5\", id(set_5))\n",
    "\n",
    "print(\"\\nRemoves an arbitary element and give it as result: \", set_4.pop())\n",
    "\n",
    "set_5.remove(52)\n",
    "print(\"\\nremove() Removes a specific element given as argument: \", set_5)\n",
    "\n",
    "set_5.discard(50)\n",
    "print(\"\\ndiscard() Removes a specific element (only if it is present): \", set_5)\n",
    "\n",
    "print(\"Discard returns None if element is not present: \", set_5.discard(90))\n",
    "\n",
    "print(\"\\nclear() Removes all the elements from the set: \", set_4.clear())"
   ]
  },
  {
   "cell_type": "markdown",
   "metadata": {},
   "source": [
    "#### 66. Create two sets and perform below operations\n",
    "\n",
    "\tunion\n",
    "\tintersaction\n",
    "\tdifference\n",
    "\tsymmetric_difference\n",
    "\tsymmetric_difference_update\n",
    "\tissuperset\n",
    "\tissubset\n",
    "\tisdisjoint\n",
    "\tintersection_update"
   ]
  },
  {
   "cell_type": "code",
   "execution_count": 79,
   "metadata": {},
   "outputs": [
    {
     "name": "stdout",
     "output_type": "stream",
     "text": [
      "set_6 union set_7:  {2, 4, 'c', 'd', 'a', 'u', 'p', 'b'}\n",
      "set_6 intersection set_7:  {2, 4, 'a', 'u', 'b'}\n",
      "set_6 difference set_7:  {'p'}\n",
      "set_6 symmetric_difference set_7:  {'p', 'c', 'd'} elements out of intersection\n",
      "\n",
      "set_6 symmetric_difference_update set_7:  None set_6:  {'c', 'd', 'p'} set_7:  {2, 4, 'c', 'd', 'a', 'u', 'b'}\n",
      "\n",
      "set_6 is superset of set_7?  False\n",
      "\n",
      "set_8 is subset of set_8?  True\n",
      "\n",
      "set_6 and set_7 are disjoint?  False\n",
      "\n",
      "set_8 intersection_update set_7:  None set_8:  {'b', 'a', 'c'} set_7:  {2, 4, 'c', 'd', 'a', 'u', 'b'}\n"
     ]
    }
   ],
   "source": [
    "set_6 = {4, 'a', 'b', 2, 'u', 'p'}\n",
    "set_7 = {'b', 'd', 2 , 'a', 'c', 'u' , 4,}\n",
    "set_8 = {'a', 'b', 'c'}\n",
    "\n",
    "print(\"set_6 union set_7: \", set_6.union(set_7))\n",
    "print(\"set_6 intersection set_7: \", set_6.intersection(set_7))\n",
    "print(\"set_6 difference set_7: \", set_6.difference(set_7))\n",
    "print(\"set_6 symmetric_difference set_7: \", set_6.symmetric_difference(set_7), \"elements out of intersection\")\n",
    "\n",
    "print(\"\\nset_6 symmetric_difference_update set_7: \", set_6.symmetric_difference_update(set_7), \"set_6: \", set_6, \"set_7: \", set_7)\n",
    "\n",
    "print(\"\\nset_6 is superset of set_7? \", set_6.issuperset(set_7))\n",
    "\n",
    "print(\"\\nset_8 is subset of set_8? \", set_8.issubset(set_7))\n",
    "\n",
    "print(\"\\nset_6 and set_7 are disjoint? \", set_6.isdisjoint(set_7))\n",
    "\n",
    "set_8.intersection_update(set_7)\n",
    "print(\"\\nset_8 intersection_update set_7: \", set_8.intersection_update(set_7), \"set_8: \", set_8, \"set_7: \", set_7)"
   ]
  },
  {
   "cell_type": "markdown",
   "metadata": {},
   "source": [
    "#### 67. Create a set and apply menbership operations on it (in and not in)"
   ]
  },
  {
   "cell_type": "code",
   "execution_count": 80,
   "metadata": {},
   "outputs": [
    {
     "name": "stdout",
     "output_type": "stream",
     "text": [
      "a is present in vowel list\n",
      "u is not present in vowel list\n"
     ]
    }
   ],
   "source": [
    "set_9 = {'a', 'e', 'i', 'o'}\n",
    "\n",
    "if 'a' in set_9:\n",
    "    print(\"a is present in vowel list\")\n",
    "\n",
    "if 'u' not in set_9:\n",
    "    print(\"u is not present in vowel list\")"
   ]
  },
  {
   "cell_type": "markdown",
   "metadata": {},
   "source": [
    "#### 68. What is set comprehension and how it works. Explain is detail with example"
   ]
  },
  {
   "cell_type": "code",
   "execution_count": 81,
   "metadata": {},
   "outputs": [
    {
     "name": "stdout",
     "output_type": "stream",
     "text": [
      "Square of even numbers upto 10\n",
      "{0, 4, 8, 12, 16, 20}\n",
      "\n",
      "expression in curly braces:  {0, 4, 8, 12, 16, 20}\n"
     ]
    }
   ],
   "source": [
    "# we can create a set inside set() function or curly braces. \n",
    "# Basically the sequence is created using loops and conditional statements.\n",
    "\n",
    "print(\"Square of even numbers upto 10\")\n",
    "print(set(x*2 for x in range(11) if x%2 == 0))\n",
    "\n",
    "# In above example we are initiating a for loop over range(11).\n",
    "# checking it with conditional statement that if the number is even.\n",
    "# at start of the expression, x*2 that is square it.\n",
    "# and this whole comprehensive expression is written in the set() so it will be a set of elements satisfying this condition.\n",
    "\n",
    "# another way \n",
    "\n",
    "print(\"\\nexpression in curly braces: \", {x*2 for x in range(11) if x%2 == 0})"
   ]
  },
  {
   "cell_type": "markdown",
   "metadata": {},
   "source": [
    "#### 69. What is nested set comprehension and how it works. Explain is detail with example."
   ]
  },
  {
   "cell_type": "code",
   "execution_count": 82,
   "metadata": {},
   "outputs": [
    {
     "name": "stdout",
     "output_type": "stream",
     "text": [
      "{frozenset({'d', 't'}), frozenset({'L', 'd', 'm', 't', ','}), frozenset({'v', 'P', 't', 'r'}), frozenset({'p', 'c', 'n', 'y', 'm'}), frozenset({'n', 's', 'c'}), frozenset(), frozenset({'C', 'h', 't', 's'})}\n"
     ]
    }
   ],
   "source": [
    "# nested set comprehension: The inner sets, needs to be frozen sets, or you will get an error.\n",
    "# A frozen set is just like a set, although sets are mutable and frozen sets are not. \n",
    "# Sets are changeable, which makes them unhashable, and therefore they cannot exist as items \n",
    "# within a larger set unless they are frozen. Luckily, we can simply make sets into frozen sets \n",
    "# by enclosing them in the frozenset() function.\n",
    "\n",
    "organization = \"Chistats Private Limited, a data science company\"\n",
    "chars = organization.split()\n",
    "vowels = ['a', 'e', 'i', 'o', 'u']\n",
    "consonants = {frozenset(\n",
    "    {letter for letter in word if letter not in vowels}) for word in chars}\n",
    "print(consonants)"
   ]
  },
  {
   "cell_type": "markdown",
   "metadata": {},
   "source": [
    "#### 70. What is frozenset, explain in detial with example"
   ]
  },
  {
   "cell_type": "code",
   "execution_count": 83,
   "metadata": {},
   "outputs": [
    {
     "name": "stdout",
     "output_type": "stream",
     "text": [
      "{1, 2, 3, 4, 8}\n"
     ]
    },
    {
     "ename": "AttributeError",
     "evalue": "'frozenset' object has no attribute 'add'",
     "output_type": "error",
     "traceback": [
      "\u001b[1;31m---------------------------------------------------------------------------\u001b[0m",
      "\u001b[1;31mAttributeError\u001b[0m                            Traceback (most recent call last)",
      "\u001b[1;32m<ipython-input-83-dd68ac1cdb1b>\u001b[0m in \u001b[0;36m<module>\u001b[1;34m\u001b[0m\n\u001b[0;32m     11\u001b[0m \u001b[0mprint\u001b[0m\u001b[1;33m(\u001b[0m\u001b[0mset_10\u001b[0m\u001b[1;33m)\u001b[0m\u001b[1;33m\u001b[0m\u001b[1;33m\u001b[0m\u001b[0m\n\u001b[0;32m     12\u001b[0m \u001b[1;33m\u001b[0m\u001b[0m\n\u001b[1;32m---> 13\u001b[1;33m \u001b[0mset_11\u001b[0m\u001b[1;33m.\u001b[0m\u001b[0madd\u001b[0m\u001b[1;33m(\u001b[0m\u001b[1;36m8\u001b[0m\u001b[1;33m)\u001b[0m\u001b[1;33m\u001b[0m\u001b[1;33m\u001b[0m\u001b[0m\n\u001b[0m\u001b[0;32m     14\u001b[0m \u001b[0mprint\u001b[0m\u001b[1;33m(\u001b[0m\u001b[0mset_11\u001b[0m\u001b[1;33m)\u001b[0m\u001b[1;33m\u001b[0m\u001b[1;33m\u001b[0m\u001b[0m\n",
      "\u001b[1;31mAttributeError\u001b[0m: 'frozenset' object has no attribute 'add'"
     ]
    }
   ],
   "source": [
    "# Frozenset is a class with the characteristics of a set, but once its elements have been assigned, \n",
    "# they cannot be changed. Tuples can be seen as immutable lists, while frozensets can be seen as immutable sets.\n",
    "\n",
    "# Sets are mutable and unhashable, which means we cannot use them as dictionary keys. \n",
    "# Frozensets are hashable and we can use them as dictionary keys.\n",
    "\n",
    "set_10 = {1,2,3,4}\n",
    "set_11 = frozenset({1,2,3,4})\n",
    "\n",
    "set_10.add(8)\n",
    "print(set_10)\n",
    "\n",
    "set_11.add(8)\n",
    "print(set_11)"
   ]
  },
  {
   "cell_type": "code",
   "execution_count": 84,
   "metadata": {},
   "outputs": [
    {
     "name": "stdout",
     "output_type": "stream",
     "text": [
      "frozenset({1, 2, 3, 4})\n",
      "Copy of set_12:  frozenset({1, 2, 3, 4})\n",
      "23 in set_12? True\n",
      "23 not in set_12?  True\n"
     ]
    }
   ],
   "source": [
    "set_12 = frozenset({1,2,3,4})\n",
    " \n",
    "print(set_12)\n",
    " \n",
    "copy = set_12.copy()\n",
    "print(\"Copy of set_12: \", copy)\n",
    "\n",
    "print(\"23 in set_12?\", 3 in set_12)\n",
    " \n",
    "print(\"23 not in set_12? \", 23 not in set_12)"
   ]
  },
  {
   "cell_type": "markdown",
   "metadata": {},
   "source": [
    "## Thank You!"
   ]
  }
 ],
 "metadata": {
  "kernelspec": {
   "display_name": "Python 3",
   "language": "python",
   "name": "python3"
  }
 },
 "nbformat": 4,
 "nbformat_minor": 4
}
