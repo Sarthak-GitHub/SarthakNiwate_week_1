{
 "cells": [
  {
   "cell_type": "markdown",
   "metadata": {},
   "source": [
    "## Week 1: Strings - Assignment \n",
    "**by Sarthak Niwate (Intern at Chistats)**"
   ]
  },
  {
   "cell_type": "markdown",
   "metadata": {},
   "source": [
    "**1. What is string** "
   ]
  },
  {
   "cell_type": "markdown",
   "metadata": {},
   "source": [
    "String is a datatype in python. A string object can indentified, as it is enclosed withing single/double/triple quotes. Strings are immutable. This means that elements of a string cannot be changed once it has been assigned. We can simply reassign different strings to the same name. We can perform operations of slicing and indexing on a string.\n",
    "\n",
    "Also, there are some operations which we can perform on a string like concatenating two strings, multiplication of a string with number. The operations for substrings like using in operator not in operatior to check the membership of that substring under a string. "
   ]
  },
  {
   "cell_type": "markdown",
   "metadata": {},
   "source": [
    "**2.Define multiline string mentioned below and print it**\n",
    "\n",
    "\"Yeah, you can be the greatest, you can be the best\n",
    "\n",
    "You can be the King Kong bangin' on your chest\n",
    "\n",
    "You can beat the world, you can beat the war\n",
    "\n",
    "You can talk to God, go bangin' on his door\""
   ]
  },
  {
   "cell_type": "code",
   "execution_count": 1,
   "metadata": {},
   "outputs": [
    {
     "name": "stdout",
     "output_type": "stream",
     "text": [
      "\n",
      "\"Yeah, you can be the greatest, you can be the best\n",
      "You can be the King Kong bangin' on your chest\n",
      "You can beat the world, you can beat the war\n",
      "You can talk to God, go bangin' on his door\"\n",
      "\n"
     ]
    }
   ],
   "source": [
    "print('''\n",
    "\"Yeah, you can be the greatest, you can be the best\n",
    "You can be the King Kong bangin' on your chest\n",
    "You can beat the world, you can beat the war\n",
    "You can talk to God, go bangin' on his door\"\n",
    "''')"
   ]
  },
  {
   "cell_type": "markdown",
   "metadata": {},
   "source": [
    "**3. WAP to access and print characters from string \"Lakshya toh har haal mein paana hai\" usin index**"
   ]
  },
  {
   "cell_type": "code",
   "execution_count": 2,
   "metadata": {},
   "outputs": [
    {
     "name": "stdout",
     "output_type": "stream",
     "text": [
      "0 th character is:  L\n",
      "1 th character is:  a\n",
      "2 th character is:  k\n",
      "3 th character is:  s\n",
      "4 th character is:  h\n",
      "5 th character is:  y\n",
      "6 th character is:  a\n",
      "7 th character is:   \n",
      "8 th character is:  t\n",
      "9 th character is:  o\n",
      "10 th character is:  h\n",
      "11 th character is:   \n",
      "12 th character is:  h\n",
      "13 th character is:  a\n",
      "14 th character is:  r\n",
      "15 th character is:   \n",
      "16 th character is:  h\n",
      "17 th character is:  a\n",
      "18 th character is:  a\n",
      "19 th character is:  l\n",
      "20 th character is:   \n",
      "21 th character is:  m\n",
      "22 th character is:  e\n",
      "23 th character is:  i\n",
      "24 th character is:  n\n",
      "25 th character is:   \n",
      "26 th character is:  p\n",
      "27 th character is:  a\n",
      "28 th character is:  a\n",
      "29 th character is:  n\n",
      "30 th character is:  a\n",
      "31 th character is:   \n",
      "32 th character is:  h\n",
      "33 th character is:  a\n",
      "34 th character is:  i\n"
     ]
    }
   ],
   "source": [
    "string1 = \"Lakshya toh har haal mein paana hai\"\n",
    "\n",
    "for i in range(len(string1)):\n",
    "    print(i,\"th character is: \" , string1[i])  # Use of indexing"
   ]
  },
  {
   "cell_type": "markdown",
   "metadata": {},
   "source": [
    "**4. WAP to access and print characters from string \"Lakshya toh har haal mein paana hai\" usin slice**"
   ]
  },
  {
   "cell_type": "code",
   "execution_count": 3,
   "metadata": {},
   "outputs": [
    {
     "name": "stdout",
     "output_type": "stream",
     "text": [
      "Lakshya\n"
     ]
    }
   ],
   "source": [
    "print(string1[:7])"
   ]
  },
  {
   "cell_type": "code",
   "execution_count": 4,
   "metadata": {},
   "outputs": [
    {
     "name": "stdout",
     "output_type": "stream",
     "text": [
      "paana hai\n"
     ]
    }
   ],
   "source": [
    "print(string1[-9:])"
   ]
  },
  {
   "cell_type": "code",
   "execution_count": 5,
   "metadata": {},
   "outputs": [
    {
     "name": "stdout",
     "output_type": "stream",
     "text": [
      "Lkhathhrha enpaahi\n"
     ]
    }
   ],
   "source": [
    "print(string1[::2])"
   ]
  },
  {
   "cell_type": "code",
   "execution_count": 6,
   "metadata": {},
   "outputs": [
    {
     "name": "stdout",
     "output_type": "stream",
     "text": [
      "iah anaap niem laah rah hot ayhskaL\n"
     ]
    }
   ],
   "source": [
    "print(string1[::-1])"
   ]
  },
  {
   "cell_type": "code",
   "execution_count": 7,
   "metadata": {},
   "outputs": [
    {
     "name": "stdout",
     "output_type": "stream",
     "text": [
      "kyt\n"
     ]
    }
   ],
   "source": [
    "print(string1[2:9:3])"
   ]
  },
  {
   "cell_type": "markdown",
   "metadata": {},
   "source": [
    "**5. Short not on behaviour of slice**"
   ]
  },
  {
   "cell_type": "markdown",
   "metadata": {},
   "source": [
    "**Slicing Behaviour**\n",
    "\n",
    "- Syntax for slicing is [start_index : stop_index : step_size]\n",
    "- start_index is from which index of we have to start the new output, stop_index is at which index we have to stop the new output and step_size is no. steps taking after each elemnent of this start_index to stop_index range.\n",
    "- if we didn't specify anything at start_index, it by defaults starts it from index 0 which first element of the string.\n",
    "- if we didn't specify anything at stop_index, it by default takes index -1 which is last element of the string.\n",
    "- step_size has by default 1 step i.e. taking one step at each elemnet and consider it.\n",
    "- special case: reversing string : str[::-1]"
   ]
  },
  {
   "cell_type": "markdown",
   "metadata": {},
   "source": [
    "**6. str = \"abrakadabra\"**\n",
    "**What will be the output of below**\n",
    "\n",
    "\tstr[1:6:20] >> b\n",
    " \n",
    "\tstr[::1] >> abrakadabra\n",
    "    \n",
    "\tstr[::-1] >> arbadakarba\n",
    "    \n",
    "\tstr[3:7:-1] >> nothing as output\n",
    "    \n",
    "\tstr[7:4:-1] >> ada\n",
    "    \n",
    "\tstr[0:10000:1] >> abrakadabra\n",
    "    \n",
    "\tstr[-4:1:-1] >> adakar\n",
    "    \n",
    "\tstr[-4:1:-2] >> aaa\n",
    "    \n",
    "\tstr[5:0:1] >> nothing as output\n",
    "    \n",
    "\tstr[9:0:0] >> step_size can't be zero\n",
    "    \n",
    "\tstr[0:-10:-1] >> nothing as output\n",
    "    \n",
    "\tstr[0:0:1] >> nothing as output\n",
    "    \n",
    "\tstr[0:-9:-2] >> nothing as output\n",
    "    \n",
    "\tstr[-5:-9:-2] >> dk\n",
    "    \n",
    "\tstr[10:-1:-1] >> nothing as output\n",
    "    \n",
    "\tstr[1000:2:1] >> nothing as output"
   ]
  },
  {
   "cell_type": "markdown",
   "metadata": {},
   "source": [
    "**7. WAP to access each character from string in forward and backword direction**"
   ]
  },
  {
   "cell_type": "code",
   "execution_count": 8,
   "metadata": {},
   "outputs": [],
   "source": [
    "def string_characters(string):\n",
    "    print(\"Forward Indexing\\n\")\n",
    "    for i in range(len(string)):\n",
    "        print(i,\"th character is: \" , string[i])\n",
    "    print(\"\\nNegative Indexing\\n\")\n",
    "    for i in range(1,len(string)+1):\n",
    "        print(\"-\",i,\"th character is: \" ,string[-i]) # neagtive indexing"
   ]
  },
  {
   "cell_type": "code",
   "execution_count": 9,
   "metadata": {},
   "outputs": [
    {
     "name": "stdout",
     "output_type": "stream",
     "text": [
      "Forward Indexing\n",
      "\n",
      "0 th character is:  k\n",
      "1 th character is:  i\n",
      "2 th character is:  l\n",
      "3 th character is:  o\n",
      "\n",
      "Negative Indexing\n",
      "\n",
      "- 1 th character is:  o\n",
      "- 2 th character is:  l\n",
      "- 3 th character is:  i\n",
      "- 4 th character is:  k\n"
     ]
    }
   ],
   "source": [
    "string_characters('kilo')"
   ]
  },
  {
   "cell_type": "markdown",
   "metadata": {},
   "source": [
    "**8. Use String functions: Calculate length of string \"allhailkingkong\"**"
   ]
  },
  {
   "cell_type": "code",
   "execution_count": 10,
   "metadata": {},
   "outputs": [
    {
     "name": "stdout",
     "output_type": "stream",
     "text": [
      "Length of a string allhailkingkong using len() function of string: 15\n"
     ]
    }
   ],
   "source": [
    "str4 = \"allhailkingkong\"\n",
    "print(\"Length of a string {0} using len() function of string: {1}\".format(str4, len(str4)))"
   ]
  },
  {
   "cell_type": "markdown",
   "metadata": {},
   "source": [
    "**9. Use String functions: WAP to print true if string \"bla\" is present in the string \"hestarted blabbering\"**"
   ]
  },
  {
   "cell_type": "code",
   "execution_count": 11,
   "metadata": {},
   "outputs": [
    {
     "name": "stdout",
     "output_type": "stream",
     "text": [
      "True\n"
     ]
    }
   ],
   "source": [
    "str5 = \"hestarted blabbering\"\n",
    "\n",
    "final = str5.count('bla')\n",
    "\n",
    "if final>0:\n",
    "    print(True)\n",
    "else:\n",
    "    print(False)"
   ]
  },
  {
   "cell_type": "markdown",
   "metadata": {},
   "source": [
    "**10. Use String functions: Compare two strings using arithmatic operators**\n",
    "    \n",
    "str1 = \"abc\"\n",
    "str2 = \"abc\"\n",
    "str3 = \"abcd\"\n",
    "str4 = \"random\"\n",
    "\n",
    "Check which strings equality using ==, !=, <, <=, >, >= and print the message in formate <first string> operator name <second string>\n",
    "Ex. str1 is equal to str2"
   ]
  },
  {
   "cell_type": "code",
   "execution_count": 12,
   "metadata": {},
   "outputs": [],
   "source": [
    "def string_op(str1, str2, str3, str4):\n",
    "    if ((str1 == str2) == True):\n",
    "        print(\"{} is equal to {}\".format(str1,str2))\n",
    "    if ((str1 == str3) == True):\n",
    "        print(\"{} is equal to {}\".format(str1,str3))\n",
    "    if ((str1 == str4) == True):\n",
    "        print(\"{} is equal to {}\".format(str1,str4))\n",
    "    if ((str2 == str3) == True):\n",
    "        print(\"{} is equal to {}\".format(str2,str3))\n",
    "    if ((str2 == str4) == True):\n",
    "        print(\"{} is equal to {}\".format(str2,str4))\n",
    "    if ((str3 == str4) == True):\n",
    "        print(\"{} is equal to {}\".format(str3,str4))\n",
    "    print()\n",
    "    if ((str1 != str2) != True):\n",
    "        print(\"{} is not equal to {}\".format(str1,str2))\n",
    "    if ((str1 != str3) != True):\n",
    "        print(\"{} is not equal to {}\".format(str1,str3))\n",
    "    if ((str1 != str4) != True):\n",
    "        print(\"{} is not equal to {}\".format(str1,str4))\n",
    "    if ((str2 != str3) != True):\n",
    "        print(\"{} is not equal to {}\".format(str2,str3))\n",
    "    if ((str2 != str4) != True):\n",
    "        print(\"{} is not equal to {}\".format(str2,str4))\n",
    "    if ((str3 != str4) != True):\n",
    "        print(\"{} is not equal to {}\".format(str3,str4))\n",
    "    print()\n",
    "    if ((str1 < str2) < True):\n",
    "        print(\"{} is less than {}\".format(str1,str2))\n",
    "    if ((str1 < str3) < True):\n",
    "        print(\"{} is less than {}\".format(str1,str3))\n",
    "    if ((str1 < str4) < True):\n",
    "        print(\"{} is less than {}\".format(str1,str4))\n",
    "    if ((str2 < str3) < True):\n",
    "        print(\"{} is less than {}\".format(str2,str3))\n",
    "    if ((str2 < str4) < True):\n",
    "        print(\"{} is less than {}\".format(str2,str4))\n",
    "    if ((str3 < str4) < True):\n",
    "        print(\"{} is less than {}\".format(str3,str4))\n",
    "    print()\n",
    "    if ((str1 <= str2) <= True):\n",
    "        print(\"{} is less than or equal to {}\".format(str1,str2))\n",
    "    if ((str1 <= str3) <= True):\n",
    "        print(\"{} is less than or equal to {}\".format(str1,str3))\n",
    "    if ((str1 <= str4) <= True):\n",
    "        print(\"{} is less than or equal to {}\".format(str1,str4))\n",
    "    if ((str2 <= str3) <= True):\n",
    "        print(\"{} is less than or equal to {}\".format(str2,str3))\n",
    "    if ((str2 <= str4) <= True):\n",
    "        print(\"{} is less than or equal to {}\".format(str2,str4))\n",
    "    if ((str3 <= str4) <= True):\n",
    "        print(\"{} is less than or equal to {}\".format(str3,str4))\n",
    "    print()\n",
    "    if ((str1 > str2) > True):\n",
    "        print(\"{} is greater than {}\".format(str1,str2))\n",
    "    if ((str1 > str3) > True):\n",
    "        print(\"{} is greater than {}\".format(str1,str3))\n",
    "    if ((str1 > str4) > True):\n",
    "        print(\"{} is greater than {}\".format(str1,str4))\n",
    "    if ((str2 > str3) > True):\n",
    "        print(\"{} is greater than {}\".format(str2,str3))\n",
    "    if ((str2 > str4) > True):\n",
    "        print(\"{} is greater than {}\".format(str2,str4))\n",
    "    if ((str3 > str4) > True):\n",
    "        print(\"{} is greater than {}\".format(str3,str4))\n",
    "    print()\n",
    "    if ((str1 >= str2) >= True):\n",
    "        print(\"{} is greater than or equal to {}\".format(str1,str2))\n",
    "    if ((str1 >= str3) >= True):\n",
    "        print(\"{} is greater than or equal to {}\".format(str1,str3))\n",
    "    if ((str1 >= str4) >= True):\n",
    "        print(\"{} is greater than or equal to {}\".format(str1,str4))\n",
    "    if ((str2 >= str3) >= True):\n",
    "        print(\"{} is greater than or equal to {}\".format(str2,str3))\n",
    "    if ((str2 >= str4) >= True):\n",
    "        print(\"{} is greater than or equal to {}\".format(str2,str4))\n",
    "    if ((str3 >= str4) >= True):\n",
    "        print(\"{} is greater than or equal to {}\".format(str3,str4))"
   ]
  },
  {
   "cell_type": "code",
   "execution_count": 13,
   "metadata": {},
   "outputs": [
    {
     "name": "stdout",
     "output_type": "stream",
     "text": [
      "abc is equal to abc\n",
      "\n",
      "abc is not equal to abc\n",
      "\n",
      "abc is less than abc\n",
      "\n",
      "abc is less than or equal to abc\n",
      "abc is less than or equal to abcd\n",
      "abc is less than or equal to random\n",
      "abc is less than or equal to abcd\n",
      "abc is less than or equal to random\n",
      "abcd is less than or equal to random\n",
      "\n",
      "\n",
      "abc is greater than or equal to abc\n"
     ]
    }
   ],
   "source": [
    "str1 = \"abc\"\n",
    "str2 = \"abc\"\n",
    "str3 = \"abcd\"\n",
    "str4 = \"random\"\n",
    "string_op(str1, str2, str3, str4)"
   ]
  },
  {
   "cell_type": "markdown",
   "metadata": {},
   "source": [
    "**11. Use String functions: Remove spaces from string**\n",
    "\n",
    "str1 = \"abc def \"\n",
    "str2 = \"   bla bla bla\"\n",
    "str3 = \"bla bla baar \""
   ]
  },
  {
   "cell_type": "code",
   "execution_count": 14,
   "metadata": {},
   "outputs": [
    {
     "name": "stdout",
     "output_type": "stream",
     "text": [
      "Length of original string 8 and after using strip length 7 , new str is abc def\n",
      "Length of original string 14 and after using strip length 11 , new str is bla bla bla\n",
      "Length of original string 13 and after using strip length 12 , new str is bla bla baar\n"
     ]
    }
   ],
   "source": [
    "str1 = \"abc def \"\n",
    "str2 = \"   bla bla bla\"\n",
    "str3 = \"bla bla baar \"\n",
    "\n",
    "def stripping(str1, str2, str3):\n",
    "    print(\"Length of original string {} and after using strip length {} , new str is {}\".format(\n",
    "          len(str1), len(str1.strip()), str1.strip()))\n",
    "    print(\"Length of original string {} and after using strip length {} , new str is {}\".format(\n",
    "          len(str2), len(str2.strip()), str2.strip()))\n",
    "    print(\"Length of original string {} and after using strip length {} , new str is {}\".format(\n",
    "          len(str3), len(str3.strip()), str3.strip()))\n",
    "\n",
    "\n",
    "stripping(str1,str2,str3)"
   ]
  },
  {
   "cell_type": "markdown",
   "metadata": {},
   "source": [
    "**12. WAP to find substring in forward direction using find() and index()**\n",
    "\n",
    "str1 = \"demo\"\n",
    "str2 = \"the python demo is scheduled\""
   ]
  },
  {
   "cell_type": "code",
   "execution_count": 15,
   "metadata": {},
   "outputs": [
    {
     "name": "stdout",
     "output_type": "stream",
     "text": [
      "The substring starts at index:  11\n",
      "The substring starts at index:  11\n"
     ]
    }
   ],
   "source": [
    "str1 = \"demo\"\n",
    "str2 = \"the python demo is scheduled\"\n",
    "\n",
    "print(\"The substring starts at index: \", str2.find(str1))\n",
    "print(\"The substring starts at index: \", str2.index(str1))"
   ]
  },
  {
   "cell_type": "markdown",
   "metadata": {},
   "source": [
    "**13. WAP to find substring in backword direction using rfind() and rindex()**\n",
    "\n",
    "str1 = \"demo\"\n",
    "str2 = \"the python demo is scheduled\""
   ]
  },
  {
   "cell_type": "code",
   "execution_count": 16,
   "metadata": {},
   "outputs": [
    {
     "name": "stdout",
     "output_type": "stream",
     "text": [
      "The substring starts at index:  11\n",
      "The substring starts at index:  11\n"
     ]
    }
   ],
   "source": [
    "str1 = \"demo\"\n",
    "str2 = \"the python demo is scheduled\"\n",
    "\n",
    "print(\"The substring starts at index: \", str2.rfind(str1,0,len(str2)))\n",
    "print(\"The substring starts at index: \", str2.rindex(str1,0,len(str2)))"
   ]
  },
  {
   "cell_type": "markdown",
   "metadata": {},
   "source": [
    "**14. WAP to display all positions of substing in given string**\n",
    "\n",
    "str1 = \"ababadbabdfabefbabab\"\n",
    "str2 = \"ab\""
   ]
  },
  {
   "cell_type": "code",
   "execution_count": 18,
   "metadata": {},
   "outputs": [
    {
     "name": "stdout",
     "output_type": "stream",
     "text": [
      "[<re.Match object; span=(0, 2), match='ab'>, <re.Match object; span=(2, 4), match='ab'>, <re.Match object; span=(7, 9), match='ab'>, <re.Match object; span=(11, 13), match='ab'>, <re.Match object; span=(16, 18), match='ab'>, <re.Match object; span=(18, 20), match='ab'>]\n"
     ]
    }
   ],
   "source": [
    "import re\n",
    "\n",
    "str1 = \"ababadbabdfabefbabab\"\n",
    "str2 = \"ab\"\n",
    "\n",
    "pattern = re.finditer(str2,str1)\n",
    "\n",
    "positions = [i for i in pattern]\n",
    "\n",
    "print(positions)"
   ]
  },
  {
   "cell_type": "markdown",
   "metadata": {},
   "source": [
    "**15. Use String functions: Count substring in given string**\n",
    "    \n",
    "str1 = \"ababadbabdfabefbabab\"\n",
    "str2 = \"ab\""
   ]
  },
  {
   "cell_type": "code",
   "execution_count": 19,
   "metadata": {},
   "outputs": [
    {
     "name": "stdout",
     "output_type": "stream",
     "text": [
      "The str2 occurs in str1 6 times\n"
     ]
    }
   ],
   "source": [
    "str1 = \"ababadbabdfabefbabab\"\n",
    "str2 = \"ab\"\n",
    "\n",
    "print(\"The str2 occurs in str1 {} times\".format(str1.count(str2)))"
   ]
  },
  {
   "cell_type": "markdown",
   "metadata": {},
   "source": [
    "**16. Use String functions: Replace string with other sting : Correct the spelling of str1 using str2**\n",
    "        \n",
    "str1 = \"pixyzpple\"\n",
    "str2 = \"nea\"\n",
    "\n",
    "Provide explanation on replace string functionality. How can we change the content by using replace if strings are immutable."
   ]
  },
  {
   "cell_type": "code",
   "execution_count": 20,
   "metadata": {},
   "outputs": [
    {
     "name": "stdout",
     "output_type": "stream",
     "text": [
      "1690067241712\n",
      "1690067240880\n",
      "The correct spelling is:  pineapple\n"
     ]
    }
   ],
   "source": [
    "str1 = \"pixyzpple\"\n",
    "print(id(str1))\n",
    "str2 = \"nea\"\n",
    "str1 = str1.replace('xyz',str2)\n",
    "print(id(str1))\n",
    "\n",
    "print(\"The correct spelling is: \", str1)"
   ]
  },
  {
   "cell_type": "markdown",
   "metadata": {},
   "source": [
    "This is just because, if we look at the memory locatio of both str1 before replacing and after replacing are different. This tells us that, the second str1 is copy of first they identical but not same"
   ]
  },
  {
   "cell_type": "markdown",
   "metadata": {},
   "source": [
    "**17. Use String functions: WAP to split the string \"Chistats pvt ltd\"**"
   ]
  },
  {
   "cell_type": "code",
   "execution_count": 21,
   "metadata": {},
   "outputs": [
    {
     "name": "stdout",
     "output_type": "stream",
     "text": [
      "One way:  ['Chistats', 'pvt', 'ltd']\n",
      "Second way:  ['Chistats', 'pvt', 'ltd']\n"
     ]
    }
   ],
   "source": [
    "str5 = \"Chistats pvt ltd\"\n",
    "print(\"One way: \", re.split(\" \",str5))\n",
    "\n",
    "print(\"Second way: \", str5.split(' '))"
   ]
  },
  {
   "cell_type": "markdown",
   "metadata": {},
   "source": [
    "**18. Use String functions: WAP to join the strings \"Chistats\", \"pvt\", \"ltd\". Join with \"_\"**"
   ]
  },
  {
   "cell_type": "code",
   "execution_count": 22,
   "metadata": {},
   "outputs": [
    {
     "name": "stdout",
     "output_type": "stream",
     "text": [
      "Chistats_pvt_ltd\n"
     ]
    }
   ],
   "source": [
    "parts = [\"Chistats\", \"pvt\", \"ltd\"]\n",
    "str6 = '_'\n",
    "print(str6.join(parts))"
   ]
  },
  {
   "cell_type": "markdown",
   "metadata": {},
   "source": [
    "**19. WAP to change the case of the string to Uppercase and lowercase, str : \"CHisTats pVT LtD\"**"
   ]
  },
  {
   "cell_type": "code",
   "execution_count": 23,
   "metadata": {},
   "outputs": [
    {
     "name": "stdout",
     "output_type": "stream",
     "text": [
      "The uppercase string: CHISTATS PVT LTD and the lowercase string: chistats pvt ltd\n"
     ]
    }
   ],
   "source": [
    "str7 = \"CHisTats pVT LtD\"\n",
    "\n",
    "def upp_low_str(string):\n",
    "    upper = string.upper()\n",
    "    lower = string.lower()\n",
    "    print(\"The uppercase string: {} and the lowercase string: {}\".format(upper,lower))\n",
    "\n",
    "upp_low_str(str7)"
   ]
  },
  {
   "cell_type": "markdown",
   "metadata": {},
   "source": [
    "**20. WAP to print true if given string starts with \"Chistats\" and ends with \"pune\"**\n",
    "str1 = \"Chistats pvt ltd\""
   ]
  },
  {
   "cell_type": "code",
   "execution_count": 24,
   "metadata": {},
   "outputs": [
    {
     "name": "stdout",
     "output_type": "stream",
     "text": [
      "False\n"
     ]
    }
   ],
   "source": [
    "str8 = \"Chistats pvt ltd\"\n",
    "\n",
    "if (str8.startswith('Chistats') == True) and (str8.endswith('pune') == True):\n",
    "    print(True)\n",
    "else:\n",
    "    print(False)"
   ]
  },
  {
   "cell_type": "markdown",
   "metadata": {},
   "source": [
    "**21. WAP to check type of characters prsent in the string. Apply functins : isalnum(), isalphs(), isdigit(), islower(), isupper(), istitle(), isspace()**\n",
    "    \n",
    "str1 = \"wc2011\"\n",
    "str2 = \"WORLDCUP\"\n",
    "str3 = \"2011\"\n",
    "str4 = \"world cup 2011\"\n",
    "str5 = \"worldcup\"\n",
    "str6 = \" \""
   ]
  },
  {
   "cell_type": "code",
   "execution_count": 25,
   "metadata": {},
   "outputs": [
    {
     "name": "stdout",
     "output_type": "stream",
     "text": [
      "wc2011\n",
      "String is alphnumeric\n",
      "String is in lowercase\n",
      "WORLDCUP\n",
      "String is alphnumeric\n",
      "String is alphabetic\n",
      "String is in uppercase\n",
      "2011\n",
      "String is alphnumeric\n",
      "String has digits\n",
      "world cup 2011\n",
      "String is in lowercase\n",
      "worldcup\n",
      "String is alphnumeric\n",
      "String is alphabetic\n",
      "String is in lowercase\n",
      " \n",
      "String is space\n",
      "\n"
     ]
    }
   ],
   "source": [
    "str1 = \"wc2011\"\n",
    "str2 = \"WORLDCUP\"\n",
    "str3 = \"2011\"\n",
    "str4 = \"world cup 2011\"\n",
    "str5 = \"worldcup\"\n",
    "str6 = \" \"\n",
    "def str_functions(*args):\n",
    "    for i in args:\n",
    "        print(i)\n",
    "        if i.isalnum() == True:\n",
    "            print(\"String is alphnumeric\")\n",
    "        if i.isalpha() == True:\n",
    "            print(\"String is alphabetic\")\n",
    "        if i.isdigit() == True:\n",
    "            print(\"String has digits\")\n",
    "        if i.islower() == True:\n",
    "            print(\"String is in lowercase\")\n",
    "        if i.isupper() == True:\n",
    "            print(\"String is in uppercase\")\n",
    "        if i.istitle() == True:\n",
    "            print(\"String is title\")\n",
    "        if i.isspace() ==True:\n",
    "            print(\"String is space\\n\")\n",
    "\n",
    "str_functions(str1,str2,str3,str4,str5,str6)"
   ]
  },
  {
   "cell_type": "markdown",
   "metadata": {},
   "source": [
    "**22. Formatting the string**\n",
    "\n",
    "name = \"Chistats\"\n",
    "year = \"2017\"\n",
    "age = \"4\"\n",
    "\n",
    "Use below formats to print the statement as \"Chistats is established in the 2017 and today we are celebrating 4th birthday\"\n",
    "\t1. {} {} {}\n",
    "\t2. {0} {1} {2}\n",
    "\t3. {name} {year} {age}"
   ]
  },
  {
   "cell_type": "code",
   "execution_count": 26,
   "metadata": {},
   "outputs": [
    {
     "name": "stdout",
     "output_type": "stream",
     "text": [
      "Chistats is established in the 2017 and today we are celebrating 4th birthday\n",
      "Chistats is established in the 2017 and today we are celebrating 4th birthday\n",
      "Chistats is established in the 2017 and today we are celebrating 4th birthday\n"
     ]
    }
   ],
   "source": [
    "name = \"Chistats\"\n",
    "year = \"2017\"\n",
    "age = \"4\"\n",
    "\n",
    "print(\"{} is established in the {} and today we are celebrating {}th birthday\".format(name,year,age))\n",
    "print(\"{2} is established in the {0} and today we are celebrating {1}th birthday\".format(year,age,name))\n",
    "print(\"{name} is established in the {year} and today we are celebrating {age}th birthday\".format(age = \"4\",name = \"Chistats\",year = \"2017\"))"
   ]
  },
  {
   "cell_type": "markdown",
   "metadata": {},
   "source": [
    "**23. WAP to print the reverse order of words from statement \"Chistats is established in the 2017 and today we are celebrating 4th birthday\"**"
   ]
  },
  {
   "cell_type": "code",
   "execution_count": 27,
   "metadata": {},
   "outputs": [
    {
     "name": "stdout",
     "output_type": "stream",
     "text": [
      "Chistats\n",
      "is\n",
      "established\n",
      "in\n",
      "the\n",
      "2017\n",
      "and\n",
      "today\n",
      "we\n",
      "are\n",
      "celebrating\n",
      "4th\n",
      "birthday\n"
     ]
    }
   ],
   "source": [
    "new = \"Chistats is established in the 2017 and today we are celebrating 4th birthday\"\n",
    "result = ''\n",
    "new = new.split(' ')\n",
    "\n",
    "for i in new:\n",
    "    print(i)"
   ]
  },
  {
   "cell_type": "markdown",
   "metadata": {},
   "source": [
    "**24. WAP to print the reverse internal content of each word from statement \"Chistats is established in the 2017 and today we are celebrating 4th birthday\"**"
   ]
  },
  {
   "cell_type": "code",
   "execution_count": 28,
   "metadata": {},
   "outputs": [
    {
     "name": "stdout",
     "output_type": "stream",
     "text": [
      "statsihC si dehsilbatse ni eht 7102 dna yadot ew era gnitarbelec ht4 yadhtrib \n"
     ]
    }
   ],
   "source": [
    "new = \"Chistats is established in the 2017 and today we are celebrating 4th birthday\"\n",
    "result = ''\n",
    "new = new.split(' ')\n",
    "for i in new:\n",
    "    result = result + i[::-1] + ' '\n",
    "print(result)"
   ]
  },
  {
   "cell_type": "markdown",
   "metadata": {},
   "source": [
    "**25. WAPTP characters from odd position in one lineand even positions in second line**"
   ]
  },
  {
   "cell_type": "code",
   "execution_count": 29,
   "metadata": {},
   "outputs": [
    {
     "name": "stdout",
     "output_type": "stream",
     "text": [
      "Citt setbihdi h 07adtdyw r eertn t itdy\n",
      "hsasi salse nte21 n oa eaeclbaig4hbrha\n"
     ]
    }
   ],
   "source": [
    "new = \"Chistats is established in the 2017 and today we are celebrating 4th birthday\"\n",
    "even = ''\n",
    "odd = ''\n",
    "for i in range(len(new)):\n",
    "    if i%2 == 0:\n",
    "        even += new[i]\n",
    "    else:\n",
    "        odd += new[i]\n",
    "\n",
    "print(even)\n",
    "print(odd)"
   ]
  },
  {
   "cell_type": "markdown",
   "metadata": {},
   "source": [
    "**26. Merge two string as given below**\n",
    "str1 = \"citt\"\n",
    "str2 = \"hsas\"\n",
    "chistats"
   ]
  },
  {
   "cell_type": "code",
   "execution_count": 30,
   "metadata": {},
   "outputs": [
    {
     "name": "stdout",
     "output_type": "stream",
     "text": [
      "chistats\n"
     ]
    }
   ],
   "source": [
    "str1 = \"citt\"\n",
    "str2 = \"hsas\"\n",
    "result = ''\n",
    "for i in range(4):\n",
    "    result = result+str1[i]+str2[i]\n",
    "    i += 1\n",
    "print(result)"
   ]
  },
  {
   "cell_type": "markdown",
   "metadata": {},
   "source": [
    "**27. WAP to sort characters of string, first alphabets symbols followed by numeric values**\n",
    "\n",
    "Ex\n",
    "str1 = \"Q9W3E81\"\n",
    "Output will be EQW1389"
   ]
  },
  {
   "cell_type": "code",
   "execution_count": 31,
   "metadata": {},
   "outputs": [
    {
     "name": "stdout",
     "output_type": "stream",
     "text": [
      "EQW1389\n"
     ]
    }
   ],
   "source": [
    "str1 = \"Q9W3E81\"\n",
    "alpha = ''\n",
    "digit = ''\n",
    "for i in str1:\n",
    "    if i.isalpha() == True:\n",
    "        alpha = alpha + i\n",
    "    if i.isdigit() == True:\n",
    "        digit = digit + i\n",
    "new = sorted(alpha)+sorted(digit)\n",
    "k = ''\n",
    "print(k.join(new))"
   ]
  },
  {
   "cell_type": "markdown",
   "metadata": {},
   "source": [
    "**28. WAP to print the character number of time given in the strings next index**\n",
    "Ex: a5b2c3\n",
    "output will be : aaaaabbccc"
   ]
  },
  {
   "cell_type": "code",
   "execution_count": 32,
   "metadata": {},
   "outputs": [
    {
     "name": "stdout",
     "output_type": "stream",
     "text": [
      "aaaaabbccc\n"
     ]
    }
   ],
   "source": [
    "str8 = \"a5b2c3\"\n",
    "result = ''\n",
    "for i in range(len(str8)):\n",
    "    if str8[i].isdigit() == True:\n",
    "        result = result+str8[i-1]*int(str8[i])\n",
    "    \n",
    "print(result)"
   ]
  },
  {
   "cell_type": "markdown",
   "metadata": {},
   "source": [
    "**29. WAP to print the nth alphabet from given char in the string**\n",
    "Ex. a4k3b2\n",
    "Output will be : aeknbd"
   ]
  },
  {
   "cell_type": "code",
   "execution_count": 33,
   "metadata": {},
   "outputs": [
    {
     "name": "stdout",
     "output_type": "stream",
     "text": [
      "aeknbd\n"
     ]
    }
   ],
   "source": [
    "alphabets = 'abcdefghijklmnopqrstuvwxyz'\n",
    "\n",
    "str9 = 'a4k3b2'\n",
    "result = ''\n",
    "\n",
    "for i in range(len(str9)):\n",
    "    if str9[i].isalpha() == True:\n",
    "        result = result+str9[i]+alphabets[alphabets.find(str9[i]) + int(str9[i+1])]\n",
    "print(result)"
   ]
  },
  {
   "cell_type": "markdown",
   "metadata": {},
   "source": [
    "**30. WAP to remove duplicat characters from given string**"
   ]
  },
  {
   "cell_type": "code",
   "execution_count": 34,
   "metadata": {},
   "outputs": [
    {
     "data": {
      "text/plain": [
       "'jkl'"
      ]
     },
     "execution_count": 34,
     "metadata": {},
     "output_type": "execute_result"
    }
   ],
   "source": [
    "def remove_dup(string):\n",
    "    new = []\n",
    "    for i in string:\n",
    "        if i not in new:\n",
    "            new.append(i)\n",
    "    k = ''\n",
    "    return k.join(new)\n",
    "remove_dup('jjjkkklll')"
   ]
  },
  {
   "cell_type": "markdown",
   "metadata": {},
   "source": [
    "**31. WAP to print number of occurances of characted in the gven string**"
   ]
  },
  {
   "cell_type": "code",
   "execution_count": 36,
   "metadata": {},
   "outputs": [
    {
     "name": "stdout",
     "output_type": "stream",
     "text": [
      "Enter a string: There are so many times where the actions of the various characters simply come out of left field. The absence of UN legitimation of this exercise, as I've said many times in the past, has never been the central issue. His collected works were translated in 1899-1902 and have been retranslated many times since.\n",
      "Enter a pattern to count its occurences: many times\n"
     ]
    },
    {
     "data": {
      "text/plain": [
       "3"
      ]
     },
     "execution_count": 36,
     "metadata": {},
     "output_type": "execute_result"
    }
   ],
   "source": [
    "def count_pattern_in_string():\n",
    "    string9 = input(\"Enter a string: \")\n",
    "    substr = input(\"Enter a pattern to count its occurences: \")\n",
    "\n",
    "    return string9.count(substr)\n",
    "\n",
    "count_pattern_in_string()"
   ]
  },
  {
   "cell_type": "markdown",
   "metadata": {},
   "source": [
    "**32. WAP to format the numbers in print statement**\n",
    "\n",
    "\tformat decimal 123\n",
    "\tformat floating number 123.4567\n",
    "\tformat binary number 153\n",
    "\tformat octal numner 153\n",
    "\tformat hexa decimal (lower case) 143\n",
    "\tformat hexa decimal (Upper case) 143\n",
    "\tformat int and float with sign : + and -"
   ]
  },
  {
   "cell_type": "code",
   "execution_count": 37,
   "metadata": {},
   "outputs": [
    {
     "name": "stdout",
     "output_type": "stream",
     "text": [
      "The total days available to finish the work are 123. The average day a person finish this type of work is 123.4567. The binary code on my systems motherboard is 10011001. The conversion of that number in octal is 231. The memory chip has hex number in lowercase 8f and in uppercase is 8F. And the condition of the sytsem is +98% better than other systems and worse 20.3% than other systems.\n"
     ]
    }
   ],
   "source": [
    "print(\"The total days available to finish the work are {0:d}. The average day a person finish this type of work is {1:.4f}. The binary code on my systems motherboard is {2:b}. The conversion of that number in octal is {3:o}. The memory chip has hex number in lowercase {4:x} and in uppercase is {5:X}. And the condition of the sytsem is {6:+}% better than other systems and worse {7:-}% than other systems.\".format(123,123.4567,153,153,143,143,98,20.3))"
   ]
  },
  {
   "cell_type": "markdown",
   "metadata": {},
   "source": [
    "**33. WAP to align number 123 in print statemen as below**\n",
    "\t123\n",
    "\t12300\n",
    "\t123000\n",
    "\t000123\n",
    "\t-123\n",
    "\t12.3\n",
    "\t-12.3"
   ]
  },
  {
   "cell_type": "code",
   "execution_count": 38,
   "metadata": {},
   "outputs": [
    {
     "name": "stdout",
     "output_type": "stream",
     "text": [
      "12300\n",
      "123000\n",
      "000123\n",
      "-123\n",
      "12.3\n",
      "-12.3\n"
     ]
    }
   ],
   "source": [
    "import decimal\n",
    "print(\"{0:<05}\".format(123))\n",
    "print(\"{:<06}\".format(123))\n",
    "print(\"{:>06}\".format(123))\n",
    "print(\"{:-}\".format(-123))\n",
    "print(\"{:}\".format(decimal.Decimal(123)/10))\n",
    "print(\"{:-}\".format(-decimal.Decimal(123)/10))"
   ]
  },
  {
   "cell_type": "markdown",
   "metadata": {},
   "source": [
    "**34. WAP to truncate string using format method,**\n",
    "\n",
    "\n",
    "input : \"\"chistats\n",
    "output : chi\n",
    "\n",
    "Note use all formatters \n",
    "\t.\n",
    "\t>\n",
    "\t<\n",
    "\t*<\n"
   ]
  },
  {
   "cell_type": "code",
   "execution_count": 39,
   "metadata": {},
   "outputs": [
    {
     "name": "stdout",
     "output_type": "stream",
     "text": [
      "chi\n"
     ]
    }
   ],
   "source": [
    "print(\"{:.3s}\".format(\"chistats\"))\n",
    "\n",
    "# . is presicion and it behaves different for numbers and string.\n",
    "# > it shifts the output to the right\n",
    "# < it shifts the output to the left\n",
    "# *< in this * is the empty space filler after formatting and < this is for left alignment"
   ]
  },
  {
   "cell_type": "markdown",
   "metadata": {},
   "source": [
    "**35. Dynamic float format template**\n",
    "\n",
    "num = \"{:{align}{width}.{precision}f}\"\n",
    "Useabove template to print the numbe 123.236 as 123.24 using < and > operator"
   ]
  },
  {
   "cell_type": "code",
   "execution_count": 40,
   "metadata": {},
   "outputs": [
    {
     "name": "stdout",
     "output_type": "stream",
     "text": [
      "123.24\n"
     ]
    }
   ],
   "source": [
    "print(\"{:<5.2f}\".format(123.236))"
   ]
  },
  {
   "cell_type": "markdown",
   "metadata": {},
   "source": [
    "**36. Define the Usage of strip() and explain with the example**"
   ]
  },
  {
   "cell_type": "code",
   "execution_count": 41,
   "metadata": {},
   "outputs": [
    {
     "name": "stdout",
     "output_type": "stream",
     "text": [
      "     jkli  hyij k h l    \n",
      "1690068001616\n",
      "jkli  hyij k h l\n",
      "1690066968128\n"
     ]
    }
   ],
   "source": [
    "str7 = \"     jkli  hyij k h l    \"\n",
    "print(str7)\n",
    "print(id(str7))\n",
    "result = \"     jkli  hyij k h l    \".strip()\n",
    "print(result)\n",
    "print(id(result))"
   ]
  },
  {
   "cell_type": "markdown",
   "metadata": {},
   "source": [
    "- strip() function removes characters from both left and right as per the expression. Syntax for using strip is : \n",
    "\n",
    ">> string.strip() which by default removes the spaces.\n",
    "\n",
    "- we can specify some characters which are leading or trailing the string to remove them."
   ]
  },
  {
   "cell_type": "code",
   "execution_count": 42,
   "metadata": {},
   "outputs": [
    {
     "data": {
      "text/plain": [
       "'li  hyij k h l    '"
      ]
     },
     "execution_count": 42,
     "metadata": {},
     "output_type": "execute_result"
    }
   ],
   "source": [
    "str4 = \"jkli  hyij k h l    \"\n",
    "str4.strip('jk')"
   ]
  },
  {
   "cell_type": "markdown",
   "metadata": {},
   "source": [
    "## Thank You!"
   ]
  }
 ],
 "metadata": {
  "kernelspec": {
   "display_name": "Python 3",
   "language": "python",
   "name": "python3"
  },
  "language_info": {
   "codemirror_mode": {
    "name": "ipython",
    "version": 3
   },
   "file_extension": ".py",
   "mimetype": "text/x-python",
   "name": "python",
   "nbconvert_exporter": "python",
   "pygments_lexer": "ipython3",
   "version": "3.8.3"
  }
 },
 "nbformat": 4,
 "nbformat_minor": 4
}
