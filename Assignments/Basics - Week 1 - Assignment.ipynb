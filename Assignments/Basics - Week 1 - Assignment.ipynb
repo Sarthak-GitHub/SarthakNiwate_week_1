{
 "cells": [
  {
   "cell_type": "markdown",
   "metadata": {},
   "source": [
    "## Week 1: Conditional Loops - Assignment \n",
    "**by Sarthak Niwate (Intern at Chistats)**"
   ]
  },
  {
   "cell_type": "markdown",
   "metadata": {},
   "source": [
    "**1. Declare below types of variables and print them**\n",
    "\n",
    "Text:str\n",
    "Numeric:int, float, complex (Positive and Negative)\n",
    "Boolean:bool\n",
    "Binary: bytes\n",
    "String: str"
   ]
  },
  {
   "cell_type": "code",
   "execution_count": 1,
   "metadata": {},
   "outputs": [],
   "source": [
    "text_string1 = 'Sarthak'\n",
    "print(\"Type of the python object {0} is {1}\".format(text_string1, type(text_string1)))\n",
    "\n",
    "num_int = 45\n",
    "print(\"Type of the python object {0} is {1}\".format(num_int, type(num_int)))\n",
    "\n",
    "num_float = 67.89\n",
    "print(\"Type of the python object {0} is {1}\".format(num_float, type(num_float)))\n",
    "\n",
    "num_complex = 4+5j\n",
    "print(\"Type of the python object {0} is {1}\".format(num_complex, type(num_complex)))\n",
    "\n",
    "boolean = False\n",
    "print(\"Type of the python object {0} is {1}\".format(boolean, type(boolean)))\n",
    "\n",
    "\n",
    "binary = b'12'\n",
    "print(\"Type of the python object {0} is {1}\".format(binary, type(binary)))\n",
    "print(\"Binary representation of {0} is {0:b}\".format(12))"
   ]
  },
  {
   "cell_type": "markdown",
   "metadata": {},
   "source": [
    "**2. WAP to get the type, address of below variable and print them**\n",
    "\n",
    "a = 10\n",
    "b = 3.124\n",
    "c = \"35\"\n",
    "d = \"4.2\"\n",
    "e = \"s1\""
   ]
  },
  {
   "cell_type": "code",
   "execution_count": 2,
   "metadata": {},
   "outputs": [
    {
     "name": "stdout",
     "output_type": "stream",
     "text": [
      "Type of a is <class 'int'>\n",
      "Type of b is <class 'float'>\n",
      "Type of c is <class 'str'>\n",
      "Type of d is <class 'str'>\n",
      "Type of e is <class 'str'>\n"
     ]
    }
   ],
   "source": [
    "a = 10\n",
    "b = 3.124\n",
    "c = \"35\"\n",
    "d = \"4.2\"\n",
    "e = \"s1\"\n",
    "\n",
    "print(\"Type of a is {}\".format(type(a)))\n",
    "print(\"Type of b is {}\".format(type(b)))\n",
    "print(\"Type of c is {}\".format(type(c)))\n",
    "print(\"Type of d is {}\".format(type(d)))\n",
    "print(\"Type of e is {}\".format(type(e)))"
   ]
  },
  {
   "cell_type": "markdown",
   "metadata": {},
   "source": [
    "**3. List down the rules to define identifiers in python**"
   ]
  },
  {
   "cell_type": "markdown",
   "metadata": {},
   "source": [
    "**Rules for Defining Indentifiers in Python:**\n",
    "\n",
    "1. Names can not start with a number.\n",
    "2. There can be no spaces in the name, use _ instead.\n",
    "3. Can't use any of these symbols :'\",<>/?|\\()!@#$%^&*~-+\n",
    "4. It's considered best practice (PEP8) that names are lowercase.\n",
    "5. Avoid using the characters 'l' (lowercase letter el), 'O' (uppercase letter oh), or 'I' (uppercase letter eye) as single character variable names.\n",
    "6. Avoid using words that have special meaning in Python like \"list\" and \"str\""
   ]
  },
  {
   "cell_type": "markdown",
   "metadata": {},
   "source": [
    "**4. What is valid identifier:**\n",
    "\t1. 22region\n",
    "\t2. my250\n",
    "\t3. python2021batch\n",
    "\t4. dollar$toinr\n",
    "\t5. _aztec_cs\n",
    "\t6. define\n",
    "\t7. import"
   ]
  },
  {
   "cell_type": "markdown",
   "metadata": {},
   "source": [
    "1. 22region is not a valid indentifier as it starts with a number.\n",
    "2. my250 is valid identifier.\n",
    "3. python2021batch is identifier.\n",
    "4. dollar$toinr is not a valid indentifier as it contains a special character other than _ (underscore).\n",
    "5. _aztec_cs is a valid indentifier.\n",
    "6. define is a valid indentifier.\n",
    "7. import is not a valid indentifier as it is python's reserved keyword."
   ]
  },
  {
   "cell_type": "markdown",
   "metadata": {},
   "source": [
    "**5. List down reserver keywords and theirs usages**"
   ]
  },
  {
   "cell_type": "code",
   "execution_count": 3,
   "metadata": {},
   "outputs": [
    {
     "name": "stdout",
     "output_type": "stream",
     "text": [
      "These are all reserved keywords in Python:  ['False', 'None', 'True', 'and', 'as', 'assert', 'async', 'await', 'break', 'class', 'continue', 'def', 'del', 'elif', 'else', 'except', 'finally', 'for', 'from', 'global', 'if', 'import', 'in', 'is', 'lambda', 'nonlocal', 'not', 'or', 'pass', 'raise', 'return', 'try', 'while', 'with', 'yield']\n"
     ]
    }
   ],
   "source": [
    "import keyword\n",
    "print(\"These are all reserved keywords in Python: \", keyword.kwlist)"
   ]
  },
  {
   "cell_type": "markdown",
   "metadata": {},
   "source": [
    "Keywords are the reserved words in Python. We can't define or use them as indetifier name. As we have seen the above list python keywords, let's deep dive into the understanding of those.\n",
    "\n",
    "1. **True or False**\n",
    "These are boolean values or truth values. They can be the result of comparison, logical expression, used in any loops."
   ]
  },
  {
   "cell_type": "code",
   "execution_count": 4,
   "metadata": {},
   "outputs": [
    {
     "data": {
      "text/plain": [
       "True"
      ]
     },
     "execution_count": 4,
     "metadata": {},
     "output_type": "execute_result"
    }
   ],
   "source": [
    "1 == 1"
   ]
  },
  {
   "cell_type": "code",
   "execution_count": 5,
   "metadata": {},
   "outputs": [
    {
     "data": {
      "text/plain": [
       "False"
      ]
     },
     "execution_count": 5,
     "metadata": {},
     "output_type": "execute_result"
    }
   ],
   "source": [
    "10 <= 1"
   ]
  },
  {
   "cell_type": "markdown",
   "metadata": {},
   "source": [
    "True and False in python is nothing but 0 and 1."
   ]
  },
  {
   "cell_type": "code",
   "execution_count": 6,
   "metadata": {},
   "outputs": [
    {
     "data": {
      "text/plain": [
       "True"
      ]
     },
     "execution_count": 6,
     "metadata": {},
     "output_type": "execute_result"
    }
   ],
   "source": [
    "True == 1"
   ]
  },
  {
   "cell_type": "code",
   "execution_count": 7,
   "metadata": {},
   "outputs": [
    {
     "data": {
      "text/plain": [
       "True"
      ]
     },
     "execution_count": 7,
     "metadata": {},
     "output_type": "execute_result"
    }
   ],
   "source": [
    "False == 0"
   ]
  },
  {
   "cell_type": "markdown",
   "metadata": {},
   "source": [
    "2. **None** is a special constant that represents the null value or absence. It is an object which has it's own data type. There is limitation to create multiple None objects but we can assign them to variables. The care should be taken that, None does not implies 0 or False or any empty list, string or dictionary."
   ]
  },
  {
   "cell_type": "code",
   "execution_count": 8,
   "metadata": {
    "scrolled": true
   },
   "outputs": [
    {
     "data": {
      "text/plain": [
       "False"
      ]
     },
     "execution_count": 8,
     "metadata": {},
     "output_type": "execute_result"
    }
   ],
   "source": [
    "None == 0"
   ]
  },
  {
   "cell_type": "code",
   "execution_count": 9,
   "metadata": {},
   "outputs": [
    {
     "data": {
      "text/plain": [
       "False"
      ]
     },
     "execution_count": 9,
     "metadata": {},
     "output_type": "execute_result"
    }
   ],
   "source": [
    "None == []"
   ]
  },
  {
   "cell_type": "code",
   "execution_count": 10,
   "metadata": {},
   "outputs": [
    {
     "data": {
      "text/plain": [
       "True"
      ]
     },
     "execution_count": 10,
     "metadata": {},
     "output_type": "execute_result"
    }
   ],
   "source": [
    "x = None\n",
    "y = None\n",
    "x == y"
   ]
  },
  {
   "cell_type": "markdown",
   "metadata": {},
   "source": [
    "The function which doesn't have return statements generally returns a None object. As the program doen not follow a return statement at the end. "
   ]
  },
  {
   "cell_type": "code",
   "execution_count": 11,
   "metadata": {},
   "outputs": [
    {
     "name": "stdout",
     "output_type": "stream",
     "text": [
      "None\n"
     ]
    }
   ],
   "source": [
    "def multi():\n",
    "    x, y = 8, 9\n",
    "    multip = x*y\n",
    "    \n",
    "func = multi()\n",
    "print(func)"
   ]
  },
  {
   "cell_type": "markdown",
   "metadata": {},
   "source": [
    "3. **and, or, not**:\n",
    "These keywords are logical operators. and is used when both the operands are True. or is used when one of the operand is True. not is used to show the negation of True value.\n"
   ]
  },
  {
   "cell_type": "code",
   "execution_count": 12,
   "metadata": {},
   "outputs": [
    {
     "data": {
      "text/plain": [
       "True"
      ]
     },
     "execution_count": 12,
     "metadata": {},
     "output_type": "execute_result"
    }
   ],
   "source": [
    "6<7 and 7<9"
   ]
  },
  {
   "cell_type": "code",
   "execution_count": 13,
   "metadata": {},
   "outputs": [
    {
     "data": {
      "text/plain": [
       "True"
      ]
     },
     "execution_count": 13,
     "metadata": {},
     "output_type": "execute_result"
    }
   ],
   "source": [
    "6<7 or 9<7"
   ]
  },
  {
   "cell_type": "code",
   "execution_count": 14,
   "metadata": {},
   "outputs": [
    {
     "data": {
      "text/plain": [
       "True"
      ]
     },
     "execution_count": 14,
     "metadata": {},
     "output_type": "execute_result"
    }
   ],
   "source": [
    "not False"
   ]
  },
  {
   "cell_type": "markdown",
   "metadata": {},
   "source": [
    "4. **as** keywords is used to define as alias when we import modules or packages. "
   ]
  },
  {
   "cell_type": "code",
   "execution_count": 15,
   "metadata": {},
   "outputs": [],
   "source": [
    "import pandas as pd\n",
    "import numpy as np"
   ]
  },
  {
   "cell_type": "markdown",
   "metadata": {},
   "source": [
    "5. **break, continue and pass**\n",
    "\n",
    "These keywords are used inside loops (for and while) to manipulate the loop at certain steps.\n",
    "\n",
    "break statements immediately teminates the process of loop an control goes to next statement after the loop. \n",
    "\n",
    "continue statements pause the current iteration of loop and jups to the next iteration but, not the whole loop.\n",
    "\n",
    "pass is null statement. When it is excecuted, npthing happens. It is used as placeholder."
   ]
  },
  {
   "cell_type": "code",
   "execution_count": 16,
   "metadata": {},
   "outputs": [
    {
     "name": "stdout",
     "output_type": "stream",
     "text": [
      "1 2 "
     ]
    }
   ],
   "source": [
    "for i in range(1,6):\n",
    "    if i ==3:\n",
    "        break\n",
    "    print(i, end=' ')"
   ]
  },
  {
   "cell_type": "code",
   "execution_count": 17,
   "metadata": {},
   "outputs": [
    {
     "name": "stdout",
     "output_type": "stream",
     "text": [
      "1 2 4 5 "
     ]
    }
   ],
   "source": [
    "for i in range(1,6):\n",
    "    if i == 3:\n",
    "        continue\n",
    "    print(i, end=' ')"
   ]
  },
  {
   "cell_type": "code",
   "execution_count": 18,
   "metadata": {},
   "outputs": [],
   "source": [
    "def addition(a,b):\n",
    "    reuslt = a + b\n",
    "    pass\n",
    "\n",
    "addition(3,4)"
   ]
  },
  {
   "cell_type": "markdown",
   "metadata": {},
   "source": [
    "6. **except, raise and try**\n",
    "They exception handling statements, exceptions are simply errors which occurs while in program and ir terminates the execution. These keywords suggest us when something goes wrong in the peogram."
   ]
  },
  {
   "cell_type": "code",
   "execution_count": 19,
   "metadata": {},
   "outputs": [
    {
     "name": "stdout",
     "output_type": "stream",
     "text": [
      "Exam Department Eligibility Page\n",
      "Enter the marks you have got: 52.6\n",
      "Enter a rounded value of marks. Try Again!\n",
      "Enter the marks you have got: 41.84\n",
      "Enter a rounded value of marks. Try Again!\n",
      "Enter the marks you have got: 56\n",
      "The expected marks format is correct\n",
      "\n",
      "Passed\n"
     ]
    }
   ],
   "source": [
    "print(\"Exam Department Eligibility Page\")\n",
    "\n",
    "while True:\n",
    "    try:\n",
    "        marks = int(input(\"Enter the marks you have got: \"))\n",
    "    except ValueError:\n",
    "        print('Enter a rounded value of marks. Try Again!')\n",
    "        pass\n",
    "    else:\n",
    "        print('The expected marks format is correct')\n",
    "        if marks > 40:\n",
    "            print(\"\\nPassed\")\n",
    "            break\n",
    "        else:\n",
    "            print(\"\\nFailed\")\n",
    "            break"
   ]
  },
  {
   "cell_type": "markdown",
   "metadata": {},
   "source": [
    "7. **for and while**: These are the keywords used to define a specific loop. For loop iterates over a list to check the conditon. While iterates up until the statement is False encountered.\n",
    "\n",
    "8. **if, else and elif**: The are used as conditional block of codes which are used to take decision. \n",
    "\n",
    "9. **def, return and class**: is used to define a user-defined function. Which consist of body with/without the return statement as per the specific task. return satement is used inside a function to return the output values.\n",
    "\n",
    "class statement is used to define a user-defined class, which is a collection of related attributes and methods. Multiple functions can b defined in a single class and class is the core concept of OOPs.\n",
    "\n",
    "10. **global** : The global keywords is used to define a indentifier has global scope which is defined inside a function or body of a fucntion. This generally used when we have to change the value of a global variable inside a funtion using the global keyword or else the local variable is created.\n",
    "\n",
    "11. **in, is**\n",
    "\n",
    "in is a membership operator, it check whether a given value is present in a given sequence or not. If the value is in sequence, it returns True or else False.\n",
    "\n",
    "is used to validate the identity of a object. say for example for are checking a empty list is equal to the anothe empty list, but those objects are not identical as in reference to the memory location. This is the reason that, such lists or dictionaries are mutable.\n",
    "\n",
    "12. **lambda**: The lambda statement is used to create a function with no name. This is an inline funtion which does not demand for specific return statements. lambda funstion can have multiple arguments but only one expression."
   ]
  },
  {
   "cell_type": "markdown",
   "metadata": {},
   "source": [
    "**6. What is import**\n",
    "\n",
    "import keyword is used to import modules into the namespace. here are some examples:"
   ]
  },
  {
   "cell_type": "code",
   "execution_count": 20,
   "metadata": {},
   "outputs": [],
   "source": [
    "import math\n",
    "import pandas as pd\n",
    "from scipy.stats import ttest_ind"
   ]
  },
  {
   "cell_type": "markdown",
   "metadata": {},
   "source": [
    "**7. Print 123 in decimal, binary, octal and hexadecinal format using base conversion functions**\n",
    "\n",
    "Binary (numbers to the base 2-0 0r 1) \n",
    "Octal-(number to the base 8)\n",
    "Hexadecimal (number to the base 16)"
   ]
  },
  {
   "cell_type": "code",
   "execution_count": 21,
   "metadata": {},
   "outputs": [
    {
     "name": "stdout",
     "output_type": "stream",
     "text": [
      "0b1111011\n",
      "0o173\n",
      "0x7b\n"
     ]
    }
   ],
   "source": [
    "print(bin(123))\n",
    "print(oct(123))\n",
    "print(hex(123))"
   ]
  },
  {
   "cell_type": "markdown",
   "metadata": {},
   "source": [
    "**8. Casting, write a programe to cast and print all the below variables into int, float, complex, bool and string. Mention the reason wherever the conversion did not happen.**\n",
    "\n",
    "a = 10\n",
    "b = 3.124\n",
    "c = \"35\"\n",
    "d = \"4.2\"\n",
    "e = \"s1\"\n",
    "f = True\n",
    "g = \"0B1111\"\n",
    "h.  \"five\"\n",
    "i. 0"
   ]
  },
  {
   "cell_type": "code",
   "execution_count": 22,
   "metadata": {},
   "outputs": [
    {
     "name": "stdout",
     "output_type": "stream",
     "text": [
      "Type conversion of a\n",
      "10.0\n",
      "(10+0j)\n",
      "True\n",
      "10\n",
      "\n",
      "Type conversion of b\n",
      "3\n",
      "(3.124+0j)\n",
      "True\n",
      "3.124\n",
      "\n",
      "Type conversion of c\n",
      "35\n",
      "(35+0j)\n",
      "True\n",
      "35.0\n",
      "\n",
      "Type conversion of d\n",
      "int(d) is not possible as it cannot directly convert a string float into integer\n",
      "(4.2+0j)\n",
      "True\n",
      "4.2\n",
      "\n",
      "Type conversion of e\n",
      "int(e) is not possible as it cannot convert a string having alphabet into integer\n",
      "complex(e) is not possible as it cannot convert a string having alphabet into complex\n",
      "True\n",
      "float(e) is not possible as it cannot convert a string having alphabet into float\n",
      "\n",
      "Type conversion of f\n",
      "1\n",
      "(1+0j)\n",
      "True\n",
      "1.0\n",
      "\n",
      "Type conversion of g\n",
      "15\n",
      "(15+0j)\n",
      "True\n",
      "15.0\n",
      "\n",
      "Type conversion of h\n",
      "int(h) is not possible as it cannot convert a string having alphabets into integer\n",
      "complex(h) is not possible as it cannot convert a string having alphabets into complex\n",
      "True\n",
      "float(h) is not possible as it cannot convert a string having alphabets into float\n",
      "\n",
      "Type conversion of i\n",
      "0\n",
      "0j\n",
      "False\n",
      "0.0\n"
     ]
    }
   ],
   "source": [
    "a = 10 \n",
    "print(\"Type conversion of a\")\n",
    "print(float(a))  # is possible\n",
    "print(complex(a))  # is possible\n",
    "print(bool(a))   # is possible \n",
    "print(str(a))  # is possible\n",
    "\n",
    "b = 3.124\n",
    "print(\"\\nType conversion of b\")\n",
    "print(int(b))  # is possible\n",
    "print(complex(b))  # is possible\n",
    "print(bool(b))   # is possible \n",
    "print(str(b))  # is possible\n",
    "\n",
    "c = \"35\"\n",
    "print(\"\\nType conversion of c\")\n",
    "print(int(c))  # is possible\n",
    "print(complex(c))  # is possible\n",
    "print(bool(c))   # is possible \n",
    "print(float(c))  # is possible\n",
    "\n",
    "d = \"4.2\"\n",
    "print(\"\\nType conversion of d\")\n",
    "print(\"int(d) is not possible as it cannot directly convert a string float into integer\")  # is not possible\n",
    "print(complex(d))  # is possible\n",
    "print(bool(d))   # is possible \n",
    "print(float(d))  # is possible\n",
    "\n",
    "e = \"s1\"\n",
    "print(\"\\nType conversion of e\")\n",
    "print(\"int(e) is not possible as it cannot convert a string having alphabet into integer\")  # is not possible\n",
    "print(\"complex(e) is not possible as it cannot convert a string having alphabet into complex\")  # is possible\n",
    "print(bool(e))   # is possible \n",
    "print(\"float(e) is not possible as it cannot convert a string having alphabet into float\")  # is not possible\n",
    "\n",
    "f = True\n",
    "print(\"\\nType conversion of f\")\n",
    "print(int(f))  # is possible\n",
    "print(complex(f))  # is possible\n",
    "print(bool(f))   # is possible \n",
    "print(float(f))  # is possible\n",
    "\n",
    "g = 0b1111\n",
    "print(\"\\nType conversion of g\")\n",
    "print(int(g))  # is possible\n",
    "print(complex(g))  # is possible\n",
    "print(bool(g))   # is possible \n",
    "print(float(g))  # is possible\n",
    "\n",
    "h = \"five\"\n",
    "print(\"\\nType conversion of h\")\n",
    "print(\"int(h) is not possible as it cannot convert a string having alphabets into integer\")  # is not possible\n",
    "print(\"complex(h) is not possible as it cannot convert a string having alphabets into complex\")  # is not possible\n",
    "print(bool(h))   # is possible \n",
    "print(\"float(h) is not possible as it cannot convert a string having alphabets into float\")  # is not possible\n",
    "\n",
    "i = 0\n",
    "print(\"\\nType conversion of i\")\n",
    "print(int(i))  # is possible\n",
    "print(complex(i))  # is possible\n",
    "print(bool(i))   # is possible \n",
    "print(float(i))  # is possible"
   ]
  },
  {
   "cell_type": "markdown",
   "metadata": {},
   "source": [
    "**9. What is bytes data type and bytearray data type, define and print its type, address**"
   ]
  },
  {
   "cell_type": "markdown",
   "metadata": {},
   "source": [
    "1 byte = 8 bits\n",
    "We can store a sequence as bytes and bytesarray datatype by using byte() and bytearray() functions available in python. btye() function returns a immutable object. bytearray() returns a btye array object which is an array of given bytes.  "
   ]
  },
  {
   "cell_type": "code",
   "execution_count": 23,
   "metadata": {},
   "outputs": [
    {
     "name": "stdout",
     "output_type": "stream",
     "text": [
      "b'\\x00\\x00\\x00\\x00\\x00'\n",
      "<class 'bytes'>\n"
     ]
    }
   ],
   "source": [
    "length = 5\n",
    "print(bytes(5))\n",
    "print(type(bytes(5)))"
   ]
  },
  {
   "cell_type": "code",
   "execution_count": 24,
   "metadata": {},
   "outputs": [
    {
     "name": "stdout",
     "output_type": "stream",
     "text": [
      "Defined a byte object:  b'\\x17Y--N'\n",
      "Type of byte object:  <class 'bytes'>\n",
      "Memory address:  1955926833840\n",
      "These object is immutable.\n"
     ]
    }
   ],
   "source": [
    "list1 = [23, 89, 45, 45, 78]\n",
    "\n",
    "new = bytes(list1)\n",
    "print(\"Defined a byte object: \", new)\n",
    "print(\"Type of byte object: \", type(new))\n",
    "print(\"Memory address: \", id(new))\n",
    "print(\"These object is immutable.\")"
   ]
  },
  {
   "cell_type": "code",
   "execution_count": 25,
   "metadata": {},
   "outputs": [
    {
     "name": "stdout",
     "output_type": "stream",
     "text": [
      "Defined a byte object:  bytearray(b'\\x17Y--N')\n",
      "Type of byte object:  <class 'bytearray'>\n",
      "Memory address:  1956195219184\n",
      "These object is mutable.\n",
      "bytearray(b'\\x17Y\\x01-N')\n"
     ]
    }
   ],
   "source": [
    "list3 = [23, 89, 45, 45, 78]\n",
    "\n",
    "new = bytearray(list3)\n",
    "print(\"Defined a byte object: \", new)\n",
    "print(\"Type of byte object: \", type(new))\n",
    "print(\"Memory address: \", id(new))\n",
    "print(\"These object is mutable.\")\n",
    "new[2] = 1\n",
    "print(new)"
   ]
  },
  {
   "cell_type": "markdown",
   "metadata": {},
   "source": [
    "**10. WAP to create and print the List data type**"
   ]
  },
  {
   "cell_type": "code",
   "execution_count": 26,
   "metadata": {},
   "outputs": [
    {
     "name": "stdout",
     "output_type": "stream",
     "text": [
      "<class 'list'>\n"
     ]
    }
   ],
   "source": [
    "list4 = ['Fuse', 6.89, 6, 2, True, 6+9j, [5, 6, 7]]\n",
    "print(type(list4))"
   ]
  },
  {
   "cell_type": "markdown",
   "metadata": {},
   "source": [
    "**11. WAP to create and print the Tuple data type**"
   ]
  },
  {
   "cell_type": "code",
   "execution_count": 27,
   "metadata": {},
   "outputs": [
    {
     "name": "stdout",
     "output_type": "stream",
     "text": [
      "<class 'tuple'>\n"
     ]
    }
   ],
   "source": [
    "tup = (3,5)\n",
    "print(type(tup))"
   ]
  },
  {
   "cell_type": "markdown",
   "metadata": {},
   "source": [
    "**12. WAP to create and print the Range data type**"
   ]
  },
  {
   "cell_type": "code",
   "execution_count": 28,
   "metadata": {},
   "outputs": [
    {
     "name": "stdout",
     "output_type": "stream",
     "text": [
      "<class 'range'>\n"
     ]
    }
   ],
   "source": [
    "ran = range(0,11)\n",
    "print(type(ran))"
   ]
  },
  {
   "cell_type": "markdown",
   "metadata": {},
   "source": [
    "**13. WAP to create and print the Set data type**"
   ]
  },
  {
   "cell_type": "code",
   "execution_count": 29,
   "metadata": {},
   "outputs": [
    {
     "name": "stdout",
     "output_type": "stream",
     "text": [
      "{0, 1, 2, 3, 4, 5, 6, 7, 8, 9}\n",
      "<class 'set'>\n"
     ]
    }
   ],
   "source": [
    "set1 = {1,2,4,7,8,2,6,1,1,1,5,7,9,2,3,0,4,6,8,4}\n",
    "print(set1)\n",
    "print(type(set1))\n"
   ]
  },
  {
   "cell_type": "markdown",
   "metadata": {},
   "source": [
    "**14. WAP to create and print the Frozenset data type**"
   ]
  },
  {
   "cell_type": "code",
   "execution_count": 30,
   "metadata": {},
   "outputs": [
    {
     "name": "stdout",
     "output_type": "stream",
     "text": [
      "frozenset({'company', 'model', 'price'})\n",
      "<class 'frozenset'>\n"
     ]
    }
   ],
   "source": [
    "laptop = {'company': 'Apple', 'model':'macbook pro', 'price':12876}\n",
    "frozen_set = frozenset(laptop)\n",
    "print(frozen_set)\n",
    "print(type(frozen_set))"
   ]
  },
  {
   "cell_type": "markdown",
   "metadata": {},
   "source": [
    "**15. WAP to create and print the Dict data type**"
   ]
  },
  {
   "cell_type": "code",
   "execution_count": 31,
   "metadata": {},
   "outputs": [
    {
     "name": "stdout",
     "output_type": "stream",
     "text": [
      "<class 'dict'>\n"
     ]
    }
   ],
   "source": [
    "holidays = {'Summer':'Bahamas', 'Winter':'Uttarakhand'}\n",
    "print(type(holidays))"
   ]
  },
  {
   "cell_type": "markdown",
   "metadata": {},
   "source": [
    "**16. WAP to print swap two numbers without using the third variable**"
   ]
  },
  {
   "cell_type": "code",
   "execution_count": 33,
   "metadata": {},
   "outputs": [
    {
     "name": "stdout",
     "output_type": "stream",
     "text": [
      "Enter the first number (n1): 9\n",
      "Enter the second number (n2): 4\n",
      "New arrangement is: \n",
      "n1 4\n",
      "n2 9\n"
     ]
    }
   ],
   "source": [
    "n1 = int(input(\"Enter the first number (n1): \"))\n",
    "n2 = int(input(\"Enter the second number (n2): \"))\n",
    "\n",
    "n1=n1+n2\n",
    "n2=n1-n2\n",
    "n1=n1-n2\n",
    "\n",
    "print(\"New arrangement is: \")\n",
    "print(\"n1 {}\".format(n1))\n",
    "print(\"n2 {}\".format(n2))"
   ]
  },
  {
   "cell_type": "markdown",
   "metadata": {},
   "source": [
    "**17. What is none data type, declare and print it**"
   ]
  },
  {
   "cell_type": "markdown",
   "metadata": {},
   "source": [
    "2. **None** is a special constant that represents the null value or absence. It is an object which has it's own data type. There is limitation to create multiple None objects but we can assign them to variables. The care should be taken that, None does not implies 0 or False or any empty list, string or dictionary."
   ]
  },
  {
   "cell_type": "code",
   "execution_count": 34,
   "metadata": {
    "scrolled": true
   },
   "outputs": [
    {
     "data": {
      "text/plain": [
       "False"
      ]
     },
     "execution_count": 34,
     "metadata": {},
     "output_type": "execute_result"
    }
   ],
   "source": [
    "None == 0"
   ]
  },
  {
   "cell_type": "code",
   "execution_count": 35,
   "metadata": {},
   "outputs": [
    {
     "data": {
      "text/plain": [
       "False"
      ]
     },
     "execution_count": 35,
     "metadata": {},
     "output_type": "execute_result"
    }
   ],
   "source": [
    "None == []"
   ]
  },
  {
   "cell_type": "code",
   "execution_count": 36,
   "metadata": {},
   "outputs": [
    {
     "data": {
      "text/plain": [
       "True"
      ]
     },
     "execution_count": 36,
     "metadata": {},
     "output_type": "execute_result"
    }
   ],
   "source": [
    "x = None\n",
    "y = None\n",
    "x == y"
   ]
  },
  {
   "cell_type": "markdown",
   "metadata": {},
   "source": [
    "The function which doesn't have return statements generally returns a None object. As the program doen not follow a return statement at the end. "
   ]
  },
  {
   "cell_type": "code",
   "execution_count": 37,
   "metadata": {},
   "outputs": [
    {
     "name": "stdout",
     "output_type": "stream",
     "text": [
      "None\n"
     ]
    }
   ],
   "source": [
    "def multi():\n",
    "    x, y = 8, 9\n",
    "    multip = x*y\n",
    "    \n",
    "func = multi()\n",
    "print(func)"
   ]
  },
  {
   "cell_type": "markdown",
   "metadata": {},
   "source": [
    "**18. del statement: explain with use**"
   ]
  },
  {
   "cell_type": "markdown",
   "metadata": {},
   "source": [
    "Every thing is object in python. del keyword is used to delete an reference object from program."
   ]
  },
  {
   "cell_type": "code",
   "execution_count": 38,
   "metadata": {},
   "outputs": [
    {
     "ename": "NameError",
     "evalue": "name 'n' is not defined",
     "output_type": "error",
     "traceback": [
      "\u001b[1;31m---------------------------------------------------------------------------\u001b[0m",
      "\u001b[1;31mNameError\u001b[0m                                 Traceback (most recent call last)",
      "\u001b[1;32m<ipython-input-38-a9b03ae7aa1b>\u001b[0m in \u001b[0;36m<module>\u001b[1;34m\u001b[0m\n\u001b[0;32m      1\u001b[0m \u001b[0mm\u001b[0m\u001b[1;33m=\u001b[0m\u001b[0mn\u001b[0m\u001b[1;33m=\u001b[0m\u001b[1;36m7\u001b[0m\u001b[1;33m\u001b[0m\u001b[1;33m\u001b[0m\u001b[0m\n\u001b[0;32m      2\u001b[0m \u001b[1;32mdel\u001b[0m \u001b[0mn\u001b[0m\u001b[1;33m\u001b[0m\u001b[1;33m\u001b[0m\u001b[0m\n\u001b[1;32m----> 3\u001b[1;33m \u001b[0mprint\u001b[0m\u001b[1;33m(\u001b[0m\u001b[0mn\u001b[0m\u001b[1;33m)\u001b[0m\u001b[1;33m\u001b[0m\u001b[1;33m\u001b[0m\u001b[0m\n\u001b[0m",
      "\u001b[1;31mNameError\u001b[0m: name 'n' is not defined"
     ]
    }
   ],
   "source": [
    "m=n=7\n",
    "del n\n",
    "print(n)"
   ]
  },
  {
   "cell_type": "code",
   "execution_count": 39,
   "metadata": {},
   "outputs": [
    {
     "name": "stdout",
     "output_type": "stream",
     "text": [
      "7\n"
     ]
    }
   ],
   "source": [
    "# The error is because the reference of python object which indentifier name n has no reference to the program.\n",
    "print(m)  # m have reference"
   ]
  },
  {
   "cell_type": "markdown",
   "metadata": {},
   "source": [
    "**19. What is difference between del and none**"
   ]
  },
  {
   "cell_type": "markdown",
   "metadata": {},
   "source": [
    "- There is a distinct difference between use of both thse keywords. None is special constant and it represents the absence in a program. del is used to delete the refrence of that python object from python interpreter. None gives the reference of absence and del removes the reference to the program."
   ]
  },
  {
   "cell_type": "markdown",
   "metadata": {},
   "source": [
    "## Thank You!"
   ]
  }
 ],
 "metadata": {
  "kernelspec": {
   "display_name": "Python 3",
   "language": "python",
   "name": "python3"
  },
  "language_info": {
   "codemirror_mode": {
    "name": "ipython",
    "version": 3
   },
   "file_extension": ".py",
   "mimetype": "text/x-python",
   "name": "python",
   "nbconvert_exporter": "python",
   "pygments_lexer": "ipython3",
   "version": "3.8.3"
  }
 },
 "nbformat": 4,
 "nbformat_minor": 4
}
