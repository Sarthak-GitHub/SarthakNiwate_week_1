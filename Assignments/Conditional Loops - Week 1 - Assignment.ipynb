{
 "cells": [
  {
   "cell_type": "markdown",
   "metadata": {},
   "source": [
    "## Week 1: Conditional Loops - Assignment \n",
    "**by Sarthak Niwate (Intern at Chistats)**\n",
    "**Guided by Girish Bamane, Umaima Surti**"
   ]
  },
  {
   "cell_type": "markdown",
   "metadata": {},
   "source": [
    "### Conditional statement: if\n",
    "\n",
    "**1. WAP to print Welcome to Python if str is \"python\"**"
   ]
  },
  {
   "cell_type": "code",
   "execution_count": 1,
   "metadata": {},
   "outputs": [
    {
     "name": "stdout",
     "output_type": "stream",
     "text": [
      "Enter the string you wish: python\n",
      "Welcome to  python\n"
     ]
    }
   ],
   "source": [
    "string = input(\"Enter the string you wish: \")  # Taking input from user\n",
    "\n",
    "string = string.lower()         # making eveything lower case to match the condition\n",
    "if string == \"python\":          # checking the condition\n",
    "    print(\"Welcome to \",string) # printing the output"
   ]
  },
  {
   "cell_type": "markdown",
   "metadata": {},
   "source": [
    "**2. WAP to print \"Welcome to Chistats\" if is Hired value is True**"
   ]
  },
  {
   "cell_type": "code",
   "execution_count": 2,
   "metadata": {},
   "outputs": [
    {
     "name": "stdout",
     "output_type": "stream",
     "text": [
      "Select the current status from this:  {'T': True, 'F': False}\n",
      "Select the first capital letter of status from given options: T\n",
      "\n",
      "Welcome to Chistats\n"
     ]
    }
   ],
   "source": [
    "Status = {'T':True,'F':False}            # Dictionary of status for choice\n",
    "print(\"Select the current status from this: \", Status)      # Helping line\n",
    "# Taking input from user\n",
    "status = input(\"Select the first capital letter of status from given options: \") \n",
    "if status == 'T':                  # Checking the selected status\n",
    "    print(\"\\nWelcome to Chistats\") # Printing the output"
   ]
  },
  {
   "cell_type": "markdown",
   "metadata": {},
   "source": [
    "**3. WAP to print \"Eligible for Vote\" if age is greater than 18**"
   ]
  },
  {
   "cell_type": "code",
   "execution_count": 3,
   "metadata": {},
   "outputs": [
    {
     "name": "stdout",
     "output_type": "stream",
     "text": [
      "Welcome to Election Commission's Website\n",
      "To check the eligibility for voting do the following>>\n",
      "\n",
      "Enter your age: 56\n",
      "Eligible for Vote\n"
     ]
    }
   ],
   "source": [
    "print(\"Welcome to Election Commission's Website\")    \n",
    "print(\"To check the eligibility for voting do the following>>\\n\") # Helping line\n",
    "age = int(input(\"Enter your age: \"))    # Taking input from user\n",
    "\n",
    "if age > 18:                            # Checking the condition        \n",
    "    print(\"Eligible for Vote\")          # Printing the ourput"
   ]
  },
  {
   "cell_type": "markdown",
   "metadata": {},
   "source": [
    "### Conditional statement: if else\n",
    "\n",
    "**4. WAP to print \"Passed\" if marks obtained in exam are greater than 40 if not then print \"Failed\"**"
   ]
  },
  {
   "cell_type": "code",
   "execution_count": 4,
   "metadata": {},
   "outputs": [
    {
     "name": "stdout",
     "output_type": "stream",
     "text": [
      "Exam Department Eligibility Page\n",
      "Enter the marks you have got: 84.6\n",
      "Enter a rounded value of marks. Try Again!\n",
      "Enter the marks you have got: 85\n",
      "The expected marks format is correct\n",
      "\n",
      "Passed\n"
     ]
    }
   ],
   "source": [
    "print(\"Exam Department Eligibility Page\")\n",
    "\n",
    "while True:\n",
    "    try:\n",
    "        marks = int(input(\"Enter the marks you have got: \"))\n",
    "    except ValueError:\n",
    "        print('Enter a rounded value of marks. Try Again!')\n",
    "        pass\n",
    "    else:\n",
    "        print('The expected marks format is correct')\n",
    "        if marks > 40:\n",
    "            print(\"\\nPassed\")\n",
    "            break\n",
    "        else:\n",
    "            print(\"\\nFailed\")\n",
    "            break"
   ]
  },
  {
   "cell_type": "markdown",
   "metadata": {},
   "source": [
    "**5. WAP to print \"Covid positive\" if SARS-CoV-2  is detected else \"Covid negative\"**"
   ]
  },
  {
   "cell_type": "code",
   "execution_count": 5,
   "metadata": {},
   "outputs": [
    {
     "name": "stdout",
     "output_type": "stream",
     "text": [
      "COVID Test Lab, Pune\n",
      "{'D': 'SARS-CoV-2 Detected', 'ND': 'SARS-CoV-2 Not Detected'}\n",
      "Select D/ND from above information to declare the result: \n",
      "ND\n",
      "SARS-CoV-2 Not Detected: Covid Negative\n"
     ]
    }
   ],
   "source": [
    "print(\"COVID Test Lab, Pune\")\n",
    "detect = {'D':'SARS-CoV-2 Detected','ND':'SARS-CoV-2 Not Detected'}\n",
    "print(detect)\n",
    "\n",
    "result = input(\"Select D/ND from above information to declare the result: \\n\")\n",
    "\n",
    "if result == 'D':\n",
    "    print(\"{}: Covid Positive\".format(detect['D']))\n",
    "else:\n",
    "    print(\"{}: Covid Negative\".format(detect['ND']))"
   ]
  },
  {
   "cell_type": "markdown",
   "metadata": {},
   "source": [
    "**6. WAP to print \"Hi Sarthak\" if girl says hi else print \"Bye Sarthak\"**"
   ]
  },
  {
   "cell_type": "code",
   "execution_count": 7,
   "metadata": {},
   "outputs": [
    {
     "name": "stdout",
     "output_type": "stream",
     "text": [
      "Welcome to Automated Replying App\n",
      "What is girl saying to Sarthak, hi/bye: hi\n",
      "Hi Sarthak\n"
     ]
    }
   ],
   "source": [
    "print(\"Welcome to Automated Replying App\")\n",
    "\n",
    "reaction = {'H':'Hi Sarthak','B':'Bye Sarthak'}\n",
    "\n",
    "reply = input(\"What is girl saying to Sarthak, hi/bye: \")\n",
    "\n",
    "reply = reply.lower()\n",
    "\n",
    "if reply == 'hi':\n",
    "    print(reaction['H'])\n",
    "else:\n",
    "    print(reaction['B'])"
   ]
  },
  {
   "cell_type": "markdown",
   "metadata": {},
   "source": [
    "**7. WAP to print biggest of two numbers**"
   ]
  },
  {
   "cell_type": "code",
   "execution_count": 8,
   "metadata": {},
   "outputs": [
    {
     "name": "stdout",
     "output_type": "stream",
     "text": [
      "Who is greater!\n",
      "\n",
      "Enter the first number: 98\n",
      "Enter the second number: 87\n",
      "\n",
      "The greatest number is 98.0\n"
     ]
    }
   ],
   "source": [
    "print(\"Who is greater!\\n\")\n",
    "number_1 = float(input(\"Enter the first number: \"))\n",
    "number_2 = float(input(\"Enter the second number: \"))\n",
    "\n",
    "if (number_1 > number_2):\n",
    "    print(\"\\nThe greatest number is {}\".format(number_1))\n",
    "elif (number_2 > number_1):\n",
    "    print(\"\\nThe greatest number is {}\".format(number_2))\n",
    "else:\n",
    "    print(\"\\nBoth the numbers are equal\")"
   ]
  },
  {
   "cell_type": "markdown",
   "metadata": {},
   "source": [
    "### Conditional statement: if elif else\n",
    "\n",
    "**8. WAP to print entered number is positive, negative or zero**"
   ]
  },
  {
   "cell_type": "code",
   "execution_count": 9,
   "metadata": {},
   "outputs": [
    {
     "name": "stdout",
     "output_type": "stream",
     "text": [
      "The number is positive/negative/zero?\n",
      "Enter the number: 630.5\n",
      "This number is positive.\n"
     ]
    }
   ],
   "source": [
    "print(\"The number is positive/negative/zero?\")\n",
    "\n",
    "number = float(input(\"Enter the number: \"))\n",
    "\n",
    "if number > 0:\n",
    "    print(\"This number is positive.\")\n",
    "elif number < 0:\n",
    "    print(\"This number is negative.\")\n",
    "else:\n",
    "    print(\"The number is zero.\")"
   ]
  },
  {
   "cell_type": "markdown",
   "metadata": {},
   "source": [
    "**9. WAP to print the season, print Summer,if month entered is between March to June, print Monsoon if month entered is between July to October and Winter if if month entered is between November to Feb.**"
   ]
  },
  {
   "cell_type": "code",
   "execution_count": 10,
   "metadata": {},
   "outputs": [
    {
     "name": "stdout",
     "output_type": "stream",
     "text": [
      "Enter a month **(first three letters of month)**: Jul\n",
      "Monsoon\n"
     ]
    }
   ],
   "source": [
    "month = input('Enter a month **(first three letters of month)**: ')\n",
    "month = month.lower()\n",
    "\n",
    "Summer = ['mar','apr','may','jun']\n",
    "Monsoon = ['jul','aug','sep','oct']\n",
    "Winter = ['nov','dec','jan','feb']\n",
    "\n",
    "if month in Summer:\n",
    "    print('Summer')\n",
    "elif month in Monsoon:\n",
    "    print('Monsoon')\n",
    "else:\n",
    "    print('Winter')"
   ]
  },
  {
   "cell_type": "markdown",
   "metadata": {},
   "source": [
    "**10. WAP to print \"Yes\" if bool is True  else print \"No\"**"
   ]
  },
  {
   "cell_type": "code",
   "execution_count": 11,
   "metadata": {},
   "outputs": [
    {
     "name": "stdout",
     "output_type": "stream",
     "text": [
      "What is boolean value!\n",
      "Enter a boolean value (True/False): True\n",
      "Yes\n"
     ]
    }
   ],
   "source": [
    "print(\"What is boolean value!\")\n",
    "\n",
    "boolean = bool(input('Enter a boolean value (True/False): '))\n",
    "\n",
    "if boolean == True:\n",
    "    print('Yes')\n",
    "else:\n",
    "    print('No')"
   ]
  },
  {
   "cell_type": "markdown",
   "metadata": {},
   "source": [
    "**11. WAP to print whether entered number if int, float or complex**"
   ]
  },
  {
   "cell_type": "code",
   "execution_count": 12,
   "metadata": {},
   "outputs": [
    {
     "name": "stdout",
     "output_type": "stream",
     "text": [
      "This is an integer\n",
      "This is a float\n",
      "This is a float\n",
      "This is a complex number\n",
      "This is an integer\n",
      "This is a complex number\n"
     ]
    }
   ],
   "source": [
    "numbers = [45,3.4,23.5,9+8j,67,3-5j]\n",
    "\n",
    "for i in numbers:\n",
    "    if type(i) == int:\n",
    "        print(\"This is an integer\")\n",
    "    elif type(i) == float:\n",
    "        print(\"This is a float\")\n",
    "    elif type(i) == complex:\n",
    "        print(\"This is a complex number\")\n",
    "    else:\n",
    "        print(\"The number is not integer/float/complex\")"
   ]
  },
  {
   "cell_type": "markdown",
   "metadata": {},
   "source": [
    "### Conditional statement: nested if else\n",
    "\n",
    "**12. WAP to print biggest of three numbers**"
   ]
  },
  {
   "cell_type": "code",
   "execution_count": 13,
   "metadata": {},
   "outputs": [
    {
     "name": "stdout",
     "output_type": "stream",
     "text": [
      "Enter the first number: 59\n",
      "Enter the second number: 43\n",
      "Enter the third number: 62\n",
      "The biggest number amongst all is  62.0\n"
     ]
    }
   ],
   "source": [
    "first = float(input('Enter the first number: '))\n",
    "second = float(input('Enter the second number: '))\n",
    "third = float(input('Enter the third number: '))\n",
    "\n",
    "biggest = -99999999999\n",
    "\n",
    "if (first>second):\n",
    "    if (first>third):\n",
    "        biggest = first\n",
    "    else:\n",
    "        biggest = third\n",
    "else:\n",
    "    if second>third:\n",
    "        biggest = second\n",
    "    else:\n",
    "        biggest = third\n",
    "print(\"The biggest number amongst all is \", biggest)"
   ]
  },
  {
   "cell_type": "markdown",
   "metadata": {},
   "source": [
    "**13. WAP to print Student is passed if student scores more than 40 marks in Physics ,Chemistry and Maths**"
   ]
  },
  {
   "cell_type": "code",
   "execution_count": 14,
   "metadata": {},
   "outputs": [
    {
     "name": "stdout",
     "output_type": "stream",
     "text": [
      "Exam Department Eligibility Page\n",
      "\n",
      "Enter the Physics score: 56\n",
      "Enter the Chemistry score: 28\n",
      "Enter the Maths score: 42\n",
      "\n",
      "The expected marks format is correct\n",
      "\n",
      "You're not passed\n"
     ]
    }
   ],
   "source": [
    "print(\"Exam Department Eligibility Page\\n\")\n",
    "while True:\n",
    "    try:\n",
    "        Physics = float(input('Enter the Physics score: '))\n",
    "        Chemistry = float(input('Enter the Chemistry score: '))\n",
    "        Maths = float(input('Enter the Maths score: '))\n",
    "    except ValueError:\n",
    "        print('\\nEnter marks in correct format. Try Again!')\n",
    "        pass\n",
    "    else:\n",
    "        print('\\nThe expected marks format is correct')\n",
    "        if Physics > 40:\n",
    "            if Chemistry > 40:\n",
    "                if Maths > 40:\n",
    "                    print(\"\\nYou're Passed\")\n",
    "                    break\n",
    "                else:\n",
    "                    print(\"\\nYou're not passed\")\n",
    "                    break\n",
    "            else:\n",
    "                print(\"\\nYou're not passed\")\n",
    "                break\n",
    "        else:\n",
    "            print(\"\\nYou're not passed\")\n",
    "            break"
   ]
  },
  {
   "cell_type": "markdown",
   "metadata": {},
   "source": [
    "**14. WAP to print perosn is minor or retired. Person will be minor if age is less than equal to 18 and person will be retired if age is greated than equal to 58**"
   ]
  },
  {
   "cell_type": "code",
   "execution_count": 15,
   "metadata": {},
   "outputs": [
    {
     "name": "stdout",
     "output_type": "stream",
     "text": [
      "National Pension Scheme\n",
      "Enter you age: 19\n",
      "The expected age in years format is correct\n",
      "You're in between. Neither a minor nor a retired.\n",
      "Enter you age: 56\n",
      "The expected age in years format is correct\n",
      "You're in between. Neither a minor nor a retired.\n",
      "Enter you age: 17\n",
      "The expected age in years format is correct\n",
      "\n",
      "Minor\n"
     ]
    }
   ],
   "source": [
    "print(\"National Pension Scheme\")\n",
    "\n",
    "while True:\n",
    "    try:\n",
    "        age = int(input(\"Enter you age: \"))\n",
    "    except ValueError:\n",
    "        print('Enter age in round years. Try Again!')\n",
    "        pass\n",
    "    else:\n",
    "        print('The expected age in years format is correct')\n",
    "        if age <= 18:\n",
    "            print(\"\\nMinor\")\n",
    "            break\n",
    "        elif age >=58:\n",
    "            print(\"\\nRetired\")\n",
    "            break\n",
    "        else:\n",
    "            print(\"You're in between. Neither a minor nor a retired.\")"
   ]
  },
  {
   "cell_type": "markdown",
   "metadata": {},
   "source": [
    "**15. WAPTP to print \"Number\" if the type of entered value is int or float, print \"Binary\" if type of entered value is binary and print \"Strning\" if type of entered value is str**"
   ]
  },
  {
   "cell_type": "code",
   "execution_count": 16,
   "metadata": {},
   "outputs": [
    {
     "data": {
      "text/plain": [
       "str"
      ]
     },
     "execution_count": 16,
     "metadata": {},
     "output_type": "execute_result"
    }
   ],
   "source": [
    "type('0b110')"
   ]
  },
  {
   "cell_type": "code",
   "execution_count": 17,
   "metadata": {},
   "outputs": [
    {
     "name": "stdout",
     "output_type": "stream",
     "text": [
      "45  Number\n",
      "0110 Binary\n",
      "string String\n",
      "8.9  Number\n",
      "01012 Binary\n",
      "45 String\n",
      "011101 Binary\n"
     ]
    }
   ],
   "source": [
    "objects = [45,'0110','string',8.9,'01012','45','011101']\n",
    "\n",
    "for i in objects:\n",
    "    if type(i) == int or type(i) == float:\n",
    "        print(i,\" Number\")\n",
    "        continue\n",
    "    elif type(i) == str:\n",
    "        for x in i:\n",
    "            if x in '10':\n",
    "                print(i, \"Binary\")\n",
    "                break\n",
    "            else:\n",
    "                print(i, \"String\")\n",
    "                break\n",
    "            "
   ]
  },
  {
   "cell_type": "markdown",
   "metadata": {},
   "source": [
    "**16. WAP program using if/ if else / if elif else to find out if number is prime or not.**"
   ]
  },
  {
   "cell_type": "code",
   "execution_count": 18,
   "metadata": {},
   "outputs": [
    {
     "name": "stdout",
     "output_type": "stream",
     "text": [
      "Enter the number: 23\n",
      "23 is a prime number\n"
     ]
    }
   ],
   "source": [
    "num = int(input(\"Enter the number: \"))\n",
    "          \n",
    "if num > 1:\n",
    "    for i in range(2,num):\n",
    "        if (num % i) == 0:\n",
    "            print(num,\" is not a prime number\")\n",
    "            print(i,\"times\",num//i,\"is\",num)\n",
    "            break\n",
    "    else:\n",
    "        print(num,\"is a prime number\")\n",
    "else:\n",
    "    print(num,\"is not a prime number\")"
   ]
  },
  {
   "cell_type": "markdown",
   "metadata": {},
   "source": [
    "### Iterative statements:\n",
    "\n",
    "### For loop\n",
    "\n",
    "**16. WAPTP characters present in \"Chistats pvt ltd\"**"
   ]
  },
  {
   "cell_type": "code",
   "execution_count": 19,
   "metadata": {},
   "outputs": [
    {
     "name": "stdout",
     "output_type": "stream",
     "text": [
      "(0, 'C') (1, 'h') (2, 'i') (3, 's') (4, 't') (5, 'a') (6, 't') (7, 's') (8, ' ') (9, 'p') (10, 'v') (11, 't') (12, ' ') (13, 'l') (14, 't') (15, 'd') "
     ]
    }
   ],
   "source": [
    "string = \"Chistats pvt ltd\"\n",
    "\n",
    "for i in enumerate(string):\n",
    "    print(i,end=' ')"
   ]
  },
  {
   "cell_type": "markdown",
   "metadata": {},
   "source": [
    "**17. WAPTP index wise characters presentin string**"
   ]
  },
  {
   "cell_type": "code",
   "execution_count": 20,
   "metadata": {},
   "outputs": [
    {
     "name": "stdout",
     "output_type": "stream",
     "text": [
      "0 th character is:  C\n",
      "1 th character is:  h\n",
      "2 th character is:  i\n",
      "3 th character is:  s\n",
      "4 th character is:  t\n",
      "5 th character is:  a\n",
      "6 th character is:  t\n",
      "7 th character is:  s\n",
      "8 th character is:   \n",
      "9 th character is:  p\n",
      "10 th character is:  v\n",
      "11 th character is:  t\n",
      "12 th character is:   \n",
      "13 th character is:  l\n",
      "14 th character is:  t\n",
      "15 th character is:  d\n"
     ]
    }
   ],
   "source": [
    "string = \"Chistats pvt ltd\"\n",
    "\n",
    "for i in range(len(string)):\n",
    "    print(i,\"th character is: \" , string[i])  # Use of indexing"
   ]
  },
  {
   "cell_type": "code",
   "execution_count": 21,
   "metadata": {},
   "outputs": [
    {
     "name": "stdout",
     "output_type": "stream",
     "text": [
      "- 1 th character is:  d\n",
      "- 2 th character is:  t\n",
      "- 3 th character is:  l\n",
      "- 4 th character is:   \n",
      "- 5 th character is:  t\n",
      "- 6 th character is:  v\n",
      "- 7 th character is:  p\n",
      "- 8 th character is:   \n",
      "- 9 th character is:  s\n",
      "- 10 th character is:  t\n",
      "- 11 th character is:  a\n",
      "- 12 th character is:  t\n",
      "- 13 th character is:  s\n",
      "- 14 th character is:  i\n",
      "- 15 th character is:  h\n",
      "- 16 th character is:  C\n"
     ]
    }
   ],
   "source": [
    "for i in range(1,len(string)+1):\n",
    "    print(\"-\",i,\"th character is: \" ,string[-i]) # neagtive indexing"
   ]
  },
  {
   "cell_type": "markdown",
   "metadata": {},
   "source": [
    "**18. WAPTP numbers from 10 to 20**"
   ]
  },
  {
   "cell_type": "code",
   "execution_count": 22,
   "metadata": {},
   "outputs": [
    {
     "name": "stdout",
     "output_type": "stream",
     "text": [
      "[10, 11, 12, 13, 14, 15, 16, 17, 18, 19, 20]\n"
     ]
    }
   ],
   "source": [
    "numbers = []\n",
    "for i in range(10,21):\n",
    "    numbers.append(i)\n",
    "print(numbers)"
   ]
  },
  {
   "cell_type": "markdown",
   "metadata": {},
   "source": [
    "**19. WAPTP numbers from 30 to 20 in descending order**"
   ]
  },
  {
   "cell_type": "code",
   "execution_count": 23,
   "metadata": {},
   "outputs": [
    {
     "name": "stdout",
     "output_type": "stream",
     "text": [
      "[30, 29, 28, 27, 26, 25, 24, 23, 22, 21, 20]\n"
     ]
    }
   ],
   "source": [
    "numbers = []\n",
    "for i in range(20,31):\n",
    "    numbers.append(i)\n",
    "print(sorted(numbers,reverse=True))"
   ]
  },
  {
   "cell_type": "markdown",
   "metadata": {},
   "source": [
    "**20. WAPTP Sum of numbers from 1 to 10**"
   ]
  },
  {
   "cell_type": "code",
   "execution_count": 24,
   "metadata": {},
   "outputs": [
    {
     "name": "stdout",
     "output_type": "stream",
     "text": [
      "55\n"
     ]
    }
   ],
   "source": [
    "addition = 0\n",
    "for i in range(1,11):\n",
    "    addition += i\n",
    "print(addition)"
   ]
  },
  {
   "cell_type": "markdown",
   "metadata": {},
   "source": [
    "**21. WAPTP sum of first n natural numbers**"
   ]
  },
  {
   "cell_type": "code",
   "execution_count": 26,
   "metadata": {},
   "outputs": [
    {
     "name": "stdout",
     "output_type": "stream",
     "text": [
      "Enter any random number: 10\n",
      "55\n"
     ]
    }
   ],
   "source": [
    "number = int(input(\"Enter any random number: \"))\n",
    "addition = 0\n",
    "\n",
    "for i in range(1,number+1):\n",
    "    addition += i\n",
    "    \n",
    "print(addition)"
   ]
  },
  {
   "cell_type": "markdown",
   "metadata": {},
   "source": [
    "**20. WAPTP cube of first n numbers**"
   ]
  },
  {
   "cell_type": "code",
   "execution_count": 27,
   "metadata": {},
   "outputs": [
    {
     "name": "stdout",
     "output_type": "stream",
     "text": [
      "Enter any random number: 6\n",
      "List of sum of cubes upto that number :  [1, 8, 27, 64, 125, 216]\n"
     ]
    }
   ],
   "source": [
    "number = int(input(\"Enter any random number: \"))\n",
    "cubes = []\n",
    "\n",
    "for i in range(1,number+1):\n",
    "    i = i**3\n",
    "    cubes.append(i)\n",
    "print(\"List of sum of cubes upto that number : \", cubes)"
   ]
  },
  {
   "cell_type": "markdown",
   "metadata": {},
   "source": [
    "**21. WAPTP the multiplication table of a given integer**"
   ]
  },
  {
   "cell_type": "code",
   "execution_count": 28,
   "metadata": {},
   "outputs": [
    {
     "name": "stdout",
     "output_type": "stream",
     "text": [
      "Enter any random number: 26\n",
      "26 X 1 is 26\n",
      "26 X 2 is 52\n",
      "26 X 3 is 78\n",
      "26 X 4 is 104\n",
      "26 X 5 is 130\n",
      "26 X 6 is 156\n",
      "26 X 7 is 182\n",
      "26 X 8 is 208\n",
      "26 X 9 is 234\n",
      "26 X 10 is 260\n"
     ]
    }
   ],
   "source": [
    "number = int(input(\"Enter any random number: \"))\n",
    "\n",
    "for i in range(1,11):\n",
    "    print(number, \"X\", i, \"is\", number*i)"
   ]
  },
  {
   "cell_type": "markdown",
   "metadata": {},
   "source": [
    "**22. WAPTP odd numbers between 1 to 40**"
   ]
  },
  {
   "cell_type": "code",
   "execution_count": 29,
   "metadata": {},
   "outputs": [
    {
     "name": "stdout",
     "output_type": "stream",
     "text": [
      "[1, 3, 5, 7, 9, 11, 13, 15, 17, 19, 21, 23, 25, 27, 29, 31, 33, 35, 37, 39]\n"
     ]
    }
   ],
   "source": [
    "odd = []\n",
    "for i in range(1,41):\n",
    "    if i%2 != 0:\n",
    "        odd.append(i)\n",
    "print(odd)"
   ]
  },
  {
   "cell_type": "markdown",
   "metadata": {},
   "source": [
    "**23. WAP to print below pattern with numbers increased by 1**\n",
    "\n",
    "\t    1\n",
    "\t   2 3\n",
    "\t  4 5 6\n",
    "\t 7 8 9 0 \n",
    "\t  9 8 7\n",
    "\t   6 5\n",
    "\t    4\n"
   ]
  },
  {
   "cell_type": "code",
   "execution_count": 41,
   "metadata": {},
   "outputs": [
    {
     "name": "stdout",
     "output_type": "stream",
     "text": [
      "Enter the number of rows:4\n",
      "     1 \n",
      "    1 2 \n",
      "   1 2 3 \n",
      "  1 2 3 4 \n",
      "   1 2 3 \n",
      "    1 2 \n",
      "     1 \n",
      "      \n"
     ]
    }
   ],
   "source": [
    "rows = int(input(\"Enter the number of rows:\"))\n",
    "\n",
    "m = 2*rows-2\n",
    "\n",
    "for x in range(1, rows):\n",
    "    for y in range(1, m):\n",
    "        print(end=\" \")\n",
    "    m -= 1\n",
    "    for y in range(1, x+1):\n",
    "        print(y, end=' ')\n",
    "    print('')\n",
    "        \n",
    "m = rows-2\n",
    "for x in range(rows, -1, -1):\n",
    "    for y in range(m, 0, -1):\n",
    "        print(end=' ')\n",
    "    m +=  1\n",
    "    \n",
    "    for y in range(1, x+1):\n",
    "        print(y, end=' ')\n",
    "    print('')"
   ]
  },
  {
   "cell_type": "markdown",
   "metadata": {},
   "source": [
    "**24. WAPTP fibonacci series of n**"
   ]
  },
  {
   "cell_type": "code",
   "execution_count": 30,
   "metadata": {},
   "outputs": [
    {
     "name": "stdout",
     "output_type": "stream",
     "text": [
      "0 1 1 2 3 5 8 13 "
     ]
    },
    {
     "data": {
      "text/plain": [
       "21"
      ]
     },
     "execution_count": 30,
     "metadata": {},
     "output_type": "execute_result"
    }
   ],
   "source": [
    "def Fibo(n):\n",
    "    a = 0\n",
    "    b = 1\n",
    "    for i in range(0,n):\n",
    "        print(a,end=' ')\n",
    "        temp = a\n",
    "        a = b\n",
    "        b = temp + b\n",
    "    return a\n",
    "\n",
    "Fibo(8)"
   ]
  },
  {
   "cell_type": "markdown",
   "metadata": {},
   "source": [
    "**25. WAP to compute the log of 2 by adding n terms in the series 1 - 1/2 + 1/3 - 1/4 + 1/5 -... 1/n where n is a positive number**"
   ]
  },
  {
   "cell_type": "code",
   "execution_count": 31,
   "metadata": {},
   "outputs": [
    {
     "name": "stdout",
     "output_type": "stream",
     "text": [
      "5\n",
      "-0.35230174393088143\n"
     ]
    }
   ],
   "source": [
    "import math\n",
    "n = int(input())\n",
    "x = 0 \n",
    "for i in range(1, n + 1):\n",
    "    if i%2 == 0:\n",
    "        x -= 1/i\n",
    "    else:\n",
    "        x += 1/i\n",
    "print(math.log(x,2))"
   ]
  },
  {
   "cell_type": "markdown",
   "metadata": {},
   "source": [
    "**26. WAPTP all armstrong numbers between 1 and 10000**\n",
    "If sum of cubes of each digit of the number is equal to the number itself, then the number is called an Armstrong number.\n",
    "For example, 153 = ( 1 * 1 * 1 ) + ( 5 * 5 * 5 ) + ( 3 * 3 * 3 )"
   ]
  },
  {
   "cell_type": "code",
   "execution_count": 32,
   "metadata": {},
   "outputs": [
    {
     "name": "stdout",
     "output_type": "stream",
     "text": [
      "[1, 2, 3, 4, 5, 6, 7, 8, 9, 153, 370, 371, 407, 1634, 8208, 9474]\n"
     ]
    }
   ],
   "source": [
    "armstrong = []\n",
    "\n",
    "for x in range(1, 10001):\n",
    "    addition = 0\n",
    "    raise_to = len(str(x))\n",
    "    var = x\n",
    "\n",
    "    while var > 0:\n",
    "        number = var % 10\n",
    "        addition += number ** raise_to\n",
    "        var //= 10\n",
    "    if x == addition:\n",
    "        armstrong.append(x)\n",
    "print(armstrong)"
   ]
  },
  {
   "cell_type": "markdown",
   "metadata": {},
   "source": [
    "**27. WAPTP all prime numbers within a range 1 to 500**"
   ]
  },
  {
   "cell_type": "code",
   "execution_count": 33,
   "metadata": {},
   "outputs": [
    {
     "name": "stdout",
     "output_type": "stream",
     "text": [
      "[2, 3, 5, 7, 11, 13, 17, 19, 23, 29, 31, 37, 41, 43, 47, 53, 59, 61, 67, 71, 73, 79, 83, 89, 97, 101, 103, 107, 109, 113, 127, 131, 137, 139, 149, 151, 157, 163, 167, 173, 179, 181, 191, 193, 197, 199, 211, 223, 227, 229, 233, 239, 241, 251, 257, 263, 269, 271, 277, 281, 283, 293, 307, 311, 313, 317, 331, 337, 347, 349, 353, 359, 367, 373, 379, 383, 389, 397, 401, 409, 419, 421, 431, 433, 439, 443, 449, 457, 461, 463, 467, 479, 487, 491, 499]\n"
     ]
    }
   ],
   "source": [
    "prime = []\n",
    "for num in range(1, 501):\n",
    "    if num > 1:\n",
    "        for i in range(2, num):\n",
    "            if (num % i) == 0:\n",
    "                break\n",
    "        else:\n",
    "            prime.append(num)\n",
    "print(prime)"
   ]
  },
  {
   "cell_type": "markdown",
   "metadata": {},
   "source": [
    "### While Loop\n",
    "\n",
    "**28. WAP to reverse a given integer number 23564**"
   ]
  },
  {
   "cell_type": "code",
   "execution_count": 184,
   "metadata": {},
   "outputs": [
    {
     "name": "stdout",
     "output_type": "stream",
     "text": [
      "The value of reveresed_num is now:  4\n",
      "The value of num is noe:  2356\n",
      "The value of reveresed_num is now:  46\n",
      "The value of num is noe:  235\n",
      "The value of reveresed_num is now:  465\n",
      "The value of num is noe:  23\n",
      "The value of reveresed_num is now:  4653\n",
      "The value of num is noe:  2\n",
      "The value of reveresed_num is now:  46532\n",
      "The value of num is noe:  0\n",
      "/nFinal Reversed Number:  46532\n"
     ]
    }
   ],
   "source": [
    "num = 23564\n",
    "\n",
    "reversed_num = 0\n",
    "while num > 0:\n",
    "    digit = num % 10\n",
    "    reversed_num = reversed_num * 10\n",
    "    reversed_num = reversed_num + digit\n",
    "    num = num // 10\n",
    "    print(\"The value of reveresed_num is now: \", reversed_num)\n",
    "    print(\"The value of num is noe: \", num)\n",
    "print(\"/nFinal Reversed Number: \", reversed_num)   "
   ]
  },
  {
   "cell_type": "markdown",
   "metadata": {},
   "source": [
    "**29. WAPTP numbers from 1 to 10**"
   ]
  },
  {
   "cell_type": "code",
   "execution_count": 189,
   "metadata": {},
   "outputs": [
    {
     "name": "stdout",
     "output_type": "stream",
     "text": [
      "1 2 3 4 5 6 7 8 9 10 "
     ]
    }
   ],
   "source": [
    "n = 1\n",
    "while n < 11:\n",
    "    print(n, end=' ')\n",
    "    n += 1"
   ]
  },
  {
   "cell_type": "markdown",
   "metadata": {},
   "source": [
    "**30. WAPTP sum of first 100 nmbers**"
   ]
  },
  {
   "cell_type": "code",
   "execution_count": 203,
   "metadata": {},
   "outputs": [
    {
     "name": "stdout",
     "output_type": "stream",
     "text": [
      "5050\n"
     ]
    }
   ],
   "source": [
    "addition = 0\n",
    "num = 1\n",
    "while num < 101:\n",
    "    addition += num \n",
    "    num += 1\n",
    "\n",
    "print(addtion)"
   ]
  },
  {
   "cell_type": "markdown",
   "metadata": {},
   "source": [
    "**31. WAPTP string until user enters \"stop\"**"
   ]
  },
  {
   "cell_type": "code",
   "execution_count": 204,
   "metadata": {},
   "outputs": [
    {
     "name": "stdout",
     "output_type": "stream",
     "text": [
      "Enter the string: jii\n",
      "Ha ha! You're stuck in my loop\n",
      "Try Again. Enter the string: uhdc\n",
      "Ha ha! You're stuck in my loop\n",
      "Try Again. Enter the string: dhudc\n",
      "Ha ha! You're stuck in my loop\n",
      "Try Again. Enter the string: djmd\n",
      "Ha ha! You're stuck in my loop\n",
      "Try Again. Enter the string: scnos\n",
      "Ha ha! You're stuck in my loop\n",
      "Try Again. Enter the string: inco\n",
      "Ha ha! You're stuck in my loop\n",
      "Try Again. Enter the string: dcn\n",
      "Ha ha! You're stuck in my loop\n",
      "Try Again. Enter the string: STop\n",
      "Well done, muggle! You are free now.\n"
     ]
    }
   ],
   "source": [
    "guess = input(\"Enter the string: \")\n",
    "guess = guess.lower()\n",
    "\n",
    "secret_stopping_string = 'stop'\n",
    "\n",
    "while guess != secret_stopping_string:\n",
    "    print(\"Ha ha! You're stuck in my loop\")\n",
    "    guess = input(\"Try Again. Enter the string: \")\n",
    "    guess = guess.lower()\n",
    "print(\"Well done, muggle! You are free now.\")"
   ]
  },
  {
   "cell_type": "markdown",
   "metadata": {},
   "source": [
    "**32. WAPTP average of first 10 numbers**"
   ]
  },
  {
   "cell_type": "code",
   "execution_count": 212,
   "metadata": {},
   "outputs": [
    {
     "name": "stdout",
     "output_type": "stream",
     "text": [
      "5.5\n"
     ]
    }
   ],
   "source": [
    "addition = 0\n",
    "num = 1\n",
    "while num<=10:\n",
    "    addition += num\n",
    "    num += 1\n",
    "\n",
    "average = addition/(num-1)\n",
    "print(average)"
   ]
  },
  {
   "cell_type": "markdown",
   "metadata": {},
   "source": [
    "**33. WAP to calculate factorial of given number**"
   ]
  },
  {
   "cell_type": "code",
   "execution_count": 215,
   "metadata": {},
   "outputs": [
    {
     "name": "stdout",
     "output_type": "stream",
     "text": [
      "Enter the number: 4\n",
      "24\n"
     ]
    }
   ],
   "source": [
    "num = int(input('Enter the number: '))\n",
    "factorial = 1\n",
    "while num > 0:\n",
    "    factorial *= num\n",
    "    num -= 1\n",
    "print(factorial)"
   ]
  },
  {
   "cell_type": "markdown",
   "metadata": {},
   "source": [
    "**34. WAP to calculate GCD and LCM**"
   ]
  },
  {
   "cell_type": "code",
   "execution_count": 271,
   "metadata": {},
   "outputs": [
    {
     "name": "stdout",
     "output_type": "stream",
     "text": [
      "Enter the first number: 5\n",
      "Enter the seconde number: 6\n",
      "GCD of the two numbers is:  1\n",
      "LCM of the two numbers is:  30\n"
     ]
    }
   ],
   "source": [
    "def gcd_bet_two_nums(num1, num2):\n",
    "    while(num2):\n",
    "        num1, num2 = num2, num1 % num2\n",
    "    return num1\n",
    "\n",
    "def lcm_bet_two_nums(num1, num2):\n",
    "    LCM = (num1*num2)//gcd_bet_two_nums(num1,num2)\n",
    "    return LCM\n",
    "\n",
    "num1 = int(input(\"Enter the first number: \"))\n",
    "num2 = int(input(\"Enter the seconde number: \"))\n",
    "\n",
    "print(\"GCD of the two numbers is: \", gcd_bet_two_nums(num1, num2))\n",
    "print(\"LCM of the two numbers is: \", lcm_bet_two_nums(num1, num2))"
   ]
  },
  {
   "cell_type": "markdown",
   "metadata": {},
   "source": [
    "**35. WAP that generates a random number and asks the user to guess what the number is. If the user's guess is higher than the random number, the program should display \"Too high, try again.\" If the user's guess is lower than the random number, the program should display \"Too low, try again.\" The program should use a loop that repeats until the user correctly guesses the random numbe**"
   ]
  },
  {
   "cell_type": "code",
   "execution_count": 276,
   "metadata": {},
   "outputs": [
    {
     "name": "stdout",
     "output_type": "stream",
     "text": [
      "Secret Number is between 1 to 5\n",
      "Enter your guess: 1\n",
      "Ha ha! You're stuck in my loop\n",
      "Try Again. Guess the number again: 2\n",
      "Ha ha! You're stuck in my loop\n",
      "Try Again. Guess the number again: 4\n",
      "Ha ha! You're stuck in my loop\n",
      "Try Again. Guess the number again: 3\n",
      "Well done, muggle! You are free now.\n"
     ]
    }
   ],
   "source": [
    "import random\n",
    "\n",
    "secret_number = random.randint(1,6)\n",
    "print(\"Secret Number is between 1 to 5\")\n",
    "guess = int(input(\"Enter your guess: \"))\n",
    "\n",
    "while guess != secret_number:\n",
    "    print(\"Ha ha! You're stuck in my loop\")\n",
    "    guess = int(input(\"Try Again. Guess the number again: \"))\n",
    "print(\"Well done, muggle! You are free now.\")"
   ]
  },
  {
   "cell_type": "markdown",
   "metadata": {},
   "source": [
    "**36. WAPTP true if there is an equal number of x's and o's present in the string, otherwise print false**"
   ]
  },
  {
   "cell_type": "code",
   "execution_count": 252,
   "metadata": {},
   "outputs": [
    {
     "name": "stdout",
     "output_type": "stream",
     "text": [
      "True\n"
     ]
    }
   ],
   "source": [
    "string = 'juhnxxxoooxxxoooijkixxoohjixo'\n",
    "count_x = 0\n",
    "count_o = 0\n",
    "i = 0\n",
    "while (i<len(string)):\n",
    "    if string[i] == 'x':\n",
    "        count_x += 1\n",
    "        i += 1\n",
    "    elif string[i] == 'o':\n",
    "        count_o += 1\n",
    "        i += 1\n",
    "    else:\n",
    "        i += 1\n",
    "        pass\n",
    "if count_x == count_o:\n",
    "    print(True)\n",
    "else:\n",
    "    print(False)"
   ]
  },
  {
   "cell_type": "code",
   "execution_count": 254,
   "metadata": {},
   "outputs": [
    {
     "name": "stdout",
     "output_type": "stream",
     "text": [
      "True\n"
     ]
    }
   ],
   "source": [
    "if string.count('x') == string.count('o'):\n",
    "    print(True)\n",
    "else:\n",
    "    print(False)"
   ]
  },
  {
   "cell_type": "markdown",
   "metadata": {},
   "source": [
    "**37. Given three numbers x, y and p, compute (xy) % p**\n",
    "\n",
    "Input:  x = 2, y = 3, p = 5\n",
    "Output: 3\n",
    "Explanation: 2^3 % 5 = 8 % 5 = 3.\n",
    "\n",
    "Input:  x = 2, y = 5, p = 13\n",
    "Output: 6\n",
    "Explanation: 2^5 % 13 = 32 % 13 = 6."
   ]
  },
  {
   "cell_type": "code",
   "execution_count": 246,
   "metadata": {},
   "outputs": [
    {
     "name": "stdout",
     "output_type": "stream",
     "text": [
      "3\n",
      "6\n"
     ]
    }
   ],
   "source": [
    "X = [2,2]\n",
    "y = [3,5]\n",
    "p = [5,13]\n",
    "\n",
    "op = 1\n",
    "\n",
    "for i in range(2):\n",
    "    x = X[i] % p[i]  \n",
    "    while (y[i] > 0) : \n",
    "        if ((y[i] & 1) == 1) : \n",
    "            op = (op * x) % p[i] \n",
    "        y[i] = y[i] >> 1\n",
    "        x = (x * x) % p[i] \n",
    "    print(op)\n",
    "    op = 1"
   ]
  },
  {
   "cell_type": "markdown",
   "metadata": {},
   "source": [
    "**38. Given three numbers a, b and c, we need to find (ab) % c**\n",
    "\n",
    "Input : a = 2312 b = 3434 c = 6789\n",
    "Output : 6343\n",
    "\n",
    "Input : a = -3 b = 5 c = 89 \n",
    "Output : 24"
   ]
  },
  {
   "cell_type": "code",
   "execution_count": 247,
   "metadata": {},
   "outputs": [
    {
     "name": "stdout",
     "output_type": "stream",
     "text": [
      "6343\n",
      "24\n"
     ]
    }
   ],
   "source": [
    "A = [2312,-3]\n",
    "b = [3434,5]\n",
    "c = [6789,89]\n",
    "\n",
    "op = 1\n",
    "\n",
    "for i in range(2):\n",
    "    a = A[i] % c[i]  \n",
    "    while (b[i] > 0) : \n",
    "        if ((b[i] & 1) == 1) : \n",
    "            op = (op * a) % c[i] \n",
    "        b[i] = b[i] >> 1\n",
    "        a = (a * a) % c[i] \n",
    "    print(op)\n",
    "    op = 1"
   ]
  },
  {
   "cell_type": "markdown",
   "metadata": {},
   "source": [
    "### Medium difficulty\n",
    "\n",
    "**39. Have the function ArithGeo(arr) take the array of numbers stored in arr and return the string \"Arithmetic\" if the sequence follows an arithmetic pattern or return \"Geometric\" if it follows a geometric pattern. If the sequence doesn't follow either pattern return -1. An arithmetic sequence is one where the difference between each of the numbers is consistent, where as in a geometric sequence, each term after the first is multiplied by some constant or common ratio. Arithmetic example: [2, 4, 6, 8] and Geometric example: [2, 6, 18, 54]. Negative numbers may be entered as parameters, 0 will not be entered, and no array will contain all the same elements.**\n",
    "\n",
    "Examples\n",
    "Input: [5,10,15]\n",
    "Output: Arithmetic\n",
    "\n",
    "Input: [2,4,16,24]\n",
    "Output: -1"
   ]
  },
  {
   "cell_type": "code",
   "execution_count": 35,
   "metadata": {},
   "outputs": [
    {
     "name": "stdout",
     "output_type": "stream",
     "text": [
      "-1\n",
      "Arithmetic\n"
     ]
    }
   ],
   "source": [
    "def ArithGeo(arr):\n",
    "    \n",
    "    list1 = []\n",
    "    \n",
    "    for k in range(len(arr)):\n",
    "        if k < len(arr) - 1:\n",
    "            list1.append(arr[k+1]-arr[k])\n",
    "    \n",
    "    if len(set(list1)) == 1:\n",
    "        return \"Arithmetic\"\n",
    "    else:\n",
    "        pass\n",
    "    \n",
    "    list2 = []\n",
    "    \n",
    "    for m in range(len(arr)):\n",
    "        if m < len(arr) - 1:\n",
    "            list2.append(arr[m+1]/arr[m])\n",
    "    \n",
    "    if len(set(list2)) == 1:\n",
    "        return \"Geometric\"\n",
    "    else:\n",
    "        return \"-1\"\n",
    "    \n",
    "print(ArithGeo([2,4,16,24]))\n",
    "print(ArithGeo([5,10,15]))"
   ]
  },
  {
   "cell_type": "markdown",
   "metadata": {},
   "source": [
    "**40. Have the function FirstReverse(str) take the str parameter being passed and return the string in reversed order. For example: if the input string is \"Hello World and Coders\" then your program should return the string sredoC dna dlroW olleH.**\n",
    "\n",
    "Examples\n",
    "Input: \"coderbyte\"\n",
    "Output: etybredoc\n",
    "Input: \"I Love Code\"\n",
    "Output: edoC evoL I"
   ]
  },
  {
   "cell_type": "code",
   "execution_count": 305,
   "metadata": {},
   "outputs": [
    {
     "name": "stdout",
     "output_type": "stream",
     "text": [
      "edoC evoL I\n",
      "etybredoc\n",
      "sredoC dna dlroW olleH\n"
     ]
    }
   ],
   "source": [
    "def FirstReverse(str):\n",
    "    string1 = ''\n",
    "    new = ''\n",
    "    for i in str.split(' '):\n",
    "        string1 = string1 + i[::-1] + ' '\n",
    "    string1 = string1[-2::-1]\n",
    "    for i in string1.split(\" \"):\n",
    "        new = new + i[::-1] + ' '\n",
    "    return new[:-1]\n",
    "\n",
    "print(FirstReverse(\"I Love Code\"))\n",
    "print(FirstReverse(\"coderbyte\"))\n",
    "print(FirstReverse(\"Hello World and Coders\"))"
   ]
  },
  {
   "cell_type": "markdown",
   "metadata": {},
   "source": [
    "**41. Next Palindrome**\n",
    "\n",
    "Have the function NextPalindrome(num) take the num parameter being passed and return the next largest palindromic number. The input can be any positive integer. For example: if num is 24, then your program should return 33 because that is the next largest number that is a palindrome.\n",
    "\n",
    "Examples\n",
    "Input: 2\n",
    "Output: 3\n",
    "Input: 180\n",
    "Output: 181\n"
   ]
  },
  {
   "cell_type": "code",
   "execution_count": 345,
   "metadata": {},
   "outputs": [
    {
     "name": "stdout",
     "output_type": "stream",
     "text": [
      "180\n",
      "181\n"
     ]
    }
   ],
   "source": [
    "start_number =int(input(\"Enter a number: \"))\n",
    "\n",
    "loop = 0\n",
    "\n",
    "while n != 1:\n",
    "    start_number += 1\n",
    "    reversed_num = str(start_number)[::-1]\n",
    "    if start_number == int(reversed_num):\n",
    "        print(start_number)\n",
    "        n += 1"
   ]
  },
  {
   "cell_type": "markdown",
   "metadata": {},
   "source": [
    "### Transfer statements\n",
    "\n",
    "**42. Notedown usages of break, continue and pass**"
   ]
  },
  {
   "cell_type": "markdown",
   "metadata": {},
   "source": [
    "1. In Python, break and continue statements can alter the flow of a normal loop.\n",
    "\n",
    "2. Loops iterate over a block of code until test expression is false, but sometimes we wish to terminate the current iteration or even the whole loop without checking test expression.\n",
    "\n",
    "3. The break and continue statements are used in these cases.\n",
    "\n",
    "4. The **break statement** is used to break or stop or terminate the loop at that instance. If the given expression satisfies the condition. \n",
    "\n",
    "4. The **continue statement** is used to skip the rest of the code inside a loop for the current iteration only. Loop does not terminate but continues on with the next iteration.\n",
    "\n",
    "5. In Python programming, **pass** is a null statement. The difference between a comment and pass statement in Python is that, while the interpreter ignores a comment entirely, pass is not ignored.<br>\n",
    "\n",
    "6. However, nothing happens when pass is executed. It results into no operation (NOP)."
   ]
  },
  {
   "cell_type": "markdown",
   "metadata": {},
   "source": [
    "**break** \n",
    "\n",
    "**43. WAP to print the numbers till 7 in the for loop, having range of 1 to 10. Must use break keyword**"
   ]
  },
  {
   "cell_type": "code",
   "execution_count": 310,
   "metadata": {},
   "outputs": [
    {
     "name": "stdout",
     "output_type": "stream",
     "text": [
      "1 2 3 4 5 6 7 "
     ]
    }
   ],
   "source": [
    "for i in range(1,10):\n",
    "    print(i, end=' ')\n",
    "    if i == 7:\n",
    "        break"
   ]
  },
  {
   "cell_type": "markdown",
   "metadata": {},
   "source": [
    "**continue**\n",
    "\n",
    "**44. WAPTP odd numbers from the for loop, having range of 1 to 10. Must use continue keyword**"
   ]
  },
  {
   "cell_type": "code",
   "execution_count": 316,
   "metadata": {},
   "outputs": [
    {
     "name": "stdout",
     "output_type": "stream",
     "text": [
      "1 3 5 7 9 "
     ]
    }
   ],
   "source": [
    "for i in range(1,10):\n",
    "    if i%2 == 0:\n",
    "        continue\n",
    "    print(i, end=' ')    "
   ]
  },
  {
   "cell_type": "markdown",
   "metadata": {},
   "source": [
    "**pass**\n",
    "\n",
    "**45. WAPTP odd numbers from the for loop, having range of 1 to 10. Must use pass keyword**"
   ]
  },
  {
   "cell_type": "code",
   "execution_count": 322,
   "metadata": {},
   "outputs": [
    {
     "name": "stdout",
     "output_type": "stream",
     "text": [
      "1 3 5 7 9 "
     ]
    }
   ],
   "source": [
    "for i in range(1,11):\n",
    "    if i%2 == 0:\n",
    "        pass\n",
    "    else:\n",
    "        print(i, end=' ')"
   ]
  }
 ],
 "metadata": {
  "kernelspec": {
   "display_name": "Python 3",
   "language": "python",
   "name": "python3"
  },
  "language_info": {
   "codemirror_mode": {
    "name": "ipython",
    "version": 3
   },
   "file_extension": ".py",
   "mimetype": "text/x-python",
   "name": "python",
   "nbconvert_exporter": "python",
   "pygments_lexer": "ipython3",
   "version": "3.8.3"
  }
 },
 "nbformat": 4,
 "nbformat_minor": 4
}
