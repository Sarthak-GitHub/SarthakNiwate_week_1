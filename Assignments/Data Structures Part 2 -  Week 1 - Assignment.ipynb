{
 "cells": [
  {
   "cell_type": "markdown",
   "metadata": {},
   "source": [
    "## Week 1: Data Structures - Part2 - Assignment \n",
    "**by Sarthak Niwate (Intern at Chistats)**"
   ]
  },
  {
   "cell_type": "code",
   "execution_count": 128,
   "metadata": {},
   "outputs": [],
   "source": [
    "from faker import Faker\n",
    "fake = Faker()\n",
    "import pandas as pd\n",
    "import numpy as np\n",
    "import random\n",
    "from collections import Counter"
   ]
  },
  {
   "cell_type": "markdown",
   "metadata": {},
   "source": [
    "Input Operations\n",
    "1. raw_input()\n",
    "2. input()"
   ]
  },
  {
   "cell_type": "markdown",
   "metadata": {},
   "source": [
    "raw_input() takes the input as a string whereas input() basically looks at what the user enters, and automatically determines the correct type. We use the input function when you are expecting an integer from the end-user, and raw_input when you are expecting a string. The raw_input() function is similar to input() "
   ]
  },
  {
   "cell_type": "markdown",
   "metadata": {},
   "source": [
    "Output Operations\n",
    "3. print()\n",
    "4. Omitting newlines\n",
    "5. Concatenation"
   ]
  },
  {
   "cell_type": "markdown",
   "metadata": {},
   "source": [
    "The print function can be used in many ways like positional way of passing the arguments and the keyword arguments. \n",
    "\n",
    "print(\"This is an example\")\n",
    "\n",
    "\n",
    "This example is of keyword arguments.\n",
    "We can also use end which is used to omit newlines and sep keyword arguments in the print function as below:"
   ]
  },
  {
   "cell_type": "code",
   "execution_count": 129,
   "metadata": {},
   "outputs": [
    {
     "name": "stdout",
     "output_type": "stream",
     "text": [
      "Without omitting new lines\n",
      "1\n",
      "2\n",
      "3\n",
      "4\n",
      "With omitting new lines\n",
      "1 2 3 4 \n",
      "I-am-a-separator\n",
      "Season is not Seasonal\n"
     ]
    }
   ],
   "source": [
    "print(\"Without omitting new lines\")\n",
    "for i in range(1,5):\n",
    "    print(i)\n",
    "print(\"With omitting new lines\")\n",
    "for i in range(1,5):\n",
    "    print(i, end=' ')\n",
    "\n",
    "print(\"\\nI\",\"am\",\"a\",\"separator\",sep='-')\n",
    "\n",
    "print(\"Season is not\"+' '+'Seasonal')"
   ]
  },
  {
   "cell_type": "markdown",
   "metadata": {},
   "source": [
    "## Data Structure: Lists\n",
    "\n",
    "#### Prerequisites:\n",
    "\n",
    "#### i. Define ways to create the list"
   ]
  },
  {
   "cell_type": "markdown",
   "metadata": {},
   "source": [
    "- We can create a list object python using a built-in list() function.\n",
    "- Also we can create a list by enclosing the elements of list in the square brackets."
   ]
  },
  {
   "cell_type": "code",
   "execution_count": 130,
   "metadata": {},
   "outputs": [
    {
     "name": "stdout",
     "output_type": "stream",
     "text": [
      "[1, 2, 3]\n",
      "[1, 2, 3]\n"
     ]
    }
   ],
   "source": [
    "first = list((1,2,3))\n",
    "print(first)\n",
    "\n",
    "second = [1,2,3]\n",
    "print(second)"
   ]
  },
  {
   "cell_type": "markdown",
   "metadata": {},
   "source": [
    "ii. Solve prerequisites using \n",
    "    1. hard coded inputs\n",
    "    2. take input from user"
   ]
  },
  {
   "cell_type": "markdown",
   "metadata": {},
   "source": [
    "iii. WAP to create list and print the elements, type and address of the elements from list. Shallow copy list and again print the elements, type and address of the elements. Deep copy the list and print the elements, type and address of the elements."
   ]
  },
  {
   "cell_type": "code",
   "execution_count": 131,
   "metadata": {},
   "outputs": [
    {
     "name": "stdout",
     "output_type": "stream",
     "text": [
      "98 <class 'int'> 140715441341248\n",
      "54.2 <class 'float'> 3041258330896\n",
      "(45+8j) <class 'complex'> 3041258330032\n",
      "sarthak <class 'str'> 3041244249712\n",
      "[1, 2, 3] <class 'list'> 3041244124480\n",
      "(4, 5, 6) <class 'tuple'> 3041244087424\n",
      "\n",
      "[98, 54.2, (45+8j), 'sarthak', [1, 2, 3], (4, 5, 6)]\n",
      "98 <class 'int'> 140715441341248\n",
      "54.2 <class 'float'> 3041258330896\n",
      "(45+8j) <class 'complex'> 3041258330032\n",
      "sarthak <class 'str'> 3041244249712\n",
      "[1, 2, 3] <class 'list'> 3041244124480\n",
      "(4, 5, 6) <class 'tuple'> 3041244087424\n",
      "\n",
      "[98, 54.2, (45+8j), 'sarthak', [1, 2, 3], (4, 5, 6)]\n",
      "98 <class 'int'> 140715441341248\n",
      "54.2 <class 'float'> 3041258330896\n",
      "(45+8j) <class 'complex'> 3041258330032\n",
      "sarthak <class 'str'> 3041244249712\n",
      "[1, 2, 3] <class 'list'> 3041244104256\n",
      "(4, 5, 6) <class 'tuple'> 3041244087424\n"
     ]
    }
   ],
   "source": [
    "list_iii = [98, 54.2, 45+8j, 'sarthak', [1,2,3], (4,5,6)]\n",
    "for i in list_iii:\n",
    "    print(i, type(i), id(i))\n",
    "    \n",
    "print()\n",
    "import copy\n",
    "s_copy = copy.copy(list_iii)\n",
    "print(s_copy)\n",
    "for i in s_copy:\n",
    "    print(i, type(i), id(i))\n",
    "    \n",
    "print()\n",
    "d_copy = copy.deepcopy(list_iii)\n",
    "print(d_copy)\n",
    "for i in d_copy:\n",
    "    print(i, type(i), id(i))"
   ]
  },
  {
   "cell_type": "markdown",
   "metadata": {},
   "source": [
    "iv. WAP to create two lists of same elements and print their address, element type, element address and elements. Check the equality of lists."
   ]
  },
  {
   "cell_type": "code",
   "execution_count": 132,
   "metadata": {},
   "outputs": [
    {
     "name": "stdout",
     "output_type": "stream",
     "text": [
      "[(10, <class 'int'>, 140715441338432), (20, <class 'int'>, 140715441338752), (40, <class 'int'>, 140715441339392)]\n",
      "[(10, <class 'int'>, 140715441338432), (20, <class 'int'>, 140715441338752), (40, <class 'int'>, 140715441339392)]\n",
      "True\n"
     ]
    }
   ],
   "source": [
    "l1 = [10,20,40]\n",
    "l2 = [10,20,40]\n",
    "\n",
    "l1_info = [(i,type(i),id(i)) for i in l1]\n",
    "l2_info = [(i,type(i),id(i)) for i in l2]\n",
    "\n",
    "print(l1_info)\n",
    "print(l2_info)\n",
    "print(l1 == l2)"
   ]
  },
  {
   "cell_type": "markdown",
   "metadata": {},
   "source": [
    "v. WAP to create the clone and alias of the list and print their address, element type, element address and elements \n",
    "Questions"
   ]
  },
  {
   "cell_type": "code",
   "execution_count": 134,
   "metadata": {},
   "outputs": [
    {
     "name": "stdout",
     "output_type": "stream",
     "text": [
      "The list_b is:  [10, 20, 30, 40, 50, 60]\n",
      "The list_a is:  [10, 20, 30, 40, 50, 60]\n",
      "3041244026752 3041244026752\n"
     ]
    }
   ],
   "source": [
    "list_a = [10,20,30,40]\n",
    "list_b = list_a\n",
    "list_b.append(50)\n",
    "list_b.append(60)\n",
    "print(\"The list_b is: \", list_b)\n",
    "print(\"The list_a is: \", list_a)\n",
    "print(id(list_a),id(list_b))"
   ]
  },
  {
   "cell_type": "markdown",
   "metadata": {},
   "source": [
    "v. What are the iteration ways available to acces elements of list"
   ]
  },
  {
   "cell_type": "code",
   "execution_count": 136,
   "metadata": {},
   "outputs": [
    {
     "name": "stdout",
     "output_type": "stream",
     "text": [
      "Using for loop:  1 Using for loop:  2 Using for loop:  4 Using for loop:  5 Using range function:  11\n",
      "Using range function:  12\n",
      "Using range function:  14\n",
      "Using range function:  15\n",
      "Using list comprehension:  [9, 10, 12, 13]\n",
      "Using while loop:  1\n",
      "Using while loop:  2\n",
      "Using while loop:  4\n",
      "Using while loop:  5\n",
      "Using enumerate function:  (0, 1)\n",
      "Using enumerate function:  (1, 2)\n",
      "Using enumerate function:  (2, 4)\n",
      "Using enumerate function:  (3, 5)\n"
     ]
    }
   ],
   "source": [
    "list_v = [1,2,4,5]\n",
    "\n",
    "\n",
    "# using for loop\n",
    "for i in list_v:\n",
    "    print(\"Using for loop: \", i,end=' ')\n",
    "\n",
    "# using range funtion\n",
    "for i in range(len(list_v)):\n",
    "    print(\"Using range function: \", list_v[i]+10)\n",
    "    \n",
    "# using list comprehension\n",
    "list_m = [i+8 for i in list_v]\n",
    "print(\"Using list comprehension: \", list_m)\n",
    "\n",
    "# using while loop\n",
    "n = 0\n",
    "while n < len(list_v):\n",
    "    print(\"Using while loop: \", list_v[n])\n",
    "    n += 1\n",
    "    \n",
    "    \n",
    "# using enumrate function\n",
    "for i in enumerate(list_v):\n",
    "    print(\"Using enumerate function: \", i)"
   ]
  },
  {
   "cell_type": "markdown",
   "metadata": {},
   "source": [
    "1. WAP to create the list perform below operaions on it"
   ]
  },
  {
   "cell_type": "code",
   "execution_count": 137,
   "metadata": {},
   "outputs": [
    {
     "name": "stdout",
     "output_type": "stream",
     "text": [
      "Traversing list:  78 Traversing list:  67 Traversing list:  34 Traversing list:  23 Traversing list:  13 Traversing list:  56 Maximum of list:  78\n",
      "Minimum of list:  13\n",
      "[56, 13, 23, 34, 67, 78]\n",
      "The sum of all elements of list:  271\n",
      "The average of all elements of list:  45.17\n",
      "The sorted list is:  [13, 23, 34, 56, 67, 78]\n"
     ]
    }
   ],
   "source": [
    "## 1. print all elements from list by traversing \n",
    "\n",
    "list_1 = [78,67,34,23,13,56]\n",
    "for i in list_1:\n",
    "    print(\"Traversing list: \", i, end=' ')\n",
    "    \n",
    "## 2. get maximum from list\n",
    "print(\"Maximum of list: \", max(list_1))\n",
    "\n",
    "## 3. get minimum from list\n",
    "print(\"Minimum of list: \", min(list_1))\n",
    "\n",
    "## 4. reverse the list\n",
    "list_1.reverse()\n",
    "print(list_1)\n",
    "\n",
    "## 5. get sum of all the elements from list\n",
    "print(\"The sum of all elements of list: \", sum(list_1))\n",
    "\n",
    "## 6. get average of all elements from list\n",
    "print(\"The average of all elements of list: \", round((sum(list_1)/len(list_1)),2))\n",
    "\n",
    "## 7. sort the list\n",
    "list_1.sort()\n",
    "print(\"The sorted list is: \", list_1)"
   ]
  },
  {
   "cell_type": "code",
   "execution_count": 138,
   "metadata": {},
   "outputs": [
    {
     "name": "stdout",
     "output_type": "stream",
     "text": [
      "The list after removing elements:  [78, 67, 34, 23, 13, 56]\n",
      "The list is empty\n",
      "The copy of list is created:  [78, 67, 34, 23, 13, 56, 56, 34, 78]\n",
      "The list after appending and extending elements:  [78, 67, 34, 23, 13, 56, 56, 34, 78, 100, 500, 600, 700]\n",
      "The list after removing 100:  [78, 67, 34, 23, 13, 56, 56, 34, 78, 500, 600, 700]\n",
      "The first and last updated elements in the list:  [1000, 67, 34, 23, 13, 56, 56, 34, 78, 500, 600, 1000]\n"
     ]
    }
   ],
   "source": [
    "list_2 = [78,67,34,23,13,56,56,34,78]\n",
    "\n",
    "## 8. remove duplicates\n",
    "dup = []\n",
    "[dup.append(i) for i in list_2 if i not in dup]\n",
    "print(\"The list after removing elements: \", dup)\n",
    "\n",
    "## 9. check if list is empty or not\n",
    "empty = []\n",
    "if len(empty) == 0:\n",
    "    print(\"The list is empty\")\n",
    "    \n",
    "## 10. clone or copy the list\n",
    "copy_r = list_2.copy()\n",
    "print('The copy of list is created: ', copy_r)\n",
    "\n",
    "## 11. add new elements (append and extend)\n",
    "list_2.append(100)\n",
    "list_2.extend([500,600,700])\n",
    "print(\"The list after appending and extending elements: \", list_2)\n",
    "\n",
    "## 12. remove elements\n",
    "list_2.remove(100)\n",
    "print(\"The list after removing 100: \", list_2)\n",
    "\n",
    "## 13. update elements\n",
    "list_2[0] = 1000\n",
    "list_2[-1] = 1000\n",
    "print(\"The first and last updated elements in the list: \", list_2)"
   ]
  },
  {
   "cell_type": "code",
   "execution_count": 139,
   "metadata": {},
   "outputs": [
    {
     "name": "stdout",
     "output_type": "stream",
     "text": [
      "Element at 3rd position 400 and Element at 5th position is:  600\n",
      "The shuffled list is:  None\n",
      "The element at index  0 is:  500\n",
      "The element at index  1 is:  700\n",
      "The element at index  2 is:  400\n",
      "The element at index  3 is:  100\n",
      "The element at index  4 is:  600\n",
      "The element at index  5 is:  1000\n",
      "The element at index  6 is:  300\n",
      "The element at index  7 is:  200\n",
      "The element at index  8 is:  800\n",
      "The element at index  9 is:  900\n",
      "The concatenation of two lists using extend:  [500, 700, 400, 100, 600, 1000, 300, 200, 800, 900, 1100, 1200, 1300, 1400, 1500]\n"
     ]
    }
   ],
   "source": [
    "list_3 = [100,200,300,400,500,600,700,800,900,1000]\n",
    "\n",
    "## 14. retrieve element from 3rd and 5th position\n",
    "print(\"Element at 3rd position\", list_3[3], \"and Element at 5th position is: \", list_3[5])\n",
    "\n",
    "## 15. create another list and compare with list created for earlier questions\n",
    "\n",
    "\n",
    "## 16. shuffle the list and print all elements\n",
    "import random\n",
    "print(\"The shuffled list is: \", random.shuffle(list_3))\n",
    "\n",
    "## 17. print element and index of that element\n",
    "for i in range(len(list_3)):\n",
    "    print(\"The element at index \",i,\"is: \",list_3[i])\n",
    "    \n",
    "## 18. concat two lists\n",
    "list_4 = [1100,1200,1300,1400,1500]\n",
    "list_3.extend(list_4)\n",
    "print(\"The concatenation of two lists using extend: \", list_3)"
   ]
  },
  {
   "cell_type": "code",
   "execution_count": 140,
   "metadata": {},
   "outputs": [
    {
     "name": "stdout",
     "output_type": "stream",
     "text": [
      "The array is:  array('i', [12, 13, 14, 12, 13, 14, 14, 15, 12, 13, 16, 16, 12, 13])\n",
      "Unique elements from the list are:  [12, 13, 14, 15, 16]\n",
      "List after popping the first element:  [13, 14, 12, 13, 14, 14, 15, 12, 13, 16, 16, 12, 13]\n",
      "The list after removing all the elements:  []\n",
      "Checking if list contains k or not:  True\n",
      "The length of list is:  7\n",
      "[4, 5, 6, 7, 8, 9, 10]\n",
      "Insert element in sorted list and maintain order:  [4, 5, 6, 7, 8, 9, 10, 11]\n",
      "The last three elements of list are:  [7, 6, 5]\n"
     ]
    }
   ],
   "source": [
    "list_5 = [12,13,14,12,13,14,14,15,12,13,16,16,12,13]\n",
    "## 19. convert list t array (without using Numpy)\n",
    "from array import array\n",
    "print(\"The array is: \", array('i',list_5))\n",
    "## 20. get unique elements from list\n",
    "unique = []\n",
    "[unique.append(i) for i in list_5 if i not in unique]\n",
    "print(\"Unique elements from the list are: \", unique)\n",
    "## 21. pop first element from list\n",
    "list_5.pop(0)\n",
    "print(\"List after popping the first element: \", list_5)\n",
    "## 22. get index of the 1st matching element\n",
    "\n",
    "## 23. remove all elements from a list\n",
    "list_5.clear()\n",
    "print(\"The list after removing all the elements: \", list_5)\n",
    "## 24. check whether list containf specific element or not\n",
    "## 25. check whther element is member of list of not\n",
    "list_6 = [10,9,8,7,6,5,4]\n",
    "k = 6\n",
    "print(\"Checking if list contains k or not: \", k in list_6)\n",
    "## 26. get lenght of list\n",
    "print(\"The length of list is: \", len(list_6))\n",
    "## 27. insert element in sorted list and maintain order\n",
    "sort_list = sorted(list_6)\n",
    "print(sort_list)\n",
    "sort_list.append(sort_list[-1]+1)\n",
    "print(\"Insert element in sorted list and maintain order: \", sort_list)\n",
    "## 28. access last three elements using slice operation\n",
    "print(\"The last three elements of list are: \", list_6[-4:-1])"
   ]
  },
  {
   "cell_type": "markdown",
   "metadata": {},
   "source": [
    "#### 2. create two losts and perform below operations \n",
    "\t1. concatination\n",
    "\t2. repetations"
   ]
  },
  {
   "cell_type": "code",
   "execution_count": 141,
   "metadata": {},
   "outputs": [
    {
     "name": "stdout",
     "output_type": "stream",
     "text": [
      "Concatenating two lists:  [1, 2, 3, 4, 5, 6]\n",
      "Repetation of a list n times:  [1, 2, 3, 1, 2, 3, 1, 2, 3, 1, 2, 3, 1, 2, 3]\n"
     ]
    }
   ],
   "source": [
    "list_2a = [1,2,3]\n",
    "list_2b = [4,5,6]\n",
    "print(\"Concatenating two lists: \", list_2a + list_2b)\n",
    "print(\"Repetation of a list n times: \", list_2a*5)"
   ]
  },
  {
   "cell_type": "markdown",
   "metadata": {},
   "source": [
    "#### 3. WAP to retrieve elemnts from random index"
   ]
  },
  {
   "cell_type": "code",
   "execution_count": 142,
   "metadata": {},
   "outputs": [
    {
     "name": "stdout",
     "output_type": "stream",
     "text": [
      "c\n"
     ]
    }
   ],
   "source": [
    "import random\n",
    "list_3a = ['a','b','c','d','e']\n",
    "ind = [i for i in range(len(list_3a))]\n",
    "print(list_3a[random.choice(ind)])"
   ]
  },
  {
   "cell_type": "markdown",
   "metadata": {},
   "source": [
    "#### 4. WAP to generate all permutations of a list"
   ]
  },
  {
   "cell_type": "code",
   "execution_count": 143,
   "metadata": {},
   "outputs": [
    {
     "data": {
      "text/plain": [
       "[(1, 2, 4), (1, 4, 2), (2, 1, 4), (2, 4, 1), (4, 1, 2), (4, 2, 1)]"
      ]
     },
     "execution_count": 143,
     "metadata": {},
     "output_type": "execute_result"
    }
   ],
   "source": [
    "list_4a = [1,2,4]\n",
    "import itertools\n",
    "list(itertools.permutations(list_4a))"
   ]
  },
  {
   "cell_type": "markdown",
   "metadata": {},
   "source": [
    "#### 5. WAP to get difference between two lists"
   ]
  },
  {
   "cell_type": "code",
   "execution_count": 144,
   "metadata": {},
   "outputs": [
    {
     "name": "stdout",
     "output_type": "stream",
     "text": [
      "[1, 2, 5, 6]\n"
     ]
    }
   ],
   "source": [
    "list_5a = [1,2,3,4]\n",
    "list_5b = [3,4,5,6]\n",
    "print(list(set(list_5a) - set(list_5b)) + list(set(list_5b) - set(list_5a)))"
   ]
  },
  {
   "cell_type": "markdown",
   "metadata": {},
   "source": [
    "#### 6. WAP to convert the list of string to chars"
   ]
  },
  {
   "cell_type": "code",
   "execution_count": 145,
   "metadata": {},
   "outputs": [
    {
     "name": "stdout",
     "output_type": "stream",
     "text": [
      "['B', 'o', 'y', 'i', 's', 'w', 'o', 'r', 'k', 'i', 'n', 'g']\n"
     ]
    }
   ],
   "source": [
    "list_6a = ['Boy', 'is', 'work', 'ing']\n",
    "print([y for x in list_6a for y in x])"
   ]
  },
  {
   "cell_type": "markdown",
   "metadata": {},
   "source": [
    "#### 7. WAP to convert Shallow list => a list of lists => [[a,b,c],[d,e,f],[g,h,l]] to flat list [a,b,c,d,e,f,g,h,l]"
   ]
  },
  {
   "cell_type": "code",
   "execution_count": 146,
   "metadata": {},
   "outputs": [
    {
     "name": "stdout",
     "output_type": "stream",
     "text": [
      "['a', 'b', 'c', 'd', 'e', 'f', 'g', 'h', 'l']\n"
     ]
    }
   ],
   "source": [
    "data = [['a','b','c'],['d','e','f'],['g','h','l']]\n",
    "print([j for i in data for j in i])"
   ]
  },
  {
   "cell_type": "markdown",
   "metadata": {},
   "source": [
    "#### 8. WAP check whether two lists are circularly identical"
   ]
  },
  {
   "cell_type": "code",
   "execution_count": 147,
   "metadata": {},
   "outputs": [
    {
     "name": "stdout",
     "output_type": "stream",
     "text": [
      "True\n"
     ]
    }
   ],
   "source": [
    "list_8a = [9,9,9,3,3]\n",
    "list_8b = [3,3,9,9,9]\n",
    "\n",
    "print(\"\".join([str(i) for i in sorted(list_8a)]) == \"\".join([str(i) for i in sorted(list_8b)]))"
   ]
  },
  {
   "cell_type": "markdown",
   "metadata": {},
   "source": [
    "#### 9. WAP to get second smallest number from list"
   ]
  },
  {
   "cell_type": "code",
   "execution_count": 148,
   "metadata": {},
   "outputs": [
    {
     "name": "stdout",
     "output_type": "stream",
     "text": [
      "2\n"
     ]
    }
   ],
   "source": [
    "list_9a = [1,2,3,4,5,1,2,3,9,3,5,6,7,8]\n",
    "count = 0\n",
    "new = []\n",
    "for x in list_9a:\n",
    "    if(x not in new):\n",
    "        new.append(x)\n",
    "        count+=1\n",
    "    if(count==2):\n",
    "        break\n",
    "print(max(new))"
   ]
  },
  {
   "cell_type": "markdown",
   "metadata": {},
   "source": [
    "#### 10 WAP iterate over more than two lists at the same time"
   ]
  },
  {
   "cell_type": "code",
   "execution_count": 149,
   "metadata": {},
   "outputs": [
    {
     "name": "stdout",
     "output_type": "stream",
     "text": [
      "1 4\n",
      "2 5\n",
      "3 6\n"
     ]
    }
   ],
   "source": [
    "list_10a = [1,2,3]\n",
    "list_10b = [4,5,6]\n",
    "for x,y in zip(list_10a,list_10b):\n",
    "    print(x,y)"
   ]
  },
  {
   "cell_type": "markdown",
   "metadata": {},
   "source": [
    "#### 11. WAP to find whether given string is a palindrome without using reversed() inbuilt function"
   ]
  },
  {
   "cell_type": "code",
   "execution_count": 150,
   "metadata": {},
   "outputs": [
    {
     "name": "stdout",
     "output_type": "stream",
     "text": [
      "Enter the String: AAAKAAA\n",
      "AAAKAAA  : is a Palindrome String\n"
     ]
    }
   ],
   "source": [
    "a = input(\"Enter the String: \") \n",
    "len_a = len(a) \n",
    "y = int(len_a/2) \n",
    " \n",
    "if a[0:y] == a[-1:-y-1:-1]: \n",
    "    print(a, \" : is a Palindrome String\") \n",
    "else: \n",
    "    print(a, \" : is not a Palindrome String\") "
   ]
  },
  {
   "cell_type": "markdown",
   "metadata": {},
   "source": [
    "#### 12. Create a tuple and convert it to list"
   ]
  },
  {
   "cell_type": "code",
   "execution_count": 151,
   "metadata": {},
   "outputs": [
    {
     "name": "stdout",
     "output_type": "stream",
     "text": [
      "[90, 91, 92, 93, 94, 95]\n"
     ]
    }
   ],
   "source": [
    "tup_12 = (90,91,92,93,94,95)\n",
    "print(list(tup_12))"
   ]
  },
  {
   "cell_type": "markdown",
   "metadata": {},
   "source": [
    "#### 13. WAP to append sequence to list"
   ]
  },
  {
   "cell_type": "code",
   "execution_count": 152,
   "metadata": {},
   "outputs": [
    {
     "name": "stdout",
     "output_type": "stream",
     "text": [
      "[10, 20, 30, 40, 50]\n"
     ]
    }
   ],
   "source": [
    "list_13 = [30,40,50]\n",
    "list_13[:0] = [10,20]\n",
    "print(list_13)"
   ]
  },
  {
   "cell_type": "markdown",
   "metadata": {},
   "source": [
    "14. List and explain the time complexities of below operations on list\n",
    "\n",
    "\tCopy\n",
    "\tAppend[1]\n",
    "\tPop last\n",
    "\tPop intermediate\n",
    "\tInsert\n",
    "\tGet Item\n",
    "\tSet Item\n",
    "\tDelete Item\n",
    "\tIteration\n",
    "\tGet Slice\n",
    "\tDel Slice\n",
    "\tSet Slice\n",
    "\tExtend[1]\n",
    "\tSort\n",
    "\tmin(s), max(s)\n",
    "\tGet Length\n",
    "   "
   ]
  },
  {
   "cell_type": "markdown",
   "metadata": {},
   "source": [
    "|Operation|Time Complexcity|Explaination|\n",
    "|:---|:---|:---|\n",
    "| Copy|O(n)|the algorithms take proportionally longer to complete as the input grows|\n",
    "|Append[1]|O(1)|take the same amount of time to compute regardless of the input size|\n",
    "|Pop last|O(1)|take the same amount of time to compute regardless of the input size|\n",
    "|Pop intermediate|O(n)|the algorithms take proportionally longer to complete as the input grows|\n",
    "|Insert|O(n)|the algorithms take proportionally longer to complete as the input grows|\n",
    "|Get Item|O(1)|take the same amount of time to compute regardless of the input size|\n",
    "|Set Item|O(1)|take the same amount of time to compute regardless of the input size|\n",
    "|Delete Item|O(n)|the algorithms take proportionally longer to complete as the input grows|\n",
    "|Iteration|O(n)|the algorithms take proportionally longer to complete as the input grows|\n",
    "|Get Slice|O(k)|If  k  is independent of the input size (i.e., is constant), there is no difference.k∈Θ(1) |\n",
    "|Del Slice|O(n)|the algorithms take proportionally longer to complete as the input grows\n",
    "|Set Slice|O(n+k)| n is the size of array and k is the biggest element in the list |\n",
    "|Extend[1]|O(k)|If  k  is independent of the input size (i.e., is constant), there is no difference.k∈Θ(1) |\n",
    "|Sort|O(n log n)|Linearithmic|\n",
    "|min(s), max(s)|O(n)|the algorithms take proportionally longer to complete as the input grows|\n",
    "|Get Length|O(1)|take the same amount of time to compute regardless of the input size|"
   ]
  },
  {
   "cell_type": "markdown",
   "metadata": {},
   "source": [
    "15. WAP to make all strings from a given list equal by replacing minimum number of characters"
   ]
  },
  {
   "cell_type": "code",
   "execution_count": 153,
   "metadata": {},
   "outputs": [
    {
     "name": "stdout",
     "output_type": "stream",
     "text": [
      "AABKK\n",
      "2\n",
      "LLKKJJOOJJKKLL\n",
      "6\n",
      "WWWXXXXWWW\n",
      "1\n"
     ]
    }
   ],
   "source": [
    "list_15 = ['AABKK',\"LLKKJJOOJJKKLL\",'WWWXXXXWWW']\n",
    "for j in (list_15):\n",
    "    string = j\n",
    "    print(j)\n",
    "    elements = len(string)\n",
    "    alphabets = [0]*27\n",
    "    for letter in string:\n",
    "        alphabets[ord(letter) - 65] = alphabets[ord(letter) - 65] + 1\n",
    "    alphabets = sorted(alphabets, reverse=True)\n",
    "    mini = elements + 1\n",
    "    for count in range(1,27):\n",
    "        if elements%count == 0:\n",
    "            stored = elements//count\n",
    "            swapping = 0\n",
    "            \n",
    "        for ele in range(count):\n",
    "            if stored > alphabets[ele]:\n",
    "                swapping = swapping + stored - alphabets[ele]\n",
    "        if swapping <= mini:\n",
    "            mini = swapping\n",
    "    if mini == elements+1:\n",
    "        mini = 0\n",
    "    print(mini)"
   ]
  },
  {
   "cell_type": "markdown",
   "metadata": {},
   "source": [
    "16. Given two list of Holes and Balls consisting of N and M integers respectively, denoting the diameter of holes and balls respectively. M number of balls are made to roll from A to B on a sloping surface with N holes, each having different depth.\n",
    "\n",
    "The task is to find the eventual position of each ball in the order of the ball released considering the following:\n",
    "\n",
    "\t- A ball will fall into a hole if its diameter is less than or equal to the diameter of the hole.\n",
    "\t- A hole Hi will become full if i numbers of balls fall into it.\n",
    "\t- If a hole is full, then no more balls fall into it.\n",
    "\t- A ball will reach B from A, if and only if it is not falling into any one of the holes.\n",
    "\t- If a ball is in hole Pi, then its position is i. If a ball reached the bottom point B, then take its position as 0.\n",
    "\t\n",
    "Explanation:\n",
    "\n",
    "\tBall of diameter 20 will fall into the hole H1 and the hole H1 will become full.\n",
    "\tBalls with diameter 15, 7 and 10 will reach bottom, since the hole H1 is full and diameters of holes H2 and H3 are less than the diameters of the balls.\n",
    "\tBalls with diameters 5, 4 and 2 will fall into the hole H3.\n",
    "\tBall with diameter 1 will fall into the hole H2 since the hole H3 is already full.\n",
    "\tBall with diameter 3 will fall into hole H2.\n",
    "\tBalls with diameters 6, and 8 will reach the bottom point B.\n",
    "\tThe position of ball 20 is 1 because it is in hole H1.\n",
    "\tPositions of ball 15, 7, 10, 3, 6, and 8 are 0 because they reached the bottom point B.\n",
    "\tTherefore, the balls with diameter 5, 4 and 2 are in the 3rd hole H3, the ball with diameter 1 and 3 are in the 2nd hole H2.\n",
    "\t\n",
    "\tInput: H[] = {20, 15, 10, 5, 25}, B[] = {5, 10, 15, 20, 25, 30, 4, 9, 14, 19}\n",
    "\tOutput: 5 5 5 5 5 0 4 3 2 1\n"
   ]
  },
  {
   "cell_type": "code",
   "execution_count": null,
   "metadata": {},
   "outputs": [],
   "source": []
  },
  {
   "cell_type": "markdown",
   "metadata": {},
   "source": [
    "## Solve below programs using lists and create anoth solution using list comprehension\n",
    "\n",
    "#### 17. WAP to extract elements with Frequency greater than K"
   ]
  },
  {
   "cell_type": "code",
   "execution_count": 154,
   "metadata": {},
   "outputs": [
    {
     "name": "stdout",
     "output_type": "stream",
     "text": [
      "76 4\n",
      "89 3\n",
      "90 7\n",
      "[(76, 4), (89, 3), (90, 7)]\n"
     ]
    }
   ],
   "source": [
    "list_17 = [90,89,90,78,90,56,90,76,76,90,90,87,89,90,89,76,76,78]\n",
    "k = 2\n",
    "for i in set(list_17):\n",
    "    if i in list_17:\n",
    "        if list_17.count(i) > k:\n",
    "            print(i, list_17.count(i))\n",
    "            \n",
    "print([(i, list_17.count(i)) for i in set(list_17) if i in list_17 if list_17.count(i) > k])"
   ]
  },
  {
   "cell_type": "markdown",
   "metadata": {},
   "source": [
    "#### 18. WAP to extract elements with equal frequency as value\n",
    "\n",
    "    Input : test_list = [4, 3, 2, 2, 3, 4, 1, 3, 2, 4, 4] \n",
    "    Output : [1, 3, 4] \n",
    "    Explanation : All elements occur equal times as their value."
   ]
  },
  {
   "cell_type": "code",
   "execution_count": 155,
   "metadata": {},
   "outputs": [
    {
     "name": "stdout",
     "output_type": "stream",
     "text": [
      "1\n",
      "3\n",
      "4\n",
      "[1, 3, 4]\n"
     ]
    }
   ],
   "source": [
    "list_18 = [4, 3, 2, 2, 3, 4, 1, 3, 2, 4, 4]\n",
    "for i in set(list_18):\n",
    "    if list_18.count(i) == i:\n",
    "        print(i)\n",
    "        \n",
    "print(list(set([i for i in list_18 if list_18.count(i) == i])))"
   ]
  },
  {
   "cell_type": "markdown",
   "metadata": {},
   "source": [
    "#### 19. Create the nested list and extract elements of same index"
   ]
  },
  {
   "cell_type": "code",
   "execution_count": 156,
   "metadata": {},
   "outputs": [
    {
     "name": "stdout",
     "output_type": "stream",
     "text": [
      "[45, 24, 102, 21, 85]\n",
      "[45, 24, 102, 21, 85]\n"
     ]
    }
   ],
   "source": [
    "list_19 = [[[98, 45, 4], [13, 24, 98], [76, 102, 34], [57, 21, 43], [98, 85, 31]]]\n",
    "result = []\n",
    "for i in list_19[0]:\n",
    "    result.append(i[1])\n",
    "print(result)\n",
    "\n",
    "print([i[1] for i in list_19[0]])"
   ]
  },
  {
   "cell_type": "markdown",
   "metadata": {},
   "source": [
    "#### 20. WAP to update the elements from list who are greater than n (ex. elements greater than 10)"
   ]
  },
  {
   "cell_type": "code",
   "execution_count": 157,
   "metadata": {},
   "outputs": [
    {
     "name": "stdout",
     "output_type": "stream",
     "text": [
      "[100, 10, 9, 8, 6, 100, 100, 10, 8, 10, 9, 100, 100, 6]\n",
      "[100, 10, 9, 8, 6, 100, 100, 10, 8, 10, 9, 100, 100, 6]\n"
     ]
    }
   ],
   "source": [
    "list_20 = [12, 10, 9, 8, 6, 13, 14, 10, 8, 10, 9, 14, 15, 6]\n",
    "\n",
    "for i in range(len(list_20)):\n",
    "    if list_20[i] > 10:\n",
    "        list_20[i] = 100\n",
    "print(list_20)\n",
    "\n",
    "list_20 = [12, 10, 9, 8, 6, 13, 14, 10, 8, 10, 9, 14, 15, 6]\n",
    "print([100  if list_20[i] > 10 else list_20[i] for i in range(len(list_20))])"
   ]
  },
  {
   "cell_type": "markdown",
   "metadata": {},
   "source": [
    "#### 21. WAP to print True if any value in a list is divisible by 2, use \"any\" function"
   ]
  },
  {
   "cell_type": "code",
   "execution_count": 158,
   "metadata": {},
   "outputs": [
    {
     "name": "stdout",
     "output_type": "stream",
     "text": [
      "True\n"
     ]
    }
   ],
   "source": [
    "list_21 = [24,76,45,76,90,43,76,43,23,88]\n",
    "\n",
    "print(any(list(map(lambda x: x % 2 == 0, list_21))))"
   ]
  },
  {
   "cell_type": "markdown",
   "metadata": {},
   "source": [
    "#### 22. WAP to print True if all values in a list are negative, use \"all\" function"
   ]
  },
  {
   "cell_type": "code",
   "execution_count": 159,
   "metadata": {},
   "outputs": [
    {
     "name": "stdout",
     "output_type": "stream",
     "text": [
      "False\n",
      "True\n"
     ]
    }
   ],
   "source": [
    "list_22_1 = [4,-87,+5,-9]\n",
    "print(all(list(map(lambda x: x < 0, list_22_1))))\n",
    "\n",
    "list_22_2 = [-4,-87,-5,-9]\n",
    "print(all(list(map(lambda x: x < 0, list_22_2))))"
   ]
  },
  {
   "cell_type": "markdown",
   "metadata": {},
   "source": [
    "#### 23. What is diffrence between reverse and reversed"
   ]
  },
  {
   "cell_type": "markdown",
   "metadata": {},
   "source": [
    "- The reverse method available to specifically for data types as in the list of their buil-in methods in python.\n",
    "- The reversed is a built-in function in python not specifically available any list of built-in methods of any data types.\n",
    "- Let's look at the example:"
   ]
  },
  {
   "cell_type": "code",
   "execution_count": 160,
   "metadata": {},
   "outputs": [
    {
     "name": "stdout",
     "output_type": "stream",
     "text": [
      "Original List:  [23, 24, 25, 26, 27]\n",
      "using reversed():  [27, 26, 25, 24, 23]\n",
      "using list.reverse() method:  [27, 26, 25, 24, 23]\n"
     ]
    }
   ],
   "source": [
    "list_23 = [23,24,25,26,27]\n",
    "print(\"Original List: \", list_23)\n",
    "print(\"using reversed(): \", list(reversed(list_23)))  # This is a in-built function of python\n",
    "list_23.reverse() # This is a built-in method of list in python\n",
    "print(\"using list.reverse() method: \", list_23)"
   ]
  },
  {
   "cell_type": "markdown",
   "metadata": {},
   "source": [
    "#### 24. Is it pssible to sort an list of int having None in it. What will happen if we try to perform any operation on such lists."
   ]
  },
  {
   "cell_type": "markdown",
   "metadata": {},
   "source": [
    "- None is a special constant that represents the null value or absence. It is an object which has it's own data type. There is limitation to create multiple None objects but we can assign them to variables. The care should be taken that, None does not implies 0 or False or any empty list, string or dictionary.\n",
    "- So, here can not sort an list of integers having None in it. It will trace back a TypeError. An TypeError generally suggests that, it occurs when our operation is correct but the data is wrong."
   ]
  },
  {
   "cell_type": "code",
   "execution_count": 162,
   "metadata": {},
   "outputs": [
    {
     "ename": "TypeError",
     "evalue": "'<' not supported between instances of 'NoneType' and 'int'",
     "output_type": "error",
     "traceback": [
      "\u001b[1;31m---------------------------------------------------------------------------\u001b[0m",
      "\u001b[1;31mTypeError\u001b[0m                                 Traceback (most recent call last)",
      "\u001b[1;32m<ipython-input-162-5445cf81f443>\u001b[0m in \u001b[0;36m<module>\u001b[1;34m\u001b[0m\n\u001b[0;32m      1\u001b[0m \u001b[0mlist_24\u001b[0m \u001b[1;33m=\u001b[0m \u001b[1;33m[\u001b[0m\u001b[1;36m67\u001b[0m\u001b[1;33m,\u001b[0m\u001b[1;36m89\u001b[0m\u001b[1;33m,\u001b[0m\u001b[1;32mNone\u001b[0m\u001b[1;33m,\u001b[0m\u001b[1;36m88\u001b[0m\u001b[1;33m]\u001b[0m\u001b[1;33m\u001b[0m\u001b[1;33m\u001b[0m\u001b[0m\n\u001b[1;32m----> 2\u001b[1;33m \u001b[0mprint\u001b[0m\u001b[1;33m(\u001b[0m\u001b[0msorted\u001b[0m\u001b[1;33m(\u001b[0m\u001b[0mlist_24\u001b[0m\u001b[1;33m)\u001b[0m\u001b[1;33m)\u001b[0m\u001b[1;33m\u001b[0m\u001b[1;33m\u001b[0m\u001b[0m\n\u001b[0m",
      "\u001b[1;31mTypeError\u001b[0m: '<' not supported between instances of 'NoneType' and 'int'"
     ]
    }
   ],
   "source": [
    "list_24 = [67,89,None,88]\n",
    "print(sorted(list_24))"
   ]
  },
  {
   "cell_type": "markdown",
   "metadata": {},
   "source": [
    "#### 25. Implement stack and queue using list"
   ]
  },
  {
   "cell_type": "code",
   "execution_count": 163,
   "metadata": {},
   "outputs": [
    {
     "name": "stdout",
     "output_type": "stream",
     "text": [
      "Enter first number: 52\n",
      "Enter second number: 42\n",
      "Enter third number: 14\n",
      "[23, 24, 25, 26, 52, 42, 14]\n",
      "[]\n"
     ]
    }
   ],
   "source": [
    "def stack(list_input):\n",
    "    n1 = int(input(\"Enter first number: \"))\n",
    "    list_input.append(n1)\n",
    "    n2 = int(input(\"Enter second number: \"))\n",
    "    list_input.append(n2)\n",
    "    n3 = int(input(\"Enter third number: \"))\n",
    "    list_input.append(n3)\n",
    "    print(list_input)\n",
    "    for i in range(len(list_input)):\n",
    "        list_input.pop()\n",
    "    print(list_input)\n",
    "    \n",
    "stack([23,24,25,26])"
   ]
  },
  {
   "cell_type": "code",
   "execution_count": 164,
   "metadata": {},
   "outputs": [
    {
     "name": "stdout",
     "output_type": "stream",
     "text": [
      "deque([1, 2, 3, 4])\n",
      "deque([1, 2, 3, 4, 5])\n",
      "1\n",
      "deque([2, 3, 4, 5])\n"
     ]
    }
   ],
   "source": [
    "from collections import deque\n",
    "queue=deque([1,2,3])\n",
    "queue.append(4)\n",
    "print(queue)\n",
    "queue.append(5)\n",
    "print(queue)\n",
    "\n",
    "print(queue.popleft())\n",
    "print(queue)"
   ]
  },
  {
   "cell_type": "markdown",
   "metadata": {},
   "source": [
    "#### 26. Reverse the list using slice."
   ]
  },
  {
   "cell_type": "code",
   "execution_count": 165,
   "metadata": {},
   "outputs": [
    {
     "name": "stdout",
     "output_type": "stream",
     "text": [
      "[28, 27, 26, 25]\n"
     ]
    }
   ],
   "source": [
    "list_26 = [25,26,27,28]\n",
    "print(list_26[::-1])"
   ]
  },
  {
   "cell_type": "markdown",
   "metadata": {},
   "source": [
    "## Data Structure: Tuple\n",
    "\n",
    "#### Prerequisites\n",
    "#### i. Define ways to create the tuple\n",
    "A tuple is a sequence of values. The values can be any type, and they are indexed by integers, so in that respect tuples are a lot like lists. The important difference is that tuples are immutable. A tuple is a comma-separated list of values. It is not necessary, it is common to enclose tuples in circular parentheses.\n",
    "Because tuple is the name of a built-in function, you should avoid using it as a variable name."
   ]
  },
  {
   "cell_type": "code",
   "execution_count": 166,
   "metadata": {},
   "outputs": [
    {
     "name": "stdout",
     "output_type": "stream",
     "text": [
      "<class 'tuple'>\n"
     ]
    }
   ],
   "source": [
    "# To create a tuple with a single element, you have to include a final comma:\n",
    "tup1 = 'x',\n",
    "print(type(tup1))"
   ]
  },
  {
   "cell_type": "code",
   "execution_count": 167,
   "metadata": {},
   "outputs": [
    {
     "name": "stdout",
     "output_type": "stream",
     "text": [
      "<class 'str'>\n"
     ]
    }
   ],
   "source": [
    "tup2 = ('p')\n",
    "print(type(tup2))"
   ]
  },
  {
   "cell_type": "code",
   "execution_count": 168,
   "metadata": {},
   "outputs": [
    {
     "name": "stdout",
     "output_type": "stream",
     "text": [
      "()\n"
     ]
    }
   ],
   "source": [
    "# Another way to create a tuple is the built-in function tuple. With no argument, it creates an empty tuple\n",
    "tup3 = tuple()\n",
    "print(tup3)"
   ]
  },
  {
   "cell_type": "code",
   "execution_count": 169,
   "metadata": {},
   "outputs": [
    {
     "name": "stdout",
     "output_type": "stream",
     "text": [
      "('s', 'a', 'r', 't', 'h', 'a', 'k')\n"
     ]
    }
   ],
   "source": [
    "# If the argument is a sequence (string, list or tuple), the result is a tuple with the elements of the sequence\n",
    "tup4 = tuple('sarthak')\n",
    "print(tup4)"
   ]
  },
  {
   "cell_type": "markdown",
   "metadata": {},
   "source": [
    "#### ii. What are the iteration ways available to acces elements of tuple \n",
    "\n",
    "To iterate through all the elements of tuple, we can use for loop."
   ]
  },
  {
   "cell_type": "code",
   "execution_count": 170,
   "metadata": {},
   "outputs": [
    {
     "name": "stdout",
     "output_type": "stream",
     "text": [
      "Left\n",
      "Right\n",
      "Up\n",
      "Down\n"
     ]
    }
   ],
   "source": [
    "tup5 = (\"Left\", \"Right\", \"Up\", \"Down\")\n",
    "for i in tup5:\n",
    "    print(i)"
   ]
  },
  {
   "cell_type": "code",
   "execution_count": 171,
   "metadata": {},
   "outputs": [
    {
     "name": "stdout",
     "output_type": "stream",
     "text": [
      "(0, 'Left')\n",
      "(1, 'Right')\n",
      "(2, 'Up')\n",
      "(3, 'Down')\n"
     ]
    }
   ],
   "source": [
    "for i in enumerate(tup5):\n",
    "    print(i)"
   ]
  },
  {
   "cell_type": "code",
   "execution_count": 172,
   "metadata": {},
   "outputs": [
    {
     "name": "stdout",
     "output_type": "stream",
     "text": [
      "Left\n",
      "Right\n",
      "Up\n",
      "Down\n"
     ]
    }
   ],
   "source": [
    "for i in range(len(tup5)):\n",
    "    print(tup5[i])"
   ]
  },
  {
   "cell_type": "markdown",
   "metadata": {},
   "source": [
    "#### 27. Create tuple and perform below operations on it\n",
    "    1. get size of tuple using getsizefo() and __sizeof__()\n",
    "    2. access tuple using index and slice operations \n",
    "    3. get length of tuple \n",
    "    4. ge tcount of element \n",
    "    5. sort the tuple in natural order\n",
    "    6. fin min and max from tuple \n",
    "    7. check if given element exist in the tuple or not"
   ]
  },
  {
   "cell_type": "code",
   "execution_count": 173,
   "metadata": {},
   "outputs": [
    {
     "name": "stdout",
     "output_type": "stream",
     "text": [
      "1. get size of tuple using getsizefo() and __sizeof__()\n",
      "getsizeof:  88\n",
      "\n",
      "2. access tuple using index and slice operations\n",
      "The first element using index:  Joy\n",
      "Inner element using index:  25\n",
      "Use of slicing:  ('Ola', [98.56, 25], 'Look', 45, 'Joy')\n",
      "Use of slicing:  ('Joy', 'Look', 'Ola')\n",
      "\n",
      "3. get length of tuple :  5\n",
      "\n",
      "4. get count of element of Ola:  1\n",
      "\n",
      "5. sort the tuple in natural order\n",
      "['45', 'Joy', 'Kila', 'Look', 'Ola']\n",
      "\n",
      "6. fin min and max from tuple\n",
      "Min of tuple is:  45\n",
      "Max of tuple is:  Ola\n",
      "\n",
      "7. check if given element exist in the tuple or not\n",
      "Joy True\n",
      "45 False\n",
      "Look True\n",
      "Kila False\n",
      "Ola True\n"
     ]
    }
   ],
   "source": [
    "import sys\n",
    "print(\"1. get size of tuple using getsizefo() and __sizeof__()\")\n",
    "tup27_1 = (\"Level\", 23, \"Height\", 45, \"Length\", 55)\n",
    "print(\"getsizeof: \", sys.getsizeof(tup27_1))\n",
    "# getsizeof calls the object’s __sizeof__ method and adds an additional garbage collector overhead \n",
    "# if the object is managed by the garbage collector.\n",
    "\n",
    "print(\"\\n2. access tuple using index and slice operations\")\n",
    "tup27_2 = ('Joy', 45, 'Look', [98.56,25], 'Ola')\n",
    "print(\"The first element using index: \", tup27_2[0])\n",
    "print(\"Inner element using index: \", tup27_2[3][1])\n",
    "print(\"Use of slicing: \", tup27_2[::-1])\n",
    "print(\"Use of slicing: \", tup27_2[::2])\n",
    "\n",
    "\n",
    "print(\"\\n3. get length of tuple : \", len(tup27_2))\n",
    "\n",
    "print(\"\\n4. get count of element of Ola: \", tup27_2.count('Ola'))\n",
    "\n",
    "print(\"\\n5. sort the tuple in natural order\")\n",
    "tup27_5 = ('Joy', '45', 'Look', 'Kila', 'Ola')\n",
    "print(sorted(tup27_5))\n",
    "\n",
    "print(\"\\n6. fin min and max from tuple\")\n",
    "print(\"Min of tuple is: \", min(tup27_5))\n",
    "print(\"Max of tuple is: \", max(tup27_5))\n",
    "\n",
    "print(\"\\n7. check if given element exist in the tuple or not\")\n",
    "for i in tup27_5:\n",
    "    if i in tup27_2:\n",
    "        print(i,True)\n",
    "    else:\n",
    "        print(i,False)"
   ]
  },
  {
   "cell_type": "markdown",
   "metadata": {},
   "source": [
    "#### 28. concatinate two tuples and create third"
   ]
  },
  {
   "cell_type": "code",
   "execution_count": 174,
   "metadata": {},
   "outputs": [
    {
     "name": "stdout",
     "output_type": "stream",
     "text": [
      "(34, 'New', 'Old', 789, '@_67', 98, 'Load', 'Create', '&$__k', 34)\n"
     ]
    }
   ],
   "source": [
    "tup28_1 = (34, 'New', 'Old', 789, '@_67')\n",
    "tup28_2 = (98, 'Load', 'Create', '&$__k', 34)\n",
    "tup28_3 = ()\n",
    "tup28_4 = tup28_1 + tup28_2 + tup28_3\n",
    "print(tup28_4)"
   ]
  },
  {
   "cell_type": "markdown",
   "metadata": {},
   "source": [
    "#### 29. perform repetation operation on tuple"
   ]
  },
  {
   "cell_type": "code",
   "execution_count": 175,
   "metadata": {},
   "outputs": [
    {
     "name": "stdout",
     "output_type": "stream",
     "text": [
      "(34, 'New', 'Old', 34, 'New', 'Old', 34, 'New', 'Old')\n"
     ]
    }
   ],
   "source": [
    "tup29_1 = (34, 'New', 'Old')\n",
    "tup29_2 = tup29_1*3\n",
    "print(tup29_2)"
   ]
  },
  {
   "cell_type": "markdown",
   "metadata": {},
   "source": [
    "#### 30. Create two tuples and compare elements using cmp"
   ]
  },
  {
   "cell_type": "code",
   "execution_count": 178,
   "metadata": {},
   "outputs": [
    {
     "ename": "NameError",
     "evalue": "name 'cmp' is not defined",
     "output_type": "error",
     "traceback": [
      "\u001b[1;31m---------------------------------------------------------------------------\u001b[0m",
      "\u001b[1;31mNameError\u001b[0m                                 Traceback (most recent call last)",
      "\u001b[1;32m<ipython-input-178-89bc72b0ea3d>\u001b[0m in \u001b[0;36m<module>\u001b[1;34m\u001b[0m\n\u001b[0;32m      2\u001b[0m \u001b[0mtup30_2\u001b[0m \u001b[1;33m=\u001b[0m \u001b[1;33m(\u001b[0m\u001b[1;36m98\u001b[0m\u001b[1;33m,\u001b[0m \u001b[1;34m'Load'\u001b[0m\u001b[1;33m,\u001b[0m \u001b[1;34m'Create'\u001b[0m\u001b[1;33m,\u001b[0m \u001b[1;34m'&$__k'\u001b[0m\u001b[1;33m,\u001b[0m \u001b[1;36m34\u001b[0m\u001b[1;33m)\u001b[0m\u001b[1;33m\u001b[0m\u001b[1;33m\u001b[0m\u001b[0m\n\u001b[0;32m      3\u001b[0m \u001b[1;33m\u001b[0m\u001b[0m\n\u001b[1;32m----> 4\u001b[1;33m \u001b[0mprint\u001b[0m\u001b[1;33m(\u001b[0m\u001b[0mcmp\u001b[0m\u001b[1;33m(\u001b[0m\u001b[0mtup30_1\u001b[0m\u001b[1;33m,\u001b[0m\u001b[0mtup30_2\u001b[0m\u001b[1;33m)\u001b[0m\u001b[1;33m)\u001b[0m\u001b[1;33m\u001b[0m\u001b[1;33m\u001b[0m\u001b[0m\n\u001b[0m\u001b[0;32m      5\u001b[0m \u001b[1;31m# This is not available in Python3.x\u001b[0m\u001b[1;33m\u001b[0m\u001b[1;33m\u001b[0m\u001b[1;33m\u001b[0m\u001b[0m\n\u001b[0;32m      6\u001b[0m \u001b[1;31m# This method was available in Python 2.x\u001b[0m\u001b[1;33m\u001b[0m\u001b[1;33m\u001b[0m\u001b[1;33m\u001b[0m\u001b[0m\n",
      "\u001b[1;31mNameError\u001b[0m: name 'cmp' is not defined"
     ]
    }
   ],
   "source": [
    "tup30_1 = (34, 'New', 'Old', 789, '@_67')\n",
    "tup30_2 = (98, 'Load', 'Create', '&$__k', 34)\n",
    "\n",
    "print(cmp(tup30_1,tup30_2))\n",
    "# This is not available in Python3.x\n",
    "# This method was available in Python 2.x"
   ]
  },
  {
   "cell_type": "markdown",
   "metadata": {},
   "source": [
    "#### 31. a= 10, b=20, c=30, d=40\n",
    "\n",
    "    Perform packing and unpacking of above elements and print them"
   ]
  },
  {
   "cell_type": "code",
   "execution_count": 179,
   "metadata": {},
   "outputs": [
    {
     "name": "stdout",
     "output_type": "stream",
     "text": [
      "Packing of tuple\n",
      "(10, 20, 30, 40)\n",
      "Unpacking of tuple\n",
      "10\n",
      "20\n",
      "30\n",
      "40\n"
     ]
    }
   ],
   "source": [
    "a= 10\n",
    "b=20\n",
    "c=30\n",
    "d=40\n",
    "print(\"Packing of tuple\")\n",
    "tap31_1 = (a, b, c, d)\n",
    "print(tap31_1)\n",
    "(first, second, third, fourth) = tap31_1\n",
    "print(\"Unpacking of tuple\")\n",
    "print(first)\n",
    "print(second)\n",
    "print(third)\n",
    "print(fourth)"
   ]
  },
  {
   "cell_type": "markdown",
   "metadata": {},
   "source": [
    "#### 32. What is difference between list and tuple"
   ]
  },
  {
   "cell_type": "markdown",
   "metadata": {},
   "source": [
    "| List | Tuple |\n",
    "| :--: | :--:  |\n",
    "|The List in python have dynamic charachteristics. |Tuple is the most secured data type in python.|\n",
    "|List is mutable | Tuple is immutable |\n",
    "|List is semipacked data. |Tuple is an example of a completely packed data.|\n",
    "| Creating a list is slower because two memory blocks need to be accessed. | Creating a tuple is faster than creating a list.|\n",
    "| Lists are not stored in cache memory. Thy are stored in dump() method. | Tuple are stored in cache memory so they are faster |"
   ]
  },
  {
   "cell_type": "markdown",
   "metadata": {},
   "source": [
    "#### 33. What is internal representation of list and tuple"
   ]
  },
  {
   "cell_type": "markdown",
   "metadata": {},
   "source": [
    "- The list are stored in a dump() mehtod. Due to which the we need two memory blocks to be accessed. This results is slower execution time.\n",
    "- The tuples are stored in cache memory. The cache memory results in faster execution time than list. ALthough, this is really negligible for small length of list and tuples. It can be observed when the length of list and tuples is considerably large.\n",
    "- Since a tuple's size is fixed, it can be stored more compactly than lists which need to over-allocate to make append() operations efficient."
   ]
  },
  {
   "cell_type": "code",
   "execution_count": 180,
   "metadata": {},
   "outputs": [
    {
     "name": "stdout",
     "output_type": "stream",
     "text": [
      "800040\n",
      "900104\n"
     ]
    }
   ],
   "source": [
    "import sys\n",
    "print(sys.getsizeof(tuple(iter(range(100000)))))\n",
    "print(sys.getsizeof(list(iter(range(100000)))))"
   ]
  },
  {
   "cell_type": "code",
   "execution_count": 181,
   "metadata": {},
   "outputs": [
    {
     "name": "stdout",
     "output_type": "stream",
     "text": [
      "Tuple is faster than List\n"
     ]
    }
   ],
   "source": [
    "import timeit\n",
    "\n",
    "execu_list = timeit.Timer('x=[100, 200, 300, 400, 500]')\n",
    "execu_list.timeit()\n",
    "execu_tuple = timeit.Timer('x=(100, 200, 300, 400, 500)')\n",
    "execu_tuple.timeit()\n",
    "\n",
    "if execu_list.timeit() < execu_tuple.timeit():\n",
    "    print(\"List is faster than Tuple\")\n",
    "else:\n",
    "    print(\"Tuple is faster than List\")"
   ]
  },
  {
   "cell_type": "markdown",
   "metadata": {},
   "source": [
    "#### 34. Create list and convert it to tuple and viceversa"
   ]
  },
  {
   "cell_type": "code",
   "execution_count": 182,
   "metadata": {},
   "outputs": [
    {
     "name": "stdout",
     "output_type": "stream",
     "text": [
      "(98, 56, 'LOL', 'Passion')\n",
      "[76, 'Good', [101, 102, 102], 'New']\n"
     ]
    }
   ],
   "source": [
    "list_34 = [98, 56, 'LOL', 'Passion']\n",
    "converted_tuple = tuple(list_34)\n",
    "print(converted_tuple)\n",
    "tup_34 = (76, 'Good', [101,102,102], 'New')\n",
    "converted_list = list(tup_34)\n",
    "print(converted_list)"
   ]
  },
  {
   "cell_type": "markdown",
   "metadata": {},
   "source": [
    "#### 35. convert list of lists to tuple of tuple"
   ]
  },
  {
   "cell_type": "code",
   "execution_count": 183,
   "metadata": {},
   "outputs": [
    {
     "name": "stdout",
     "output_type": "stream",
     "text": [
      "((1, 2, 4), (5, 6, 7), (8, 9, 7))\n"
     ]
    }
   ],
   "source": [
    "lists_group = [[1,2,4],[5,6,7],[8,9,7]]\n",
    "tup_of_tups = tuple(tuple(i) for i in lists_group)\n",
    "print(tup_of_tups)"
   ]
  },
  {
   "cell_type": "markdown",
   "metadata": {},
   "source": [
    "#### 36. WAP to create a tuple with different data types, print the element, address and type"
   ]
  },
  {
   "cell_type": "code",
   "execution_count": 184,
   "metadata": {},
   "outputs": [
    {
     "name": "stdout",
     "output_type": "stream",
     "text": [
      "98 <class 'int'> 140715441341248\n",
      "78.4 <class 'float'> 3041244230480\n",
      "fil <class 'str'> 3040920149488\n",
      "[4, 5, 6] <class 'list'> 3041244147648\n",
      "(7, 8, 9) <class 'tuple'> 3041244086336\n",
      "{4: 'A', 7: 'B'} <class 'dict'> 3041244080256\n"
     ]
    }
   ],
   "source": [
    "tup_36 = (98, 78.4, 'fil', [4,5,6], (7,8,9), {4:'A',7:'B'})\n",
    "for i in range(len(tup_36)):\n",
    "    print(tup_36[i], type(tup_36[i]), id(tup_36[i]))"
   ]
  },
  {
   "cell_type": "markdown",
   "metadata": {},
   "source": [
    "#### 37. Create tuple and add element in it. As tuples are immutable, will it able to add new element in the tuple, provided the reason in both Yes and No cases."
   ]
  },
  {
   "cell_type": "markdown",
   "metadata": {},
   "source": [
    "- Tuples are ordered, they can contain arbitrary objects, they can be indexed and sliced, they can be nested. But they can't be modified. There is no append or extend method defined for tuples. That is why tuples are considered as most secured data type.\n",
    "\n",
    "- The execution time is faster for tuples as compared to list. Sometimes in some real life scenarios, like saving data of bank user. Bank don’t want data to be modified, if the values in the collection are meant to remain constant for the life. \n",
    "\n",
    "- The dictionary is also often used for this purposes, but there is different syntax of nested dictionaries.But, we cannot use list for this purpose.\n",
    "\n",
    "- So, we cannot add a element tothe tuple as they are immutable and look at the TypeError which is trace backed:"
   ]
  },
  {
   "cell_type": "code",
   "execution_count": 185,
   "metadata": {},
   "outputs": [
    {
     "ename": "TypeError",
     "evalue": "'tuple' object does not support item assignment",
     "output_type": "error",
     "traceback": [
      "\u001b[1;31m---------------------------------------------------------------------------\u001b[0m",
      "\u001b[1;31mTypeError\u001b[0m                                 Traceback (most recent call last)",
      "\u001b[1;32m<ipython-input-185-3ebf7ae6a4aa>\u001b[0m in \u001b[0;36m<module>\u001b[1;34m\u001b[0m\n\u001b[0;32m      1\u001b[0m \u001b[0mtup_37\u001b[0m \u001b[1;33m=\u001b[0m \u001b[1;33m(\u001b[0m\u001b[1;36m90\u001b[0m\u001b[1;33m,\u001b[0m\u001b[1;36m14.6\u001b[0m\u001b[1;33m,\u001b[0m \u001b[1;34m'Hey'\u001b[0m\u001b[1;33m)\u001b[0m\u001b[1;33m\u001b[0m\u001b[1;33m\u001b[0m\u001b[0m\n\u001b[1;32m----> 2\u001b[1;33m \u001b[0mtup_37\u001b[0m\u001b[1;33m[\u001b[0m\u001b[1;36m3\u001b[0m\u001b[1;33m]\u001b[0m \u001b[1;33m=\u001b[0m \u001b[1;34m'New'\u001b[0m\u001b[1;33m\u001b[0m\u001b[1;33m\u001b[0m\u001b[0m\n\u001b[0m",
      "\u001b[1;31mTypeError\u001b[0m: 'tuple' object does not support item assignment"
     ]
    }
   ],
   "source": [
    "tup_37 = (90,14.6, 'Hey')\n",
    "tup_37[3] = 'New'"
   ]
  },
  {
   "cell_type": "markdown",
   "metadata": {},
   "source": [
    "#### 38. Create tuple and remove element it. As tuples are immutable, will it able to add new element in the tuple, provided the reason in both Yes and No cases."
   ]
  },
  {
   "cell_type": "markdown",
   "metadata": {},
   "source": [
    "- We cannot remove any element from the tuple as they are immutable. For time being we can use indexing or slicing to avoid any element which is present in a tuple. Tuple has no attribute remove and also there is another example given that tuple doesn't support item deletion."
   ]
  },
  {
   "cell_type": "code",
   "execution_count": 186,
   "metadata": {},
   "outputs": [
    {
     "ename": "AttributeError",
     "evalue": "'tuple' object has no attribute 'remove'",
     "output_type": "error",
     "traceback": [
      "\u001b[1;31m---------------------------------------------------------------------------\u001b[0m",
      "\u001b[1;31mAttributeError\u001b[0m                            Traceback (most recent call last)",
      "\u001b[1;32m<ipython-input-186-f2adb2a0c355>\u001b[0m in \u001b[0;36m<module>\u001b[1;34m\u001b[0m\n\u001b[0;32m      1\u001b[0m \u001b[0mtup_38\u001b[0m \u001b[1;33m=\u001b[0m \u001b[1;33m(\u001b[0m\u001b[1;36m90\u001b[0m\u001b[1;33m,\u001b[0m\u001b[1;36m14.6\u001b[0m\u001b[1;33m,\u001b[0m \u001b[1;34m'Hey'\u001b[0m\u001b[1;33m)\u001b[0m\u001b[1;33m\u001b[0m\u001b[1;33m\u001b[0m\u001b[0m\n\u001b[1;32m----> 2\u001b[1;33m \u001b[0mtup_38\u001b[0m\u001b[1;33m.\u001b[0m\u001b[0mremove\u001b[0m\u001b[1;33m(\u001b[0m\u001b[1;36m0\u001b[0m\u001b[1;33m)\u001b[0m\u001b[1;33m\u001b[0m\u001b[1;33m\u001b[0m\u001b[0m\n\u001b[0m",
      "\u001b[1;31mAttributeError\u001b[0m: 'tuple' object has no attribute 'remove'"
     ]
    }
   ],
   "source": [
    "tup_38 = (90,14.6, 'Hey')\n",
    "tup_38.remove(0)"
   ]
  },
  {
   "cell_type": "code",
   "execution_count": 187,
   "metadata": {},
   "outputs": [
    {
     "ename": "TypeError",
     "evalue": "'tuple' object doesn't support item deletion",
     "output_type": "error",
     "traceback": [
      "\u001b[1;31m---------------------------------------------------------------------------\u001b[0m",
      "\u001b[1;31mTypeError\u001b[0m                                 Traceback (most recent call last)",
      "\u001b[1;32m<ipython-input-187-67c1b045416a>\u001b[0m in \u001b[0;36m<module>\u001b[1;34m\u001b[0m\n\u001b[1;32m----> 1\u001b[1;33m \u001b[1;32mdel\u001b[0m \u001b[0mtup_38\u001b[0m\u001b[1;33m[\u001b[0m\u001b[1;36m0\u001b[0m\u001b[1;33m]\u001b[0m\u001b[1;33m\u001b[0m\u001b[1;33m\u001b[0m\u001b[0m\n\u001b[0m",
      "\u001b[1;31mTypeError\u001b[0m: 'tuple' object doesn't support item deletion"
     ]
    }
   ],
   "source": [
    "del tup_38[0]"
   ]
  },
  {
   "cell_type": "markdown",
   "metadata": {},
   "source": [
    "#### 39. WAP to convert tuple of chars to string "
   ]
  },
  {
   "cell_type": "code",
   "execution_count": 188,
   "metadata": {},
   "outputs": [
    {
     "name": "stdout",
     "output_type": "stream",
     "text": [
      "godisgreat\n"
     ]
    }
   ],
   "source": [
    "tup_39 = ('g', 'o', 'd', 'i', 's', 'g', 'r', 'e', 'a', 't')\n",
    "print(''.join(tup_39))"
   ]
  },
  {
   "cell_type": "markdown",
   "metadata": {},
   "source": [
    "#### 40. WAP to convert a list of tuples into a dictionary"
   ]
  },
  {
   "cell_type": "code",
   "execution_count": 189,
   "metadata": {},
   "outputs": [
    {
     "name": "stdout",
     "output_type": "stream",
     "text": [
      "{'One': 1, 'Two': 2, 'Three': 3}\n"
     ]
    }
   ],
   "source": [
    "tup_40 = [('One',1),('Two',2),('Three',3)]\n",
    "final = {x:y for x,y in tup_40}\n",
    "print(final)"
   ]
  },
  {
   "cell_type": "markdown",
   "metadata": {},
   "source": [
    "#### 41. WAP to replace last value of tuples in a list.\n",
    "\n",
    "Sample list: [(10, 20, 40), (40, 50, 60), (70, 80, 90)]\n",
    "    \n",
    "Expected Output: [(10, 20, 100), (40, 50, 100), (70, 80, 100)]"
   ]
  },
  {
   "cell_type": "code",
   "execution_count": 190,
   "metadata": {},
   "outputs": [
    {
     "name": "stdout",
     "output_type": "stream",
     "text": [
      "[(10, 20, 100), (40, 50, 100), (70, 80, 100)]\n"
     ]
    }
   ],
   "source": [
    "tup_41 = [(10, 20, 40), (40, 50, 60), (70, 80, 90)]\n",
    "print([t[:-1] + (100,) for t in tup_41])"
   ]
  },
  {
   "cell_type": "markdown",
   "metadata": {},
   "source": [
    "#### 42. WAP to remove an empty tuple(s) from a list of tuples"
   ]
  },
  {
   "cell_type": "code",
   "execution_count": 191,
   "metadata": {},
   "outputs": [
    {
     "name": "stdout",
     "output_type": "stream",
     "text": [
      "[90, 56, 45]\n"
     ]
    }
   ],
   "source": [
    "tup_42 = [(), (), 90,56,45]\n",
    "print([i for i in tup_42 if i])"
   ]
  },
  {
   "cell_type": "markdown",
   "metadata": {},
   "source": [
    "#### 43. There is a tuple, each item represent name and marks of student. List Ex. [(Karthik, 78, 67, 93), (Sarthak, 81, 73, 92)]"
   ]
  },
  {
   "cell_type": "code",
   "execution_count": 192,
   "metadata": {},
   "outputs": [],
   "source": [
    "tup_43 = [('Karthik', 78, 67, 93), ('Sarthak', 81, 73, 92), ('Shreyas', 39, 67, 58), ('Sonali', 89, 78, 68),('Akshay',86,42,98),('Chessy',38,56,61)]"
   ]
  },
  {
   "cell_type": "markdown",
   "metadata": {},
   "source": [
    "#### 1. We need to identify first three toppers of the batch. Print their score and average."
   ]
  },
  {
   "cell_type": "code",
   "execution_count": 193,
   "metadata": {},
   "outputs": [
    {
     "name": "stdout",
     "output_type": "stream",
     "text": [
      "Sarthak has scored 246 have average of 41.0\n",
      "Karthik has scored 238 have average of 39.67\n",
      "Sonali has scored 235 have average of 39.17\n"
     ]
    }
   ],
   "source": [
    "scores, names = [], []\n",
    "for i in tup_43:\n",
    "    marks = 0\n",
    "    name = ''\n",
    "    for j in i:\n",
    "        if isinstance(j,int):\n",
    "            marks += j\n",
    "        else:\n",
    "            name = j\n",
    "    scores.append(marks)\n",
    "    names.append(name)\n",
    "score = scores.copy()\n",
    "n = 3\n",
    "top_3_indices = []\n",
    "while n != 0:\n",
    "    top_3_indices.append(score.index(max(score)))\n",
    "    score[score.index(max(score))] = 0\n",
    "    n -= 1\n",
    "for i in top_3_indices:\n",
    "    print(names[i], \"has scored\", scores[i], \"have average of\", round(scores[i]/len(tup_43),2))"
   ]
  },
  {
   "cell_type": "markdown",
   "metadata": {},
   "source": [
    "#### 2. We need to get the topper in each subject"
   ]
  },
  {
   "cell_type": "code",
   "execution_count": 194,
   "metadata": {},
   "outputs": [
    {
     "name": "stdout",
     "output_type": "stream",
     "text": [
      "Topper in first subject is:  Sonali\n",
      "Topper in second subject is:  Sonali\n",
      "Topper in third subject is:  Akshay\n"
     ]
    }
   ],
   "source": [
    "first, second, third = [],[],[]\n",
    "for i in range(len(tup_43)):\n",
    "    first.append(tup_43[i][1])\n",
    "    second.append(tup_43[i][2])\n",
    "    third.append(tup_43[i][3])\n",
    "    \n",
    "n = 1\n",
    "while n!=0:\n",
    "    print(\"Topper in first subject is: \", tup_43[first.index(max(first))][0])\n",
    "    print(\"Topper in second subject is: \", tup_43[second.index(max(second))][0])\n",
    "    print(\"Topper in third subject is: \", tup_43[third.index(max(third))][0])\n",
    "    n -= 1"
   ]
  },
  {
   "cell_type": "markdown",
   "metadata": {},
   "source": [
    "#### 3. We need to know te list of students failed in the any subject (passing marks = 40)"
   ]
  },
  {
   "cell_type": "code",
   "execution_count": 195,
   "metadata": {},
   "outputs": [
    {
     "name": "stdout",
     "output_type": "stream",
     "text": [
      "Shreyas Failed 39\n",
      "Chessy Failed 38\n"
     ]
    }
   ],
   "source": [
    "for i in tup_43:\n",
    "    name = ''\n",
    "    status = ''\n",
    "    for j in i:\n",
    "        if isinstance(j,int):\n",
    "            if j < 40:\n",
    "                status = 'Failed'\n",
    "                print(name,status,j)\n",
    "            else:\n",
    "                status = 'Passed'\n",
    "        else:\n",
    "            name = j"
   ]
  },
  {
   "cell_type": "markdown",
   "metadata": {},
   "source": [
    "#### 44. WAP to convert of list of tuples to list of lists"
   ]
  },
  {
   "cell_type": "code",
   "execution_count": 196,
   "metadata": {},
   "outputs": [
    {
     "name": "stdout",
     "output_type": "stream",
     "text": [
      "[['Karthik', 78, 67, 93], ['Sarthak', 81, 73, 92], ['Shreyas', 39, 67, 58], ['Sonali', 89, 78, 68], ['Akshay', 86, 42, 98], ['Chessy', 38, 56, 61]]\n"
     ]
    }
   ],
   "source": [
    "tup_44 = [('Karthik', 78, 67, 93), ('Sarthak', 81, 73, 92), ('Shreyas', 39, 67, 58), ('Sonali', 89, 78, 68),('Akshay',86,42,98),('Chessy',38,56,61)]\n",
    "\n",
    "list_44 = [list(i) for i in tup_44]\n",
    "print(list_44)"
   ]
  },
  {
   "cell_type": "markdown",
   "metadata": {},
   "source": [
    "#### 45. Sort the list of tuples by second item"
   ]
  },
  {
   "cell_type": "code",
   "execution_count": 197,
   "metadata": {},
   "outputs": [
    {
     "name": "stdout",
     "output_type": "stream",
     "text": [
      "[('Chessy', 38, 56, 61), ('Shreyas', 39, 67, 58), ('Karthik', 78, 67, 93), ('Sarthak', 81, 73, 92), ('Akshay', 86, 42, 98), ('Sonali', 89, 78, 68)]\n"
     ]
    }
   ],
   "source": [
    "import operator\n",
    "tup_45 = [('Karthik', 78, 67, 93), ('Sarthak', 81, 73, 92), ('Shreyas', 39, 67, 58), ('Sonali', 89, 78, 68),('Akshay',86,42,98),('Chessy',38,56,61)]\n",
    "\n",
    "print(sorted(tup_45,key=operator.itemgetter(1)))"
   ]
  },
  {
   "cell_type": "markdown",
   "metadata": {},
   "source": [
    "#### 46. remove the tuples of length 3 from list"
   ]
  },
  {
   "cell_type": "code",
   "execution_count": 198,
   "metadata": {},
   "outputs": [
    {
     "name": "stdout",
     "output_type": "stream",
     "text": [
      "[('Shreyas', 39, 67, 58, 'Failed'), ('Karthik', 'Passed'), ('Sarthak', 81, 73, 92), ('Sonali', 68)]\n"
     ]
    }
   ],
   "source": [
    "tup_46 = [('Chessy', 38, 'Failed'), ('Shreyas', 39, 67, 58, 'Failed'), ('Karthik', 'Passed'), ('Sarthak', 81, 73, 92), ('Akshay', 86, 'Passed'), ('Sonali', 68)]\n",
    "\n",
    "for i in tup_46:\n",
    "    if len(i) == 3:\n",
    "        tup_46.remove(i)\n",
    "print(tup_46)"
   ]
  },
  {
   "cell_type": "markdown",
   "metadata": {},
   "source": [
    "#### 47. WAP to sort the list in tuple "
   ]
  },
  {
   "cell_type": "code",
   "execution_count": 199,
   "metadata": {},
   "outputs": [
    {
     "name": "stdout",
     "output_type": "stream",
     "text": [
      "('Shreyas', 39, 67, 58, 'Failed', [73, 76, 81, 92])\n"
     ]
    }
   ],
   "source": [
    "tup_47 = ('Shreyas', 39, 67, 58, 'Failed',[76,  81, 73, 92])\n",
    "for i in tup_47:\n",
    "    if type(i) == list:\n",
    "        i.sort()\n",
    "print(tup_47)"
   ]
  },
  {
   "cell_type": "markdown",
   "metadata": {},
   "source": [
    "## Data Structure: Dictionary(Dict) \n",
    "\n",
    "#### i.Write short note on dictionary"
   ]
  },
  {
   "cell_type": "markdown",
   "metadata": {},
   "source": [
    "The dictionary is a Python data structure. Dictionary is mutable and it is iterable python object but, it's not a sequence type. But we can do sequence processing with dictionaries.\n",
    "The element we look for in a diction is key. The reuslt we get from the dictionary by accessing the key is value.\n",
    "\n",
    "This means that a dictionary is a set of key-value pairs.\n",
    "\n",
    "- Each key must be unique - it's not possible to have more than one key of the same value.\n",
    "- A key may be data of any type (except list): it may be a number (integer or float), or even a string.\n",
    "- A dictionary is not a list - a list contains a set of numbered values, while a dictionary holds pairs of values.\n",
    "- The memory location is replaced by latest value.\n",
    "- A dictionary is a one-way tool - if you have an English-German dictionary, you can look for German equivalents of English terms, but not vice versa."
   ]
  },
  {
   "cell_type": "code",
   "execution_count": 200,
   "metadata": {},
   "outputs": [
    {
     "name": "stdout",
     "output_type": "stream",
     "text": [
      "{'Animal': 'Lion', 'Bird': 'Sparrow', 'Flower': 'Hibiscus'}\n",
      "{'Sarthak': 5551234567, 'Chistats': 22657854310}\n",
      "{}\n"
     ]
    }
   ],
   "source": [
    "dictionary = {\"Animal\" : \"Lion\", \"Bird\" : \"Sparrow\", \"Flower\" : \"Hibiscus\"}\n",
    "phone_numbers = {'Sarthak' : 5551234567, 'Chistats' : 22657854310}\n",
    "empty_dictionary = {}\n",
    "\n",
    "print(dictionary)\n",
    "print(phone_numbers)\n",
    "print(empty_dictionary)"
   ]
  },
  {
   "cell_type": "markdown",
   "metadata": {},
   "source": [
    "1. First example, the dictionary uses keys and values which are both strings. \n",
    "2. Seconf example, the keys are strings, but the values are integers. The reverse layout (keys → numbers, values → strings) is also possible, as well as number-number combination.\n",
    "3. Third example, it is an empty dictionary\n",
    "3. The list of pairs is surrounded by curly braces, while the pairs themselves are separated by commas, and the keys and values by colons."
   ]
  },
  {
   "cell_type": "markdown",
   "metadata": {},
   "source": [
    "#### ii. Write a detail note on below \n",
    "\n",
    "    1. What internally happens when we create a dictionary\n",
    "    2. What happend when we try to add new element in the dictionary\n",
    "    3. WHat happend when"
   ]
  },
  {
   "cell_type": "markdown",
   "metadata": {},
   "source": [
    "1. When we create a dictionary, the the object type dict is assigned to it by the python interpreter after locating that there key value pairs separated by colon and these pairs are enclosed within curly braces. By which it is possble for us to apply all the methods which are applicable to a dictionary. \n",
    "2. "
   ]
  },
  {
   "cell_type": "markdown",
   "metadata": {},
   "source": [
    "#### 48. WAP to create the dictionry and perform below steps "
   ]
  },
  {
   "cell_type": "markdown",
   "metadata": {},
   "source": [
    "**Answers for 3 questions**\n",
    "##### 1. print elements from it in key value format using all methods of iteration\n",
    "##### 8. get all keys from the dictionary\n",
    "##### 9. get all values from dictionary"
   ]
  },
  {
   "cell_type": "code",
   "execution_count": 201,
   "metadata": {},
   "outputs": [
    {
     "name": "stdout",
     "output_type": "stream",
     "text": [
      "The dictionary we have is:  {'Apple': 1976, 'Microsoft': 1975, 'IBM': 1911, 'Oracle': 1978}\n",
      "\n",
      "Dictionary gives preference to keys while ieterating, if nothing is mentioned\n",
      "Apple Microsoft IBM Oracle \n",
      "\n",
      "Another way to iterate over keys\n",
      "Apple Microsoft IBM Oracle \n",
      "\n",
      "For iterating through values, we should mention that like this\n",
      "1976 1975 1911 1978 \n",
      "\n",
      "We can iterate using the items function (which returns key:value pairs)\n",
      "('Apple', 1976) ('Microsoft', 1975) ('IBM', 1911) ('Oracle', 1978) \n",
      "\n",
      "Another way to iterate using items, if we want to perform some operations on values of dictionary\n",
      "The Apple Company was founded in 1976\n",
      "The Microsoft Company was founded in 1975\n",
      "The IBM Company was founded in 1911\n",
      "The Oracle Company was founded in 1978\n"
     ]
    }
   ],
   "source": [
    "tech_companies = {'Apple':1976, 'Microsoft':1975, 'IBM': 1911, 'Oracle':1978}\n",
    "print(\"The dictionary we have is: \", tech_companies)\n",
    "\n",
    "print(\"\\nDictionary gives preference to keys while ieterating, if nothing is mentioned\")\n",
    "for key in tech_companies:\n",
    "    print(key, end =' ')\n",
    "\n",
    "print(\"\\n\\nAnother way to iterate over keys\")\n",
    "for key in tech_companies.keys():\n",
    "    print(key, end=' ')\n",
    "\n",
    "print(\"\\n\\nFor iterating through values, we should mention that like this\")\n",
    "for value in tech_companies.values():\n",
    "    print(value, end=' ')\n",
    "    \n",
    "print(\"\\n\\nWe can iterate using the items function (which returns key:value pairs)\")\n",
    "for items in tech_companies.items():\n",
    "    print(items, end=' ')\n",
    "    \n",
    "print(\"\\n\\nAnother way to iterate using items, if we want to perform some operations on values of dictionary\")\n",
    "for key, value in tech_companies.items():\n",
    "    print(\"The\", key,\"Company was founded in\", value)"
   ]
  },
  {
   "cell_type": "markdown",
   "metadata": {},
   "source": [
    "##### 2. update the elements from above dictionary"
   ]
  },
  {
   "cell_type": "code",
   "execution_count": 202,
   "metadata": {},
   "outputs": [
    {
     "name": "stdout",
     "output_type": "stream",
     "text": [
      "Establishment of Oracle is wrong in the dictionary\n",
      "{'Apple': 1976, 'Microsoft': 1975, 'IBM': 1911, 'Oracle': 1979}\n",
      "\n",
      "Again the year is wrong\n",
      "{'Apple': 1976, 'Microsoft': 1975, 'IBM': 1911, 'Oracle': 1977}\n"
     ]
    }
   ],
   "source": [
    "tech_companies = {'Apple':1976, 'Microsoft':1975, 'IBM': 1911, 'Oracle':1978}\n",
    "print(\"Establishment of Oracle is wrong in the dictionary\")\n",
    "\n",
    "tech_companies.update({'Oracle':1979})   # updating the value one way\n",
    "print(tech_companies)\n",
    "print(\"\\nAgain the year is wrong\")\n",
    "tech_companies['Oracle'] = 1977       # upating the value second way\n",
    "print(tech_companies)"
   ]
  },
  {
   "cell_type": "markdown",
   "metadata": {},
   "source": [
    "**Answers for both**\n",
    "\n",
    "**3. delete elements**\n",
    "\n",
    "**6. return and remove the value associsted with specific key**"
   ]
  },
  {
   "cell_type": "code",
   "execution_count": 203,
   "metadata": {},
   "outputs": [
    {
     "name": "stdout",
     "output_type": "stream",
     "text": [
      "removing a key will always cause the removal of the associated value. Values cannot exist without their keys.\n",
      "{'Apple': 1976, 'Microsoft': 1975, 'IBM': 1911}\n"
     ]
    }
   ],
   "source": [
    "print(\"removing a key will always cause the removal of the associated value. Values cannot exist without their keys.\")\n",
    "del tech_companies['Oracle']\n",
    "\n",
    "print(tech_companies)"
   ]
  },
  {
   "cell_type": "markdown",
   "metadata": {},
   "source": [
    "##### 4. empty the dictionary"
   ]
  },
  {
   "cell_type": "code",
   "execution_count": 204,
   "metadata": {},
   "outputs": [
    {
     "name": "stdout",
     "output_type": "stream",
     "text": [
      "{'Apple': 1976, 'Microsoft': 1975, 'IBM': 1911}\n",
      "After clearing the dict:  {}\n"
     ]
    }
   ],
   "source": [
    "tech_copy = tech_companies.copy()\n",
    "print(tech_copy)\n",
    "tech_copy.clear()\n",
    "print(\"After clearing the dict: \", tech_copy)"
   ]
  },
  {
   "cell_type": "markdown",
   "metadata": {},
   "source": [
    "##### 5. get size of dictionary"
   ]
  },
  {
   "cell_type": "code",
   "execution_count": 205,
   "metadata": {},
   "outputs": [
    {
     "name": "stdout",
     "output_type": "stream",
     "text": [
      "The size/length of dictionary is:  3\n"
     ]
    }
   ],
   "source": [
    "print(\"The size/length of dictionary is: \", len(tech_companies))"
   ]
  },
  {
   "cell_type": "markdown",
   "metadata": {},
   "source": [
    "##### 7. remove arbitary item from the dictionary"
   ]
  },
  {
   "cell_type": "code",
   "execution_count": 206,
   "metadata": {},
   "outputs": [
    {
     "name": "stdout",
     "output_type": "stream",
     "text": [
      "The arbitary item dropped from dict is:  ('IBM', 1911)\n",
      "{'Apple': 1976, 'Microsoft': 1975}\n"
     ]
    }
   ],
   "source": [
    "print(\"The arbitary item dropped from dict is: \", tech_companies.popitem())\n",
    "print(tech_companies)"
   ]
  },
  {
   "cell_type": "markdown",
   "metadata": {},
   "source": [
    "##### 10. get list of tuples from the dict and represent it in the key value pair"
   ]
  },
  {
   "cell_type": "code",
   "execution_count": 207,
   "metadata": {},
   "outputs": [
    {
     "name": "stdout",
     "output_type": "stream",
     "text": [
      "Returns key:value pairs\n",
      "('Apple', 1976) ('Microsoft', 1975) ('IBM', 1911) ('Oracle', 1978) "
     ]
    }
   ],
   "source": [
    "tech_companies = {'Apple':1976, 'Microsoft':1975, 'IBM': 1911, 'Oracle':1978}\n",
    "print(\"Returns key:value pairs\")\n",
    "for items in tech_companies.items():\n",
    "    print(items, end=' ')"
   ]
  },
  {
   "cell_type": "markdown",
   "metadata": {},
   "source": [
    "##### 11. create the copy of the list "
   ]
  },
  {
   "cell_type": "code",
   "execution_count": 208,
   "metadata": {},
   "outputs": [],
   "source": [
    "import copy\n",
    "\n",
    "dict_sc = copy.copy(tech_companies)\n",
    "dict_dc = copy.deepcopy(tech_companies)"
   ]
  },
  {
   "cell_type": "markdown",
   "metadata": {},
   "source": [
    "##### 12. Update the dictionary value"
   ]
  },
  {
   "cell_type": "code",
   "execution_count": 209,
   "metadata": {},
   "outputs": [
    {
     "name": "stdout",
     "output_type": "stream",
     "text": [
      "{'Apple': 1987, 'Microsoft': 1975, 'IBM': 1911, 'Oracle': 1978}\n"
     ]
    }
   ],
   "source": [
    "tech_companies['Apple'] = 1987\n",
    "print(tech_companies)"
   ]
  },
  {
   "cell_type": "markdown",
   "metadata": {},
   "source": [
    "##### 13. get dictionary with the specified keys and value"
   ]
  },
  {
   "cell_type": "code",
   "execution_count": 210,
   "metadata": {},
   "outputs": [
    {
     "name": "stdout",
     "output_type": "stream",
     "text": [
      "None\n",
      "1975\n"
     ]
    }
   ],
   "source": [
    "print(tech_companies.get('Micromax'))\n",
    "print(tech_companies.get('Microsoft'))"
   ]
  },
  {
   "cell_type": "markdown",
   "metadata": {},
   "source": [
    "##### 14. filter the dictionary"
   ]
  },
  {
   "cell_type": "code",
   "execution_count": 211,
   "metadata": {},
   "outputs": [
    {
     "name": "stdout",
     "output_type": "stream",
     "text": [
      "{0: 0, 2: 10, 4: 20, 6: 30, 8: 40, 10: 50, 12: 60, 14: 70}\n"
     ]
    }
   ],
   "source": [
    "dictionary = {key: key*5 for key in range(0, 15) }\n",
    "data = {key: dictionary[key] for key in dictionary.keys() if key%2 == 0}\n",
    "print(data)"
   ]
  },
  {
   "cell_type": "markdown",
   "metadata": {},
   "source": [
    "#### 49. explore the function setdefault"
   ]
  },
  {
   "cell_type": "markdown",
   "metadata": {},
   "source": [
    "The setdefault() method returns the value of a key (if the key is in dictionary). If not, it inserts key with a value to the dictionary."
   ]
  },
  {
   "cell_type": "markdown",
   "metadata": {},
   "source": [
    "#### 50. WAP to get occurances of each letter present in  given string"
   ]
  },
  {
   "cell_type": "code",
   "execution_count": 212,
   "metadata": {},
   "outputs": [
    {
     "name": "stdout",
     "output_type": "stream",
     "text": [
      "s has 5 occurences\n",
      "j has 2 occurences\n",
      "f has 2 occurences\n",
      "o has 5 occurences\n",
      "h has 6 occurences\n",
      "g has 2 occurences\n",
      "i has 1 occurences\n",
      "p has 1 occurences\n",
      "k has 4 occurences\n"
     ]
    }
   ],
   "source": [
    "str1 = 'hhhkoookshhsiofpsokgjshsgkjf'\n",
    "uniqu = set(str1)\n",
    "for i in uniqu:\n",
    "    print(i, \"has\", str1.count(i), \"occurences\")"
   ]
  },
  {
   "cell_type": "markdown",
   "metadata": {},
   "source": [
    "#### 51. There is a dict, each item represent name and marks of student."
   ]
  },
  {
   "cell_type": "code",
   "execution_count": 213,
   "metadata": {},
   "outputs": [
    {
     "name": "stdout",
     "output_type": "stream",
     "text": [
      "{0: {'student_name': 'Danielle Bowman', 'Maths': 93, 'Physics': 12, 'Chemistry': 31}, 1: {'student_name': 'Christopher Garrett', 'Maths': 63, 'Physics': 31, 'Chemistry': 8}, 2: {'student_name': 'David Vargas', 'Maths': 43, 'Physics': 1, 'Chemistry': 49}, 3: {'student_name': 'Brandon Jones', 'Maths': 49, 'Physics': 96, 'Chemistry': 73}, 4: {'student_name': 'Jacob Simpson', 'Maths': 44, 'Physics': 81, 'Chemistry': 81}, 5: {'student_name': 'Michelle Nichols', 'Maths': 65, 'Physics': 86, 'Chemistry': 46}, 6: {'student_name': 'Brandon Edwards DVM', 'Maths': 35, 'Physics': 24, 'Chemistry': 19}, 7: {'student_name': 'Taylor Simon MD', 'Maths': 45, 'Physics': 15, 'Chemistry': 59}, 8: {'student_name': 'Roger Noble', 'Maths': 92, 'Physics': 21, 'Chemistry': 45}, 9: {'student_name': 'Robert Thomas', 'Maths': 100, 'Physics': 70, 'Chemistry': 88}}\n"
     ]
    }
   ],
   "source": [
    "exam_results = {}\n",
    "\n",
    "for i in range(10):\n",
    "    exam_results[i] = {}\n",
    "    exam_results[i]['student_name'] = fake.name()\n",
    "    exam_results[i]['Maths'] = np.random.randint(0,101)\n",
    "    exam_results[i]['Physics'] = np.random.randint(0,101)\n",
    "    exam_results[i]['Chemistry'] = np.random.randint(0,101)\n",
    "\n",
    "print(exam_results)"
   ]
  },
  {
   "cell_type": "markdown",
   "metadata": {},
   "source": [
    "#### 1. We need to identify first three toppers of the batch. Print their score and average."
   ]
  },
  {
   "cell_type": "code",
   "execution_count": 255,
   "metadata": {},
   "outputs": [
    {
     "name": "stdout",
     "output_type": "stream",
     "text": [
      "The dictionary of Top 3 Scores:  {'Robert Thomas': 258, 'Brandon Jones': 206}\n",
      "The dictionary of Top 3 averages:  {'Robert Thomas': 86.0, 'Brandon Jones': 68.67}\n"
     ]
    }
   ],
   "source": [
    "scores = []\n",
    "for roll_no,details in exam_results.items():\n",
    "    marks = 0\n",
    "    for agenda,detail in details.items():\n",
    "        if type(exam_results[roll_no][agenda])  == int:\n",
    "            marks += exam_results[roll_no][agenda]\n",
    "        else:\n",
    "            pass  \n",
    "    scores.append(marks)\n",
    "roll_nos = []\n",
    "iterator = scores.copy()\n",
    "for i in range(3):\n",
    "    for j in iterator:\n",
    "        roll_nos.append(iterator.index(max(iterator)))\n",
    "        iterator.pop(iterator.index(max(iterator)))\n",
    "top_3 = roll_nos[:3]\n",
    "names = [exam_results[i]['student_name'] for i in top_3]\n",
    "scores = sorted(scores,reverse=True)\n",
    "#final = dict(zip(names,scores[:3]))\n",
    "final = {names[i]: scores[:3][i] for i in range(len(names))}\n",
    "average = [round(final[key]/3,2) for key in final.keys()]\n",
    "ave_dict = {names[i]: average[:3][i] for i in range(len(average))}\n",
    "print(\"The dictionary of Top 3 Scores: \", final)\n",
    "print(\"The dictionary of Top 3 averages: \", ave_dict)"
   ]
  },
  {
   "cell_type": "markdown",
   "metadata": {},
   "source": [
    "#### 2. We need to get the topper in each subject"
   ]
  },
  {
   "cell_type": "code",
   "execution_count": 218,
   "metadata": {},
   "outputs": [
    {
     "name": "stdout",
     "output_type": "stream",
     "text": [
      "{'Maths', 'Physics', 'Chemistry'}\n",
      "Math Toppers are:  ['Robert Thomas', 'Danielle Bowman', 'Roger Noble']\n",
      "Physics Toppers are:  ['Brandon Jones', 'Michelle Nichols', 'Jacob Simpson']\n",
      "Chemistry Toppers are:  ['Robert Thomas', 'Jacob Simpson', 'Brandon Jones']\n"
     ]
    }
   ],
   "source": [
    "subs = []\n",
    "for roll_no,details in exam_results.items():\n",
    "    for agenda,detail in details.items():\n",
    "        if type(exam_results[roll_no][agenda])  == int:\n",
    "            subs.append(agenda)         \n",
    "print(set(subs))\n",
    "maths, phy, chem = [], [], []\n",
    "for roll_no,details in exam_results.items(): \n",
    "    for agenda,detail in details.items():\n",
    "        if agenda == subs[0]:\n",
    "            maths.append(exam_results[roll_no][agenda])\n",
    "        if agenda == subs[1]:\n",
    "            phy.append(exam_results[roll_no][agenda])\n",
    "        if agenda == subs[2]:\n",
    "            chem.append(exam_results[roll_no][agenda])\n",
    "math_toppers, phy_toppers, chem_toppers = [], [], []\n",
    "math, phys, chemy = maths.copy(), phy.copy(), chem.copy()\n",
    "n = 3\n",
    "while n != 0:\n",
    "    math_toppers.append(max(math))\n",
    "    math.pop(math.index(max(math)))\n",
    "    phy_toppers.append(max(phys))\n",
    "    phys.pop(phys.index(max(phys)))\n",
    "    chem_toppers.append(max(chemy))\n",
    "    chemy.pop(chemy.index(max(chemy)))\n",
    "    n -= 1\n",
    "    \n",
    "roll_no_maths = [maths.index(i) for i in math_toppers]\n",
    "roll_no_phy = [phy.index(i) for i in phy_toppers]\n",
    "roll_no_chem = [chem.index(i) for i in chem_toppers]\n",
    "\n",
    "math_toppers_name = [exam_results[i]['student_name'] for i in roll_no_maths]\n",
    "phy_toppers_name = [exam_results[i]['student_name'] for i in roll_no_phy]\n",
    "chem_toppers_name = [exam_results[i]['student_name'] for i in roll_no_chem]\n",
    "print(\"Math Toppers are: \", math_toppers_name)\n",
    "print(\"Physics Toppers are: \", phy_toppers_name)\n",
    "print(\"Chemistry Toppers are: \", chem_toppers_name)"
   ]
  },
  {
   "cell_type": "markdown",
   "metadata": {},
   "source": [
    "#### 3. We need to know te list of students failed in the any subject (passing marks = 40)"
   ]
  },
  {
   "cell_type": "code",
   "execution_count": 219,
   "metadata": {},
   "outputs": [
    {
     "name": "stdout",
     "output_type": "stream",
     "text": [
      "The student Danielle Bowman is failed in Physics by scoring 12\n",
      "The student Danielle Bowman is failed in Chemistry by scoring 31\n",
      "The student Christopher Garrett is failed in Physics by scoring 31\n",
      "The student Christopher Garrett is failed in Chemistry by scoring 8\n",
      "The student David Vargas is failed in Physics by scoring 1\n",
      "The student Brandon Edwards DVM is failed in Maths by scoring 35\n",
      "The student Brandon Edwards DVM is failed in Physics by scoring 24\n",
      "The student Brandon Edwards DVM is failed in Chemistry by scoring 19\n",
      "The student Taylor Simon MD is failed in Physics by scoring 15\n",
      "The student Roger Noble is failed in Physics by scoring 21\n"
     ]
    }
   ],
   "source": [
    "for roll_no,details in exam_results.items():\n",
    "    for agenda,detail in details.items():\n",
    "        if type(exam_results[roll_no][agenda])  == int:\n",
    "            if exam_results[roll_no][agenda] < 40:\n",
    "                print(\"The student\", exam_results[roll_no]['student_name'],\"is failed in\", agenda, \"by scoring\", exam_results[roll_no][agenda])"
   ]
  },
  {
   "cell_type": "markdown",
   "metadata": {},
   "source": [
    "#### 4. Display marks of student by taking student name as input from console"
   ]
  },
  {
   "cell_type": "code",
   "execution_count": 221,
   "metadata": {},
   "outputs": [
    {
     "name": "stdout",
     "output_type": "stream",
     "text": [
      "Enter the name: Danielle Bowman\n",
      "{'student_name': 'Danielle Bowman', 'Maths': 93, 'Physics': 12, 'Chemistry': 31} "
     ]
    }
   ],
   "source": [
    "name = input(\"Enter the name: \")\n",
    "for roll_no,details in exam_results.items():\n",
    "    for agenda,detail in details.items():\n",
    "        if exam_results[roll_no]['student_name'] == name:\n",
    "            print(details, end=' ')\n",
    "            break"
   ]
  },
  {
   "cell_type": "markdown",
   "metadata": {},
   "source": [
    "#### 52. Ways to sort list of dictionaries by values in Python – Using itemgetter"
   ]
  },
  {
   "cell_type": "code",
   "execution_count": 222,
   "metadata": {},
   "outputs": [
    {
     "name": "stdout",
     "output_type": "stream",
     "text": [
      "[{'student_name': 'Lawrence Bailey', 'Maths': 86, 'Physics': 65, 'Chemistry': 25}, {'student_name': 'David Cooper DDS', 'Maths': 71, 'Physics': 2, 'Chemistry': 33}, {'student_name': 'Jimmy Lee', 'Maths': 59, 'Physics': 21, 'Chemistry': 64}, {'student_name': 'Erika Clark DDS', 'Maths': 54, 'Physics': 39, 'Chemistry': 86}, {'student_name': 'Chad Johnson', 'Maths': 50, 'Physics': 86, 'Chemistry': 75}, {'student_name': 'Jacqueline Weber', 'Maths': 44, 'Physics': 47, 'Chemistry': 85}, {'student_name': 'Mario Jacobs', 'Maths': 29, 'Physics': 31, 'Chemistry': 16}]\n"
     ]
    }
   ],
   "source": [
    "import operator\n",
    "listdict = [{'student_name': 'Erika Clark DDS', 'Maths': 54, 'Physics': 39, 'Chemistry': 86}, \n",
    "            {'student_name': 'Lawrence Bailey', 'Maths': 86, 'Physics': 65, 'Chemistry': 25}, \n",
    "            {'student_name': 'Mario Jacobs', 'Maths': 29, 'Physics': 31, 'Chemistry': 16}, \n",
    "            {'student_name': 'Chad Johnson', 'Maths': 50, 'Physics': 86, 'Chemistry': 75}, \n",
    "            {'student_name': 'Jacqueline Weber', 'Maths': 44, 'Physics': 47, 'Chemistry': 85}, \n",
    "            {'student_name': 'Jimmy Lee', 'Maths': 59, 'Physics': 21, 'Chemistry': 64}, \n",
    "            {'student_name': 'David Cooper DDS', 'Maths': 71, 'Physics': 2, 'Chemistry': 33}]\n",
    "\n",
    "print((sorted(listdict, key = operator.itemgetter('Maths'), reverse = True)))"
   ]
  },
  {
   "cell_type": "markdown",
   "metadata": {},
   "source": [
    "#### 53. Ways to sort list of dictionaries by values in Python – Using lambda function"
   ]
  },
  {
   "cell_type": "code",
   "execution_count": 223,
   "metadata": {},
   "outputs": [
    {
     "name": "stdout",
     "output_type": "stream",
     "text": [
      "{'student_name': 'Jacqueline Weber', 'Maths': 44, 'Physics': 47, 'Chemistry': 85}\n"
     ]
    }
   ],
   "source": [
    "dict_1 = {'student_name':'Erika Clark DDS', 'Maths': 54, 'Physics': 39, 'Chemistry': 86}\n",
    "dict_2 = {'student_name': 'Jacqueline Weber', 'Maths': 44, 'Physics': 47, 'Chemistry': 85}\n",
    "dict_1.update(dict_2)\n",
    "print(dict_1)"
   ]
  },
  {
   "cell_type": "markdown",
   "metadata": {},
   "source": [
    "#### 54. WAP to merge two Dictionaries"
   ]
  },
  {
   "cell_type": "code",
   "execution_count": 224,
   "metadata": {},
   "outputs": [
    {
     "name": "stdout",
     "output_type": "stream",
     "text": [
      "{'a': 1, 'b': 3, 'c': 4}\n"
     ]
    }
   ],
   "source": [
    "dict_1 = {'a': 1, 'b': 2}\n",
    "dict_2 = {'b':3, 'c':4}\n",
    "merged_dict = (lambda dict_1, dict_2: (lambda dict_1_copy: dict_1_copy.update(dict_2) or dict_1_copy)(dict_1.copy()))(dict_1, dict_2)\n",
    "print(merged_dict)"
   ]
  },
  {
   "cell_type": "markdown",
   "metadata": {},
   "source": [
    "#### 55. Convert Key-Value list Dictionary to List of Lists"
   ]
  },
  {
   "cell_type": "code",
   "execution_count": 225,
   "metadata": {},
   "outputs": [
    {
     "name": "stdout",
     "output_type": "stream",
     "text": [
      "[['a', 1, 2, 3], ['b', 4, 5, 6]]\n"
     ]
    }
   ],
   "source": [
    "dict_1 = {'a': [1,2,3], 'b': [4,5,6]}\n",
    "final_list = [[key] + val for key, val in dict_1.items()]\n",
    "print(final_list)"
   ]
  },
  {
   "cell_type": "markdown",
   "metadata": {},
   "source": [
    "#### 56. Convert List to List of dictionaries"
   ]
  },
  {
   "cell_type": "code",
   "execution_count": 226,
   "metadata": {},
   "outputs": [
    {
     "name": "stdout",
     "output_type": "stream",
     "text": [
      "[{'name': 'Erika Clark DDS', 'subject': 'Maths'}, {'name': 'Thomas Webb', 'subject': 'Physics'}]\n"
     ]
    }
   ],
   "source": [
    "data = ['Erika Clark DDS', 'Maths','Thomas Webb','Physics']\n",
    "keys = [\"name\", \"subject\"]\n",
    "final = [{keys[0]: data[i], keys[1]: data[i + 1]} for i in range(0, len(data),2)]\n",
    "print(final)"
   ]
  },
  {
   "cell_type": "markdown",
   "metadata": {},
   "source": [
    "#### 57. Convert Lists of List to Dictionary"
   ]
  },
  {
   "cell_type": "code",
   "execution_count": 227,
   "metadata": {},
   "outputs": [
    {
     "name": "stdout",
     "output_type": "stream",
     "text": [
      "{'Chevrolet': [1987, 'Automobile'], 'Apple': [1977, 'Technology'], 'Flairs': [1965, 'Chemical']}\n"
     ]
    }
   ],
   "source": [
    "organizations = [['Chevrolet', 1987, 'Automobile'],\n",
    "           ['Apple', 1977, 'Technology'],\n",
    "           ['Flairs', 1965, 'Chemical']]\n",
    "\n",
    "organizations = {i[0]: i[1:] for i in organizations}\n",
    "print(organizations)"
   ]
  },
  {
   "cell_type": "markdown",
   "metadata": {},
   "source": [
    "#### 58. Convert List of Dictionaries to List of Lists"
   ]
  },
  {
   "cell_type": "code",
   "execution_count": 228,
   "metadata": {},
   "outputs": [
    {
     "name": "stdout",
     "output_type": "stream",
     "text": [
      "dict_values([['Erika Clark DDS', 'Thomas Webb'], ['Maths', 'Physics']])\n"
     ]
    }
   ],
   "source": [
    "list_of_dict = [{'name': 'Erika Clark DDS', 'subject': 'Maths'}, {'name': 'Thomas Webb', 'subject': 'Physics'}]\n",
    "d = {}\n",
    "for e in list_of_dict:\n",
    "    for i,j in e.items():\n",
    "        d.setdefault(i, []).append(j)\n",
    "newList = d.values()\n",
    "print (newList)"
   ]
  },
  {
   "cell_type": "markdown",
   "metadata": {},
   "source": [
    "#### 59. Convert key-values list to flat dictionary"
   ]
  },
  {
   "cell_type": "code",
   "execution_count": 229,
   "metadata": {},
   "outputs": [
    {
     "name": "stdout",
     "output_type": "stream",
     "text": [
      "{'Erika Clark DDS': 52, 'Thomas Webb': 86, 'Soniya Chef': 43}\n"
     ]
    }
   ],
   "source": [
    "names = ['Erika Clark DDS','Thomas Webb','Soniya Chef']\n",
    "scores = [52,86,43]\n",
    "detail = {names[i] : scores[i] for i in range(len(names))}\n",
    "print(detail)"
   ]
  },
  {
   "cell_type": "markdown",
   "metadata": {},
   "source": [
    "#### 60. Convert a list of Tuples into Dictionary"
   ]
  },
  {
   "cell_type": "code",
   "execution_count": 230,
   "metadata": {},
   "outputs": [
    {
     "name": "stdout",
     "output_type": "stream",
     "text": [
      "{'FYJC': ['MAT001', 'ENG001'], 'SYJC': ['MAT001', 'ENG001']}\n"
     ]
    }
   ],
   "source": [
    "list_a = [('FYJC','MAT001'),('SYJC','ENG001')]\n",
    "new_dict = {}\n",
    "value = []\n",
    "for i in range(len(list_a)):\n",
    "    key = list_a[i][0]\n",
    "    value.append(list_a[i][1])\n",
    "    new_dict[key] = value\n",
    "print(new_dict)"
   ]
  },
  {
   "cell_type": "markdown",
   "metadata": {},
   "source": [
    "#### 61. Convert Nested dictionary to Mapped Tuple"
   ]
  },
  {
   "cell_type": "code",
   "execution_count": 231,
   "metadata": {},
   "outputs": [
    {
     "name": "stdout",
     "output_type": "stream",
     "text": [
      "book_name Main get.\n",
      "author_name David Allen\n",
      "book_name Main get\n",
      "author_name Davidallen\n",
      "('author_name', 'David Allen')\n",
      "('author_name', 'Davidallen')\n",
      "('author_name', 'David Allen')\n",
      "('author_name', 'Davidallen')\n"
     ]
    }
   ],
   "source": [
    "nes = {0: {'book_name': 'Main get.', 'author_name': 'David Allen'},\n",
    " 1: {'book_name': 'Main get', 'author_name': 'Davidallen'}}\n",
    "\n",
    "agendas = []\n",
    "for key,details in nes.items():\n",
    "    for agenda,detail in details.items():\n",
    "        agendas.append(agenda)\n",
    "        print(agenda,nes[key][agenda])\n",
    "\n",
    "        \n",
    "for topic in set(agendas):\n",
    "    for book_no,details in nes.items():\n",
    "        for agenda in details.items():\n",
    "            pass\n",
    "        print(agenda)\n",
    "            "
   ]
  },
  {
   "cell_type": "markdown",
   "metadata": {},
   "source": [
    "#### 62. WAP to find winner of election\n",
    "\n",
    "Input :  votes = [\"john\", \"johnny\", \"jackie\", \n",
    "                    \"johnny\", \"john\", \"jackie\", \n",
    "                    \"jamie\", \"jamie\", \"john\",\n",
    "                    \"johnny\", \"jamie\", \"johnny\", \n",
    "                    \"john\"]\n",
    "    \n",
    "Output : John\n",
    "    \n",
    "We have four Candidates with name as 'John', 'Johnny', 'jamie', 'jackie'. The candidates John and Johny get maximum votes. Since John is alphabetically smaller, we print it."
   ]
  },
  {
   "cell_type": "code",
   "execution_count": 261,
   "metadata": {},
   "outputs": [
    {
     "name": "stdout",
     "output_type": "stream",
     "text": [
      "{'jackie': 2, 'john': 4, 'johnny': 4, 'jamie': 3}\n",
      "john\n"
     ]
    }
   ],
   "source": [
    "votes = [\"john\", \"johnny\", \"jackie\", \"johnny\", \"john\", \"jackie\", \n",
    "        \"jamie\", \"jamie\", \"john\",\"johnny\", \"jamie\", \"johnny\", \"john\"]\n",
    "candidates = set(votes)\n",
    "\n",
    "votes_got = []\n",
    "for candidate in candidates:\n",
    "    votes_got.append(votes.count(candidate))\n",
    "\n",
    "final = {x: y for x,y in zip(candidates,votes_got)}\n",
    "\n",
    "print(final)\n",
    "print(list(final.keys())[list(final.values()).index(max(sorted(final.values())))])"
   ]
  },
  {
   "cell_type": "markdown",
   "metadata": {},
   "source": [
    "#### 63. Create a dictionary/ nested  dict of which will held books name, author name, price, year of publishing, num pages, copies sold, rating, category, (chapter, number of pages per chapter, number of characters), (publish name, publisher address), location of availability\n",
    "\n",
    "Create data using faker model if possible or have your own data created for this exercise.\n",
    "\n",
    "Category : Fiction, nonfiction, scifi, economy, sports, mythology"
   ]
  },
  {
   "cell_type": "code",
   "execution_count": 236,
   "metadata": {},
   "outputs": [
    {
     "name": "stdout",
     "output_type": "stream",
     "text": [
      "['Melissa Werner', 'Joshua Sullivan', 'Susan Bush', 'Ryan Jones', 'Mr. Jonathan Jones', 'Edward Perez', 'Victor Hill', 'James Miller', 'Juan Contreras', 'Kevin Watson']\n",
      "['Tyler-Jackson', 'Brown-Strong', 'Haynes LLC', 'Frank-Schroeder', 'Reed PLC', 'Sanchez, Wood and Bass', 'Williams, Williams and Fox', 'Wilson Group', 'Silva, Kane and Benton', 'Ingram Ltd']\n",
      "['Turkmenistan', 'Moldova', 'Sudan', 'Cayman Islands', 'Guernsey', 'Paraguay', 'Ireland', 'Thailand', 'Hong Kong', 'Croatia']\n"
     ]
    }
   ],
   "source": [
    "categories = ['Fiction', 'Non-Fiction', 'Science Fiction', 'Economy', 'Sports', 'Mythology']\n",
    "authors_10 = []\n",
    "publishers_10 = []\n",
    "countries_10 = []\n",
    "for i in range(10):\n",
    "    authors_10.append(fake.name())\n",
    "    publishers_10.append(fake.company())\n",
    "    countries_10.append(fake.country())\n",
    "        \n",
    "print(authors_10)\n",
    "print(publishers_10)\n",
    "print(countries_10)"
   ]
  },
  {
   "cell_type": "code",
   "execution_count": 237,
   "metadata": {},
   "outputs": [
    {
     "name": "stdout",
     "output_type": "stream",
     "text": [
      "{0: {'book_name': 'Record increase pretty pay.', 'author_name': 'Ryan Jones', 'price': '$5,191.78', 'published_year': '1991', 'num_pages': 104, 'copies_sold': '234', 'rating (1-5)': 2, 'category': 'Sports', 'chapters': 24, 'publisher_name': 'Frank-Schroeder', 'publisher_address': '066 Amanda Hills\\nEspinozatown, MS 09441', 'country_available': 'Turkmenistan', 'characters': 12}, 1: {'book_name': 'Network treatment.', 'author_name': 'Mr. Jonathan Jones', 'price': '$6,674.18', 'published_year': '2020', 'num_pages': 183, 'copies_sold': '145', 'rating (1-5)': 1, 'category': 'Science Fiction', 'chapters': 16, 'publisher_name': 'Haynes LLC', 'publisher_address': '837 Scott Parkway\\nEast Andrea, OK 71137', 'country_available': 'Thailand', 'characters': 4}, 2: {'book_name': 'Minute fish toward money fear.', 'author_name': 'Kevin Watson', 'price': '$77.31', 'published_year': '2002', 'num_pages': 1419, 'copies_sold': '119', 'rating (1-5)': 1, 'category': 'Non-Fiction', 'chapters': 20, 'publisher_name': 'Wilson Group', 'publisher_address': '0498 Summer Loop\\nLake Leslie, NC 74405', 'country_available': 'Cayman Islands', 'characters': 11}, 3: {'book_name': 'Beat three main need house.', 'author_name': 'Joshua Sullivan', 'price': '$522.36', 'published_year': '2015', 'num_pages': 1039, 'copies_sold': '986', 'rating (1-5)': 4, 'category': 'Mythology', 'chapters': 9, 'publisher_name': 'Haynes LLC', 'publisher_address': 'PSC 9678, Box 9441\\nAPO AA 94490', 'country_available': 'Croatia', 'characters': 6}, 4: {'book_name': 'Hard field create show.', 'author_name': 'Juan Contreras', 'price': '$172.35', 'published_year': '1999', 'num_pages': 881, 'copies_sold': '586', 'rating (1-5)': 4, 'category': 'Sports', 'chapters': 15, 'publisher_name': 'Frank-Schroeder', 'publisher_address': '77709 Ann Fields Apt. 726\\nCaitlynfort, MI 15123', 'country_available': 'Ireland', 'characters': 9}, 5: {'book_name': 'Put star.', 'author_name': 'Edward Perez', 'price': '$85,090.92', 'published_year': '1991', 'num_pages': 904, 'copies_sold': '273', 'rating (1-5)': 1, 'category': 'Non-Fiction', 'chapters': 13, 'publisher_name': 'Haynes LLC', 'publisher_address': '856 Danielle Orchard Suite 027\\nWest Margaretshire, WV 12963', 'country_available': 'Turkmenistan', 'characters': 8}, 6: {'book_name': 'Last believe floor.', 'author_name': 'Edward Perez', 'price': '$27.18', 'published_year': '1995', 'num_pages': 558, 'copies_sold': '137', 'rating (1-5)': 4, 'category': 'Mythology', 'chapters': 26, 'publisher_name': 'Tyler-Jackson', 'publisher_address': '321 Emily Locks\\nNorth Allisonville, ID 25402', 'country_available': 'Cayman Islands', 'characters': 12}, 7: {'book_name': 'Ten pay forget without traditional.', 'author_name': 'Mr. Jonathan Jones', 'price': '$379.16', 'published_year': '1971', 'num_pages': 548, 'copies_sold': '882', 'rating (1-5)': 5, 'category': 'Science Fiction', 'chapters': 17, 'publisher_name': 'Williams, Williams and Fox', 'publisher_address': '98865 Brandy Stravenue\\nPort Katherineberg, AR 85162', 'country_available': 'Thailand', 'characters': 18}, 8: {'book_name': 'With statement.', 'author_name': 'Mr. Jonathan Jones', 'price': '$13.94', 'published_year': '1994', 'num_pages': 1496, 'copies_sold': '975', 'rating (1-5)': 4, 'category': 'Sports', 'chapters': 8, 'publisher_name': 'Sanchez, Wood and Bass', 'publisher_address': '78348 Christy Streets\\nGrantfurt, GA 04232', 'country_available': 'Ireland', 'characters': 19}, 9: {'book_name': 'List now.', 'author_name': 'Ryan Jones', 'price': '$73.84', 'published_year': '1997', 'num_pages': 1194, 'copies_sold': '605', 'rating (1-5)': 4, 'category': 'Sports', 'chapters': 24, 'publisher_name': 'Wilson Group', 'publisher_address': 'Unit 8631 Box 1171\\nDPO AE 71152', 'country_available': 'Croatia', 'characters': 4}, 10: {'book_name': 'Military important year.', 'author_name': 'Kevin Watson', 'price': '$282.09', 'published_year': '1972', 'num_pages': 574, 'copies_sold': '333', 'rating (1-5)': 3, 'category': 'Economy', 'chapters': 18, 'publisher_name': 'Reed PLC', 'publisher_address': '15552 Whitney Spring\\nSouth Gary, AR 37716', 'country_available': 'Croatia', 'characters': 5}, 11: {'book_name': 'Executive environment door use.', 'author_name': 'Melissa Werner', 'price': '$57,685.39', 'published_year': '1988', 'num_pages': 667, 'copies_sold': '332', 'rating (1-5)': 5, 'category': 'Science Fiction', 'chapters': 17, 'publisher_name': 'Brown-Strong', 'publisher_address': '1686 Michelle Pine\\nPaulfurt, NY 39737', 'country_available': 'Thailand', 'characters': 10}, 12: {'book_name': 'Edge start data.', 'author_name': 'Melissa Werner', 'price': '$777.83', 'published_year': '1991', 'num_pages': 916, 'copies_sold': '093', 'rating (1-5)': 3, 'category': 'Economy', 'chapters': 28, 'publisher_name': 'Sanchez, Wood and Bass', 'publisher_address': 'PSC 0552, Box 4093\\nAPO AA 90198', 'country_available': 'Thailand', 'characters': 17}, 13: {'book_name': 'Main very create add.', 'author_name': 'Susan Bush', 'price': '$87,791.47', 'published_year': '1988', 'num_pages': 1386, 'copies_sold': '825', 'rating (1-5)': 4, 'category': 'Economy', 'chapters': 15, 'publisher_name': 'Wilson Group', 'publisher_address': '42025 David Row Suite 053\\nLake Davidshire, NM 41813', 'country_available': 'Paraguay', 'characters': 14}, 14: {'book_name': 'Image debate us.', 'author_name': 'Edward Perez', 'price': '$6.87', 'published_year': '1983', 'num_pages': 366, 'copies_sold': '218', 'rating (1-5)': 5, 'category': 'Economy', 'chapters': 17, 'publisher_name': 'Silva, Kane and Benton', 'publisher_address': '3891 Johnson Mount Suite 660\\nEast Melissa, KS 85286', 'country_available': 'Ireland', 'characters': 10}, 15: {'book_name': 'Level economy final machine.', 'author_name': 'Melissa Werner', 'price': '$62.78', 'published_year': '2013', 'num_pages': 369, 'copies_sold': '253', 'rating (1-5)': 4, 'category': 'Fiction', 'chapters': 27, 'publisher_name': 'Silva, Kane and Benton', 'publisher_address': '066 Bethany Knolls Apt. 381\\nPort Heatherberg, DC 59290', 'country_available': 'Turkmenistan', 'characters': 8}, 16: {'book_name': 'Read speak thank fact perform.', 'author_name': 'Melissa Werner', 'price': '$0.57', 'published_year': '1982', 'num_pages': 1126, 'copies_sold': '238', 'rating (1-5)': 1, 'category': 'Sports', 'chapters': 24, 'publisher_name': 'Sanchez, Wood and Bass', 'publisher_address': 'Unit 9930 Box 3238\\nDPO AE 21677', 'country_available': 'Sudan', 'characters': 6}, 17: {'book_name': 'Produce ready increase example area.', 'author_name': 'Juan Contreras', 'price': '$45,352.41', 'published_year': '2011', 'num_pages': 718, 'copies_sold': '318', 'rating (1-5)': 5, 'category': 'Mythology', 'chapters': 25, 'publisher_name': 'Tyler-Jackson', 'publisher_address': '31039 White Meadows Apt. 727\\nGilbertborough, CO 36924', 'country_available': 'Ireland', 'characters': 18}, 18: {'book_name': 'Will recent doctor laugh suffer.', 'author_name': 'Ryan Jones', 'price': '$1.81', 'published_year': '1987', 'num_pages': 258, 'copies_sold': '889', 'rating (1-5)': 4, 'category': 'Science Fiction', 'chapters': 27, 'publisher_name': 'Williams, Williams and Fox', 'publisher_address': '256 Christy Squares\\nEast Lindseytown, UT 53876', 'country_available': 'Moldova', 'characters': 5}, 19: {'book_name': 'Maintain event particular Democrat.', 'author_name': 'Ryan Jones', 'price': '$6,737.36', 'published_year': '2010', 'num_pages': 1478, 'copies_sold': '803', 'rating (1-5)': 3, 'category': 'Economy', 'chapters': 18, 'publisher_name': 'Tyler-Jackson', 'publisher_address': '450 Alisha Rapids Suite 418\\nWest Sarahberg, ND 11444', 'country_available': 'Hong Kong', 'characters': 5}, 20: {'book_name': 'Answer teacher unit everything author.', 'author_name': 'Kevin Watson', 'price': '$16.26', 'published_year': '1974', 'num_pages': 871, 'copies_sold': '310', 'rating (1-5)': 1, 'category': 'Sports', 'chapters': 26, 'publisher_name': 'Reed PLC', 'publisher_address': '74450 Greene Crescent\\nNorth Frankview, MD 56155', 'country_available': 'Cayman Islands', 'characters': 7}, 21: {'book_name': 'Subject treat maybe father.', 'author_name': 'Mr. Jonathan Jones', 'price': '$537.53', 'published_year': '2011', 'num_pages': 1413, 'copies_sold': '949', 'rating (1-5)': 2, 'category': 'Sports', 'chapters': 22, 'publisher_name': 'Brown-Strong', 'publisher_address': '29468 Jennifer Shoal\\nNew Christianmouth, HI 58159', 'country_available': 'Cayman Islands', 'characters': 11}, 22: {'book_name': 'Fly strategy down now light.', 'author_name': 'Edward Perez', 'price': '$11.73', 'published_year': '1979', 'num_pages': 349, 'copies_sold': '445', 'rating (1-5)': 5, 'category': 'Non-Fiction', 'chapters': 6, 'publisher_name': 'Frank-Schroeder', 'publisher_address': '3549 Michael Parks\\nWest Charlesfurt, NM 05654', 'country_available': 'Cayman Islands', 'characters': 7}, 23: {'book_name': 'Special civil else commercial modern.', 'author_name': 'Kevin Watson', 'price': '$482.22', 'published_year': '2005', 'num_pages': 777, 'copies_sold': '578', 'rating (1-5)': 5, 'category': 'Economy', 'chapters': 15, 'publisher_name': 'Sanchez, Wood and Bass', 'publisher_address': '63930 James Fields\\nLawrencechester, AK 56429', 'country_available': 'Cayman Islands', 'characters': 10}, 24: {'book_name': 'Attention cold anything.', 'author_name': 'Edward Perez', 'price': '$94,166.00', 'published_year': '1983', 'num_pages': 714, 'copies_sold': '147', 'rating (1-5)': 3, 'category': 'Science Fiction', 'chapters': 6, 'publisher_name': 'Wilson Group', 'publisher_address': '52344 Amanda Cove Apt. 959\\nSouth Michelefurt, FL 45276', 'country_available': 'Moldova', 'characters': 13}, 25: {'book_name': 'Resource one sea point.', 'author_name': 'Ryan Jones', 'price': '$23,922.79', 'published_year': '2015', 'num_pages': 447, 'copies_sold': '580', 'rating (1-5)': 4, 'category': 'Non-Fiction', 'chapters': 27, 'publisher_name': 'Williams, Williams and Fox', 'publisher_address': '4364 Brian Extension\\nEvanshire, MT 38236', 'country_available': 'Sudan', 'characters': 11}, 26: {'book_name': 'Place town available.', 'author_name': 'James Miller', 'price': '$1,287.96', 'published_year': '1975', 'num_pages': 1211, 'copies_sold': '037', 'rating (1-5)': 3, 'category': 'Non-Fiction', 'chapters': 12, 'publisher_name': 'Haynes LLC', 'publisher_address': '60015 Williams Island Apt. 789\\nPattersonview, OK 93159', 'country_available': 'Sudan', 'characters': 19}, 27: {'book_name': 'Arrive sometimes worker.', 'author_name': 'Kevin Watson', 'price': '$9.92', 'published_year': '1997', 'num_pages': 1012, 'copies_sold': '216', 'rating (1-5)': 3, 'category': 'Mythology', 'chapters': 20, 'publisher_name': 'Haynes LLC', 'publisher_address': '830 Pamela Street Suite 882\\nPriscillachester, GA 09411', 'country_available': 'Sudan', 'characters': 17}, 28: {'book_name': 'High population.', 'author_name': 'Susan Bush', 'price': '$4.75', 'published_year': '1972', 'num_pages': 1481, 'copies_sold': '048', 'rating (1-5)': 1, 'category': 'Fiction', 'chapters': 21, 'publisher_name': 'Williams, Williams and Fox', 'publisher_address': '31188 Melissa Valley\\nNew Ronald, HI 60384', 'country_available': 'Paraguay', 'characters': 14}, 29: {'book_name': 'Something room ground industry kid.', 'author_name': 'Joshua Sullivan', 'price': '$57.13', 'published_year': '2010', 'num_pages': 911, 'copies_sold': '331', 'rating (1-5)': 3, 'category': 'Science Fiction', 'chapters': 16, 'publisher_name': 'Williams, Williams and Fox', 'publisher_address': '38437 Lucas Wall Apt. 905\\nLake Melanie, CA 37029', 'country_available': 'Cayman Islands', 'characters': 13}, 30: {'book_name': 'Development agent cost.', 'author_name': 'Ryan Jones', 'price': '$2.95', 'published_year': '1999', 'num_pages': 1091, 'copies_sold': '687', 'rating (1-5)': 1, 'category': 'Fiction', 'chapters': 13, 'publisher_name': 'Tyler-Jackson', 'publisher_address': '90290 Ryan Greens Suite 076\\nSouth Alfredberg, SD 36409', 'country_available': 'Ireland', 'characters': 14}, 31: {'book_name': 'Everything would project school Mr.', 'author_name': 'Susan Bush', 'price': '$3.25', 'published_year': '2014', 'num_pages': 618, 'copies_sold': '173', 'rating (1-5)': 2, 'category': 'Mythology', 'chapters': 19, 'publisher_name': 'Reed PLC', 'publisher_address': '3735 Tony Harbor\\nPort Sarah, NJ 71723', 'country_available': 'Thailand', 'characters': 19}, 32: {'book_name': 'Road possible stuff less.', 'author_name': 'Juan Contreras', 'price': '$434.93', 'published_year': '2008', 'num_pages': 1214, 'copies_sold': '418', 'rating (1-5)': 2, 'category': 'Fiction', 'chapters': 15, 'publisher_name': 'Wilson Group', 'publisher_address': '91994 Michael Centers Apt. 120\\nMendozaburgh, DC 05294', 'country_available': 'Cayman Islands', 'characters': 19}, 33: {'book_name': 'Base industry behavior across.', 'author_name': 'Juan Contreras', 'price': '$85.04', 'published_year': '2014', 'num_pages': 306, 'copies_sold': '989', 'rating (1-5)': 2, 'category': 'Mythology', 'chapters': 19, 'publisher_name': 'Silva, Kane and Benton', 'publisher_address': '640 Maynard Ridges\\nLake Kristishire, PA 89865', 'country_available': 'Sudan', 'characters': 4}, 34: {'book_name': 'Eight fact.', 'author_name': 'Susan Bush', 'price': '$60.44', 'published_year': '2006', 'num_pages': 264, 'copies_sold': '652', 'rating (1-5)': 1, 'category': 'Economy', 'chapters': 18, 'publisher_name': 'Frank-Schroeder', 'publisher_address': '2818 Alexander Harbor\\nLake Bryan, AZ 20479', 'country_available': 'Guernsey', 'characters': 18}, 35: {'book_name': 'Through receive seven community.', 'author_name': 'Mr. Jonathan Jones', 'price': '$74,897.55', 'published_year': '1999', 'num_pages': 1454, 'copies_sold': '273', 'rating (1-5)': 1, 'category': 'Economy', 'chapters': 15, 'publisher_name': 'Frank-Schroeder', 'publisher_address': '1252 Banks Extension\\nNorth Catherine, IL 96086', 'country_available': 'Thailand', 'characters': 17}, 36: {'book_name': 'Garden blood nor.', 'author_name': 'Victor Hill', 'price': '$8.19', 'published_year': '2016', 'num_pages': 103, 'copies_sold': '017', 'rating (1-5)': 2, 'category': 'Fiction', 'chapters': 12, 'publisher_name': 'Frank-Schroeder', 'publisher_address': '4385 Andrew Corners Apt. 387\\nLake Nicole, NE 53361', 'country_available': 'Paraguay', 'characters': 16}, 37: {'book_name': 'Maybe PM every sort paper.', 'author_name': 'James Miller', 'price': '$94.93', 'published_year': '1996', 'num_pages': 242, 'copies_sold': '992', 'rating (1-5)': 1, 'category': 'Science Fiction', 'chapters': 20, 'publisher_name': 'Brown-Strong', 'publisher_address': '625 Wright Light Apt. 303\\nJohnsonshire, AZ 52795', 'country_available': 'Croatia', 'characters': 18}, 38: {'book_name': 'Interesting story might subject.', 'author_name': 'Melissa Werner', 'price': '$9,128.03', 'published_year': '2009', 'num_pages': 1056, 'copies_sold': '510', 'rating (1-5)': 2, 'category': 'Science Fiction', 'chapters': 15, 'publisher_name': 'Wilson Group', 'publisher_address': '745 Cox Roads\\nJeremyfort, UT 53085', 'country_available': 'Cayman Islands', 'characters': 19}, 39: {'book_name': 'Card large accept rule medical.', 'author_name': 'Juan Contreras', 'price': '$2,973.94', 'published_year': '1978', 'num_pages': 1262, 'copies_sold': '369', 'rating (1-5)': 4, 'category': 'Mythology', 'chapters': 17, 'publisher_name': 'Sanchez, Wood and Bass', 'publisher_address': '699 Price Lodge Suite 303\\nNorth Taylor, DE 77245', 'country_available': 'Hong Kong', 'characters': 15}, 40: {'book_name': 'Air establish structure.', 'author_name': 'Melissa Werner', 'price': '$560.39', 'published_year': '1984', 'num_pages': 756, 'copies_sold': '915', 'rating (1-5)': 4, 'category': 'Sports', 'chapters': 24, 'publisher_name': 'Tyler-Jackson', 'publisher_address': '41569 Andrew Ports Suite 255\\nOrozcoport, GA 58347', 'country_available': 'Croatia', 'characters': 10}, 41: {'book_name': 'Bed easy.', 'author_name': 'Victor Hill', 'price': '$3,511.74', 'published_year': '1997', 'num_pages': 79, 'copies_sold': '142', 'rating (1-5)': 3, 'category': 'Sports', 'chapters': 21, 'publisher_name': 'Sanchez, Wood and Bass', 'publisher_address': '3637 Michelle Gardens Suite 329\\nWest Gloria, CA 64445', 'country_available': 'Moldova', 'characters': 6}, 42: {'book_name': 'Ability building business half whether.', 'author_name': 'Kevin Watson', 'price': '$24.55', 'published_year': '1983', 'num_pages': 1154, 'copies_sold': '114', 'rating (1-5)': 2, 'category': 'Sports', 'chapters': 5, 'publisher_name': 'Reed PLC', 'publisher_address': '93786 Stacy Rest Suite 789\\nSouth Micheleburgh, UT 98175', 'country_available': 'Thailand', 'characters': 12}, 43: {'book_name': 'Second something even opportunity.', 'author_name': 'Susan Bush', 'price': '$5,227.43', 'published_year': '1991', 'num_pages': 127, 'copies_sold': '287', 'rating (1-5)': 4, 'category': 'Mythology', 'chapters': 25, 'publisher_name': 'Ingram Ltd', 'publisher_address': '1834 Thompson Isle\\nPort Ronaldmouth, MI 08435', 'country_available': 'Sudan', 'characters': 9}, 44: {'book_name': 'Group cold.', 'author_name': 'Mr. Jonathan Jones', 'price': '$583.80', 'published_year': '2012', 'num_pages': 723, 'copies_sold': '505', 'rating (1-5)': 5, 'category': 'Fiction', 'chapters': 9, 'publisher_name': 'Brown-Strong', 'publisher_address': '79829 Adam Mission Suite 568\\nNorth Kenneth, TN 12432', 'country_available': 'Cayman Islands', 'characters': 11}, 45: {'book_name': 'Dream clearly learn lawyer.', 'author_name': 'Juan Contreras', 'price': '$618.94', 'published_year': '2005', 'num_pages': 1070, 'copies_sold': '336', 'rating (1-5)': 1, 'category': 'Science Fiction', 'chapters': 11, 'publisher_name': 'Reed PLC', 'publisher_address': '3148 Small Knoll Suite 582\\nNathanland, MS 38678', 'country_available': 'Cayman Islands', 'characters': 5}, 46: {'book_name': 'Best success look.', 'author_name': 'Susan Bush', 'price': '$68,145.20', 'published_year': '2005', 'num_pages': 1355, 'copies_sold': '485', 'rating (1-5)': 2, 'category': 'Fiction', 'chapters': 8, 'publisher_name': 'Brown-Strong', 'publisher_address': '370 Seth Courts\\nEast Juliemouth, HI 08854', 'country_available': 'Croatia', 'characters': 7}, 47: {'book_name': 'Debate spend plan.', 'author_name': 'Melissa Werner', 'price': '$4,305.11', 'published_year': '1984', 'num_pages': 595, 'copies_sold': '721', 'rating (1-5)': 2, 'category': 'Sports', 'chapters': 7, 'publisher_name': 'Wilson Group', 'publisher_address': '483 David Plaza\\nNew Scotttown, MS 33583', 'country_available': 'Ireland', 'characters': 14}, 48: {'book_name': 'Nice style.', 'author_name': 'Kevin Watson', 'price': '$7,877.26', 'published_year': '1985', 'num_pages': 697, 'copies_sold': '364', 'rating (1-5)': 5, 'category': 'Non-Fiction', 'chapters': 23, 'publisher_name': 'Haynes LLC', 'publisher_address': '750 Jean Court Apt. 745\\nPort Jonathantown, AZ 96981', 'country_available': 'Sudan', 'characters': 10}, 49: {'book_name': 'Call market old.', 'author_name': 'James Miller', 'price': '$6.39', 'published_year': '1991', 'num_pages': 333, 'copies_sold': '485', 'rating (1-5)': 4, 'category': 'Economy', 'chapters': 7, 'publisher_name': 'Reed PLC', 'publisher_address': '3547 Curtis Ports Suite 784\\nNorth Rachelmouth, MN 84707', 'country_available': 'Ireland', 'characters': 15}, 50: {'book_name': 'Quality executive across buy candidate.', 'author_name': 'Edward Perez', 'price': '$58,377.94', 'published_year': '2005', 'num_pages': 647, 'copies_sold': '610', 'rating (1-5)': 2, 'category': 'Science Fiction', 'chapters': 19, 'publisher_name': 'Wilson Group', 'publisher_address': '351 Sanchez Mills Suite 642\\nJohnsonview, HI 09678', 'country_available': 'Hong Kong', 'characters': 8}, 51: {'book_name': 'Condition arm.', 'author_name': 'Victor Hill', 'price': '$148.75', 'published_year': '2019', 'num_pages': 433, 'copies_sold': '355', 'rating (1-5)': 2, 'category': 'Sports', 'chapters': 29, 'publisher_name': 'Frank-Schroeder', 'publisher_address': '928 Christine Coves Suite 602\\nKathleenville, AR 93782', 'country_available': 'Thailand', 'characters': 7}, 52: {'book_name': 'Upon final term.', 'author_name': 'Susan Bush', 'price': '$29,834.09', 'published_year': '2002', 'num_pages': 264, 'copies_sold': '089', 'rating (1-5)': 5, 'category': 'Sports', 'chapters': 26, 'publisher_name': 'Wilson Group', 'publisher_address': 'Unit 6592 Box 0231\\nDPO AA 24077', 'country_available': 'Guernsey', 'characters': 10}, 53: {'book_name': 'Group final such even dark.', 'author_name': 'Kevin Watson', 'price': '$923.18', 'published_year': '1977', 'num_pages': 549, 'copies_sold': '270', 'rating (1-5)': 3, 'category': 'Science Fiction', 'chapters': 22, 'publisher_name': 'Frank-Schroeder', 'publisher_address': 'PSC 3757, Box 8719\\nAPO AE 51886', 'country_available': 'Moldova', 'characters': 13}, 54: {'book_name': 'Stock two available party.', 'author_name': 'Edward Perez', 'price': '$3.34', 'published_year': '2018', 'num_pages': 550, 'copies_sold': '483', 'rating (1-5)': 5, 'category': 'Sports', 'chapters': 17, 'publisher_name': 'Williams, Williams and Fox', 'publisher_address': '66480 Noble Cliff\\nEmilyville, DE 64681', 'country_available': 'Moldova', 'characters': 6}, 55: {'book_name': 'Baby check.', 'author_name': 'Kevin Watson', 'price': '$1.78', 'published_year': '1991', 'num_pages': 111, 'copies_sold': '438', 'rating (1-5)': 2, 'category': 'Mythology', 'chapters': 22, 'publisher_name': 'Ingram Ltd', 'publisher_address': '8344 Petersen Junction Apt. 270\\nCarolland, GA 90496', 'country_available': 'Croatia', 'characters': 14}, 56: {'book_name': 'Common recent teach.', 'author_name': 'Edward Perez', 'price': '$79.35', 'published_year': '1983', 'num_pages': 740, 'copies_sold': '776', 'rating (1-5)': 5, 'category': 'Economy', 'chapters': 11, 'publisher_name': 'Reed PLC', 'publisher_address': '479 Patricia Knoll\\nNorth Thomas, KS 36376', 'country_available': 'Turkmenistan', 'characters': 5}, 57: {'book_name': 'Fund against.', 'author_name': 'Susan Bush', 'price': '$80,555.74', 'published_year': '2006', 'num_pages': 497, 'copies_sold': '665', 'rating (1-5)': 3, 'category': 'Sports', 'chapters': 23, 'publisher_name': 'Williams, Williams and Fox', 'publisher_address': 'PSC 6132, Box 2385\\nAPO AP 84078', 'country_available': 'Croatia', 'characters': 19}, 58: {'book_name': 'Camera traditional drug.', 'author_name': 'Edward Perez', 'price': '$2,072.93', 'published_year': '1981', 'num_pages': 844, 'copies_sold': '123', 'rating (1-5)': 4, 'category': 'Fiction', 'chapters': 18, 'publisher_name': 'Silva, Kane and Benton', 'publisher_address': '6156 Gonzalez Lock Suite 786\\nSouth Matthew, TX 10581', 'country_available': 'Croatia', 'characters': 10}, 59: {'book_name': 'Wall wrong country piece better.', 'author_name': 'Melissa Werner', 'price': '$7,544.74', 'published_year': '1981', 'num_pages': 875, 'copies_sold': '579', 'rating (1-5)': 2, 'category': 'Science Fiction', 'chapters': 26, 'publisher_name': 'Tyler-Jackson', 'publisher_address': '32914 Garrison Throughway\\nMurphyhaven, PA 03148', 'country_available': 'Hong Kong', 'characters': 11}, 60: {'book_name': 'Get behavior begin color.', 'author_name': 'Melissa Werner', 'price': '$23.48', 'published_year': '2018', 'num_pages': 1082, 'copies_sold': '492', 'rating (1-5)': 2, 'category': 'Fiction', 'chapters': 29, 'publisher_name': 'Haynes LLC', 'publisher_address': 'USS Villarreal\\nFPO AA 67384', 'country_available': 'Moldova', 'characters': 11}, 61: {'book_name': 'Often again happen pick far.', 'author_name': 'Mr. Jonathan Jones', 'price': '$9,190.13', 'published_year': '2013', 'num_pages': 1229, 'copies_sold': '465', 'rating (1-5)': 5, 'category': 'Science Fiction', 'chapters': 6, 'publisher_name': 'Reed PLC', 'publisher_address': 'USCGC Figueroa\\nFPO AP 97950', 'country_available': 'Paraguay', 'characters': 5}, 62: {'book_name': 'Require watch push outside.', 'author_name': 'Edward Perez', 'price': '$99.83', 'published_year': '1994', 'num_pages': 110, 'copies_sold': '468', 'rating (1-5)': 1, 'category': 'Fiction', 'chapters': 10, 'publisher_name': 'Haynes LLC', 'publisher_address': '728 Jasmine Canyon\\nPhillipsside, NC 23473', 'country_available': 'Hong Kong', 'characters': 17}, 63: {'book_name': 'Top animal never TV push.', 'author_name': 'Mr. Jonathan Jones', 'price': '$3,255.21', 'published_year': '1970', 'num_pages': 782, 'copies_sold': '972', 'rating (1-5)': 3, 'category': 'Non-Fiction', 'chapters': 27, 'publisher_name': 'Brown-Strong', 'publisher_address': '474 Charles Crossroad Apt. 312\\nHolderville, OK 99024', 'country_available': 'Ireland', 'characters': 6}, 64: {'book_name': 'Data beautiful support.', 'author_name': 'Edward Perez', 'price': '$54,799.74', 'published_year': '2009', 'num_pages': 84, 'copies_sold': '770', 'rating (1-5)': 2, 'category': 'Science Fiction', 'chapters': 22, 'publisher_name': 'Ingram Ltd', 'publisher_address': '67251 Joseph Curve\\nKristytown, NV 45354', 'country_available': 'Croatia', 'characters': 18}, 65: {'book_name': 'Wait hotel reflect from daughter.', 'author_name': 'Kevin Watson', 'price': '$566.82', 'published_year': '1997', 'num_pages': 1211, 'copies_sold': '262', 'rating (1-5)': 1, 'category': 'Fiction', 'chapters': 20, 'publisher_name': 'Reed PLC', 'publisher_address': '0153 Christopher Rest\\nLake Cynthiaville, AK 04776', 'country_available': 'Thailand', 'characters': 19}, 66: {'book_name': 'Reality decide she nature.', 'author_name': 'James Miller', 'price': '$44.79', 'published_year': '1979', 'num_pages': 245, 'copies_sold': '506', 'rating (1-5)': 2, 'category': 'Sports', 'chapters': 13, 'publisher_name': 'Reed PLC', 'publisher_address': '522 Herbert Islands\\nWest Rachelland, NE 34701', 'country_available': 'Ireland', 'characters': 5}, 67: {'book_name': 'Dream support responsibility last reason.', 'author_name': 'Mr. Jonathan Jones', 'price': '$333.42', 'published_year': '1977', 'num_pages': 354, 'copies_sold': '197', 'rating (1-5)': 2, 'category': 'Science Fiction', 'chapters': 27, 'publisher_name': 'Sanchez, Wood and Bass', 'publisher_address': '46196 Chen Mission\\nEast Brandonmouth, DE 41936', 'country_available': 'Paraguay', 'characters': 10}, 68: {'book_name': 'Word move there.', 'author_name': 'Juan Contreras', 'price': '$6,262.07', 'published_year': '1971', 'num_pages': 1422, 'copies_sold': '771', 'rating (1-5)': 2, 'category': 'Non-Fiction', 'chapters': 17, 'publisher_name': 'Reed PLC', 'publisher_address': '720 Ramos Spring\\nLaurabury, ND 97211', 'country_available': 'Turkmenistan', 'characters': 15}, 69: {'book_name': 'And cell animal seek.', 'author_name': 'Melissa Werner', 'price': '$33,119.81', 'published_year': '1985', 'num_pages': 1454, 'copies_sold': '105', 'rating (1-5)': 2, 'category': 'Fiction', 'chapters': 8, 'publisher_name': 'Ingram Ltd', 'publisher_address': '33858 Wright Highway Suite 645\\nSouth Shane, DE 32479', 'country_available': 'Croatia', 'characters': 6}, 70: {'book_name': 'Fine determine tonight.', 'author_name': 'Susan Bush', 'price': '$0.29', 'published_year': '2018', 'num_pages': 576, 'copies_sold': '499', 'rating (1-5)': 1, 'category': 'Sports', 'chapters': 17, 'publisher_name': 'Frank-Schroeder', 'publisher_address': '3272 Charles Crossing Apt. 020\\nLake Timothy, NV 51839', 'country_available': 'Sudan', 'characters': 11}, 71: {'book_name': 'Leader its kitchen television try.', 'author_name': 'Melissa Werner', 'price': '$4,609.89', 'published_year': '1999', 'num_pages': 1024, 'copies_sold': '312', 'rating (1-5)': 2, 'category': 'Science Fiction', 'chapters': 18, 'publisher_name': 'Reed PLC', 'publisher_address': '785 Ward Park Suite 248\\nComptonland, VT 38372', 'country_available': 'Paraguay', 'characters': 13}, 72: {'book_name': 'Provide fast other.', 'author_name': 'Kevin Watson', 'price': '$8,106.52', 'published_year': '1978', 'num_pages': 126, 'copies_sold': '854', 'rating (1-5)': 4, 'category': 'Non-Fiction', 'chapters': 6, 'publisher_name': 'Frank-Schroeder', 'publisher_address': '014 Veronica Lake Apt. 010\\nNew Andrew, IA 83333', 'country_available': 'Guernsey', 'characters': 7}, 73: {'book_name': 'Relationship in term.', 'author_name': 'Ryan Jones', 'price': '$30.74', 'published_year': '2017', 'num_pages': 1481, 'copies_sold': '895', 'rating (1-5)': 4, 'category': 'Fiction', 'chapters': 13, 'publisher_name': 'Ingram Ltd', 'publisher_address': '50505 David Mission Suite 248\\nPort Caleb, AR 10857', 'country_available': 'Sudan', 'characters': 6}, 74: {'book_name': 'Scientist significant study.', 'author_name': 'Ryan Jones', 'price': '$4.64', 'published_year': '1984', 'num_pages': 898, 'copies_sold': '684', 'rating (1-5)': 1, 'category': 'Sports', 'chapters': 22, 'publisher_name': 'Frank-Schroeder', 'publisher_address': 'Unit 6758 Box 9206\\nDPO AA 81248', 'country_available': 'Moldova', 'characters': 8}, 75: {'book_name': 'Understand remain.', 'author_name': 'Edward Perez', 'price': '$9.93', 'published_year': '1983', 'num_pages': 527, 'copies_sold': '363', 'rating (1-5)': 1, 'category': 'Science Fiction', 'chapters': 15, 'publisher_name': 'Haynes LLC', 'publisher_address': '835 Benjamin Oval\\nSmithland, VT 30353', 'country_available': 'Thailand', 'characters': 4}, 76: {'book_name': 'Born almost money effort.', 'author_name': 'Joshua Sullivan', 'price': '$274.68', 'published_year': '1976', 'num_pages': 799, 'copies_sold': '672', 'rating (1-5)': 5, 'category': 'Fiction', 'chapters': 6, 'publisher_name': 'Ingram Ltd', 'publisher_address': '545 Zuniga Plains Suite 412\\nDawnburgh, WY 08992', 'country_available': 'Croatia', 'characters': 6}, 77: {'book_name': 'Nearly tax Democrat.', 'author_name': 'Melissa Werner', 'price': '$43,219.01', 'published_year': '1987', 'num_pages': 1227, 'copies_sold': '714', 'rating (1-5)': 5, 'category': 'Economy', 'chapters': 20, 'publisher_name': 'Wilson Group', 'publisher_address': 'Unit 0375 Box 7183\\nDPO AE 43207', 'country_available': 'Moldova', 'characters': 7}, 78: {'book_name': 'Pm necessary by.', 'author_name': 'Joshua Sullivan', 'price': '$6.18', 'published_year': '2004', 'num_pages': 1288, 'copies_sold': '362', 'rating (1-5)': 3, 'category': 'Mythology', 'chapters': 26, 'publisher_name': 'Williams, Williams and Fox', 'publisher_address': '0717 Landry Junction\\nScottside, NE 83893', 'country_available': 'Sudan', 'characters': 8}, 79: {'book_name': 'Technology give.', 'author_name': 'Victor Hill', 'price': '$6,996.64', 'published_year': '1994', 'num_pages': 1033, 'copies_sold': '490', 'rating (1-5)': 2, 'category': 'Economy', 'chapters': 27, 'publisher_name': 'Haynes LLC', 'publisher_address': '93076 Brooks Pass\\nJacksonfort, KS 79415', 'country_available': 'Ireland', 'characters': 14}, 80: {'book_name': 'Candidate effect effort study.', 'author_name': 'Ryan Jones', 'price': '$9,601.44', 'published_year': '1982', 'num_pages': 1127, 'copies_sold': '013', 'rating (1-5)': 4, 'category': 'Sports', 'chapters': 14, 'publisher_name': 'Haynes LLC', 'publisher_address': '062 Peter Tunnel Apt. 185\\nAmandamouth, AR 56738', 'country_available': 'Paraguay', 'characters': 13}, 81: {'book_name': 'Small southern federal power.', 'author_name': 'Kevin Watson', 'price': '$88,915.69', 'published_year': '1973', 'num_pages': 339, 'copies_sold': '897', 'rating (1-5)': 3, 'category': 'Sports', 'chapters': 18, 'publisher_name': 'Brown-Strong', 'publisher_address': '394 Jones Harbor\\nBryanmouth, NV 93463', 'country_available': 'Ireland', 'characters': 13}, 82: {'book_name': 'Suggest article structure allow heavy.', 'author_name': 'Ryan Jones', 'price': '$759.01', 'published_year': '2000', 'num_pages': 1387, 'copies_sold': '011', 'rating (1-5)': 1, 'category': 'Non-Fiction', 'chapters': 18, 'publisher_name': 'Sanchez, Wood and Bass', 'publisher_address': '173 Jason Wall\\nTaylorborough, AK 57893', 'country_available': 'Turkmenistan', 'characters': 8}, 83: {'book_name': 'Image green sea real film.', 'author_name': 'Mr. Jonathan Jones', 'price': '$736.05', 'published_year': '2013', 'num_pages': 271, 'copies_sold': '595', 'rating (1-5)': 3, 'category': 'Fiction', 'chapters': 29, 'publisher_name': 'Wilson Group', 'publisher_address': '350 Samuel Canyon\\nSouth Sandraberg, NM 34828', 'country_available': 'Ireland', 'characters': 14}, 84: {'book_name': 'Energy soon town personal.', 'author_name': 'Susan Bush', 'price': '$54,981.83', 'published_year': '2019', 'num_pages': 447, 'copies_sold': '190', 'rating (1-5)': 3, 'category': 'Science Fiction', 'chapters': 25, 'publisher_name': 'Brown-Strong', 'publisher_address': 'PSC 5764, Box 2783\\nAPO AE 14307', 'country_available': 'Paraguay', 'characters': 8}, 85: {'book_name': 'End treat poor can.', 'author_name': 'Mr. Jonathan Jones', 'price': '$2.44', 'published_year': '1977', 'num_pages': 327, 'copies_sold': '159', 'rating (1-5)': 4, 'category': 'Economy', 'chapters': 16, 'publisher_name': 'Haynes LLC', 'publisher_address': '3883 Gary Overpass Apt. 737\\nLake Patriciaview, ME 70418', 'country_available': 'Guernsey', 'characters': 11}, 86: {'book_name': 'Form world account mission.', 'author_name': 'Joshua Sullivan', 'price': '$40.89', 'published_year': '1970', 'num_pages': 176, 'copies_sold': '737', 'rating (1-5)': 2, 'category': 'Non-Fiction', 'chapters': 20, 'publisher_name': 'Sanchez, Wood and Bass', 'publisher_address': '47916 Brown Trail Suite 688\\nNorth Joseph, RI 57488', 'country_available': 'Ireland', 'characters': 7}, 87: {'book_name': 'Career middle.', 'author_name': 'Mr. Jonathan Jones', 'price': '$3,163.69', 'published_year': '1981', 'num_pages': 1073, 'copies_sold': '080', 'rating (1-5)': 3, 'category': 'Mythology', 'chapters': 26, 'publisher_name': 'Sanchez, Wood and Bass', 'publisher_address': 'PSC 4831, Box 3485\\nAPO AE 94881', 'country_available': 'Thailand', 'characters': 7}, 88: {'book_name': 'Establish themselves anyone speak.', 'author_name': 'Joshua Sullivan', 'price': '$2,876.02', 'published_year': '2016', 'num_pages': 865, 'copies_sold': '223', 'rating (1-5)': 3, 'category': 'Sports', 'chapters': 25, 'publisher_name': 'Haynes LLC', 'publisher_address': 'USCGC Patterson\\nFPO AP 11986', 'country_available': 'Moldova', 'characters': 4}, 89: {'book_name': 'Air in heavy.', 'author_name': 'James Miller', 'price': '$670.63', 'published_year': '1973', 'num_pages': 444, 'copies_sold': '406', 'rating (1-5)': 4, 'category': 'Science Fiction', 'chapters': 15, 'publisher_name': 'Tyler-Jackson', 'publisher_address': '81452 Joseph Stravenue\\nSouth Hollyview, WV 78933', 'country_available': 'Moldova', 'characters': 8}, 90: {'book_name': 'East maybe.', 'author_name': 'Joshua Sullivan', 'price': '$264.77', 'published_year': '2017', 'num_pages': 1152, 'copies_sold': '721', 'rating (1-5)': 3, 'category': 'Fiction', 'chapters': 26, 'publisher_name': 'Silva, Kane and Benton', 'publisher_address': '006 Matthew Lodge\\nEast Jennifer, WA 20345', 'country_available': 'Croatia', 'characters': 8}, 91: {'book_name': 'Clear physical realize.', 'author_name': 'Edward Perez', 'price': '$7,261.93', 'published_year': '1990', 'num_pages': 148, 'copies_sold': '626', 'rating (1-5)': 4, 'category': 'Fiction', 'chapters': 14, 'publisher_name': 'Haynes LLC', 'publisher_address': '7514 Alejandro Place Suite 675\\nCastilloville, MD 09114', 'country_available': 'Ireland', 'characters': 18}, 92: {'book_name': 'Lose seek person television.', 'author_name': 'Edward Perez', 'price': '$83,666.22', 'published_year': '2002', 'num_pages': 264, 'copies_sold': '850', 'rating (1-5)': 5, 'category': 'Economy', 'chapters': 16, 'publisher_name': 'Tyler-Jackson', 'publisher_address': 'Unit 9883 Box 8292\\nDPO AE 61549', 'country_available': 'Sudan', 'characters': 11}, 93: {'book_name': 'All hotel address.', 'author_name': 'Susan Bush', 'price': '$47.69', 'published_year': '1997', 'num_pages': 639, 'copies_sold': '856', 'rating (1-5)': 1, 'category': 'Economy', 'chapters': 27, 'publisher_name': 'Wilson Group', 'publisher_address': '654 Joseph Island Apt. 587\\nRodgersmouth, MO 28625', 'country_available': 'Croatia', 'characters': 15}, 94: {'book_name': 'Light break.', 'author_name': 'Susan Bush', 'price': '$3,608.20', 'published_year': '1980', 'num_pages': 929, 'copies_sold': '292', 'rating (1-5)': 3, 'category': 'Economy', 'chapters': 13, 'publisher_name': 'Frank-Schroeder', 'publisher_address': '618 Cooper Walks\\nBaileyborough, FL 49877', 'country_available': 'Thailand', 'characters': 12}, 95: {'book_name': 'Away authority stock rock.', 'author_name': 'Susan Bush', 'price': '$448.83', 'published_year': '2019', 'num_pages': 705, 'copies_sold': '816', 'rating (1-5)': 1, 'category': 'Economy', 'chapters': 12, 'publisher_name': 'Wilson Group', 'publisher_address': '81389 Krista Mountain Apt. 482\\nFieldsmouth, OH 39425', 'country_available': 'Cayman Islands', 'characters': 16}, 96: {'book_name': 'Drive cultural.', 'author_name': 'Ryan Jones', 'price': '$995.85', 'published_year': '1995', 'num_pages': 921, 'copies_sold': '628', 'rating (1-5)': 2, 'category': 'Economy', 'chapters': 15, 'publisher_name': 'Silva, Kane and Benton', 'publisher_address': '5963 Ramos Fields\\nBradleychester, KS 58528', 'country_available': 'Paraguay', 'characters': 14}, 97: {'book_name': 'Development speak short.', 'author_name': 'Victor Hill', 'price': '$38,057.70', 'published_year': '2015', 'num_pages': 914, 'copies_sold': '820', 'rating (1-5)': 2, 'category': 'Science Fiction', 'chapters': 28, 'publisher_name': 'Haynes LLC', 'publisher_address': '63323 Jordan Mission\\nNorth Aaronberg, MN 30485', 'country_available': 'Thailand', 'characters': 14}, 98: {'book_name': 'Eye firm a.', 'author_name': 'Ryan Jones', 'price': '$2,864.75', 'published_year': '1998', 'num_pages': 1338, 'copies_sold': '743', 'rating (1-5)': 2, 'category': 'Science Fiction', 'chapters': 17, 'publisher_name': 'Williams, Williams and Fox', 'publisher_address': '41171 Martinez Field\\nLake Melissaberg, NY 42848', 'country_available': 'Cayman Islands', 'characters': 5}, 99: {'book_name': 'Control wrong green.', 'author_name': 'Victor Hill', 'price': '$8,263.83', 'published_year': '2009', 'num_pages': 1288, 'copies_sold': '415', 'rating (1-5)': 2, 'category': 'Science Fiction', 'chapters': 29, 'publisher_name': 'Reed PLC', 'publisher_address': '5296 Jeffrey Path Suite 227\\nBethland, OK 39536', 'country_available': 'Moldova', 'characters': 13}}\n"
     ]
    }
   ],
   "source": [
    "books = {}\n",
    "for i in range(100):\n",
    "    books[i] = {}\n",
    "    books[i]['book_name'] = fake.sentence(nb_words = 4)\n",
    "    books[i]['author_name'] = random.choice(authors_10)\n",
    "    books[i]['price'] = fake.pricetag()\n",
    "    books[i]['published_year'] = fake.year()\n",
    "    books[i]['num_pages'] = np.random.randint(60,1500)\n",
    "    books[i]['copies_sold'] = fake.numerify()\n",
    "    books[i]['rating (1-5)'] = np.random.randint(1,6)\n",
    "    books[i]['category'] = random.choice(categories)\n",
    "    books[i]['chapters'] = np.random.randint(5,30)\n",
    "    books[i]['publisher_name'] = random.choice(publishers_10)\n",
    "    books[i]['publisher_address'] = fake.address()   \n",
    "    books[i]['country_available'] = random.choice(countries_10)\n",
    "    books[i]['characters'] = np.random.randint(4,20)\n",
    "\n",
    "print(books)"
   ]
  },
  {
   "cell_type": "markdown",
   "metadata": {},
   "source": [
    "#### 1. Get number of boks published by each auhor in each year and nuber of copies sold "
   ]
  },
  {
   "cell_type": "code",
   "execution_count": 238,
   "metadata": {},
   "outputs": [
    {
     "name": "stdout",
     "output_type": "stream",
     "text": [
      "Total books written by:  Ryan Jones is 12 \n",
      "Total copies sold by :  Ryan Jones is 6772\n",
      "Counter({'1991': 1, '1997': 1, '1987': 1, '2010': 1, '2015': 1, '1999': 1, '2017': 1, '1984': 1, '1982': 1, '2000': 1, '1995': 1, '1998': 1})\n",
      "\n",
      "Total books written by:  Susan Bush is 13 \n",
      "Total copies sold by :  Susan Bush is 5877\n",
      "Counter({'2006': 2, '2019': 2, '1988': 1, '1972': 1, '2014': 1, '1991': 1, '2005': 1, '2002': 1, '2018': 1, '1997': 1, '1980': 1})\n",
      "\n",
      "Total books written by:  Juan Contreras is 7 \n",
      "Total copies sold by :  Juan Contreras is 3787\n",
      "Counter({'1999': 1, '2011': 1, '2008': 1, '2014': 1, '1978': 1, '2005': 1, '1971': 1})\n",
      "\n",
      "Total books written by:  Melissa Werner is 12 \n",
      "Total copies sold by :  Melissa Werner is 5264\n",
      "Counter({'1984': 2, '1988': 1, '1991': 1, '2013': 1, '1982': 1, '2009': 1, '1981': 1, '2018': 1, '1985': 1, '1999': 1, '1987': 1})\n",
      "\n",
      "Total books written by:  James Miller is 5 \n",
      "Total copies sold by :  James Miller is 2426\n",
      "Counter({'1975': 1, '1996': 1, '1991': 1, '1979': 1, '1973': 1})\n",
      "\n",
      "Total books written by:  Kevin Watson is 12 \n",
      "Total copies sold by :  Kevin Watson is 4755\n",
      "Counter({'1997': 2, '2002': 1, '1972': 1, '1974': 1, '2005': 1, '1983': 1, '1985': 1, '1977': 1, '1991': 1, '1978': 1, '1973': 1})\n",
      "\n",
      "Total books written by:  Edward Perez is 14 \n",
      "Total copies sold by :  Edward Perez is 6289\n",
      "Counter({'1983': 4, '1991': 1, '1995': 1, '1979': 1, '2005': 1, '2018': 1, '1981': 1, '1994': 1, '2009': 1, '1990': 1, '2002': 1})\n",
      "\n",
      "Total books written by:  Victor Hill is 6 \n",
      "Total copies sold by :  Victor Hill is 2239\n",
      "Counter({'2016': 1, '1997': 1, '2019': 1, '1994': 1, '2015': 1, '2009': 1})\n",
      "\n",
      "Total books written by:  Mr. Jonathan Jones is 12 \n",
      "Total copies sold by :  Mr. Jonathan Jones is 6197\n",
      "Counter({'2013': 2, '1977': 2, '2020': 1, '1971': 1, '1994': 1, '2011': 1, '1999': 1, '2012': 1, '1970': 1, '1981': 1})\n",
      "\n",
      "Total books written by:  Joshua Sullivan is 7 \n",
      "Total copies sold by :  Joshua Sullivan is 4032\n",
      "Counter({'2015': 1, '2010': 1, '1976': 1, '2004': 1, '1970': 1, '2016': 1, '2017': 1})\n",
      "\n"
     ]
    }
   ],
   "source": [
    "from collections import Counter\n",
    "authors = [] \n",
    "for book_no, details in books.items():\n",
    "    for agenda,detail in details.items():\n",
    "        authors.append(books[book_no]['author_name'])\n",
    "\n",
    "for author in set(authors):\n",
    "    copies = 0\n",
    "    written = 0\n",
    "    years = []\n",
    "    for book_no,details in books.items():\n",
    "        if books[book_no]['author_name'] == author:\n",
    "            copies += int(books[book_no]['copies_sold'])\n",
    "            written += 1\n",
    "            years.append(books[book_no]['published_year'])\n",
    "    print(\"Total books written by: \", author, \"is\", written, \"\\nTotal copies sold by : \", author, \"is\", copies)\n",
    "    print(Counter(years))\n",
    "    print() "
   ]
  },
  {
   "cell_type": "markdown",
   "metadata": {},
   "source": [
    "#### 2. Get total payment received by each author per book and total amount of money he earned at the end "
   ]
  },
  {
   "cell_type": "code",
   "execution_count": 239,
   "metadata": {
    "scrolled": false
   },
   "outputs": [
    {
     "name": "stdout",
     "output_type": "stream",
     "text": [
      "The total payment recieved by author Ryan Jones is:  50186.96\n",
      "The total payment recieved by author Susan Bush is:  330709.21\n",
      "The total payment recieved by author Juan Contreras is:  55899.68\n",
      "The total payment recieved by author Melissa Werner is:  161037.03\n",
      "The total payment recieved by author James Miller is:  2104.7\n",
      "The total payment recieved by author Kevin Watson is:  107283.6\n",
      "The total payment recieved by author Edward Perez is:  385673.91\n",
      "The total payment recieved by author Victor Hill is:  56986.85\n",
      "The total payment recieved by author Mr. Jonathan Jones is:  99767.1\n",
      "The total payment recieved by author Joshua Sullivan is:  4042.03\n"
     ]
    }
   ],
   "source": [
    "from collections import Counter\n",
    "authors = [] \n",
    "for book_no, details in books.items():\n",
    "    for agenda,detail in details.items():\n",
    "        authors.append(books[book_no]['author_name'])\n",
    "\n",
    "for author in set(authors):\n",
    "    revenue = 0\n",
    "    for book_no,details in books.items():\n",
    "        if books[book_no]['author_name'] == author:\n",
    "            books[book_no]['price'] = books[book_no]['price'].replace(\"$\",'')\n",
    "            books[book_no]['price'] = books[book_no]['price'].replace(\",\",'')\n",
    "            revenue += float(books[book_no]['price'])\n",
    "    print(\"The total payment recieved by author\", author, \"is: \", round(revenue,3))"
   ]
  },
  {
   "cell_type": "markdown",
   "metadata": {},
   "source": [
    "#### 3. Get the location where maximum boks are available "
   ]
  },
  {
   "cell_type": "code",
   "execution_count": 240,
   "metadata": {},
   "outputs": [
    {
     "name": "stdout",
     "output_type": "stream",
     "text": [
      "Books available:  9 in Paraguay\n",
      "Books available:  13 in Cayman Islands\n",
      "Books available:  14 in Croatia\n",
      "Books available:  14 in Ireland\n",
      "Books available:  11 in Moldova\n",
      "Books available:  4 in Guernsey\n",
      "Books available:  11 in Sudan\n",
      "Books available:  13 in Thailand\n",
      "Books available:  5 in Hong Kong\n",
      "Books available:  6 in Turkmenistan\n",
      "\n",
      "The maximum  14 books are available in Croatia\n"
     ]
    }
   ],
   "source": [
    "countries = [] \n",
    "for book_no, details in books.items():\n",
    "    for agenda,detail in details.items():\n",
    "        countries.append(books[book_no]['country_available'])\n",
    "\n",
    "max_books = []\n",
    "maxi= -99999\n",
    "country_max = ''\n",
    "for country in set(countries):\n",
    "    \n",
    "    count = 0\n",
    "    for book_no,details in books.items():\n",
    "        if books[book_no]['country_available'] == country:\n",
    "            count += 1\n",
    "    print(\"Books available: \",count,\"in\",country)\n",
    "    if maxi < count:\n",
    "        maxi = count\n",
    "        country_max = country\n",
    "print(\"\\nThe maximum \",maxi,\"books are available in\", country_max)"
   ]
  },
  {
   "cell_type": "markdown",
   "metadata": {},
   "source": [
    "#### 4. Get name of the publishe who have published max number of books"
   ]
  },
  {
   "cell_type": "code",
   "execution_count": 242,
   "metadata": {},
   "outputs": [
    {
     "name": "stdout",
     "output_type": "stream",
     "text": [
      "The publisher:  Silva, Kane and Benton has published 6 books\n",
      "The publisher:  Frank-Schroeder has published 12 books\n",
      "The publisher:  Haynes LLC has published 15 books\n",
      "The publisher:  Sanchez, Wood and Bass has published 10 books\n",
      "The publisher:  Brown-Strong has published 8 books\n",
      "The publisher:  Williams, Williams and Fox has published 9 books\n",
      "The publisher:  Ingram Ltd has published 6 books\n",
      "The publisher:  Wilson Group has published 13 books\n",
      "The publisher:  Tyler-Jackson has published 8 books\n",
      "The publisher:  Reed PLC has published 13 books\n",
      "\n",
      "The publisher:  Haynes LLC has published maximum book. Those are:  15 books\n"
     ]
    }
   ],
   "source": [
    "publishers = [] \n",
    "for book_no, details in books.items():\n",
    "    for agenda,detail in details.items():\n",
    "        publishers.append(books[book_no]['publisher_name'])\n",
    "        \n",
    "publisher_max = ''\n",
    "maxi= -99999        \n",
    "for publisher in set(publishers):\n",
    "    books_published = 0\n",
    "    for book_no,details in books.items():\n",
    "        if books[book_no]['publisher_name'] == publisher:\n",
    "            books_published += 1\n",
    "    print(\"The publisher: \", publisher, \"has published\", books_published, \"books\")\n",
    "    if maxi < books_published:\n",
    "        maxi = books_published\n",
    "        publisher_max = publisher\n",
    "print(\"\\nThe publisher: \", publisher_max,\"has published maximum book. Those are: \", maxi,\"books\")"
   ]
  },
  {
   "cell_type": "markdown",
   "metadata": {},
   "source": [
    "#### 5. Get name of the author who has developed maximum characters "
   ]
  },
  {
   "cell_type": "code",
   "execution_count": 243,
   "metadata": {},
   "outputs": [
    {
     "name": "stdout",
     "output_type": "stream",
     "text": [
      "The characters developed by author Ryan Jones are:  105\n",
      "The characters developed by author Susan Bush are:  172\n",
      "The characters developed by author Juan Contreras are:  85\n",
      "The characters developed by author Melissa Werner are:  132\n",
      "The characters developed by author James Miller are:  65\n",
      "The characters developed by author Kevin Watson are:  138\n",
      "The characters developed by author Edward Perez are:  147\n",
      "The characters developed by author Victor Hill are:  70\n",
      "The characters developed by author Mr. Jonathan Jones are:  133\n",
      "The characters developed by author Joshua Sullivan are:  52\n",
      "The maximum characters developed by author Susan Bush are:  172\n"
     ]
    }
   ],
   "source": [
    "authors = [] \n",
    "for book_no, details in books.items():\n",
    "    for agenda,detail in details.items():\n",
    "        authors.append(books[book_no]['author_name'])\n",
    "\n",
    "maxi = -9999\n",
    "max_char_author = ''\n",
    "for author in set(authors):\n",
    "    character_count = 0\n",
    "    for book_no,details in books.items():\n",
    "        if books[book_no]['author_name'] == author:\n",
    "            character_count += int(books[book_no]['characters'])\n",
    "    print(\"The characters developed by author\", author, \"are: \", character_count)\n",
    "    if maxi < character_count:\n",
    "        maxi = character_count\n",
    "        max_char_author = author\n",
    "        \n",
    "print(\"The maximum characters developed by author\", max_char_author, \"are: \", maxi)"
   ]
  },
  {
   "cell_type": "markdown",
   "metadata": {},
   "source": [
    "#### 6. Get the name of best book considering the copies sold and rating, Get the best book from each catrgory."
   ]
  },
  {
   "cell_type": "code",
   "execution_count": 245,
   "metadata": {},
   "outputs": [
    {
     "name": "stdout",
     "output_type": "stream",
     "text": [
      "\n",
      "The book Produce ready increase example area. of category Mythology having rating 2 \n",
      "and number of copies sold 318 is best book of this category\n",
      "\n",
      "The book Stock two available party. of category Sports having rating 2 \n",
      "and number of copies sold 483 is best book of this category\n",
      "\n",
      "The book Born almost money effort. of category Fiction having rating 2 \n",
      "and number of copies sold 672 is best book of this category\n",
      "\n",
      "The book Nice style. of category Non-Fiction having rating 2 \n",
      "and number of copies sold 364 is best book of this category\n",
      "\n",
      "The book Lose seek person television. of category Economy having rating 2 \n",
      "and number of copies sold 850 is best book of this category\n",
      "\n",
      "The book Often again happen pick far. of category Science Fiction having rating 2 \n",
      "and number of copies sold 465 is best book of this category\n"
     ]
    }
   ],
   "source": [
    "catags = [] \n",
    "for book_no, details in books.items():\n",
    "    for agenda,detail in details.items():\n",
    "        catags.append(books[book_no]['category'])\n",
    "\n",
    "for catag in set(catags): \n",
    "    maxi = -9999\n",
    "    max_catag = ''\n",
    "    count = 0\n",
    "    for book_no,details in books.items():\n",
    "        if books[book_no]['category'] == catag:\n",
    "            if books[book_no]['rating (1-5)'] == 5:\n",
    "                count = int(books[book_no]['copies_sold'])\n",
    "                name = books[book_no]['book_name']\n",
    "    if maxi < count:\n",
    "        maxi = count\n",
    "        rating = books[book_no]['rating (1-5)']\n",
    "        max_catag = catag\n",
    "    print(\"\\nThe book\", name, \"of category\", max_catag,\"having rating\",rating,\"\\nand number of copies sold\",maxi,\"is best book of this category\")     "
   ]
  },
  {
   "cell_type": "markdown",
   "metadata": {},
   "source": [
    "#### 7. Sort the dict by author name and year of publishing"
   ]
  },
  {
   "cell_type": "code",
   "execution_count": 246,
   "metadata": {
    "scrolled": true
   },
   "outputs": [
    {
     "name": "stdout",
     "output_type": "stream",
     "text": [
      "[(22, {'book_name': 'Fly strategy down now light.', 'author_name': 'Edward Perez', 'price': '11.73', 'published_year': '1979', 'num_pages': 349, 'copies_sold': '445', 'rating (1-5)': 5, 'category': 'Non-Fiction', 'chapters': 6, 'publisher_name': 'Frank-Schroeder', 'publisher_address': '3549 Michael Parks\\nWest Charlesfurt, NM 05654', 'country_available': 'Cayman Islands', 'characters': 7}), (58, {'book_name': 'Camera traditional drug.', 'author_name': 'Edward Perez', 'price': '2072.93', 'published_year': '1981', 'num_pages': 844, 'copies_sold': '123', 'rating (1-5)': 4, 'category': 'Fiction', 'chapters': 18, 'publisher_name': 'Silva, Kane and Benton', 'publisher_address': '6156 Gonzalez Lock Suite 786\\nSouth Matthew, TX 10581', 'country_available': 'Croatia', 'characters': 10}), (14, {'book_name': 'Image debate us.', 'author_name': 'Edward Perez', 'price': '6.87', 'published_year': '1983', 'num_pages': 366, 'copies_sold': '218', 'rating (1-5)': 5, 'category': 'Economy', 'chapters': 17, 'publisher_name': 'Silva, Kane and Benton', 'publisher_address': '3891 Johnson Mount Suite 660\\nEast Melissa, KS 85286', 'country_available': 'Ireland', 'characters': 10}), (24, {'book_name': 'Attention cold anything.', 'author_name': 'Edward Perez', 'price': '94166.00', 'published_year': '1983', 'num_pages': 714, 'copies_sold': '147', 'rating (1-5)': 3, 'category': 'Science Fiction', 'chapters': 6, 'publisher_name': 'Wilson Group', 'publisher_address': '52344 Amanda Cove Apt. 959\\nSouth Michelefurt, FL 45276', 'country_available': 'Moldova', 'characters': 13}), (56, {'book_name': 'Common recent teach.', 'author_name': 'Edward Perez', 'price': '79.35', 'published_year': '1983', 'num_pages': 740, 'copies_sold': '776', 'rating (1-5)': 5, 'category': 'Economy', 'chapters': 11, 'publisher_name': 'Reed PLC', 'publisher_address': '479 Patricia Knoll\\nNorth Thomas, KS 36376', 'country_available': 'Turkmenistan', 'characters': 5}), (75, {'book_name': 'Understand remain.', 'author_name': 'Edward Perez', 'price': '9.93', 'published_year': '1983', 'num_pages': 527, 'copies_sold': '363', 'rating (1-5)': 1, 'category': 'Science Fiction', 'chapters': 15, 'publisher_name': 'Haynes LLC', 'publisher_address': '835 Benjamin Oval\\nSmithland, VT 30353', 'country_available': 'Thailand', 'characters': 4}), (91, {'book_name': 'Clear physical realize.', 'author_name': 'Edward Perez', 'price': '7261.93', 'published_year': '1990', 'num_pages': 148, 'copies_sold': '626', 'rating (1-5)': 4, 'category': 'Fiction', 'chapters': 14, 'publisher_name': 'Haynes LLC', 'publisher_address': '7514 Alejandro Place Suite 675\\nCastilloville, MD 09114', 'country_available': 'Ireland', 'characters': 18}), (5, {'book_name': 'Put star.', 'author_name': 'Edward Perez', 'price': '85090.92', 'published_year': '1991', 'num_pages': 904, 'copies_sold': '273', 'rating (1-5)': 1, 'category': 'Non-Fiction', 'chapters': 13, 'publisher_name': 'Haynes LLC', 'publisher_address': '856 Danielle Orchard Suite 027\\nWest Margaretshire, WV 12963', 'country_available': 'Turkmenistan', 'characters': 8}), (62, {'book_name': 'Require watch push outside.', 'author_name': 'Edward Perez', 'price': '99.83', 'published_year': '1994', 'num_pages': 110, 'copies_sold': '468', 'rating (1-5)': 1, 'category': 'Fiction', 'chapters': 10, 'publisher_name': 'Haynes LLC', 'publisher_address': '728 Jasmine Canyon\\nPhillipsside, NC 23473', 'country_available': 'Hong Kong', 'characters': 17}), (6, {'book_name': 'Last believe floor.', 'author_name': 'Edward Perez', 'price': '27.18', 'published_year': '1995', 'num_pages': 558, 'copies_sold': '137', 'rating (1-5)': 4, 'category': 'Mythology', 'chapters': 26, 'publisher_name': 'Tyler-Jackson', 'publisher_address': '321 Emily Locks\\nNorth Allisonville, ID 25402', 'country_available': 'Cayman Islands', 'characters': 12}), (92, {'book_name': 'Lose seek person television.', 'author_name': 'Edward Perez', 'price': '83666.22', 'published_year': '2002', 'num_pages': 264, 'copies_sold': '850', 'rating (1-5)': 5, 'category': 'Economy', 'chapters': 16, 'publisher_name': 'Tyler-Jackson', 'publisher_address': 'Unit 9883 Box 8292\\nDPO AE 61549', 'country_available': 'Sudan', 'characters': 11}), (50, {'book_name': 'Quality executive across buy candidate.', 'author_name': 'Edward Perez', 'price': '58377.94', 'published_year': '2005', 'num_pages': 647, 'copies_sold': '610', 'rating (1-5)': 2, 'category': 'Science Fiction', 'chapters': 19, 'publisher_name': 'Wilson Group', 'publisher_address': '351 Sanchez Mills Suite 642\\nJohnsonview, HI 09678', 'country_available': 'Hong Kong', 'characters': 8}), (64, {'book_name': 'Data beautiful support.', 'author_name': 'Edward Perez', 'price': '54799.74', 'published_year': '2009', 'num_pages': 84, 'copies_sold': '770', 'rating (1-5)': 2, 'category': 'Science Fiction', 'chapters': 22, 'publisher_name': 'Ingram Ltd', 'publisher_address': '67251 Joseph Curve\\nKristytown, NV 45354', 'country_available': 'Croatia', 'characters': 18}), (54, {'book_name': 'Stock two available party.', 'author_name': 'Edward Perez', 'price': '3.34', 'published_year': '2018', 'num_pages': 550, 'copies_sold': '483', 'rating (1-5)': 5, 'category': 'Sports', 'chapters': 17, 'publisher_name': 'Williams, Williams and Fox', 'publisher_address': '66480 Noble Cliff\\nEmilyville, DE 64681', 'country_available': 'Moldova', 'characters': 6}), (89, {'book_name': 'Air in heavy.', 'author_name': 'James Miller', 'price': '670.63', 'published_year': '1973', 'num_pages': 444, 'copies_sold': '406', 'rating (1-5)': 4, 'category': 'Science Fiction', 'chapters': 15, 'publisher_name': 'Tyler-Jackson', 'publisher_address': '81452 Joseph Stravenue\\nSouth Hollyview, WV 78933', 'country_available': 'Moldova', 'characters': 8}), (26, {'book_name': 'Place town available.', 'author_name': 'James Miller', 'price': '1287.96', 'published_year': '1975', 'num_pages': 1211, 'copies_sold': '037', 'rating (1-5)': 3, 'category': 'Non-Fiction', 'chapters': 12, 'publisher_name': 'Haynes LLC', 'publisher_address': '60015 Williams Island Apt. 789\\nPattersonview, OK 93159', 'country_available': 'Sudan', 'characters': 19}), (66, {'book_name': 'Reality decide she nature.', 'author_name': 'James Miller', 'price': '44.79', 'published_year': '1979', 'num_pages': 245, 'copies_sold': '506', 'rating (1-5)': 2, 'category': 'Sports', 'chapters': 13, 'publisher_name': 'Reed PLC', 'publisher_address': '522 Herbert Islands\\nWest Rachelland, NE 34701', 'country_available': 'Ireland', 'characters': 5}), (49, {'book_name': 'Call market old.', 'author_name': 'James Miller', 'price': '6.39', 'published_year': '1991', 'num_pages': 333, 'copies_sold': '485', 'rating (1-5)': 4, 'category': 'Economy', 'chapters': 7, 'publisher_name': 'Reed PLC', 'publisher_address': '3547 Curtis Ports Suite 784\\nNorth Rachelmouth, MN 84707', 'country_available': 'Ireland', 'characters': 15}), (37, {'book_name': 'Maybe PM every sort paper.', 'author_name': 'James Miller', 'price': '94.93', 'published_year': '1996', 'num_pages': 242, 'copies_sold': '992', 'rating (1-5)': 1, 'category': 'Science Fiction', 'chapters': 20, 'publisher_name': 'Brown-Strong', 'publisher_address': '625 Wright Light Apt. 303\\nJohnsonshire, AZ 52795', 'country_available': 'Croatia', 'characters': 18}), (86, {'book_name': 'Form world account mission.', 'author_name': 'Joshua Sullivan', 'price': '40.89', 'published_year': '1970', 'num_pages': 176, 'copies_sold': '737', 'rating (1-5)': 2, 'category': 'Non-Fiction', 'chapters': 20, 'publisher_name': 'Sanchez, Wood and Bass', 'publisher_address': '47916 Brown Trail Suite 688\\nNorth Joseph, RI 57488', 'country_available': 'Ireland', 'characters': 7}), (76, {'book_name': 'Born almost money effort.', 'author_name': 'Joshua Sullivan', 'price': '274.68', 'published_year': '1976', 'num_pages': 799, 'copies_sold': '672', 'rating (1-5)': 5, 'category': 'Fiction', 'chapters': 6, 'publisher_name': 'Ingram Ltd', 'publisher_address': '545 Zuniga Plains Suite 412\\nDawnburgh, WY 08992', 'country_available': 'Croatia', 'characters': 6}), (78, {'book_name': 'Pm necessary by.', 'author_name': 'Joshua Sullivan', 'price': '6.18', 'published_year': '2004', 'num_pages': 1288, 'copies_sold': '362', 'rating (1-5)': 3, 'category': 'Mythology', 'chapters': 26, 'publisher_name': 'Williams, Williams and Fox', 'publisher_address': '0717 Landry Junction\\nScottside, NE 83893', 'country_available': 'Sudan', 'characters': 8}), (29, {'book_name': 'Something room ground industry kid.', 'author_name': 'Joshua Sullivan', 'price': '57.13', 'published_year': '2010', 'num_pages': 911, 'copies_sold': '331', 'rating (1-5)': 3, 'category': 'Science Fiction', 'chapters': 16, 'publisher_name': 'Williams, Williams and Fox', 'publisher_address': '38437 Lucas Wall Apt. 905\\nLake Melanie, CA 37029', 'country_available': 'Cayman Islands', 'characters': 13}), (3, {'book_name': 'Beat three main need house.', 'author_name': 'Joshua Sullivan', 'price': '522.36', 'published_year': '2015', 'num_pages': 1039, 'copies_sold': '986', 'rating (1-5)': 4, 'category': 'Mythology', 'chapters': 9, 'publisher_name': 'Haynes LLC', 'publisher_address': 'PSC 9678, Box 9441\\nAPO AA 94490', 'country_available': 'Croatia', 'characters': 6}), (88, {'book_name': 'Establish themselves anyone speak.', 'author_name': 'Joshua Sullivan', 'price': '2876.02', 'published_year': '2016', 'num_pages': 865, 'copies_sold': '223', 'rating (1-5)': 3, 'category': 'Sports', 'chapters': 25, 'publisher_name': 'Haynes LLC', 'publisher_address': 'USCGC Patterson\\nFPO AP 11986', 'country_available': 'Moldova', 'characters': 4}), (90, {'book_name': 'East maybe.', 'author_name': 'Joshua Sullivan', 'price': '264.77', 'published_year': '2017', 'num_pages': 1152, 'copies_sold': '721', 'rating (1-5)': 3, 'category': 'Fiction', 'chapters': 26, 'publisher_name': 'Silva, Kane and Benton', 'publisher_address': '006 Matthew Lodge\\nEast Jennifer, WA 20345', 'country_available': 'Croatia', 'characters': 8}), (68, {'book_name': 'Word move there.', 'author_name': 'Juan Contreras', 'price': '6262.07', 'published_year': '1971', 'num_pages': 1422, 'copies_sold': '771', 'rating (1-5)': 2, 'category': 'Non-Fiction', 'chapters': 17, 'publisher_name': 'Reed PLC', 'publisher_address': '720 Ramos Spring\\nLaurabury, ND 97211', 'country_available': 'Turkmenistan', 'characters': 15}), (39, {'book_name': 'Card large accept rule medical.', 'author_name': 'Juan Contreras', 'price': '2973.94', 'published_year': '1978', 'num_pages': 1262, 'copies_sold': '369', 'rating (1-5)': 4, 'category': 'Mythology', 'chapters': 17, 'publisher_name': 'Sanchez, Wood and Bass', 'publisher_address': '699 Price Lodge Suite 303\\nNorth Taylor, DE 77245', 'country_available': 'Hong Kong', 'characters': 15}), (4, {'book_name': 'Hard field create show.', 'author_name': 'Juan Contreras', 'price': '172.35', 'published_year': '1999', 'num_pages': 881, 'copies_sold': '586', 'rating (1-5)': 4, 'category': 'Sports', 'chapters': 15, 'publisher_name': 'Frank-Schroeder', 'publisher_address': '77709 Ann Fields Apt. 726\\nCaitlynfort, MI 15123', 'country_available': 'Ireland', 'characters': 9}), (45, {'book_name': 'Dream clearly learn lawyer.', 'author_name': 'Juan Contreras', 'price': '618.94', 'published_year': '2005', 'num_pages': 1070, 'copies_sold': '336', 'rating (1-5)': 1, 'category': 'Science Fiction', 'chapters': 11, 'publisher_name': 'Reed PLC', 'publisher_address': '3148 Small Knoll Suite 582\\nNathanland, MS 38678', 'country_available': 'Cayman Islands', 'characters': 5}), (32, {'book_name': 'Road possible stuff less.', 'author_name': 'Juan Contreras', 'price': '434.93', 'published_year': '2008', 'num_pages': 1214, 'copies_sold': '418', 'rating (1-5)': 2, 'category': 'Fiction', 'chapters': 15, 'publisher_name': 'Wilson Group', 'publisher_address': '91994 Michael Centers Apt. 120\\nMendozaburgh, DC 05294', 'country_available': 'Cayman Islands', 'characters': 19}), (17, {'book_name': 'Produce ready increase example area.', 'author_name': 'Juan Contreras', 'price': '45352.41', 'published_year': '2011', 'num_pages': 718, 'copies_sold': '318', 'rating (1-5)': 5, 'category': 'Mythology', 'chapters': 25, 'publisher_name': 'Tyler-Jackson', 'publisher_address': '31039 White Meadows Apt. 727\\nGilbertborough, CO 36924', 'country_available': 'Ireland', 'characters': 18}), (33, {'book_name': 'Base industry behavior across.', 'author_name': 'Juan Contreras', 'price': '85.04', 'published_year': '2014', 'num_pages': 306, 'copies_sold': '989', 'rating (1-5)': 2, 'category': 'Mythology', 'chapters': 19, 'publisher_name': 'Silva, Kane and Benton', 'publisher_address': '640 Maynard Ridges\\nLake Kristishire, PA 89865', 'country_available': 'Sudan', 'characters': 4}), (10, {'book_name': 'Military important year.', 'author_name': 'Kevin Watson', 'price': '282.09', 'published_year': '1972', 'num_pages': 574, 'copies_sold': '333', 'rating (1-5)': 3, 'category': 'Economy', 'chapters': 18, 'publisher_name': 'Reed PLC', 'publisher_address': '15552 Whitney Spring\\nSouth Gary, AR 37716', 'country_available': 'Croatia', 'characters': 5}), (81, {'book_name': 'Small southern federal power.', 'author_name': 'Kevin Watson', 'price': '88915.69', 'published_year': '1973', 'num_pages': 339, 'copies_sold': '897', 'rating (1-5)': 3, 'category': 'Sports', 'chapters': 18, 'publisher_name': 'Brown-Strong', 'publisher_address': '394 Jones Harbor\\nBryanmouth, NV 93463', 'country_available': 'Ireland', 'characters': 13}), (20, {'book_name': 'Answer teacher unit everything author.', 'author_name': 'Kevin Watson', 'price': '16.26', 'published_year': '1974', 'num_pages': 871, 'copies_sold': '310', 'rating (1-5)': 1, 'category': 'Sports', 'chapters': 26, 'publisher_name': 'Reed PLC', 'publisher_address': '74450 Greene Crescent\\nNorth Frankview, MD 56155', 'country_available': 'Cayman Islands', 'characters': 7}), (53, {'book_name': 'Group final such even dark.', 'author_name': 'Kevin Watson', 'price': '923.18', 'published_year': '1977', 'num_pages': 549, 'copies_sold': '270', 'rating (1-5)': 3, 'category': 'Science Fiction', 'chapters': 22, 'publisher_name': 'Frank-Schroeder', 'publisher_address': 'PSC 3757, Box 8719\\nAPO AE 51886', 'country_available': 'Moldova', 'characters': 13}), (72, {'book_name': 'Provide fast other.', 'author_name': 'Kevin Watson', 'price': '8106.52', 'published_year': '1978', 'num_pages': 126, 'copies_sold': '854', 'rating (1-5)': 4, 'category': 'Non-Fiction', 'chapters': 6, 'publisher_name': 'Frank-Schroeder', 'publisher_address': '014 Veronica Lake Apt. 010\\nNew Andrew, IA 83333', 'country_available': 'Guernsey', 'characters': 7}), (42, {'book_name': 'Ability building business half whether.', 'author_name': 'Kevin Watson', 'price': '24.55', 'published_year': '1983', 'num_pages': 1154, 'copies_sold': '114', 'rating (1-5)': 2, 'category': 'Sports', 'chapters': 5, 'publisher_name': 'Reed PLC', 'publisher_address': '93786 Stacy Rest Suite 789\\nSouth Micheleburgh, UT 98175', 'country_available': 'Thailand', 'characters': 12}), (48, {'book_name': 'Nice style.', 'author_name': 'Kevin Watson', 'price': '7877.26', 'published_year': '1985', 'num_pages': 697, 'copies_sold': '364', 'rating (1-5)': 5, 'category': 'Non-Fiction', 'chapters': 23, 'publisher_name': 'Haynes LLC', 'publisher_address': '750 Jean Court Apt. 745\\nPort Jonathantown, AZ 96981', 'country_available': 'Sudan', 'characters': 10}), (55, {'book_name': 'Baby check.', 'author_name': 'Kevin Watson', 'price': '1.78', 'published_year': '1991', 'num_pages': 111, 'copies_sold': '438', 'rating (1-5)': 2, 'category': 'Mythology', 'chapters': 22, 'publisher_name': 'Ingram Ltd', 'publisher_address': '8344 Petersen Junction Apt. 270\\nCarolland, GA 90496', 'country_available': 'Croatia', 'characters': 14}), (27, {'book_name': 'Arrive sometimes worker.', 'author_name': 'Kevin Watson', 'price': '9.92', 'published_year': '1997', 'num_pages': 1012, 'copies_sold': '216', 'rating (1-5)': 3, 'category': 'Mythology', 'chapters': 20, 'publisher_name': 'Haynes LLC', 'publisher_address': '830 Pamela Street Suite 882\\nPriscillachester, GA 09411', 'country_available': 'Sudan', 'characters': 17}), (65, {'book_name': 'Wait hotel reflect from daughter.', 'author_name': 'Kevin Watson', 'price': '566.82', 'published_year': '1997', 'num_pages': 1211, 'copies_sold': '262', 'rating (1-5)': 1, 'category': 'Fiction', 'chapters': 20, 'publisher_name': 'Reed PLC', 'publisher_address': '0153 Christopher Rest\\nLake Cynthiaville, AK 04776', 'country_available': 'Thailand', 'characters': 19}), (2, {'book_name': 'Minute fish toward money fear.', 'author_name': 'Kevin Watson', 'price': '77.31', 'published_year': '2002', 'num_pages': 1419, 'copies_sold': '119', 'rating (1-5)': 1, 'category': 'Non-Fiction', 'chapters': 20, 'publisher_name': 'Wilson Group', 'publisher_address': '0498 Summer Loop\\nLake Leslie, NC 74405', 'country_available': 'Cayman Islands', 'characters': 11}), (23, {'book_name': 'Special civil else commercial modern.', 'author_name': 'Kevin Watson', 'price': '482.22', 'published_year': '2005', 'num_pages': 777, 'copies_sold': '578', 'rating (1-5)': 5, 'category': 'Economy', 'chapters': 15, 'publisher_name': 'Sanchez, Wood and Bass', 'publisher_address': '63930 James Fields\\nLawrencechester, AK 56429', 'country_available': 'Cayman Islands', 'characters': 10}), (59, {'book_name': 'Wall wrong country piece better.', 'author_name': 'Melissa Werner', 'price': '7544.74', 'published_year': '1981', 'num_pages': 875, 'copies_sold': '579', 'rating (1-5)': 2, 'category': 'Science Fiction', 'chapters': 26, 'publisher_name': 'Tyler-Jackson', 'publisher_address': '32914 Garrison Throughway\\nMurphyhaven, PA 03148', 'country_available': 'Hong Kong', 'characters': 11}), (16, {'book_name': 'Read speak thank fact perform.', 'author_name': 'Melissa Werner', 'price': '0.57', 'published_year': '1982', 'num_pages': 1126, 'copies_sold': '238', 'rating (1-5)': 1, 'category': 'Sports', 'chapters': 24, 'publisher_name': 'Sanchez, Wood and Bass', 'publisher_address': 'Unit 9930 Box 3238\\nDPO AE 21677', 'country_available': 'Sudan', 'characters': 6}), (40, {'book_name': 'Air establish structure.', 'author_name': 'Melissa Werner', 'price': '560.39', 'published_year': '1984', 'num_pages': 756, 'copies_sold': '915', 'rating (1-5)': 4, 'category': 'Sports', 'chapters': 24, 'publisher_name': 'Tyler-Jackson', 'publisher_address': '41569 Andrew Ports Suite 255\\nOrozcoport, GA 58347', 'country_available': 'Croatia', 'characters': 10}), (47, {'book_name': 'Debate spend plan.', 'author_name': 'Melissa Werner', 'price': '4305.11', 'published_year': '1984', 'num_pages': 595, 'copies_sold': '721', 'rating (1-5)': 2, 'category': 'Sports', 'chapters': 7, 'publisher_name': 'Wilson Group', 'publisher_address': '483 David Plaza\\nNew Scotttown, MS 33583', 'country_available': 'Ireland', 'characters': 14}), (69, {'book_name': 'And cell animal seek.', 'author_name': 'Melissa Werner', 'price': '33119.81', 'published_year': '1985', 'num_pages': 1454, 'copies_sold': '105', 'rating (1-5)': 2, 'category': 'Fiction', 'chapters': 8, 'publisher_name': 'Ingram Ltd', 'publisher_address': '33858 Wright Highway Suite 645\\nSouth Shane, DE 32479', 'country_available': 'Croatia', 'characters': 6}), (77, {'book_name': 'Nearly tax Democrat.', 'author_name': 'Melissa Werner', 'price': '43219.01', 'published_year': '1987', 'num_pages': 1227, 'copies_sold': '714', 'rating (1-5)': 5, 'category': 'Economy', 'chapters': 20, 'publisher_name': 'Wilson Group', 'publisher_address': 'Unit 0375 Box 7183\\nDPO AE 43207', 'country_available': 'Moldova', 'characters': 7}), (11, {'book_name': 'Executive environment door use.', 'author_name': 'Melissa Werner', 'price': '57685.39', 'published_year': '1988', 'num_pages': 667, 'copies_sold': '332', 'rating (1-5)': 5, 'category': 'Science Fiction', 'chapters': 17, 'publisher_name': 'Brown-Strong', 'publisher_address': '1686 Michelle Pine\\nPaulfurt, NY 39737', 'country_available': 'Thailand', 'characters': 10}), (12, {'book_name': 'Edge start data.', 'author_name': 'Melissa Werner', 'price': '777.83', 'published_year': '1991', 'num_pages': 916, 'copies_sold': '093', 'rating (1-5)': 3, 'category': 'Economy', 'chapters': 28, 'publisher_name': 'Sanchez, Wood and Bass', 'publisher_address': 'PSC 0552, Box 4093\\nAPO AA 90198', 'country_available': 'Thailand', 'characters': 17}), (71, {'book_name': 'Leader its kitchen television try.', 'author_name': 'Melissa Werner', 'price': '4609.89', 'published_year': '1999', 'num_pages': 1024, 'copies_sold': '312', 'rating (1-5)': 2, 'category': 'Science Fiction', 'chapters': 18, 'publisher_name': 'Reed PLC', 'publisher_address': '785 Ward Park Suite 248\\nComptonland, VT 38372', 'country_available': 'Paraguay', 'characters': 13}), (38, {'book_name': 'Interesting story might subject.', 'author_name': 'Melissa Werner', 'price': '9128.03', 'published_year': '2009', 'num_pages': 1056, 'copies_sold': '510', 'rating (1-5)': 2, 'category': 'Science Fiction', 'chapters': 15, 'publisher_name': 'Wilson Group', 'publisher_address': '745 Cox Roads\\nJeremyfort, UT 53085', 'country_available': 'Cayman Islands', 'characters': 19}), (15, {'book_name': 'Level economy final machine.', 'author_name': 'Melissa Werner', 'price': '62.78', 'published_year': '2013', 'num_pages': 369, 'copies_sold': '253', 'rating (1-5)': 4, 'category': 'Fiction', 'chapters': 27, 'publisher_name': 'Silva, Kane and Benton', 'publisher_address': '066 Bethany Knolls Apt. 381\\nPort Heatherberg, DC 59290', 'country_available': 'Turkmenistan', 'characters': 8}), (60, {'book_name': 'Get behavior begin color.', 'author_name': 'Melissa Werner', 'price': '23.48', 'published_year': '2018', 'num_pages': 1082, 'copies_sold': '492', 'rating (1-5)': 2, 'category': 'Fiction', 'chapters': 29, 'publisher_name': 'Haynes LLC', 'publisher_address': 'USS Villarreal\\nFPO AA 67384', 'country_available': 'Moldova', 'characters': 11}), (63, {'book_name': 'Top animal never TV push.', 'author_name': 'Mr. Jonathan Jones', 'price': '3255.21', 'published_year': '1970', 'num_pages': 782, 'copies_sold': '972', 'rating (1-5)': 3, 'category': 'Non-Fiction', 'chapters': 27, 'publisher_name': 'Brown-Strong', 'publisher_address': '474 Charles Crossroad Apt. 312\\nHolderville, OK 99024', 'country_available': 'Ireland', 'characters': 6}), (7, {'book_name': 'Ten pay forget without traditional.', 'author_name': 'Mr. Jonathan Jones', 'price': '379.16', 'published_year': '1971', 'num_pages': 548, 'copies_sold': '882', 'rating (1-5)': 5, 'category': 'Science Fiction', 'chapters': 17, 'publisher_name': 'Williams, Williams and Fox', 'publisher_address': '98865 Brandy Stravenue\\nPort Katherineberg, AR 85162', 'country_available': 'Thailand', 'characters': 18}), (67, {'book_name': 'Dream support responsibility last reason.', 'author_name': 'Mr. Jonathan Jones', 'price': '333.42', 'published_year': '1977', 'num_pages': 354, 'copies_sold': '197', 'rating (1-5)': 2, 'category': 'Science Fiction', 'chapters': 27, 'publisher_name': 'Sanchez, Wood and Bass', 'publisher_address': '46196 Chen Mission\\nEast Brandonmouth, DE 41936', 'country_available': 'Paraguay', 'characters': 10}), (85, {'book_name': 'End treat poor can.', 'author_name': 'Mr. Jonathan Jones', 'price': '2.44', 'published_year': '1977', 'num_pages': 327, 'copies_sold': '159', 'rating (1-5)': 4, 'category': 'Economy', 'chapters': 16, 'publisher_name': 'Haynes LLC', 'publisher_address': '3883 Gary Overpass Apt. 737\\nLake Patriciaview, ME 70418', 'country_available': 'Guernsey', 'characters': 11}), (87, {'book_name': 'Career middle.', 'author_name': 'Mr. Jonathan Jones', 'price': '3163.69', 'published_year': '1981', 'num_pages': 1073, 'copies_sold': '080', 'rating (1-5)': 3, 'category': 'Mythology', 'chapters': 26, 'publisher_name': 'Sanchez, Wood and Bass', 'publisher_address': 'PSC 4831, Box 3485\\nAPO AE 94881', 'country_available': 'Thailand', 'characters': 7}), (8, {'book_name': 'With statement.', 'author_name': 'Mr. Jonathan Jones', 'price': '13.94', 'published_year': '1994', 'num_pages': 1496, 'copies_sold': '975', 'rating (1-5)': 4, 'category': 'Sports', 'chapters': 8, 'publisher_name': 'Sanchez, Wood and Bass', 'publisher_address': '78348 Christy Streets\\nGrantfurt, GA 04232', 'country_available': 'Ireland', 'characters': 19}), (35, {'book_name': 'Through receive seven community.', 'author_name': 'Mr. Jonathan Jones', 'price': '74897.55', 'published_year': '1999', 'num_pages': 1454, 'copies_sold': '273', 'rating (1-5)': 1, 'category': 'Economy', 'chapters': 15, 'publisher_name': 'Frank-Schroeder', 'publisher_address': '1252 Banks Extension\\nNorth Catherine, IL 96086', 'country_available': 'Thailand', 'characters': 17}), (21, {'book_name': 'Subject treat maybe father.', 'author_name': 'Mr. Jonathan Jones', 'price': '537.53', 'published_year': '2011', 'num_pages': 1413, 'copies_sold': '949', 'rating (1-5)': 2, 'category': 'Sports', 'chapters': 22, 'publisher_name': 'Brown-Strong', 'publisher_address': '29468 Jennifer Shoal\\nNew Christianmouth, HI 58159', 'country_available': 'Cayman Islands', 'characters': 11}), (44, {'book_name': 'Group cold.', 'author_name': 'Mr. Jonathan Jones', 'price': '583.80', 'published_year': '2012', 'num_pages': 723, 'copies_sold': '505', 'rating (1-5)': 5, 'category': 'Fiction', 'chapters': 9, 'publisher_name': 'Brown-Strong', 'publisher_address': '79829 Adam Mission Suite 568\\nNorth Kenneth, TN 12432', 'country_available': 'Cayman Islands', 'characters': 11}), (61, {'book_name': 'Often again happen pick far.', 'author_name': 'Mr. Jonathan Jones', 'price': '9190.13', 'published_year': '2013', 'num_pages': 1229, 'copies_sold': '465', 'rating (1-5)': 5, 'category': 'Science Fiction', 'chapters': 6, 'publisher_name': 'Reed PLC', 'publisher_address': 'USCGC Figueroa\\nFPO AP 97950', 'country_available': 'Paraguay', 'characters': 5}), (83, {'book_name': 'Image green sea real film.', 'author_name': 'Mr. Jonathan Jones', 'price': '736.05', 'published_year': '2013', 'num_pages': 271, 'copies_sold': '595', 'rating (1-5)': 3, 'category': 'Fiction', 'chapters': 29, 'publisher_name': 'Wilson Group', 'publisher_address': '350 Samuel Canyon\\nSouth Sandraberg, NM 34828', 'country_available': 'Ireland', 'characters': 14}), (1, {'book_name': 'Network treatment.', 'author_name': 'Mr. Jonathan Jones', 'price': '6674.18', 'published_year': '2020', 'num_pages': 183, 'copies_sold': '145', 'rating (1-5)': 1, 'category': 'Science Fiction', 'chapters': 16, 'publisher_name': 'Haynes LLC', 'publisher_address': '837 Scott Parkway\\nEast Andrea, OK 71137', 'country_available': 'Thailand', 'characters': 4}), (80, {'book_name': 'Candidate effect effort study.', 'author_name': 'Ryan Jones', 'price': '9601.44', 'published_year': '1982', 'num_pages': 1127, 'copies_sold': '013', 'rating (1-5)': 4, 'category': 'Sports', 'chapters': 14, 'publisher_name': 'Haynes LLC', 'publisher_address': '062 Peter Tunnel Apt. 185\\nAmandamouth, AR 56738', 'country_available': 'Paraguay', 'characters': 13}), (74, {'book_name': 'Scientist significant study.', 'author_name': 'Ryan Jones', 'price': '4.64', 'published_year': '1984', 'num_pages': 898, 'copies_sold': '684', 'rating (1-5)': 1, 'category': 'Sports', 'chapters': 22, 'publisher_name': 'Frank-Schroeder', 'publisher_address': 'Unit 6758 Box 9206\\nDPO AA 81248', 'country_available': 'Moldova', 'characters': 8}), (18, {'book_name': 'Will recent doctor laugh suffer.', 'author_name': 'Ryan Jones', 'price': '1.81', 'published_year': '1987', 'num_pages': 258, 'copies_sold': '889', 'rating (1-5)': 4, 'category': 'Science Fiction', 'chapters': 27, 'publisher_name': 'Williams, Williams and Fox', 'publisher_address': '256 Christy Squares\\nEast Lindseytown, UT 53876', 'country_available': 'Moldova', 'characters': 5}), (0, {'book_name': 'Record increase pretty pay.', 'author_name': 'Ryan Jones', 'price': '5191.78', 'published_year': '1991', 'num_pages': 104, 'copies_sold': '234', 'rating (1-5)': 2, 'category': 'Sports', 'chapters': 24, 'publisher_name': 'Frank-Schroeder', 'publisher_address': '066 Amanda Hills\\nEspinozatown, MS 09441', 'country_available': 'Turkmenistan', 'characters': 12}), (96, {'book_name': 'Drive cultural.', 'author_name': 'Ryan Jones', 'price': '995.85', 'published_year': '1995', 'num_pages': 921, 'copies_sold': '628', 'rating (1-5)': 2, 'category': 'Economy', 'chapters': 15, 'publisher_name': 'Silva, Kane and Benton', 'publisher_address': '5963 Ramos Fields\\nBradleychester, KS 58528', 'country_available': 'Paraguay', 'characters': 14}), (9, {'book_name': 'List now.', 'author_name': 'Ryan Jones', 'price': '73.84', 'published_year': '1997', 'num_pages': 1194, 'copies_sold': '605', 'rating (1-5)': 4, 'category': 'Sports', 'chapters': 24, 'publisher_name': 'Wilson Group', 'publisher_address': 'Unit 8631 Box 1171\\nDPO AE 71152', 'country_available': 'Croatia', 'characters': 4}), (98, {'book_name': 'Eye firm a.', 'author_name': 'Ryan Jones', 'price': '2864.75', 'published_year': '1998', 'num_pages': 1338, 'copies_sold': '743', 'rating (1-5)': 2, 'category': 'Science Fiction', 'chapters': 17, 'publisher_name': 'Williams, Williams and Fox', 'publisher_address': '41171 Martinez Field\\nLake Melissaberg, NY 42848', 'country_available': 'Cayman Islands', 'characters': 5}), (30, {'book_name': 'Development agent cost.', 'author_name': 'Ryan Jones', 'price': '2.95', 'published_year': '1999', 'num_pages': 1091, 'copies_sold': '687', 'rating (1-5)': 1, 'category': 'Fiction', 'chapters': 13, 'publisher_name': 'Tyler-Jackson', 'publisher_address': '90290 Ryan Greens Suite 076\\nSouth Alfredberg, SD 36409', 'country_available': 'Ireland', 'characters': 14}), (82, {'book_name': 'Suggest article structure allow heavy.', 'author_name': 'Ryan Jones', 'price': '759.01', 'published_year': '2000', 'num_pages': 1387, 'copies_sold': '011', 'rating (1-5)': 1, 'category': 'Non-Fiction', 'chapters': 18, 'publisher_name': 'Sanchez, Wood and Bass', 'publisher_address': '173 Jason Wall\\nTaylorborough, AK 57893', 'country_available': 'Turkmenistan', 'characters': 8}), (19, {'book_name': 'Maintain event particular Democrat.', 'author_name': 'Ryan Jones', 'price': '6737.36', 'published_year': '2010', 'num_pages': 1478, 'copies_sold': '803', 'rating (1-5)': 3, 'category': 'Economy', 'chapters': 18, 'publisher_name': 'Tyler-Jackson', 'publisher_address': '450 Alisha Rapids Suite 418\\nWest Sarahberg, ND 11444', 'country_available': 'Hong Kong', 'characters': 5}), (25, {'book_name': 'Resource one sea point.', 'author_name': 'Ryan Jones', 'price': '23922.79', 'published_year': '2015', 'num_pages': 447, 'copies_sold': '580', 'rating (1-5)': 4, 'category': 'Non-Fiction', 'chapters': 27, 'publisher_name': 'Williams, Williams and Fox', 'publisher_address': '4364 Brian Extension\\nEvanshire, MT 38236', 'country_available': 'Sudan', 'characters': 11}), (73, {'book_name': 'Relationship in term.', 'author_name': 'Ryan Jones', 'price': '30.74', 'published_year': '2017', 'num_pages': 1481, 'copies_sold': '895', 'rating (1-5)': 4, 'category': 'Fiction', 'chapters': 13, 'publisher_name': 'Ingram Ltd', 'publisher_address': '50505 David Mission Suite 248\\nPort Caleb, AR 10857', 'country_available': 'Sudan', 'characters': 6}), (28, {'book_name': 'High population.', 'author_name': 'Susan Bush', 'price': '4.75', 'published_year': '1972', 'num_pages': 1481, 'copies_sold': '048', 'rating (1-5)': 1, 'category': 'Fiction', 'chapters': 21, 'publisher_name': 'Williams, Williams and Fox', 'publisher_address': '31188 Melissa Valley\\nNew Ronald, HI 60384', 'country_available': 'Paraguay', 'characters': 14}), (94, {'book_name': 'Light break.', 'author_name': 'Susan Bush', 'price': '3608.20', 'published_year': '1980', 'num_pages': 929, 'copies_sold': '292', 'rating (1-5)': 3, 'category': 'Economy', 'chapters': 13, 'publisher_name': 'Frank-Schroeder', 'publisher_address': '618 Cooper Walks\\nBaileyborough, FL 49877', 'country_available': 'Thailand', 'characters': 12}), (13, {'book_name': 'Main very create add.', 'author_name': 'Susan Bush', 'price': '87791.47', 'published_year': '1988', 'num_pages': 1386, 'copies_sold': '825', 'rating (1-5)': 4, 'category': 'Economy', 'chapters': 15, 'publisher_name': 'Wilson Group', 'publisher_address': '42025 David Row Suite 053\\nLake Davidshire, NM 41813', 'country_available': 'Paraguay', 'characters': 14}), (43, {'book_name': 'Second something even opportunity.', 'author_name': 'Susan Bush', 'price': '5227.43', 'published_year': '1991', 'num_pages': 127, 'copies_sold': '287', 'rating (1-5)': 4, 'category': 'Mythology', 'chapters': 25, 'publisher_name': 'Ingram Ltd', 'publisher_address': '1834 Thompson Isle\\nPort Ronaldmouth, MI 08435', 'country_available': 'Sudan', 'characters': 9}), (93, {'book_name': 'All hotel address.', 'author_name': 'Susan Bush', 'price': '47.69', 'published_year': '1997', 'num_pages': 639, 'copies_sold': '856', 'rating (1-5)': 1, 'category': 'Economy', 'chapters': 27, 'publisher_name': 'Wilson Group', 'publisher_address': '654 Joseph Island Apt. 587\\nRodgersmouth, MO 28625', 'country_available': 'Croatia', 'characters': 15}), (52, {'book_name': 'Upon final term.', 'author_name': 'Susan Bush', 'price': '29834.09', 'published_year': '2002', 'num_pages': 264, 'copies_sold': '089', 'rating (1-5)': 5, 'category': 'Sports', 'chapters': 26, 'publisher_name': 'Wilson Group', 'publisher_address': 'Unit 6592 Box 0231\\nDPO AA 24077', 'country_available': 'Guernsey', 'characters': 10}), (46, {'book_name': 'Best success look.', 'author_name': 'Susan Bush', 'price': '68145.20', 'published_year': '2005', 'num_pages': 1355, 'copies_sold': '485', 'rating (1-5)': 2, 'category': 'Fiction', 'chapters': 8, 'publisher_name': 'Brown-Strong', 'publisher_address': '370 Seth Courts\\nEast Juliemouth, HI 08854', 'country_available': 'Croatia', 'characters': 7}), (34, {'book_name': 'Eight fact.', 'author_name': 'Susan Bush', 'price': '60.44', 'published_year': '2006', 'num_pages': 264, 'copies_sold': '652', 'rating (1-5)': 1, 'category': 'Economy', 'chapters': 18, 'publisher_name': 'Frank-Schroeder', 'publisher_address': '2818 Alexander Harbor\\nLake Bryan, AZ 20479', 'country_available': 'Guernsey', 'characters': 18}), (57, {'book_name': 'Fund against.', 'author_name': 'Susan Bush', 'price': '80555.74', 'published_year': '2006', 'num_pages': 497, 'copies_sold': '665', 'rating (1-5)': 3, 'category': 'Sports', 'chapters': 23, 'publisher_name': 'Williams, Williams and Fox', 'publisher_address': 'PSC 6132, Box 2385\\nAPO AP 84078', 'country_available': 'Croatia', 'characters': 19}), (31, {'book_name': 'Everything would project school Mr.', 'author_name': 'Susan Bush', 'price': '3.25', 'published_year': '2014', 'num_pages': 618, 'copies_sold': '173', 'rating (1-5)': 2, 'category': 'Mythology', 'chapters': 19, 'publisher_name': 'Reed PLC', 'publisher_address': '3735 Tony Harbor\\nPort Sarah, NJ 71723', 'country_available': 'Thailand', 'characters': 19}), (70, {'book_name': 'Fine determine tonight.', 'author_name': 'Susan Bush', 'price': '0.29', 'published_year': '2018', 'num_pages': 576, 'copies_sold': '499', 'rating (1-5)': 1, 'category': 'Sports', 'chapters': 17, 'publisher_name': 'Frank-Schroeder', 'publisher_address': '3272 Charles Crossing Apt. 020\\nLake Timothy, NV 51839', 'country_available': 'Sudan', 'characters': 11}), (84, {'book_name': 'Energy soon town personal.', 'author_name': 'Susan Bush', 'price': '54981.83', 'published_year': '2019', 'num_pages': 447, 'copies_sold': '190', 'rating (1-5)': 3, 'category': 'Science Fiction', 'chapters': 25, 'publisher_name': 'Brown-Strong', 'publisher_address': 'PSC 5764, Box 2783\\nAPO AE 14307', 'country_available': 'Paraguay', 'characters': 8}), (95, {'book_name': 'Away authority stock rock.', 'author_name': 'Susan Bush', 'price': '448.83', 'published_year': '2019', 'num_pages': 705, 'copies_sold': '816', 'rating (1-5)': 1, 'category': 'Economy', 'chapters': 12, 'publisher_name': 'Wilson Group', 'publisher_address': '81389 Krista Mountain Apt. 482\\nFieldsmouth, OH 39425', 'country_available': 'Cayman Islands', 'characters': 16}), (79, {'book_name': 'Technology give.', 'author_name': 'Victor Hill', 'price': '6996.64', 'published_year': '1994', 'num_pages': 1033, 'copies_sold': '490', 'rating (1-5)': 2, 'category': 'Economy', 'chapters': 27, 'publisher_name': 'Haynes LLC', 'publisher_address': '93076 Brooks Pass\\nJacksonfort, KS 79415', 'country_available': 'Ireland', 'characters': 14}), (41, {'book_name': 'Bed easy.', 'author_name': 'Victor Hill', 'price': '3511.74', 'published_year': '1997', 'num_pages': 79, 'copies_sold': '142', 'rating (1-5)': 3, 'category': 'Sports', 'chapters': 21, 'publisher_name': 'Sanchez, Wood and Bass', 'publisher_address': '3637 Michelle Gardens Suite 329\\nWest Gloria, CA 64445', 'country_available': 'Moldova', 'characters': 6}), (99, {'book_name': 'Control wrong green.', 'author_name': 'Victor Hill', 'price': '8263.83', 'published_year': '2009', 'num_pages': 1288, 'copies_sold': '415', 'rating (1-5)': 2, 'category': 'Science Fiction', 'chapters': 29, 'publisher_name': 'Reed PLC', 'publisher_address': '5296 Jeffrey Path Suite 227\\nBethland, OK 39536', 'country_available': 'Moldova', 'characters': 13}), (97, {'book_name': 'Development speak short.', 'author_name': 'Victor Hill', 'price': '38057.70', 'published_year': '2015', 'num_pages': 914, 'copies_sold': '820', 'rating (1-5)': 2, 'category': 'Science Fiction', 'chapters': 28, 'publisher_name': 'Haynes LLC', 'publisher_address': '63323 Jordan Mission\\nNorth Aaronberg, MN 30485', 'country_available': 'Thailand', 'characters': 14}), (36, {'book_name': 'Garden blood nor.', 'author_name': 'Victor Hill', 'price': '8.19', 'published_year': '2016', 'num_pages': 103, 'copies_sold': '017', 'rating (1-5)': 2, 'category': 'Fiction', 'chapters': 12, 'publisher_name': 'Frank-Schroeder', 'publisher_address': '4385 Andrew Corners Apt. 387\\nLake Nicole, NE 53361', 'country_available': 'Paraguay', 'characters': 16}), (51, {'book_name': 'Condition arm.', 'author_name': 'Victor Hill', 'price': '148.75', 'published_year': '2019', 'num_pages': 433, 'copies_sold': '355', 'rating (1-5)': 2, 'category': 'Sports', 'chapters': 29, 'publisher_name': 'Frank-Schroeder', 'publisher_address': '928 Christine Coves Suite 602\\nKathleenville, AR 93782', 'country_available': 'Thailand', 'characters': 7})]\n"
     ]
    }
   ],
   "source": [
    "result = sorted(books.items(), key=lambda x:(x[1]['author_name'],x[1]['published_year']))\n",
    "print(result)"
   ]
  },
  {
   "cell_type": "markdown",
   "metadata": {},
   "source": [
    "#### 8. Sort the dict by copies sold and rating"
   ]
  },
  {
   "cell_type": "code",
   "execution_count": 247,
   "metadata": {},
   "outputs": [
    {
     "name": "stdout",
     "output_type": "stream",
     "text": [
      "[(82, {'book_name': 'Suggest article structure allow heavy.', 'author_name': 'Ryan Jones', 'price': '759.01', 'published_year': '2000', 'num_pages': 1387, 'copies_sold': '011', 'rating (1-5)': 1, 'category': 'Non-Fiction', 'chapters': 18, 'publisher_name': 'Sanchez, Wood and Bass', 'publisher_address': '173 Jason Wall\\nTaylorborough, AK 57893', 'country_available': 'Turkmenistan', 'characters': 8}), (80, {'book_name': 'Candidate effect effort study.', 'author_name': 'Ryan Jones', 'price': '9601.44', 'published_year': '1982', 'num_pages': 1127, 'copies_sold': '013', 'rating (1-5)': 4, 'category': 'Sports', 'chapters': 14, 'publisher_name': 'Haynes LLC', 'publisher_address': '062 Peter Tunnel Apt. 185\\nAmandamouth, AR 56738', 'country_available': 'Paraguay', 'characters': 13}), (36, {'book_name': 'Garden blood nor.', 'author_name': 'Victor Hill', 'price': '8.19', 'published_year': '2016', 'num_pages': 103, 'copies_sold': '017', 'rating (1-5)': 2, 'category': 'Fiction', 'chapters': 12, 'publisher_name': 'Frank-Schroeder', 'publisher_address': '4385 Andrew Corners Apt. 387\\nLake Nicole, NE 53361', 'country_available': 'Paraguay', 'characters': 16}), (26, {'book_name': 'Place town available.', 'author_name': 'James Miller', 'price': '1287.96', 'published_year': '1975', 'num_pages': 1211, 'copies_sold': '037', 'rating (1-5)': 3, 'category': 'Non-Fiction', 'chapters': 12, 'publisher_name': 'Haynes LLC', 'publisher_address': '60015 Williams Island Apt. 789\\nPattersonview, OK 93159', 'country_available': 'Sudan', 'characters': 19}), (28, {'book_name': 'High population.', 'author_name': 'Susan Bush', 'price': '4.75', 'published_year': '1972', 'num_pages': 1481, 'copies_sold': '048', 'rating (1-5)': 1, 'category': 'Fiction', 'chapters': 21, 'publisher_name': 'Williams, Williams and Fox', 'publisher_address': '31188 Melissa Valley\\nNew Ronald, HI 60384', 'country_available': 'Paraguay', 'characters': 14}), (87, {'book_name': 'Career middle.', 'author_name': 'Mr. Jonathan Jones', 'price': '3163.69', 'published_year': '1981', 'num_pages': 1073, 'copies_sold': '080', 'rating (1-5)': 3, 'category': 'Mythology', 'chapters': 26, 'publisher_name': 'Sanchez, Wood and Bass', 'publisher_address': 'PSC 4831, Box 3485\\nAPO AE 94881', 'country_available': 'Thailand', 'characters': 7}), (52, {'book_name': 'Upon final term.', 'author_name': 'Susan Bush', 'price': '29834.09', 'published_year': '2002', 'num_pages': 264, 'copies_sold': '089', 'rating (1-5)': 5, 'category': 'Sports', 'chapters': 26, 'publisher_name': 'Wilson Group', 'publisher_address': 'Unit 6592 Box 0231\\nDPO AA 24077', 'country_available': 'Guernsey', 'characters': 10}), (12, {'book_name': 'Edge start data.', 'author_name': 'Melissa Werner', 'price': '777.83', 'published_year': '1991', 'num_pages': 916, 'copies_sold': '093', 'rating (1-5)': 3, 'category': 'Economy', 'chapters': 28, 'publisher_name': 'Sanchez, Wood and Bass', 'publisher_address': 'PSC 0552, Box 4093\\nAPO AA 90198', 'country_available': 'Thailand', 'characters': 17}), (69, {'book_name': 'And cell animal seek.', 'author_name': 'Melissa Werner', 'price': '33119.81', 'published_year': '1985', 'num_pages': 1454, 'copies_sold': '105', 'rating (1-5)': 2, 'category': 'Fiction', 'chapters': 8, 'publisher_name': 'Ingram Ltd', 'publisher_address': '33858 Wright Highway Suite 645\\nSouth Shane, DE 32479', 'country_available': 'Croatia', 'characters': 6}), (42, {'book_name': 'Ability building business half whether.', 'author_name': 'Kevin Watson', 'price': '24.55', 'published_year': '1983', 'num_pages': 1154, 'copies_sold': '114', 'rating (1-5)': 2, 'category': 'Sports', 'chapters': 5, 'publisher_name': 'Reed PLC', 'publisher_address': '93786 Stacy Rest Suite 789\\nSouth Micheleburgh, UT 98175', 'country_available': 'Thailand', 'characters': 12}), (2, {'book_name': 'Minute fish toward money fear.', 'author_name': 'Kevin Watson', 'price': '77.31', 'published_year': '2002', 'num_pages': 1419, 'copies_sold': '119', 'rating (1-5)': 1, 'category': 'Non-Fiction', 'chapters': 20, 'publisher_name': 'Wilson Group', 'publisher_address': '0498 Summer Loop\\nLake Leslie, NC 74405', 'country_available': 'Cayman Islands', 'characters': 11}), (58, {'book_name': 'Camera traditional drug.', 'author_name': 'Edward Perez', 'price': '2072.93', 'published_year': '1981', 'num_pages': 844, 'copies_sold': '123', 'rating (1-5)': 4, 'category': 'Fiction', 'chapters': 18, 'publisher_name': 'Silva, Kane and Benton', 'publisher_address': '6156 Gonzalez Lock Suite 786\\nSouth Matthew, TX 10581', 'country_available': 'Croatia', 'characters': 10}), (6, {'book_name': 'Last believe floor.', 'author_name': 'Edward Perez', 'price': '27.18', 'published_year': '1995', 'num_pages': 558, 'copies_sold': '137', 'rating (1-5)': 4, 'category': 'Mythology', 'chapters': 26, 'publisher_name': 'Tyler-Jackson', 'publisher_address': '321 Emily Locks\\nNorth Allisonville, ID 25402', 'country_available': 'Cayman Islands', 'characters': 12}), (41, {'book_name': 'Bed easy.', 'author_name': 'Victor Hill', 'price': '3511.74', 'published_year': '1997', 'num_pages': 79, 'copies_sold': '142', 'rating (1-5)': 3, 'category': 'Sports', 'chapters': 21, 'publisher_name': 'Sanchez, Wood and Bass', 'publisher_address': '3637 Michelle Gardens Suite 329\\nWest Gloria, CA 64445', 'country_available': 'Moldova', 'characters': 6}), (1, {'book_name': 'Network treatment.', 'author_name': 'Mr. Jonathan Jones', 'price': '6674.18', 'published_year': '2020', 'num_pages': 183, 'copies_sold': '145', 'rating (1-5)': 1, 'category': 'Science Fiction', 'chapters': 16, 'publisher_name': 'Haynes LLC', 'publisher_address': '837 Scott Parkway\\nEast Andrea, OK 71137', 'country_available': 'Thailand', 'characters': 4}), (24, {'book_name': 'Attention cold anything.', 'author_name': 'Edward Perez', 'price': '94166.00', 'published_year': '1983', 'num_pages': 714, 'copies_sold': '147', 'rating (1-5)': 3, 'category': 'Science Fiction', 'chapters': 6, 'publisher_name': 'Wilson Group', 'publisher_address': '52344 Amanda Cove Apt. 959\\nSouth Michelefurt, FL 45276', 'country_available': 'Moldova', 'characters': 13}), (85, {'book_name': 'End treat poor can.', 'author_name': 'Mr. Jonathan Jones', 'price': '2.44', 'published_year': '1977', 'num_pages': 327, 'copies_sold': '159', 'rating (1-5)': 4, 'category': 'Economy', 'chapters': 16, 'publisher_name': 'Haynes LLC', 'publisher_address': '3883 Gary Overpass Apt. 737\\nLake Patriciaview, ME 70418', 'country_available': 'Guernsey', 'characters': 11}), (31, {'book_name': 'Everything would project school Mr.', 'author_name': 'Susan Bush', 'price': '3.25', 'published_year': '2014', 'num_pages': 618, 'copies_sold': '173', 'rating (1-5)': 2, 'category': 'Mythology', 'chapters': 19, 'publisher_name': 'Reed PLC', 'publisher_address': '3735 Tony Harbor\\nPort Sarah, NJ 71723', 'country_available': 'Thailand', 'characters': 19}), (84, {'book_name': 'Energy soon town personal.', 'author_name': 'Susan Bush', 'price': '54981.83', 'published_year': '2019', 'num_pages': 447, 'copies_sold': '190', 'rating (1-5)': 3, 'category': 'Science Fiction', 'chapters': 25, 'publisher_name': 'Brown-Strong', 'publisher_address': 'PSC 5764, Box 2783\\nAPO AE 14307', 'country_available': 'Paraguay', 'characters': 8}), (67, {'book_name': 'Dream support responsibility last reason.', 'author_name': 'Mr. Jonathan Jones', 'price': '333.42', 'published_year': '1977', 'num_pages': 354, 'copies_sold': '197', 'rating (1-5)': 2, 'category': 'Science Fiction', 'chapters': 27, 'publisher_name': 'Sanchez, Wood and Bass', 'publisher_address': '46196 Chen Mission\\nEast Brandonmouth, DE 41936', 'country_available': 'Paraguay', 'characters': 10}), (27, {'book_name': 'Arrive sometimes worker.', 'author_name': 'Kevin Watson', 'price': '9.92', 'published_year': '1997', 'num_pages': 1012, 'copies_sold': '216', 'rating (1-5)': 3, 'category': 'Mythology', 'chapters': 20, 'publisher_name': 'Haynes LLC', 'publisher_address': '830 Pamela Street Suite 882\\nPriscillachester, GA 09411', 'country_available': 'Sudan', 'characters': 17}), (14, {'book_name': 'Image debate us.', 'author_name': 'Edward Perez', 'price': '6.87', 'published_year': '1983', 'num_pages': 366, 'copies_sold': '218', 'rating (1-5)': 5, 'category': 'Economy', 'chapters': 17, 'publisher_name': 'Silva, Kane and Benton', 'publisher_address': '3891 Johnson Mount Suite 660\\nEast Melissa, KS 85286', 'country_available': 'Ireland', 'characters': 10}), (88, {'book_name': 'Establish themselves anyone speak.', 'author_name': 'Joshua Sullivan', 'price': '2876.02', 'published_year': '2016', 'num_pages': 865, 'copies_sold': '223', 'rating (1-5)': 3, 'category': 'Sports', 'chapters': 25, 'publisher_name': 'Haynes LLC', 'publisher_address': 'USCGC Patterson\\nFPO AP 11986', 'country_available': 'Moldova', 'characters': 4}), (0, {'book_name': 'Record increase pretty pay.', 'author_name': 'Ryan Jones', 'price': '5191.78', 'published_year': '1991', 'num_pages': 104, 'copies_sold': '234', 'rating (1-5)': 2, 'category': 'Sports', 'chapters': 24, 'publisher_name': 'Frank-Schroeder', 'publisher_address': '066 Amanda Hills\\nEspinozatown, MS 09441', 'country_available': 'Turkmenistan', 'characters': 12}), (16, {'book_name': 'Read speak thank fact perform.', 'author_name': 'Melissa Werner', 'price': '0.57', 'published_year': '1982', 'num_pages': 1126, 'copies_sold': '238', 'rating (1-5)': 1, 'category': 'Sports', 'chapters': 24, 'publisher_name': 'Sanchez, Wood and Bass', 'publisher_address': 'Unit 9930 Box 3238\\nDPO AE 21677', 'country_available': 'Sudan', 'characters': 6}), (15, {'book_name': 'Level economy final machine.', 'author_name': 'Melissa Werner', 'price': '62.78', 'published_year': '2013', 'num_pages': 369, 'copies_sold': '253', 'rating (1-5)': 4, 'category': 'Fiction', 'chapters': 27, 'publisher_name': 'Silva, Kane and Benton', 'publisher_address': '066 Bethany Knolls Apt. 381\\nPort Heatherberg, DC 59290', 'country_available': 'Turkmenistan', 'characters': 8}), (65, {'book_name': 'Wait hotel reflect from daughter.', 'author_name': 'Kevin Watson', 'price': '566.82', 'published_year': '1997', 'num_pages': 1211, 'copies_sold': '262', 'rating (1-5)': 1, 'category': 'Fiction', 'chapters': 20, 'publisher_name': 'Reed PLC', 'publisher_address': '0153 Christopher Rest\\nLake Cynthiaville, AK 04776', 'country_available': 'Thailand', 'characters': 19}), (53, {'book_name': 'Group final such even dark.', 'author_name': 'Kevin Watson', 'price': '923.18', 'published_year': '1977', 'num_pages': 549, 'copies_sold': '270', 'rating (1-5)': 3, 'category': 'Science Fiction', 'chapters': 22, 'publisher_name': 'Frank-Schroeder', 'publisher_address': 'PSC 3757, Box 8719\\nAPO AE 51886', 'country_available': 'Moldova', 'characters': 13}), (5, {'book_name': 'Put star.', 'author_name': 'Edward Perez', 'price': '85090.92', 'published_year': '1991', 'num_pages': 904, 'copies_sold': '273', 'rating (1-5)': 1, 'category': 'Non-Fiction', 'chapters': 13, 'publisher_name': 'Haynes LLC', 'publisher_address': '856 Danielle Orchard Suite 027\\nWest Margaretshire, WV 12963', 'country_available': 'Turkmenistan', 'characters': 8}), (35, {'book_name': 'Through receive seven community.', 'author_name': 'Mr. Jonathan Jones', 'price': '74897.55', 'published_year': '1999', 'num_pages': 1454, 'copies_sold': '273', 'rating (1-5)': 1, 'category': 'Economy', 'chapters': 15, 'publisher_name': 'Frank-Schroeder', 'publisher_address': '1252 Banks Extension\\nNorth Catherine, IL 96086', 'country_available': 'Thailand', 'characters': 17}), (43, {'book_name': 'Second something even opportunity.', 'author_name': 'Susan Bush', 'price': '5227.43', 'published_year': '1991', 'num_pages': 127, 'copies_sold': '287', 'rating (1-5)': 4, 'category': 'Mythology', 'chapters': 25, 'publisher_name': 'Ingram Ltd', 'publisher_address': '1834 Thompson Isle\\nPort Ronaldmouth, MI 08435', 'country_available': 'Sudan', 'characters': 9}), (94, {'book_name': 'Light break.', 'author_name': 'Susan Bush', 'price': '3608.20', 'published_year': '1980', 'num_pages': 929, 'copies_sold': '292', 'rating (1-5)': 3, 'category': 'Economy', 'chapters': 13, 'publisher_name': 'Frank-Schroeder', 'publisher_address': '618 Cooper Walks\\nBaileyborough, FL 49877', 'country_available': 'Thailand', 'characters': 12}), (20, {'book_name': 'Answer teacher unit everything author.', 'author_name': 'Kevin Watson', 'price': '16.26', 'published_year': '1974', 'num_pages': 871, 'copies_sold': '310', 'rating (1-5)': 1, 'category': 'Sports', 'chapters': 26, 'publisher_name': 'Reed PLC', 'publisher_address': '74450 Greene Crescent\\nNorth Frankview, MD 56155', 'country_available': 'Cayman Islands', 'characters': 7}), (71, {'book_name': 'Leader its kitchen television try.', 'author_name': 'Melissa Werner', 'price': '4609.89', 'published_year': '1999', 'num_pages': 1024, 'copies_sold': '312', 'rating (1-5)': 2, 'category': 'Science Fiction', 'chapters': 18, 'publisher_name': 'Reed PLC', 'publisher_address': '785 Ward Park Suite 248\\nComptonland, VT 38372', 'country_available': 'Paraguay', 'characters': 13}), (17, {'book_name': 'Produce ready increase example area.', 'author_name': 'Juan Contreras', 'price': '45352.41', 'published_year': '2011', 'num_pages': 718, 'copies_sold': '318', 'rating (1-5)': 5, 'category': 'Mythology', 'chapters': 25, 'publisher_name': 'Tyler-Jackson', 'publisher_address': '31039 White Meadows Apt. 727\\nGilbertborough, CO 36924', 'country_available': 'Ireland', 'characters': 18}), (29, {'book_name': 'Something room ground industry kid.', 'author_name': 'Joshua Sullivan', 'price': '57.13', 'published_year': '2010', 'num_pages': 911, 'copies_sold': '331', 'rating (1-5)': 3, 'category': 'Science Fiction', 'chapters': 16, 'publisher_name': 'Williams, Williams and Fox', 'publisher_address': '38437 Lucas Wall Apt. 905\\nLake Melanie, CA 37029', 'country_available': 'Cayman Islands', 'characters': 13}), (11, {'book_name': 'Executive environment door use.', 'author_name': 'Melissa Werner', 'price': '57685.39', 'published_year': '1988', 'num_pages': 667, 'copies_sold': '332', 'rating (1-5)': 5, 'category': 'Science Fiction', 'chapters': 17, 'publisher_name': 'Brown-Strong', 'publisher_address': '1686 Michelle Pine\\nPaulfurt, NY 39737', 'country_available': 'Thailand', 'characters': 10}), (10, {'book_name': 'Military important year.', 'author_name': 'Kevin Watson', 'price': '282.09', 'published_year': '1972', 'num_pages': 574, 'copies_sold': '333', 'rating (1-5)': 3, 'category': 'Economy', 'chapters': 18, 'publisher_name': 'Reed PLC', 'publisher_address': '15552 Whitney Spring\\nSouth Gary, AR 37716', 'country_available': 'Croatia', 'characters': 5}), (45, {'book_name': 'Dream clearly learn lawyer.', 'author_name': 'Juan Contreras', 'price': '618.94', 'published_year': '2005', 'num_pages': 1070, 'copies_sold': '336', 'rating (1-5)': 1, 'category': 'Science Fiction', 'chapters': 11, 'publisher_name': 'Reed PLC', 'publisher_address': '3148 Small Knoll Suite 582\\nNathanland, MS 38678', 'country_available': 'Cayman Islands', 'characters': 5}), (51, {'book_name': 'Condition arm.', 'author_name': 'Victor Hill', 'price': '148.75', 'published_year': '2019', 'num_pages': 433, 'copies_sold': '355', 'rating (1-5)': 2, 'category': 'Sports', 'chapters': 29, 'publisher_name': 'Frank-Schroeder', 'publisher_address': '928 Christine Coves Suite 602\\nKathleenville, AR 93782', 'country_available': 'Thailand', 'characters': 7}), (78, {'book_name': 'Pm necessary by.', 'author_name': 'Joshua Sullivan', 'price': '6.18', 'published_year': '2004', 'num_pages': 1288, 'copies_sold': '362', 'rating (1-5)': 3, 'category': 'Mythology', 'chapters': 26, 'publisher_name': 'Williams, Williams and Fox', 'publisher_address': '0717 Landry Junction\\nScottside, NE 83893', 'country_available': 'Sudan', 'characters': 8}), (75, {'book_name': 'Understand remain.', 'author_name': 'Edward Perez', 'price': '9.93', 'published_year': '1983', 'num_pages': 527, 'copies_sold': '363', 'rating (1-5)': 1, 'category': 'Science Fiction', 'chapters': 15, 'publisher_name': 'Haynes LLC', 'publisher_address': '835 Benjamin Oval\\nSmithland, VT 30353', 'country_available': 'Thailand', 'characters': 4}), (48, {'book_name': 'Nice style.', 'author_name': 'Kevin Watson', 'price': '7877.26', 'published_year': '1985', 'num_pages': 697, 'copies_sold': '364', 'rating (1-5)': 5, 'category': 'Non-Fiction', 'chapters': 23, 'publisher_name': 'Haynes LLC', 'publisher_address': '750 Jean Court Apt. 745\\nPort Jonathantown, AZ 96981', 'country_available': 'Sudan', 'characters': 10}), (39, {'book_name': 'Card large accept rule medical.', 'author_name': 'Juan Contreras', 'price': '2973.94', 'published_year': '1978', 'num_pages': 1262, 'copies_sold': '369', 'rating (1-5)': 4, 'category': 'Mythology', 'chapters': 17, 'publisher_name': 'Sanchez, Wood and Bass', 'publisher_address': '699 Price Lodge Suite 303\\nNorth Taylor, DE 77245', 'country_available': 'Hong Kong', 'characters': 15}), (89, {'book_name': 'Air in heavy.', 'author_name': 'James Miller', 'price': '670.63', 'published_year': '1973', 'num_pages': 444, 'copies_sold': '406', 'rating (1-5)': 4, 'category': 'Science Fiction', 'chapters': 15, 'publisher_name': 'Tyler-Jackson', 'publisher_address': '81452 Joseph Stravenue\\nSouth Hollyview, WV 78933', 'country_available': 'Moldova', 'characters': 8}), (99, {'book_name': 'Control wrong green.', 'author_name': 'Victor Hill', 'price': '8263.83', 'published_year': '2009', 'num_pages': 1288, 'copies_sold': '415', 'rating (1-5)': 2, 'category': 'Science Fiction', 'chapters': 29, 'publisher_name': 'Reed PLC', 'publisher_address': '5296 Jeffrey Path Suite 227\\nBethland, OK 39536', 'country_available': 'Moldova', 'characters': 13}), (32, {'book_name': 'Road possible stuff less.', 'author_name': 'Juan Contreras', 'price': '434.93', 'published_year': '2008', 'num_pages': 1214, 'copies_sold': '418', 'rating (1-5)': 2, 'category': 'Fiction', 'chapters': 15, 'publisher_name': 'Wilson Group', 'publisher_address': '91994 Michael Centers Apt. 120\\nMendozaburgh, DC 05294', 'country_available': 'Cayman Islands', 'characters': 19}), (55, {'book_name': 'Baby check.', 'author_name': 'Kevin Watson', 'price': '1.78', 'published_year': '1991', 'num_pages': 111, 'copies_sold': '438', 'rating (1-5)': 2, 'category': 'Mythology', 'chapters': 22, 'publisher_name': 'Ingram Ltd', 'publisher_address': '8344 Petersen Junction Apt. 270\\nCarolland, GA 90496', 'country_available': 'Croatia', 'characters': 14}), (22, {'book_name': 'Fly strategy down now light.', 'author_name': 'Edward Perez', 'price': '11.73', 'published_year': '1979', 'num_pages': 349, 'copies_sold': '445', 'rating (1-5)': 5, 'category': 'Non-Fiction', 'chapters': 6, 'publisher_name': 'Frank-Schroeder', 'publisher_address': '3549 Michael Parks\\nWest Charlesfurt, NM 05654', 'country_available': 'Cayman Islands', 'characters': 7}), (61, {'book_name': 'Often again happen pick far.', 'author_name': 'Mr. Jonathan Jones', 'price': '9190.13', 'published_year': '2013', 'num_pages': 1229, 'copies_sold': '465', 'rating (1-5)': 5, 'category': 'Science Fiction', 'chapters': 6, 'publisher_name': 'Reed PLC', 'publisher_address': 'USCGC Figueroa\\nFPO AP 97950', 'country_available': 'Paraguay', 'characters': 5}), (62, {'book_name': 'Require watch push outside.', 'author_name': 'Edward Perez', 'price': '99.83', 'published_year': '1994', 'num_pages': 110, 'copies_sold': '468', 'rating (1-5)': 1, 'category': 'Fiction', 'chapters': 10, 'publisher_name': 'Haynes LLC', 'publisher_address': '728 Jasmine Canyon\\nPhillipsside, NC 23473', 'country_available': 'Hong Kong', 'characters': 17}), (54, {'book_name': 'Stock two available party.', 'author_name': 'Edward Perez', 'price': '3.34', 'published_year': '2018', 'num_pages': 550, 'copies_sold': '483', 'rating (1-5)': 5, 'category': 'Sports', 'chapters': 17, 'publisher_name': 'Williams, Williams and Fox', 'publisher_address': '66480 Noble Cliff\\nEmilyville, DE 64681', 'country_available': 'Moldova', 'characters': 6}), (46, {'book_name': 'Best success look.', 'author_name': 'Susan Bush', 'price': '68145.20', 'published_year': '2005', 'num_pages': 1355, 'copies_sold': '485', 'rating (1-5)': 2, 'category': 'Fiction', 'chapters': 8, 'publisher_name': 'Brown-Strong', 'publisher_address': '370 Seth Courts\\nEast Juliemouth, HI 08854', 'country_available': 'Croatia', 'characters': 7}), (49, {'book_name': 'Call market old.', 'author_name': 'James Miller', 'price': '6.39', 'published_year': '1991', 'num_pages': 333, 'copies_sold': '485', 'rating (1-5)': 4, 'category': 'Economy', 'chapters': 7, 'publisher_name': 'Reed PLC', 'publisher_address': '3547 Curtis Ports Suite 784\\nNorth Rachelmouth, MN 84707', 'country_available': 'Ireland', 'characters': 15}), (79, {'book_name': 'Technology give.', 'author_name': 'Victor Hill', 'price': '6996.64', 'published_year': '1994', 'num_pages': 1033, 'copies_sold': '490', 'rating (1-5)': 2, 'category': 'Economy', 'chapters': 27, 'publisher_name': 'Haynes LLC', 'publisher_address': '93076 Brooks Pass\\nJacksonfort, KS 79415', 'country_available': 'Ireland', 'characters': 14}), (60, {'book_name': 'Get behavior begin color.', 'author_name': 'Melissa Werner', 'price': '23.48', 'published_year': '2018', 'num_pages': 1082, 'copies_sold': '492', 'rating (1-5)': 2, 'category': 'Fiction', 'chapters': 29, 'publisher_name': 'Haynes LLC', 'publisher_address': 'USS Villarreal\\nFPO AA 67384', 'country_available': 'Moldova', 'characters': 11}), (70, {'book_name': 'Fine determine tonight.', 'author_name': 'Susan Bush', 'price': '0.29', 'published_year': '2018', 'num_pages': 576, 'copies_sold': '499', 'rating (1-5)': 1, 'category': 'Sports', 'chapters': 17, 'publisher_name': 'Frank-Schroeder', 'publisher_address': '3272 Charles Crossing Apt. 020\\nLake Timothy, NV 51839', 'country_available': 'Sudan', 'characters': 11}), (44, {'book_name': 'Group cold.', 'author_name': 'Mr. Jonathan Jones', 'price': '583.80', 'published_year': '2012', 'num_pages': 723, 'copies_sold': '505', 'rating (1-5)': 5, 'category': 'Fiction', 'chapters': 9, 'publisher_name': 'Brown-Strong', 'publisher_address': '79829 Adam Mission Suite 568\\nNorth Kenneth, TN 12432', 'country_available': 'Cayman Islands', 'characters': 11}), (66, {'book_name': 'Reality decide she nature.', 'author_name': 'James Miller', 'price': '44.79', 'published_year': '1979', 'num_pages': 245, 'copies_sold': '506', 'rating (1-5)': 2, 'category': 'Sports', 'chapters': 13, 'publisher_name': 'Reed PLC', 'publisher_address': '522 Herbert Islands\\nWest Rachelland, NE 34701', 'country_available': 'Ireland', 'characters': 5}), (38, {'book_name': 'Interesting story might subject.', 'author_name': 'Melissa Werner', 'price': '9128.03', 'published_year': '2009', 'num_pages': 1056, 'copies_sold': '510', 'rating (1-5)': 2, 'category': 'Science Fiction', 'chapters': 15, 'publisher_name': 'Wilson Group', 'publisher_address': '745 Cox Roads\\nJeremyfort, UT 53085', 'country_available': 'Cayman Islands', 'characters': 19}), (23, {'book_name': 'Special civil else commercial modern.', 'author_name': 'Kevin Watson', 'price': '482.22', 'published_year': '2005', 'num_pages': 777, 'copies_sold': '578', 'rating (1-5)': 5, 'category': 'Economy', 'chapters': 15, 'publisher_name': 'Sanchez, Wood and Bass', 'publisher_address': '63930 James Fields\\nLawrencechester, AK 56429', 'country_available': 'Cayman Islands', 'characters': 10}), (59, {'book_name': 'Wall wrong country piece better.', 'author_name': 'Melissa Werner', 'price': '7544.74', 'published_year': '1981', 'num_pages': 875, 'copies_sold': '579', 'rating (1-5)': 2, 'category': 'Science Fiction', 'chapters': 26, 'publisher_name': 'Tyler-Jackson', 'publisher_address': '32914 Garrison Throughway\\nMurphyhaven, PA 03148', 'country_available': 'Hong Kong', 'characters': 11}), (25, {'book_name': 'Resource one sea point.', 'author_name': 'Ryan Jones', 'price': '23922.79', 'published_year': '2015', 'num_pages': 447, 'copies_sold': '580', 'rating (1-5)': 4, 'category': 'Non-Fiction', 'chapters': 27, 'publisher_name': 'Williams, Williams and Fox', 'publisher_address': '4364 Brian Extension\\nEvanshire, MT 38236', 'country_available': 'Sudan', 'characters': 11}), (4, {'book_name': 'Hard field create show.', 'author_name': 'Juan Contreras', 'price': '172.35', 'published_year': '1999', 'num_pages': 881, 'copies_sold': '586', 'rating (1-5)': 4, 'category': 'Sports', 'chapters': 15, 'publisher_name': 'Frank-Schroeder', 'publisher_address': '77709 Ann Fields Apt. 726\\nCaitlynfort, MI 15123', 'country_available': 'Ireland', 'characters': 9}), (83, {'book_name': 'Image green sea real film.', 'author_name': 'Mr. Jonathan Jones', 'price': '736.05', 'published_year': '2013', 'num_pages': 271, 'copies_sold': '595', 'rating (1-5)': 3, 'category': 'Fiction', 'chapters': 29, 'publisher_name': 'Wilson Group', 'publisher_address': '350 Samuel Canyon\\nSouth Sandraberg, NM 34828', 'country_available': 'Ireland', 'characters': 14}), (9, {'book_name': 'List now.', 'author_name': 'Ryan Jones', 'price': '73.84', 'published_year': '1997', 'num_pages': 1194, 'copies_sold': '605', 'rating (1-5)': 4, 'category': 'Sports', 'chapters': 24, 'publisher_name': 'Wilson Group', 'publisher_address': 'Unit 8631 Box 1171\\nDPO AE 71152', 'country_available': 'Croatia', 'characters': 4}), (50, {'book_name': 'Quality executive across buy candidate.', 'author_name': 'Edward Perez', 'price': '58377.94', 'published_year': '2005', 'num_pages': 647, 'copies_sold': '610', 'rating (1-5)': 2, 'category': 'Science Fiction', 'chapters': 19, 'publisher_name': 'Wilson Group', 'publisher_address': '351 Sanchez Mills Suite 642\\nJohnsonview, HI 09678', 'country_available': 'Hong Kong', 'characters': 8}), (91, {'book_name': 'Clear physical realize.', 'author_name': 'Edward Perez', 'price': '7261.93', 'published_year': '1990', 'num_pages': 148, 'copies_sold': '626', 'rating (1-5)': 4, 'category': 'Fiction', 'chapters': 14, 'publisher_name': 'Haynes LLC', 'publisher_address': '7514 Alejandro Place Suite 675\\nCastilloville, MD 09114', 'country_available': 'Ireland', 'characters': 18}), (96, {'book_name': 'Drive cultural.', 'author_name': 'Ryan Jones', 'price': '995.85', 'published_year': '1995', 'num_pages': 921, 'copies_sold': '628', 'rating (1-5)': 2, 'category': 'Economy', 'chapters': 15, 'publisher_name': 'Silva, Kane and Benton', 'publisher_address': '5963 Ramos Fields\\nBradleychester, KS 58528', 'country_available': 'Paraguay', 'characters': 14}), (34, {'book_name': 'Eight fact.', 'author_name': 'Susan Bush', 'price': '60.44', 'published_year': '2006', 'num_pages': 264, 'copies_sold': '652', 'rating (1-5)': 1, 'category': 'Economy', 'chapters': 18, 'publisher_name': 'Frank-Schroeder', 'publisher_address': '2818 Alexander Harbor\\nLake Bryan, AZ 20479', 'country_available': 'Guernsey', 'characters': 18}), (57, {'book_name': 'Fund against.', 'author_name': 'Susan Bush', 'price': '80555.74', 'published_year': '2006', 'num_pages': 497, 'copies_sold': '665', 'rating (1-5)': 3, 'category': 'Sports', 'chapters': 23, 'publisher_name': 'Williams, Williams and Fox', 'publisher_address': 'PSC 6132, Box 2385\\nAPO AP 84078', 'country_available': 'Croatia', 'characters': 19}), (76, {'book_name': 'Born almost money effort.', 'author_name': 'Joshua Sullivan', 'price': '274.68', 'published_year': '1976', 'num_pages': 799, 'copies_sold': '672', 'rating (1-5)': 5, 'category': 'Fiction', 'chapters': 6, 'publisher_name': 'Ingram Ltd', 'publisher_address': '545 Zuniga Plains Suite 412\\nDawnburgh, WY 08992', 'country_available': 'Croatia', 'characters': 6}), (74, {'book_name': 'Scientist significant study.', 'author_name': 'Ryan Jones', 'price': '4.64', 'published_year': '1984', 'num_pages': 898, 'copies_sold': '684', 'rating (1-5)': 1, 'category': 'Sports', 'chapters': 22, 'publisher_name': 'Frank-Schroeder', 'publisher_address': 'Unit 6758 Box 9206\\nDPO AA 81248', 'country_available': 'Moldova', 'characters': 8}), (30, {'book_name': 'Development agent cost.', 'author_name': 'Ryan Jones', 'price': '2.95', 'published_year': '1999', 'num_pages': 1091, 'copies_sold': '687', 'rating (1-5)': 1, 'category': 'Fiction', 'chapters': 13, 'publisher_name': 'Tyler-Jackson', 'publisher_address': '90290 Ryan Greens Suite 076\\nSouth Alfredberg, SD 36409', 'country_available': 'Ireland', 'characters': 14}), (77, {'book_name': 'Nearly tax Democrat.', 'author_name': 'Melissa Werner', 'price': '43219.01', 'published_year': '1987', 'num_pages': 1227, 'copies_sold': '714', 'rating (1-5)': 5, 'category': 'Economy', 'chapters': 20, 'publisher_name': 'Wilson Group', 'publisher_address': 'Unit 0375 Box 7183\\nDPO AE 43207', 'country_available': 'Moldova', 'characters': 7}), (47, {'book_name': 'Debate spend plan.', 'author_name': 'Melissa Werner', 'price': '4305.11', 'published_year': '1984', 'num_pages': 595, 'copies_sold': '721', 'rating (1-5)': 2, 'category': 'Sports', 'chapters': 7, 'publisher_name': 'Wilson Group', 'publisher_address': '483 David Plaza\\nNew Scotttown, MS 33583', 'country_available': 'Ireland', 'characters': 14}), (90, {'book_name': 'East maybe.', 'author_name': 'Joshua Sullivan', 'price': '264.77', 'published_year': '2017', 'num_pages': 1152, 'copies_sold': '721', 'rating (1-5)': 3, 'category': 'Fiction', 'chapters': 26, 'publisher_name': 'Silva, Kane and Benton', 'publisher_address': '006 Matthew Lodge\\nEast Jennifer, WA 20345', 'country_available': 'Croatia', 'characters': 8}), (86, {'book_name': 'Form world account mission.', 'author_name': 'Joshua Sullivan', 'price': '40.89', 'published_year': '1970', 'num_pages': 176, 'copies_sold': '737', 'rating (1-5)': 2, 'category': 'Non-Fiction', 'chapters': 20, 'publisher_name': 'Sanchez, Wood and Bass', 'publisher_address': '47916 Brown Trail Suite 688\\nNorth Joseph, RI 57488', 'country_available': 'Ireland', 'characters': 7}), (98, {'book_name': 'Eye firm a.', 'author_name': 'Ryan Jones', 'price': '2864.75', 'published_year': '1998', 'num_pages': 1338, 'copies_sold': '743', 'rating (1-5)': 2, 'category': 'Science Fiction', 'chapters': 17, 'publisher_name': 'Williams, Williams and Fox', 'publisher_address': '41171 Martinez Field\\nLake Melissaberg, NY 42848', 'country_available': 'Cayman Islands', 'characters': 5}), (64, {'book_name': 'Data beautiful support.', 'author_name': 'Edward Perez', 'price': '54799.74', 'published_year': '2009', 'num_pages': 84, 'copies_sold': '770', 'rating (1-5)': 2, 'category': 'Science Fiction', 'chapters': 22, 'publisher_name': 'Ingram Ltd', 'publisher_address': '67251 Joseph Curve\\nKristytown, NV 45354', 'country_available': 'Croatia', 'characters': 18}), (68, {'book_name': 'Word move there.', 'author_name': 'Juan Contreras', 'price': '6262.07', 'published_year': '1971', 'num_pages': 1422, 'copies_sold': '771', 'rating (1-5)': 2, 'category': 'Non-Fiction', 'chapters': 17, 'publisher_name': 'Reed PLC', 'publisher_address': '720 Ramos Spring\\nLaurabury, ND 97211', 'country_available': 'Turkmenistan', 'characters': 15}), (56, {'book_name': 'Common recent teach.', 'author_name': 'Edward Perez', 'price': '79.35', 'published_year': '1983', 'num_pages': 740, 'copies_sold': '776', 'rating (1-5)': 5, 'category': 'Economy', 'chapters': 11, 'publisher_name': 'Reed PLC', 'publisher_address': '479 Patricia Knoll\\nNorth Thomas, KS 36376', 'country_available': 'Turkmenistan', 'characters': 5}), (19, {'book_name': 'Maintain event particular Democrat.', 'author_name': 'Ryan Jones', 'price': '6737.36', 'published_year': '2010', 'num_pages': 1478, 'copies_sold': '803', 'rating (1-5)': 3, 'category': 'Economy', 'chapters': 18, 'publisher_name': 'Tyler-Jackson', 'publisher_address': '450 Alisha Rapids Suite 418\\nWest Sarahberg, ND 11444', 'country_available': 'Hong Kong', 'characters': 5}), (95, {'book_name': 'Away authority stock rock.', 'author_name': 'Susan Bush', 'price': '448.83', 'published_year': '2019', 'num_pages': 705, 'copies_sold': '816', 'rating (1-5)': 1, 'category': 'Economy', 'chapters': 12, 'publisher_name': 'Wilson Group', 'publisher_address': '81389 Krista Mountain Apt. 482\\nFieldsmouth, OH 39425', 'country_available': 'Cayman Islands', 'characters': 16}), (97, {'book_name': 'Development speak short.', 'author_name': 'Victor Hill', 'price': '38057.70', 'published_year': '2015', 'num_pages': 914, 'copies_sold': '820', 'rating (1-5)': 2, 'category': 'Science Fiction', 'chapters': 28, 'publisher_name': 'Haynes LLC', 'publisher_address': '63323 Jordan Mission\\nNorth Aaronberg, MN 30485', 'country_available': 'Thailand', 'characters': 14}), (13, {'book_name': 'Main very create add.', 'author_name': 'Susan Bush', 'price': '87791.47', 'published_year': '1988', 'num_pages': 1386, 'copies_sold': '825', 'rating (1-5)': 4, 'category': 'Economy', 'chapters': 15, 'publisher_name': 'Wilson Group', 'publisher_address': '42025 David Row Suite 053\\nLake Davidshire, NM 41813', 'country_available': 'Paraguay', 'characters': 14}), (92, {'book_name': 'Lose seek person television.', 'author_name': 'Edward Perez', 'price': '83666.22', 'published_year': '2002', 'num_pages': 264, 'copies_sold': '850', 'rating (1-5)': 5, 'category': 'Economy', 'chapters': 16, 'publisher_name': 'Tyler-Jackson', 'publisher_address': 'Unit 9883 Box 8292\\nDPO AE 61549', 'country_available': 'Sudan', 'characters': 11}), (72, {'book_name': 'Provide fast other.', 'author_name': 'Kevin Watson', 'price': '8106.52', 'published_year': '1978', 'num_pages': 126, 'copies_sold': '854', 'rating (1-5)': 4, 'category': 'Non-Fiction', 'chapters': 6, 'publisher_name': 'Frank-Schroeder', 'publisher_address': '014 Veronica Lake Apt. 010\\nNew Andrew, IA 83333', 'country_available': 'Guernsey', 'characters': 7}), (93, {'book_name': 'All hotel address.', 'author_name': 'Susan Bush', 'price': '47.69', 'published_year': '1997', 'num_pages': 639, 'copies_sold': '856', 'rating (1-5)': 1, 'category': 'Economy', 'chapters': 27, 'publisher_name': 'Wilson Group', 'publisher_address': '654 Joseph Island Apt. 587\\nRodgersmouth, MO 28625', 'country_available': 'Croatia', 'characters': 15}), (7, {'book_name': 'Ten pay forget without traditional.', 'author_name': 'Mr. Jonathan Jones', 'price': '379.16', 'published_year': '1971', 'num_pages': 548, 'copies_sold': '882', 'rating (1-5)': 5, 'category': 'Science Fiction', 'chapters': 17, 'publisher_name': 'Williams, Williams and Fox', 'publisher_address': '98865 Brandy Stravenue\\nPort Katherineberg, AR 85162', 'country_available': 'Thailand', 'characters': 18}), (18, {'book_name': 'Will recent doctor laugh suffer.', 'author_name': 'Ryan Jones', 'price': '1.81', 'published_year': '1987', 'num_pages': 258, 'copies_sold': '889', 'rating (1-5)': 4, 'category': 'Science Fiction', 'chapters': 27, 'publisher_name': 'Williams, Williams and Fox', 'publisher_address': '256 Christy Squares\\nEast Lindseytown, UT 53876', 'country_available': 'Moldova', 'characters': 5}), (73, {'book_name': 'Relationship in term.', 'author_name': 'Ryan Jones', 'price': '30.74', 'published_year': '2017', 'num_pages': 1481, 'copies_sold': '895', 'rating (1-5)': 4, 'category': 'Fiction', 'chapters': 13, 'publisher_name': 'Ingram Ltd', 'publisher_address': '50505 David Mission Suite 248\\nPort Caleb, AR 10857', 'country_available': 'Sudan', 'characters': 6}), (81, {'book_name': 'Small southern federal power.', 'author_name': 'Kevin Watson', 'price': '88915.69', 'published_year': '1973', 'num_pages': 339, 'copies_sold': '897', 'rating (1-5)': 3, 'category': 'Sports', 'chapters': 18, 'publisher_name': 'Brown-Strong', 'publisher_address': '394 Jones Harbor\\nBryanmouth, NV 93463', 'country_available': 'Ireland', 'characters': 13}), (40, {'book_name': 'Air establish structure.', 'author_name': 'Melissa Werner', 'price': '560.39', 'published_year': '1984', 'num_pages': 756, 'copies_sold': '915', 'rating (1-5)': 4, 'category': 'Sports', 'chapters': 24, 'publisher_name': 'Tyler-Jackson', 'publisher_address': '41569 Andrew Ports Suite 255\\nOrozcoport, GA 58347', 'country_available': 'Croatia', 'characters': 10}), (21, {'book_name': 'Subject treat maybe father.', 'author_name': 'Mr. Jonathan Jones', 'price': '537.53', 'published_year': '2011', 'num_pages': 1413, 'copies_sold': '949', 'rating (1-5)': 2, 'category': 'Sports', 'chapters': 22, 'publisher_name': 'Brown-Strong', 'publisher_address': '29468 Jennifer Shoal\\nNew Christianmouth, HI 58159', 'country_available': 'Cayman Islands', 'characters': 11}), (63, {'book_name': 'Top animal never TV push.', 'author_name': 'Mr. Jonathan Jones', 'price': '3255.21', 'published_year': '1970', 'num_pages': 782, 'copies_sold': '972', 'rating (1-5)': 3, 'category': 'Non-Fiction', 'chapters': 27, 'publisher_name': 'Brown-Strong', 'publisher_address': '474 Charles Crossroad Apt. 312\\nHolderville, OK 99024', 'country_available': 'Ireland', 'characters': 6}), (8, {'book_name': 'With statement.', 'author_name': 'Mr. Jonathan Jones', 'price': '13.94', 'published_year': '1994', 'num_pages': 1496, 'copies_sold': '975', 'rating (1-5)': 4, 'category': 'Sports', 'chapters': 8, 'publisher_name': 'Sanchez, Wood and Bass', 'publisher_address': '78348 Christy Streets\\nGrantfurt, GA 04232', 'country_available': 'Ireland', 'characters': 19}), (3, {'book_name': 'Beat three main need house.', 'author_name': 'Joshua Sullivan', 'price': '522.36', 'published_year': '2015', 'num_pages': 1039, 'copies_sold': '986', 'rating (1-5)': 4, 'category': 'Mythology', 'chapters': 9, 'publisher_name': 'Haynes LLC', 'publisher_address': 'PSC 9678, Box 9441\\nAPO AA 94490', 'country_available': 'Croatia', 'characters': 6}), (33, {'book_name': 'Base industry behavior across.', 'author_name': 'Juan Contreras', 'price': '85.04', 'published_year': '2014', 'num_pages': 306, 'copies_sold': '989', 'rating (1-5)': 2, 'category': 'Mythology', 'chapters': 19, 'publisher_name': 'Silva, Kane and Benton', 'publisher_address': '640 Maynard Ridges\\nLake Kristishire, PA 89865', 'country_available': 'Sudan', 'characters': 4}), (37, {'book_name': 'Maybe PM every sort paper.', 'author_name': 'James Miller', 'price': '94.93', 'published_year': '1996', 'num_pages': 242, 'copies_sold': '992', 'rating (1-5)': 1, 'category': 'Science Fiction', 'chapters': 20, 'publisher_name': 'Brown-Strong', 'publisher_address': '625 Wright Light Apt. 303\\nJohnsonshire, AZ 52795', 'country_available': 'Croatia', 'characters': 18})]\n"
     ]
    }
   ],
   "source": [
    "result = sorted(books.items(), key=lambda x:(x[1]['copies_sold'],x[1]['rating (1-5)']))\n",
    "print(result)"
   ]
  },
  {
   "cell_type": "markdown",
   "metadata": {},
   "source": [
    "## Thank you"
   ]
  }
 ],
 "metadata": {
  "kernelspec": {
   "display_name": "Python 3",
   "language": "python",
   "name": "python3"
  },
  "language_info": {
   "codemirror_mode": {
    "name": "ipython",
    "version": 3
   },
   "file_extension": ".py",
   "mimetype": "text/x-python",
   "name": "python",
   "nbconvert_exporter": "python",
   "pygments_lexer": "ipython3",
   "version": "3.8.3"
  }
 },
 "nbformat": 4,
 "nbformat_minor": 4
}
